{
 "cells": [
  {
   "cell_type": "markdown",
   "metadata": {
    "collapsed": false
   },
   "source": [
    "# Code"
   ]
  },
  {
   "cell_type": "code",
   "execution_count": 9,
   "metadata": {
    "collapsed": false
   },
   "outputs": [
    {
     "name": "stdout",
     "output_type": "stream",
     "text": [
      "The autoreload extension is already loaded. To reload it, use:\n",
      "  %reload_ext autoreload\n"
     ]
    }
   ],
   "source": [
    "%load_ext autoreload\n",
    "%autoreload 2\n",
    "%matplotlib inline\n",
    "\n",
    "import matplotlib.pyplot as plt\n",
    "from ConfigParser import SafeConfigParser\n",
    "from operator import add\n",
    "from pyspark.mllib.recommendation import ALS, Rating\n",
    "import random \n",
    "from random import randint\n",
    "import itertools\n",
    "from math import sqrt\n",
    "import numpy as np\n",
    "from pprint import pprint\n",
    "import math\n",
    "from ConfigParser import SafeConfigParser\n",
    "import pandas as pd\n",
    "\n",
    "\n",
    "def get_parser(names):\n",
    "    def loadRecord(line):\n",
    "        cells = line.strip().split('\\t')\n",
    "        return dict(zip(names, cells))\n",
    "    return loadRecord\n",
    "\n",
    "def get_lang2id_maps(languages):\n",
    "    lang2id = {}\n",
    "    id2lang = {}\n",
    "    for i, lang in enumerate(languages):\n",
    "        lang2id[lang] = i\n",
    "        id2lang[i] = lang\n",
    "    return lang2id, id2lang\n",
    "\n",
    "def toRating(x):\n",
    "    user_id = lang2id[x['lang']]\n",
    "    item_id=int(x['id'][1:])\n",
    "    counts = float(x['pageview_count'])\n",
    "    return (user_id, item_id, counts)\n",
    "\n",
    "def load_pageviews(sc, filename, k=3):\n",
    "    names = [ 'id', 'lang', 'title', 'pageview_count']\n",
    "    pageviews = sc.textFile(filename)\\\n",
    "    .map(get_parser(names))\\\n",
    "    .filter(lambda x: len(x) == 4)\\\n",
    "    .filter(lambda x: x['lang'] in languages_set)\\\n",
    "    .map(lambda x: (x['id'], x))\\\n",
    "    .groupByKey().filter(lambda x: len(x[1]) >=k ).flatMap(lambda x: x[1])\\\n",
    "    .filter(lambda x: ':' not in x['title'])\\\n",
    "    .map(toRating)\n",
    "    return pageviews\n",
    "\n",
    "\n",
    "def split_train_validation_test(triples, splits = [6, 8], numPartitions = 200):\n",
    "    # split ratings into train (60%), validation (20%), and test (20%) \n",
    "    random.seed(2)\n",
    "    split_triples = triples.map(lambda x: (random.randint(0,9),x ))\n",
    "    split1, split2 = splits\n",
    "    \n",
    "    training = split_triples.filter(lambda x: x[0] < split1) \\\n",
    "      .values() \\\n",
    "      .repartition(numPartitions) \\\n",
    "      .cache()\n",
    "    validation = split_triples.filter(lambda x: x[0] >= split1 and x[0] < split2) \\\n",
    "      .values() \\\n",
    "      .repartition(numPartitions) \\\n",
    "      .cache()\n",
    "\n",
    "    test = split_triples.filter(lambda x: x[0] >= split2).values().cache()\n",
    "    numTraining = training.count()\n",
    "    numValidation = validation.count()\n",
    "    numTest = test.count()\n",
    "    print \"Training: %d, validation: %d, Test: %d\" % (numTraining, numValidation, numTest)\n",
    "    return training, validation, test\n",
    "\n",
    "\n",
    "\n",
    "def computeRmse(model, data, n):\n",
    "    \"\"\"\n",
    "    Compute RMSE (Root Mean Squared Error).\n",
    "    \"\"\"\n",
    "    predictions = model.predictAll(data.map(lambda x: (x[0], x[1])))\n",
    "    predictionsAndRatings = predictions.map(lambda x: ((x[0], x[1]), x[2])) \\\n",
    "      .join(data.map(lambda x: ((x[0], x[1]), x[2]))) \\\n",
    "      .values()\n",
    "    return sqrt(predictionsAndRatings.map(lambda x: (x[0] - x[1]) ** 2).reduce(add) / float(n))\n",
    "\n",
    "\n",
    "def cross_validation(training, validation, test, all_triplets, ranks, lambdas, numIters):\n",
    "# train models and evaluate them on the validation set\n",
    "\n",
    "    result_dict = {}\n",
    "    result_template = \"rank:%d  iters:%d  lambda: %f\"\n",
    "    bestModel = None\n",
    "    bestValidationRmse = float(\"inf\")\n",
    "    bestRank = 0\n",
    "    bestLambda = -1.0\n",
    "    bestNumIter = -1\n",
    "    numTraining = training.count()\n",
    "    numValidation = validation.count()\n",
    "    numTest = test.count()\n",
    "    \n",
    "    for lmbda, numIter, rank in itertools.product(lambdas, numIters, ranks):\n",
    "        model = ALS.train(training, rank, iterations = numIter,  lambda_ = lmbda, nonnegative=True, seed=10)\n",
    "        validationRmse = computeRmse(model, validation, numValidation)\n",
    "        print \"RMSE (validation) = %f for the model trained with \" % validationRmse + \\\n",
    "              \"rank = %d, lambda = %.4f, and numIter = %d.\" % (rank, lmbda, numIter)\n",
    "\n",
    "        if (validationRmse < bestValidationRmse):\n",
    "            bestModel = model\n",
    "            bestValidationRmse = validationRmse\n",
    "            bestRank = rank\n",
    "            bestLambda = lmbda\n",
    "            bestNumIter = numIter\n",
    "        result_dict[result_template % (rank, numIter, lmbda)] = validationRmse\n",
    "    testRmse = computeRmse(bestModel, test, numTest)\n",
    "    # evaluate the best model on the test set\n",
    "    print \"The best model was trained with rank = %d and lambda = %.1f, \" % (bestRank, bestLambda) \\\n",
    "      + \"and numIter = %d, and its RMSE on the test set is %f.\" % (bestNumIter, testRmse)\n",
    "    result_dict['BEST Model on Test:' + result_template % (bestRank, bestNumIter, bestLambda)] = testRmse\n",
    "    # compare the best model with a naive baseline that always returns the mean rating\n",
    "    meanRating = training.union(validation).map(lambda x: x[2]).mean()\n",
    "    _ , baselineRmse = compute_baseline(training, validation, test)\n",
    "    improvement = (baselineRmse - testRmse) / baselineRmse * 100\n",
    "    print \"The best model improves the baseline by %.2f\" % (improvement) + \"%.\"\n",
    "    result_dict['BEST gain over baseline'] = improvement\n",
    "\n",
    "    return ALS.train(training.union(validation).union(test), bestRank, iterations = bestNumIter,  lambda_ = bestLambda, nonnegative=True, seed=10), result_dict\n",
    "\n",
    "\n",
    "def mse_by_country(model, data, index2lang):\n",
    "    predictions = model.predictAll(data.map(lambda x: (x[0], x[1])))\n",
    "    mses = predictions.map(lambda x: ((x[0], x[1]), x[2])) \\\n",
    "    .join(data.map(lambda x: ((x[0], x[1]), x[2]))) \\\n",
    "    .map(lambda x: (x[0][0], (x[1][0] - x[1][1]) ** 2))\\\n",
    "    .aggregateByKey((0.0,0.0), lambda a,b: (a[0] + b,    a[1] + 1), lambda a,b: (a[0] + b[0], a[1] + b[1]))\\\n",
    "    .map(lambda x: (index2lang[x[0]], sqrt(x[1][0]/x[1][1])))\\\n",
    "    .collect()\n",
    "    return mses\n",
    "          \n",
    "    \n",
    "def compute_baseline(training, validation, test):\n",
    "    dt = pd.DataFrame(training.union(validation).collect())\n",
    "    dt.columns = ['lang', 'id', 'rating']\n",
    "    lang_means = dt[['lang', 'rating']].groupby('lang').mean()\n",
    "    dt = pd.DataFrame(test.collect())\n",
    "    dt.columns = ['lang', 'id', 'rating']\n",
    "    dt = dt.merge(lang_means, how='inner', left_on='lang',  right_index=True, sort=False)\n",
    "    def error(x):\n",
    "        return (x['rating_x'] - x['rating_y'])**2      \n",
    "    ss = dt.apply(error, axis=1).sum()\n",
    "    \n",
    "    lang_means\n",
    "    \n",
    "    return lang_means,  math.sqrt(ss / dt.shape[0])\n",
    "    \n",
    "def print_baseline(training, validation, test):\n",
    "    lang_means, rmse = compute_baseline(training, validation, test)\n",
    "    print \"Mean Ratings:\"\n",
    "    print (lang_means)\n",
    "    print \"RMSE (test):  %f\" % rmse\n",
    "    \n",
    "\n",
    "def get_named_rankings(cp, model):\n",
    "    missing_articles_file = os.path.join(cp.get('general', 'local_data_dir'), 'en-es', cp.get('missing', 'ranked_missing_items'))\n",
    "    d = pd.read_csv(missing_articles_file, sep='\\t', names = ['id', 'name', 'score'], encoding = 'utf8')\n",
    "    d['id'] = d['id'].apply(lambda x: int(x[1:]))\n",
    "    id2name = dict(zip(d['id'], d['name']))\n",
    "    \n",
    "    es_id = lang2id['es']\n",
    "    missing_articles_file = os.path.join(cp.get('general', 'hadoop_data_dir'), 'en-es', cp.get('missing', 'ranked_missing_items'))\n",
    "    missing_articles = sc.textFile(missing_articles_file)\\\n",
    "                                         .map(lambda x: x.split('\\t'))\\\n",
    "                                         .map(lambda x: (es_id, int(x[0][1:])))\n",
    "    predictions = model.predictAll(missing_articles).map(lambda x: (x.product, x.rating)).collect()\n",
    "    d_als = pd.DataFrame(predictions)\n",
    "    d_als.columns = ['id', 'score']\n",
    "    d_als['name'] = d_als['id'].apply(lambda x: id2name[x] if x in id2name else u'')\n",
    "    df = pd.merge(left = d, right = d_als, on = 'id')[['id', 'name_x', 'score_x', 'score_y']]\n",
    "    df.columns = ['id', 'name', 'en_pageviews', 'score']\n",
    "    \n",
    "    return df.sort('score', ascending = False)\n",
    "    \n",
    "\n",
    "def project(model, normalize=False):\n",
    "    lang_vecs = model.userFeatures().collect()\n",
    "    \n",
    "    if normalize:\n",
    "        lang_vecs = [t[1] / np.linalg.norm(t[1]) for t in lang_vecs]\n",
    "    else:\n",
    "        lang_vecs = [t[1]  for t in lang_vecs]\n",
    "    A = [t[0] for t in lang_vecs]\n",
    "    B = [t[1] for t in lang_vecs]\n",
    "\n",
    "    fig = plt.figure()\n",
    "    ax = fig.add_subplot(111)\n",
    "\n",
    "    plt.scatter(A,B)\n",
    "    for i, xy in enumerate(zip(A, B)):                                                \n",
    "        ax.annotate(languages[i], xy=xy, textcoords='offset points') \n",
    "\n",
    "    plt.grid()\n",
    "    plt.show()\n",
    "\n",
    "#languages = ['ar', 'bg', 'ca', 'ceb', 'cs','da','de','el','en','eo','es','et','eu','fa','fi','fr','gl','he','hi','hr','hu','hy','id','it','ja','kk','ko','lt','ms','nl','nn','no','pl','pt','ro','ru','sh','simple','sk','sl','sr','sv','tr','uk','uz','vi','war','zh','min','vo']\n"
   ]
  },
  {
   "cell_type": "markdown",
   "metadata": {},
   "source": [
    "#Analysis"
   ]
  },
  {
   "cell_type": "markdown",
   "metadata": {},
   "source": [
    " To start, lets only use data from the top 9 wikipedias and only include items that exist in at least 2 languages"
   ]
  },
  {
   "cell_type": "code",
   "execution_count": 2,
   "metadata": {
    "collapsed": false
   },
   "outputs": [],
   "source": [
    "config = '/home/ellery/wikimedia/missing_articles/missing_articles.ini'\n",
    "cp = SafeConfigParser()\n",
    "cp.read(config)\n",
    "\n",
    "languages = ['ar', 'bg', 'ca', 'ceb', 'cs','da','de','el','en','eo','es','et','eu','fa','fi','fr','gl','he','hi','hr','hu','hy','id','it','ja','kk','ko','lt','ms','nl','nn','no','pl','pt','ro','ru','sh','simple','sk','sl','sr','sv','tr','uk','uz','vi','war','zh','min','vo']\n",
    "languages_set = set(languages)\n",
    "lang2id, id2lang = get_lang2id_maps(languages)\n",
    "pageviews = load_pageviews(sc, cp.get('general', 'pageviews'), k=2) "
   ]
  },
  {
   "cell_type": "markdown",
   "metadata": {},
   "source": [
    "# Rank Transformation"
   ]
  },
  {
   "cell_type": "markdown",
   "metadata": {},
   "source": [
    "Within each language rank articles by the number of views and assign article a the score 1 - rank(a) / n. Think of this as continuos equal frquency binning."
   ]
  },
  {
   "cell_type": "markdown",
   "metadata": {},
   "source": [
    "### Transform Data"
   ]
  },
  {
   "cell_type": "code",
   "execution_count": 3,
   "metadata": {
    "collapsed": false
   },
   "outputs": [
    {
     "name": "stdout",
     "output_type": "stream",
     "text": [
      "Training: 13745679, validation: 4586019, Test: 4591495\n"
     ]
    }
   ],
   "source": [
    "\n",
    "def get_ranking_score(t):\n",
    "    lang_id, items = t\n",
    "    ids = np.array([x[0] for x in items])\n",
    "    item_ranks = np.argsort(np.array([x[1] for x in items]))\n",
    "    print item_ranks\n",
    "    n = float(len(items))\n",
    "    return [(lang_id, ids[r], i/n) for i, r in enumerate(item_ranks)]\n",
    "       \n",
    "rank_pageviews = pageviews.map(lambda x: (x[0], (x[1], x[2]))).groupByKey().flatMap(get_ranking_score)\n",
    "training, validation, test = split_train_validation_test(rank_pageviews)"
   ]
  },
  {
   "cell_type": "markdown",
   "metadata": {},
   "source": [
    "### Compute Baseline (mean \"user\" rating)\n",
    "We can use the mean score per language as a simple baseline."
   ]
  },
  {
   "cell_type": "code",
   "execution_count": 12,
   "metadata": {
    "collapsed": false
   },
   "outputs": [],
   "source": [
    "#print_baseline(training, validation, test)"
   ]
  },
  {
   "cell_type": "markdown",
   "metadata": {},
   "source": [
    "### CV : Lets find the best model"
   ]
  },
  {
   "cell_type": "code",
   "execution_count": 13,
   "metadata": {
    "collapsed": false,
    "scrolled": true
   },
   "outputs": [
    {
     "name": "stdout",
     "output_type": "stream",
     "text": [
      "RMSE (validation) = 0.162599 for the model trained with rank = 15, lambda = 0.0100, and numIter = 4.\n",
      "RMSE (validation) = 0.163096 for the model trained with rank = 20, lambda = 0.0100, and numIter = 4.\n",
      "RMSE (validation) = 0.163009 for the model trained with rank = 25, lambda = 0.0100, and numIter = 4.\n",
      "RMSE (validation) = 0.164337 for the model trained with rank = 30, lambda = 0.0100, and numIter = 4.\n",
      "RMSE (validation) = 0.161069 for the model trained with rank = 15, lambda = 0.0120, and numIter = 4.\n",
      "RMSE (validation) = 0.161158 for the model trained with rank = 20, lambda = 0.0120, and numIter = 4.\n",
      "RMSE (validation) = 0.160988 for the model trained with rank = 25, lambda = 0.0120, and numIter = 4.\n",
      "RMSE (validation) = 0.161771 for the model trained with rank = 30, lambda = 0.0120, and numIter = 4.\n",
      "The best model was trained with rank = 25 and lambda = 0.0, and numIter = 4, and its RMSE on the test set is 0.166703.\n",
      "The best model improves the baseline by 42.23%.\n"
     ]
    }
   ],
   "source": [
    "ranks = [15, 20, 25, 30]\n",
    "numIters = [4]\n",
    "lambdas = [0.01, 0.012]\n",
    "model, cv_results = cross_validation(training, validation, test, pageviews, ranks, lambdas, numIters)"
   ]
  },
  {
   "cell_type": "code",
   "execution_count": 14,
   "metadata": {
    "collapsed": false
   },
   "outputs": [
    {
     "name": "stdout",
     "output_type": "stream",
     "text": [
      "RMSE (validation) = 0.172025 for the model trained with rank = 15, lambda = 0.0080, and numIter = 3.\n",
      "RMSE (validation) = 0.157813 for the model trained with rank = 15, lambda = 0.0080, and numIter = 10.\n",
      "RMSE (validation) = 0.148534 for the model trained with rank = 15, lambda = 0.0080, and numIter = 30.\n",
      "The best model was trained with rank = 15 and lambda = 0.0, and numIter = 30, and its RMSE on the test set is 0.175978.\n",
      "The best model improves the baseline by 39.03%.\n"
     ]
    }
   ],
   "source": [
    "ranks = [15]\n",
    "numIters = [3, 10, 30]\n",
    "lambdas = [0.008]\n",
    "model, cv_results = cross_validation(training, validation, test, pageviews, ranks, lambdas, numIters)"
   ]
  },
  {
   "cell_type": "code",
   "execution_count": 4,
   "metadata": {
    "collapsed": false
   },
   "outputs": [],
   "source": [
    "model = ALS.train(training, 15, iterations = 5,  lambda_ = 0.008, nonnegative=True, seed=10)"
   ]
  },
  {
   "cell_type": "code",
   "execution_count": 10,
   "metadata": {
    "collapsed": false
   },
   "outputs": [
    {
     "name": "stdout",
     "output_type": "stream",
     "text": [
      "[('ar', 0.16506850348857224),\n",
      " ('bg', 0.14689536822908564),\n",
      " ('ca', 0.139031530226688),\n",
      " ('ceb', 0.22438323092992773),\n",
      " ('cs', 0.14908321528875043),\n",
      " ('da', 0.15351758789136555),\n",
      " ('de', 0.15826061922780535),\n",
      " ('el', 0.16687265880669036),\n",
      " ('en', 0.17543604617427094),\n",
      " ('eo', 0.12470343756475417),\n",
      " ('es', 0.15591409257659683),\n",
      " ('et', 0.15396603520898577),\n",
      " ('eu', 0.12222955836875182),\n",
      " ('fa', 0.17588264591343195),\n",
      " ('fi', 0.15237350202236077),\n",
      " ('fr', 0.1651965045478109),\n",
      " ('gl', 0.14331790339340142),\n",
      " ('he', 0.16226468446576522),\n",
      " ('hi', 0.15767598826860144),\n",
      " ('hr', 0.1518737560581449),\n",
      " ('hu', 0.15457412611186716),\n",
      " ('hy', 0.12971494494757344),\n",
      " ('id', 0.14343544577481748),\n",
      " ('it', 0.14924129900104913),\n",
      " ('ja', 0.17945475820552015),\n",
      " ('kk', 0.13152580547534137),\n",
      " ('ko', 0.17583288214740417),\n",
      " ('lt', 0.13989185160533063),\n",
      " ('ms', 0.12831452460579512),\n",
      " ('nl', 0.15838905436024636),\n",
      " ('nn', 0.11708134903789967),\n",
      " ('no', 0.15459675588004265),\n",
      " ('pl', 0.16405883739985158),\n",
      " ('pt', 0.13973473966128772),\n",
      " ('ro', 0.15790425591916488),\n",
      " ('ru', 0.15148970708134912),\n",
      " ('sh', 0.13401354773861998),\n",
      " ('simple', 0.1255647599039287),\n",
      " ('sk', 0.13547356686946363),\n",
      " ('sl', 0.14411345937836287),\n",
      " ('sr', 0.14889976746183073),\n",
      " ('sv', 0.1820808845706043),\n",
      " ('tr', 0.15836524447284328),\n",
      " ('uk', 0.1738444353553324),\n",
      " ('uz', 0.15007459952948135),\n",
      " ('vi', 0.1749256825218481),\n",
      " ('war', 0.170547666588715),\n",
      " ('zh', 0.1478105020497665),\n",
      " ('min', 0.2565550918025765),\n",
      " ('vo', 0.15948139589281318)]\n"
     ]
    }
   ],
   "source": [
    "pprint(mse_by_country(model, validation, id2lang))"
   ]
  },
  {
   "cell_type": "markdown",
   "metadata": {},
   "source": [
    "### Inspect Ranking of EN articles missing in ES"
   ]
  },
  {
   "cell_type": "code",
   "execution_count": null,
   "metadata": {
    "collapsed": false
   },
   "outputs": [],
   "source": [
    "df = get_named_rankings(cp, model)"
   ]
  },
  {
   "cell_type": "code",
   "execution_count": null,
   "metadata": {
    "collapsed": false
   },
   "outputs": [],
   "source": [
    "df.head(100)"
   ]
  },
  {
   "cell_type": "code",
   "execution_count": 15,
   "metadata": {
    "collapsed": false
   },
   "outputs": [
    {
     "data": {
      "text/plain": [
       "(array([  3.23515000e+05,   4.32117000e+05,   3.98017000e+05,\n",
       "          3.19643000e+05,   1.93812000e+05,   8.59440000e+04,\n",
       "          2.99320000e+04,   5.07100000e+03,   2.79000000e+02,\n",
       "          4.00000000e+00]),\n",
       " array([ 0.        ,  0.12256605,  0.2451321 ,  0.36769815,  0.4902642 ,\n",
       "         0.61283025,  0.7353963 ,  0.85796235,  0.9805284 ,  1.10309445,\n",
       "         1.22566051]),\n",
       " <a list of 10 Patch objects>)"
      ]
     },
     "execution_count": 15,
     "metadata": {},
     "output_type": "execute_result"
    },
    {
     "data": {
      "image/png": "[encoded data removed]",
      "text/plain": [
       "<matplotlib.figure.Figure at 0x7f32c478ebd0>"
      ]
     },
     "metadata": {},
     "output_type": "display_data"
    }
   ],
   "source": [
    "plt.hist(df['score'])"
   ]
  },
  {
   "cell_type": "markdown",
   "metadata": {},
   "source": [
    "Funny, we might expect this distribution to be uniform."
   ]
  },
  {
   "cell_type": "code",
   "execution_count": 91,
   "metadata": {
    "collapsed": false
   },
   "outputs": [
    {
     "data": {
      "text/html": [
       "<div style=\"max-height:1000px;max-width:1500px;overflow:auto;\">\n",
       "<table border=\"1\" class=\"dataframe\">\n",
       "  <thead>\n",
       "    <tr style=\"text-align: right;\">\n",
       "      <th></th>\n",
       "      <th>name</th>\n",
       "      <th>pageviews</th>\n",
       "      <th>score</th>\n",
       "    </tr>\n",
       "  </thead>\n",
       "  <tbody>\n",
       "    <tr>\n",
       "      <th>0</th>\n",
       "      <td>               NASA Helios</td>\n",
       "      <td> 6462135</td>\n",
       "      <td> 0.827147</td>\n",
       "    </tr>\n",
       "    <tr>\n",
       "      <th>1</th>\n",
       "      <td> Line integral convolution</td>\n",
       "      <td> 5312288</td>\n",
       "      <td> 0.552656</td>\n",
       "    </tr>\n",
       "    <tr>\n",
       "      <th>2</th>\n",
       "      <td>            Deaths in 2015</td>\n",
       "      <td> 4444490</td>\n",
       "      <td> 0.965520</td>\n",
       "    </tr>\n",
       "    <tr>\n",
       "      <th>3</th>\n",
       "      <td>         Ingres (database)</td>\n",
       "      <td> 4302270</td>\n",
       "      <td> 0.774785</td>\n",
       "    </tr>\n",
       "    <tr>\n",
       "      <th>4</th>\n",
       "      <td>           NASA Pathfinder</td>\n",
       "      <td> 4213272</td>\n",
       "      <td> 0.695580</td>\n",
       "    </tr>\n",
       "  </tbody>\n",
       "</table>\n",
       "</div>"
      ],
      "text/plain": [
       "                        name  pageviews     score\n",
       "0                NASA Helios    6462135  0.827147\n",
       "1  Line integral convolution    5312288  0.552656\n",
       "2             Deaths in 2015    4444490  0.965520\n",
       "3          Ingres (database)    4302270  0.774785\n",
       "4            NASA Pathfinder    4213272  0.695580"
      ]
     },
     "execution_count": 91,
     "metadata": {},
     "output_type": "execute_result"
    }
   ],
   "source": [
    "df.sort('pageviews', ascending = False).head()"
   ]
  },
  {
   "cell_type": "markdown",
   "metadata": {},
   "source": [
    "### Project Languages into 2D\n",
    "We can run ALS with rank 2 and see what languages end up close to each other"
   ]
  },
  {
   "cell_type": "code",
   "execution_count": null,
   "metadata": {
    "collapsed": true
   },
   "outputs": [],
   "source": [
    "model = ALS.train(training, 2, iterations = 15,  lambda_ = 0.03, nonnegative=True, seed=10)"
   ]
  },
  {
   "cell_type": "code",
   "execution_count": 93,
   "metadata": {
    "collapsed": false
   },
   "outputs": [
    {
     "data": {
      "image/png": "[encoded data removed]",
      "text/plain": [
       "<matplotlib.figure.Figure at 0x7f7ab8e80b50>"
      ]
     },
     "metadata": {},
     "output_type": "display_data"
    }
   ],
   "source": [
    "project(model, normalize=False)"
   ]
  },
  {
   "cell_type": "code",
   "execution_count": 94,
   "metadata": {
    "collapsed": false
   },
   "outputs": [
    {
     "data": {
      "image/png": "[encoded data removed]",
      "text/plain": [
       "<matplotlib.figure.Figure at 0x7f7ab6292ed0>"
      ]
     },
     "metadata": {},
     "output_type": "display_data"
    }
   ],
   "source": [
    "project(model, normalize=True)"
   ]
  },
  {
   "cell_type": "markdown",
   "metadata": {},
   "source": [
    "# Log Transformation"
   ]
  },
  {
   "cell_type": "markdown",
   "metadata": {},
   "source": [
    "### Transform"
   ]
  },
  {
   "cell_type": "code",
   "execution_count": null,
   "metadata": {
    "collapsed": false
   },
   "outputs": [],
   "source": [
    "pageviews = load_pageviews(sc, cp.get('general', 'pageviews'), k=2) \n",
    "log_pageviews = pageviews.map(lambda x: (x[0], x[1], math.log( max(1.0, x[2]))))\n",
    "training, validation, test = split_train_validation_test(log_pageviews)"
   ]
  },
  {
   "cell_type": "markdown",
   "metadata": {},
   "source": [
    "### Visualize Distributions"
   ]
  },
  {
   "cell_type": "code",
   "execution_count": null,
   "metadata": {
    "collapsed": false
   },
   "outputs": [],
   "source": [
    "views = training.filter(lambda x: x[0] == 0).map(lambda x: x[2]).collect()\n",
    "x = plt.hist(np.array(views), bins = 100)"
   ]
  },
  {
   "cell_type": "code",
   "execution_count": null,
   "metadata": {
    "collapsed": false
   },
   "outputs": [],
   "source": [
    "views = training.filter(lambda x: x[0] == 1).map(lambda x: x[2]).collect()\n",
    "x = plt.hist(np.array(views), bins = 100)"
   ]
  },
  {
   "cell_type": "code",
   "execution_count": null,
   "metadata": {
    "collapsed": false
   },
   "outputs": [],
   "source": [
    "views = training.filter(lambda x: x[0] == 2).map(lambda x: x[2]).collect()\n",
    "x = plt.hist(np.array(views), bins = 100)"
   ]
  },
  {
   "cell_type": "code",
   "execution_count": null,
   "metadata": {
    "collapsed": false
   },
   "outputs": [],
   "source": [
    "views = training.filter(lambda x: x[0] == 3).map(lambda x: x[2]).collect()\n",
    "x = plt.hist(np.array(views), bins = 100)"
   ]
  },
  {
   "cell_type": "code",
   "execution_count": null,
   "metadata": {
    "collapsed": false
   },
   "outputs": [],
   "source": [
    "views = training.filter(lambda x: x[0] == 4).map(lambda x: x[2]).collect()\n",
    "x = plt.hist(np.array(views), bins = 100)"
   ]
  },
  {
   "cell_type": "code",
   "execution_count": null,
   "metadata": {
    "collapsed": false
   },
   "outputs": [],
   "source": [
    "views = training.filter(lambda x: x[0] == 5).map(lambda x: x[2]).collect()\n",
    "x = plt.hist(np.array(views), bins = 100)"
   ]
  },
  {
   "cell_type": "code",
   "execution_count": null,
   "metadata": {
    "collapsed": false
   },
   "outputs": [],
   "source": [
    "views = training.filter(lambda x: x[0] == 6).map(lambda x: x[2]).collect()\n",
    "x = plt.hist(np.array(views), bins = 100)"
   ]
  },
  {
   "cell_type": "code",
   "execution_count": null,
   "metadata": {
    "collapsed": false
   },
   "outputs": [],
   "source": [
    "views = training.filter(lambda x: x[0] == 7).map(lambda x: x[2]).collect()\n",
    "x = plt.hist(np.array(views), bins = 100)"
   ]
  },
  {
   "cell_type": "code",
   "execution_count": null,
   "metadata": {
    "collapsed": false
   },
   "outputs": [],
   "source": [
    "views = training.filter(lambda x: x[0] == 8).map(lambda x: x[2]).collect()\n",
    "x = plt.hist(np.array(views), bins = 100)"
   ]
  },
  {
   "cell_type": "markdown",
   "metadata": {},
   "source": [
    "### Compute Baseline (mean \"user\" rating)"
   ]
  },
  {
   "cell_type": "code",
   "execution_count": null,
   "metadata": {
    "collapsed": false
   },
   "outputs": [],
   "source": [
    "print_baseline(training, validation, test)"
   ]
  },
  {
   "cell_type": "markdown",
   "metadata": {},
   "source": [
    "### CV "
   ]
  },
  {
   "cell_type": "code",
   "execution_count": 112,
   "metadata": {
    "collapsed": false
   },
   "outputs": [
    {
     "name": "stdout",
     "output_type": "stream",
     "text": [
      "RMSE (validation) = 0.960728 for the model trained with rank = 2, lambda = 0.0010, and numIter = 15.\n",
      "RMSE (validation) = 0.907979 for the model trained with rank = 2, lambda = 0.0100, and numIter = 15.\n",
      "RMSE (validation) = 0.805965 for the model trained with rank = 2, lambda = 0.0500, and numIter = 15.\n",
      "RMSE (validation) = 0.755540 for the model trained with rank = 2, lambda = 0.1000, and numIter = 15.\n",
      "RMSE (validation) = 1.237602 for the model trained with rank = 2, lambda = 1.0000, and numIter = 15.\n",
      "The best model was trained with rank = 2 and lambda = 0.1, and numIter = 15, and its RMSE on the test set is 0.766996.\n",
      "The best model improves the baseline by 59.21%.\n"
     ]
    }
   ],
   "source": [
    "ranks = [2]\n",
    "numIters = [15]\n",
    "lambdas = [0.001, 0.01, 0.05, 0.1, 1.0]\n",
    "model, cv_results = cross_validation(training, validation, test, pageviews, ranks, lambdas, numIters)"
   ]
  },
  {
   "cell_type": "code",
   "execution_count": 120,
   "metadata": {
    "collapsed": false
   },
   "outputs": [
    {
     "name": "stdout",
     "output_type": "stream",
     "text": [
      "RMSE (validation) = 0.762301 for the model trained with rank = 1, lambda = 0.0010, and numIter = 15.\n",
      "RMSE (validation) = 0.761977 for the model trained with rank = 1, lambda = 0.0100, and numIter = 15.\n",
      "RMSE (validation) = 0.761811 for the model trained with rank = 1, lambda = 0.0500, and numIter = 15.\n",
      "RMSE (validation) = 0.764644 for the model trained with rank = 1, lambda = 0.1000, and numIter = 15.\n",
      "RMSE (validation) = 1.237599 for the model trained with rank = 1, lambda = 1.0000, and numIter = 15.\n",
      "The best model was trained with rank = 1 and lambda = 0.1, and numIter = 15, and its RMSE on the test set is 0.768265.\n",
      "The best model improves the baseline by 59.20%.\n"
     ]
    }
   ],
   "source": [
    "ranks = [1]\n",
    "numIters = [15]\n",
    "lambdas = [0.001, 0.01, 0.05, 0.1, 1.0]\n",
    "model, cv_results = cross_validation(training, validation, test, pageviews, ranks, lambdas, numIters)"
   ]
  },
  {
   "cell_type": "markdown",
   "metadata": {},
   "source": [
    "A rank 1 approximation means that articles have the same ranking within each language. Not really waht we were hoping for."
   ]
  },
  {
   "cell_type": "markdown",
   "metadata": {},
   "source": [
    "### Inspect Ranking of EN articles missing in ES"
   ]
  },
  {
   "cell_type": "code",
   "execution_count": 121,
   "metadata": {
    "collapsed": false
   },
   "outputs": [],
   "source": [
    "df = get_named_rankings(cp, model)"
   ]
  },
  {
   "cell_type": "code",
   "execution_count": 122,
   "metadata": {
    "collapsed": false
   },
   "outputs": [
    {
     "data": {
      "text/html": [
       "<div style=\"max-height:1000px;max-width:1500px;overflow:auto;\">\n",
       "<table border=\"1\" class=\"dataframe\">\n",
       "  <thead>\n",
       "    <tr style=\"text-align: right;\">\n",
       "      <th></th>\n",
       "      <th>name</th>\n",
       "      <th>pageviews</th>\n",
       "      <th>score</th>\n",
       "    </tr>\n",
       "  </thead>\n",
       "  <tbody>\n",
       "    <tr>\n",
       "      <th>31705 </th>\n",
       "      <td>                                   Massan</td>\n",
       "      <td>  29756</td>\n",
       "      <td> 14.309044</td>\n",
       "    </tr>\n",
       "    <tr>\n",
       "      <th>4516  </th>\n",
       "      <td>                        Jeannette Bougrab</td>\n",
       "      <td>  95949</td>\n",
       "      <td> 13.884616</td>\n",
       "    </tr>\n",
       "    <tr>\n",
       "      <th>77859 </th>\n",
       "      <td>                  Wallander (film series)</td>\n",
       "      <td>  14213</td>\n",
       "      <td> 13.740674</td>\n",
       "    </tr>\n",
       "    <tr>\n",
       "      <th>34522 </th>\n",
       "      <td>                       Charlotte Kate Fox</td>\n",
       "      <td>  27971</td>\n",
       "      <td> 13.718313</td>\n",
       "    </tr>\n",
       "    <tr>\n",
       "      <th>160   </th>\n",
       "      <td>                        Your Lie in April</td>\n",
       "      <td> 520615</td>\n",
       "      <td> 13.586271</td>\n",
       "    </tr>\n",
       "    <tr>\n",
       "      <th>333045</th>\n",
       "      <td> Belarusian National Technical University</td>\n",
       "      <td>   2658</td>\n",
       "      <td> 13.574096</td>\n",
       "    </tr>\n",
       "    <tr>\n",
       "      <th>422181</th>\n",
       "      <td>                              Love Antell</td>\n",
       "      <td>   1887</td>\n",
       "      <td> 13.553452</td>\n",
       "    </tr>\n",
       "    <tr>\n",
       "      <th>19491 </th>\n",
       "      <td>     Telephone numbers in the Netherlands</td>\n",
       "      <td>  41335</td>\n",
       "      <td> 13.513248</td>\n",
       "    </tr>\n",
       "    <tr>\n",
       "      <th>217208</th>\n",
       "      <td>                             Jönssonligan</td>\n",
       "      <td>   4690</td>\n",
       "      <td> 13.488244</td>\n",
       "    </tr>\n",
       "    <tr>\n",
       "      <th>539   </th>\n",
       "      <td>                               Ebolavirus</td>\n",
       "      <td> 289408</td>\n",
       "      <td> 13.424642</td>\n",
       "    </tr>\n",
       "  </tbody>\n",
       "</table>\n",
       "</div>"
      ],
      "text/plain": [
       "                                            name  pageviews      score\n",
       "31705                                     Massan      29756  14.309044\n",
       "4516                           Jeannette Bougrab      95949  13.884616\n",
       "77859                    Wallander (film series)      14213  13.740674\n",
       "34522                         Charlotte Kate Fox      27971  13.718313\n",
       "160                            Your Lie in April     520615  13.586271\n",
       "333045  Belarusian National Technical University       2658  13.574096\n",
       "422181                               Love Antell       1887  13.553452\n",
       "19491       Telephone numbers in the Netherlands      41335  13.513248\n",
       "217208                              Jönssonligan       4690  13.488244\n",
       "539                                   Ebolavirus     289408  13.424642"
      ]
     },
     "execution_count": 122,
     "metadata": {},
     "output_type": "execute_result"
    }
   ],
   "source": [
    "df.head(10)"
   ]
  },
  {
   "cell_type": "markdown",
   "metadata": {},
   "source": [
    "Looks like there are articles popular in a mix of countries among the top ranked articles"
   ]
  },
  {
   "cell_type": "markdown",
   "metadata": {},
   "source": [
    "### Project Languages\n",
    "We can run ALS with rank 2 and see what languages end up close to each other"
   ]
  },
  {
   "cell_type": "code",
   "execution_count": null,
   "metadata": {
    "collapsed": true
   },
   "outputs": [],
   "source": [
    "model = ALS.train(training, 2, iterations = 15,  lambda_ = 0.1, nonnegative=True, seed=10)"
   ]
  },
  {
   "cell_type": "code",
   "execution_count": 118,
   "metadata": {
    "collapsed": false
   },
   "outputs": [
    {
     "data": {
      "image/png": "[encoded data removed]",
      "text/plain": [
       "<matplotlib.figure.Figure at 0x7f7ab3277bd0>"
      ]
     },
     "metadata": {},
     "output_type": "display_data"
    }
   ],
   "source": [
    "project(model, normalize=False)"
   ]
  },
  {
   "cell_type": "code",
   "execution_count": 119,
   "metadata": {
    "collapsed": false
   },
   "outputs": [
    {
     "data": {
      "image/png": "[encoded data removed]",
      "text/plain": [
       "<matplotlib.figure.Figure at 0x7f7ac18cc0d0>"
      ]
     },
     "metadata": {},
     "output_type": "display_data"
    }
   ],
   "source": [
    "project(model, normalize=True)"
   ]
  },
  {
   "cell_type": "markdown",
   "metadata": {},
   "source": [
    "# Log + Normalize Rows Transformarion"
   ]
  },
  {
   "cell_type": "markdown",
   "metadata": {
    "collapsed": false
   },
   "source": [
    "### Transform"
   ]
  },
  {
   "cell_type": "code",
   "execution_count": 3,
   "metadata": {
    "collapsed": false
   },
   "outputs": [
    {
     "name": "stdout",
     "output_type": "stream",
     "text": [
      "NORMALIZATION CONSTANTS\n",
      "{0: 1283274.3680199492,\n",
      " 1: 824876.8370007415,\n",
      " 2: 1822191.992252415,\n",
      " 3: 1942522.1983824922,\n",
      " 4: 1442857.9988859652,\n",
      " 5: 870615.6227005838,\n",
      " 6: 7148276.511896231,\n",
      " 7: 475522.7798897899,\n",
      " 8: 19520126.72600557,\n",
      " 9: 849009.74318164,\n",
      " 10: 5601472.116897765,\n",
      " 11: 486536.93133752095,\n",
      " 12: 770878.969864824,\n",
      " 13: 1810230.404632581,\n",
      " 14: 1567065.1184316038,\n",
      " 15: 7297792.113842766,\n",
      " 16: 418793.78740939574,\n",
      " 17: 818899.7672508179,\n",
      " 18: 222747.4863513178,\n",
      " 19: 664303.4283956548,\n",
      " 20: 1234459.8293599507,\n",
      " 21: 417557.002951532,\n",
      " 22: 1376606.4656990014,\n",
      " 23: 5383511.9371520635,\n",
      " 24: 3429025.4491606653,\n",
      " 25: 488949.09796738153,\n",
      " 26: 1305452.8037772526,\n",
      " 27: 579597.5006949981,\n",
      " 28: 902200.4728538175,\n",
      " 29: 6034493.722228437,\n",
      " 30: 500527.21931090945,\n",
      " 31: 1659568.2553648346,\n",
      " 32: 4918285.717750386,\n",
      " 33: 3822871.5719993287,\n",
      " 34: 1178565.4024863124,\n",
      " 35: 5497200.366284942,\n",
      " 36: 1140182.139212952,\n",
      " 37: 596103.5223647095,\n",
      " 38: 834159.562745137,\n",
      " 39: 538091.3709804573,\n",
      " 40: 1339196.2606672654,\n",
      " 41: 6487996.940356419,\n",
      " 42: 1195746.8574010285,\n",
      " 43: 2279509.7776719513,\n",
      " 44: 358058.9798699131,\n",
      " 45: 3609149.2122569955,\n",
      " 46: 2166870.6478738273,\n",
      " 47: 3152972.3861125237,\n",
      " 48: 211568.06799371575,\n",
      " 49: 405956.09974386037}\n",
      "Training: 13752438, validation: 4581552, Test: 4587259\n"
     ]
    }
   ],
   "source": [
    "log_pageviews = pageviews.map(lambda x: (x[0], x[1], math.log( max(1.0, x[2]))))\n",
    "user_normalization_constants = dict(log_pageviews.map(lambda x: (x[0], x[2])).reduceByKey(add).collect())\n",
    "print \"NORMALIZATION CONSTANTS\"\n",
    "pprint(user_normalization_constants)\n",
    "scale_factor = 100000.0\n",
    "log_norm_pageviews = log_pageviews.map(lambda x: (x[0], x[1], (scale_factor*x[2])/user_normalization_constants[x[0]]))\n",
    "training, validation, test = split_train_validation_test(log_norm_pageviews)"
   ]
  },
  {
   "cell_type": "markdown",
   "metadata": {
    "collapsed": false
   },
   "source": [
    "### Visualize Distributions"
   ]
  },
  {
   "cell_type": "code",
   "execution_count": 4,
   "metadata": {
    "collapsed": false
   },
   "outputs": [
    {
     "data": {
      "image/png": "[encoded data removed]",
      "text/plain": [
       "<matplotlib.figure.Figure at 0x7f5156a14350>"
      ]
     },
     "metadata": {},
     "output_type": "display_data"
    }
   ],
   "source": [
    "#16368997\n",
    "views = training.filter(lambda x: x[0] == 0).map(lambda x: x[2]).collect()\n",
    "x = plt.hist(np.array(views), bins = 100)"
   ]
  },
  {
   "cell_type": "code",
   "execution_count": 5,
   "metadata": {
    "collapsed": false
   },
   "outputs": [
    {
     "data": {
      "image/png": "[encoded data removed]",
      "text/plain": [
       "<matplotlib.figure.Figure at 0x7f514f4734d0>"
      ]
     },
     "metadata": {},
     "output_type": "display_data"
    }
   ],
   "source": [
    "views = training.filter(lambda x: x[0] == 1).map(lambda x: x[2]).collect()\n",
    "x = plt.hist(np.array(views), bins = 100)"
   ]
  },
  {
   "cell_type": "code",
   "execution_count": 6,
   "metadata": {
    "collapsed": false
   },
   "outputs": [
    {
     "data": {
      "image/png": "[encoded data removed]",
      "text/plain": [
       "<matplotlib.figure.Figure at 0x7f514ee99b50>"
      ]
     },
     "metadata": {},
     "output_type": "display_data"
    }
   ],
   "source": [
    "views = training.filter(lambda x: x[0] == 2).map(lambda x: x[2]).collect()\n",
    "x = plt.hist(np.array(views), bins = 100)"
   ]
  },
  {
   "cell_type": "markdown",
   "metadata": {
    "collapsed": true
   },
   "source": [
    "### Compute Baseline (mean \"user\" rating)"
   ]
  },
  {
   "cell_type": "code",
   "execution_count": 7,
   "metadata": {
    "collapsed": false
   },
   "outputs": [
    {
     "name": "stdout",
     "output_type": "stream",
     "text": [
      "Mean Ratings:\n",
      "        rating\n",
      "lang          \n",
      "0     0.460962\n",
      "1     0.648407\n",
      "2     0.276877\n",
      "3     0.083092\n",
      "4     0.418933\n",
      "5     0.664568\n",
      "6     0.091310\n",
      "7     1.271677\n",
      "8     0.038402\n",
      "9     0.528134\n",
      "10    0.114503\n",
      "11    1.123924\n",
      "12    0.532678\n",
      "13    0.286869\n",
      "14    0.361677\n",
      "15    0.084805\n",
      "16    1.227592\n",
      "17    0.764620\n",
      "18    2.512973\n",
      "19    0.837197\n",
      "20    0.457207\n",
      "21    0.914520\n",
      "22    0.349467\n",
      "23    0.112524\n",
      "24    0.210661\n",
      "25    0.769817\n",
      "26    0.478909\n",
      "27    0.928565\n",
      "28    0.472134\n",
      "29    0.073111\n",
      "30    0.903103\n",
      "31    0.317582\n",
      "32    0.126065\n",
      "33    0.153200\n",
      "34    0.450536\n",
      "35    0.122163\n",
      "36    0.371863\n",
      "37    0.917354\n",
      "38    0.600193\n",
      "39    0.958662\n",
      "40    0.342320\n",
      "41    0.058993\n",
      "42    0.526693\n",
      "43    0.234960\n",
      "44    1.033018\n",
      "45    0.104070\n",
      "46    0.079939\n",
      "47    0.191165\n",
      "48    0.519576\n",
      "49    0.855067\n",
      "RMSE (test):  0.091082\n"
     ]
    }
   ],
   "source": [
    "print_baseline(training, validation, test)"
   ]
  },
  {
   "cell_type": "markdown",
   "metadata": {},
   "source": [
    "### CV"
   ]
  },
  {
   "cell_type": "code",
   "execution_count": 8,
   "metadata": {
    "collapsed": false
   },
   "outputs": [
    {
     "name": "stdout",
     "output_type": "stream",
     "text": [
      "RMSE (validation) = 0.051416 for the model trained with rank = 1, lambda = 0.0001, and numIter = 15.\n",
      "RMSE (validation) = 0.063126 for the model trained with rank = 2, lambda = 0.0001, and numIter = 15.\n",
      "RMSE (validation) = 0.063391 for the model trained with rank = 3, lambda = 0.0001, and numIter = 15.\n",
      "RMSE (validation) = 0.051049 for the model trained with rank = 1, lambda = 0.0005, and numIter = 15.\n",
      "RMSE (validation) = 0.057553 for the model trained with rank = 2, lambda = 0.0005, and numIter = 15.\n",
      "RMSE (validation) = 0.065193 for the model trained with rank = 3, lambda = 0.0005, and numIter = 15.\n",
      "RMSE (validation) = 0.051008 for the model trained with rank = 1, lambda = 0.0010, and numIter = 15.\n",
      "RMSE (validation) = 0.056205 for the model trained with rank = 2, lambda = 0.0010, and numIter = 15.\n",
      "RMSE (validation) = 0.068445 for the model trained with rank = 3, lambda = 0.0010, and numIter = 15.\n",
      "RMSE (validation) = 0.054571 for the model trained with rank = 1, lambda = 0.0050, and numIter = 15.\n",
      "RMSE (validation) = 0.062545 for the model trained with rank = 2, lambda = 0.0050, and numIter = 15.\n",
      "RMSE (validation) = 0.070523 for the model trained with rank = 3, lambda = 0.0050, and numIter = 15.\n",
      "RMSE (validation) = 0.130434 for the model trained with rank = 1, lambda = 0.1000, and numIter = 15.\n",
      "RMSE (validation) = 0.130427 for the model trained with rank = 2, lambda = 0.1000, and numIter = 15.\n",
      "RMSE (validation) = 0.130428 for the model trained with rank = 3, lambda = 0.1000, and numIter = 15.\n",
      "The best model was trained with rank = 1 and lambda = 0.0, and numIter = 15, and its RMSE on the test set is 0.051132.\n",
      "The best model improves the baseline by 43.86%.\n"
     ]
    }
   ],
   "source": [
    "ranks = [1,2,3]\n",
    "numIters = [15]\n",
    "lambdas = [0.0001, 0.0005, 0.001, 0.005, 0.1]\n",
    "model, cv_results = cross_validation(training, validation, test, pageviews, ranks, lambdas, numIters)"
   ]
  },
  {
   "cell_type": "markdown",
   "metadata": {},
   "source": [
    "### Inspect Ranking of EN articles missing in ES"
   ]
  },
  {
   "cell_type": "code",
   "execution_count": 9,
   "metadata": {
    "collapsed": false
   },
   "outputs": [],
   "source": [
    "df = get_named_rankings(cp, model)"
   ]
  },
  {
   "cell_type": "code",
   "execution_count": 11,
   "metadata": {
    "collapsed": false
   },
   "outputs": [
    {
     "data": {
      "text/html": [
       "<div style=\"max-height:1000px;max-width:1500px;overflow:auto;\">\n",
       "<table border=\"1\" class=\"dataframe\">\n",
       "  <thead>\n",
       "    <tr style=\"text-align: right;\">\n",
       "      <th></th>\n",
       "      <th>id</th>\n",
       "      <th>name</th>\n",
       "      <th>en_pageviews</th>\n",
       "      <th>score</th>\n",
       "    </tr>\n",
       "  </thead>\n",
       "  <tbody>\n",
       "    <tr>\n",
       "      <th>852881 </th>\n",
       "      <td>  1046216</td>\n",
       "      <td>                           Mağjan Jumabayev</td>\n",
       "      <td>     975</td>\n",
       "      <td> 0.306052</td>\n",
       "    </tr>\n",
       "    <tr>\n",
       "      <th>360358 </th>\n",
       "      <td>  2467249</td>\n",
       "      <td>                        Bauyrzhan Momyshuly</td>\n",
       "      <td>    3370</td>\n",
       "      <td> 0.303625</td>\n",
       "    </tr>\n",
       "    <tr>\n",
       "      <th>732102 </th>\n",
       "      <td>  2380565</td>\n",
       "      <td>                        Makhambet Otemisuly</td>\n",
       "      <td>    1234</td>\n",
       "      <td> 0.299871</td>\n",
       "    </tr>\n",
       "    <tr>\n",
       "      <th>142850 </th>\n",
       "      <td>  5645435</td>\n",
       "      <td>                                      Hamka</td>\n",
       "      <td>    9765</td>\n",
       "      <td> 0.294769</td>\n",
       "    </tr>\n",
       "    <tr>\n",
       "      <th>2788   </th>\n",
       "      <td>  2913218</td>\n",
       "      <td> Contrasting and categorization of emotions</td>\n",
       "      <td>  137530</td>\n",
       "      <td> 0.293515</td>\n",
       "    </tr>\n",
       "    <tr>\n",
       "      <th>18358  </th>\n",
       "      <td>   466337</td>\n",
       "      <td>                             Mahadevi Varma</td>\n",
       "      <td>   48412</td>\n",
       "      <td> 0.291562</td>\n",
       "    </tr>\n",
       "    <tr>\n",
       "      <th>584839 </th>\n",
       "      <td>  1675962</td>\n",
       "      <td>                          Mustafa al-Siba'i</td>\n",
       "      <td>    1724</td>\n",
       "      <td> 0.288240</td>\n",
       "    </tr>\n",
       "    <tr>\n",
       "      <th>1376282</th>\n",
       "      <td>  4580683</td>\n",
       "      <td>                                  Ella Hval</td>\n",
       "      <td>     437</td>\n",
       "      <td> 0.288070</td>\n",
       "    </tr>\n",
       "    <tr>\n",
       "      <th>399010 </th>\n",
       "      <td>   145291</td>\n",
       "      <td>                            Kanysh Satbayev</td>\n",
       "      <td>    2939</td>\n",
       "      <td> 0.286615</td>\n",
       "    </tr>\n",
       "    <tr>\n",
       "      <th>1149927</th>\n",
       "      <td>  1045926</td>\n",
       "      <td>                              Sabit Mukanov</td>\n",
       "      <td>     602</td>\n",
       "      <td> 0.285768</td>\n",
       "    </tr>\n",
       "    <tr>\n",
       "      <th>521    </th>\n",
       "      <td>  2722956</td>\n",
       "      <td>                            Maharana Pratap</td>\n",
       "      <td>  321030</td>\n",
       "      <td> 0.284377</td>\n",
       "    </tr>\n",
       "    <tr>\n",
       "      <th>70608  </th>\n",
       "      <td>  1397644</td>\n",
       "      <td>                                 Kanshi Ram</td>\n",
       "      <td>   18706</td>\n",
       "      <td> 0.284344</td>\n",
       "    </tr>\n",
       "    <tr>\n",
       "      <th>288998 </th>\n",
       "      <td>  3743196</td>\n",
       "      <td>                      Daredevils of Sassoun</td>\n",
       "      <td>    4454</td>\n",
       "      <td> 0.279381</td>\n",
       "    </tr>\n",
       "    <tr>\n",
       "      <th>184035 </th>\n",
       "      <td> 17411488</td>\n",
       "      <td>                           Susi Pudjiastuti</td>\n",
       "      <td>    7491</td>\n",
       "      <td> 0.277351</td>\n",
       "    </tr>\n",
       "    <tr>\n",
       "      <th>6875   </th>\n",
       "      <td>  2249676</td>\n",
       "      <td>                  Environment (biophysical)</td>\n",
       "      <td>   84755</td>\n",
       "      <td> 0.276108</td>\n",
       "    </tr>\n",
       "    <tr>\n",
       "      <th>310269 </th>\n",
       "      <td>  5420371</td>\n",
       "      <td>                              Exists (band)</td>\n",
       "      <td>    4081</td>\n",
       "      <td> 0.276099</td>\n",
       "    </tr>\n",
       "    <tr>\n",
       "      <th>721941 </th>\n",
       "      <td>  4402066</td>\n",
       "      <td>                             Turar Ryskulov</td>\n",
       "      <td>    1261</td>\n",
       "      <td> 0.275761</td>\n",
       "    </tr>\n",
       "    <tr>\n",
       "      <th>3089   </th>\n",
       "      <td>   738368</td>\n",
       "      <td>                       Chandra Shekhar Azad</td>\n",
       "      <td>  130036</td>\n",
       "      <td> 0.274963</td>\n",
       "    </tr>\n",
       "    <tr>\n",
       "      <th>1209943</th>\n",
       "      <td>  5217764</td>\n",
       "      <td>        National Encyclopedia of Uzbekistan</td>\n",
       "      <td>     552</td>\n",
       "      <td> 0.274821</td>\n",
       "    </tr>\n",
       "    <tr>\n",
       "      <th>1296479</th>\n",
       "      <td>  2437590</td>\n",
       "      <td>                             Rovte, Logatec</td>\n",
       "      <td>     489</td>\n",
       "      <td> 0.273546</td>\n",
       "    </tr>\n",
       "    <tr>\n",
       "      <th>665    </th>\n",
       "      <td> 17633938</td>\n",
       "      <td>             Pradhan Mantri Jan Dhan Yojana</td>\n",
       "      <td>  286290</td>\n",
       "      <td> 0.272353</td>\n",
       "    </tr>\n",
       "    <tr>\n",
       "      <th>3014   </th>\n",
       "      <td>  5341212</td>\n",
       "      <td>               Education in the Philippines</td>\n",
       "      <td>  131892</td>\n",
       "      <td> 0.271667</td>\n",
       "    </tr>\n",
       "    <tr>\n",
       "      <th>1822   </th>\n",
       "      <td>  3530272</td>\n",
       "      <td>                        Corruption in India</td>\n",
       "      <td>  170130</td>\n",
       "      <td> 0.270375</td>\n",
       "    </tr>\n",
       "    <tr>\n",
       "      <th>5129   </th>\n",
       "      <td>     9575</td>\n",
       "      <td>                     Harivansh Rai Bachchan</td>\n",
       "      <td>   99264</td>\n",
       "      <td> 0.270153</td>\n",
       "    </tr>\n",
       "    <tr>\n",
       "      <th>73710  </th>\n",
       "      <td>  4251721</td>\n",
       "      <td>                                 Rukunegara</td>\n",
       "      <td>   18028</td>\n",
       "      <td> 0.269931</td>\n",
       "    </tr>\n",
       "    <tr>\n",
       "      <th>120    </th>\n",
       "      <td>   470774</td>\n",
       "      <td>                       Mahendra Singh Dhoni</td>\n",
       "      <td>  675274</td>\n",
       "      <td> 0.269836</td>\n",
       "    </tr>\n",
       "    <tr>\n",
       "      <th>20880  </th>\n",
       "      <td>  2992962</td>\n",
       "      <td>                      Ramdhari Singh Dinkar</td>\n",
       "      <td>   44676</td>\n",
       "      <td> 0.268524</td>\n",
       "    </tr>\n",
       "    <tr>\n",
       "      <th>84461  </th>\n",
       "      <td>  3605924</td>\n",
       "      <td>                      Immigration to Greece</td>\n",
       "      <td>   16010</td>\n",
       "      <td> 0.267227</td>\n",
       "    </tr>\n",
       "    <tr>\n",
       "      <th>244974 </th>\n",
       "      <td> 18604415</td>\n",
       "      <td>             Kud puklo da puklo (TV series)</td>\n",
       "      <td>    5427</td>\n",
       "      <td> 0.266748</td>\n",
       "    </tr>\n",
       "    <tr>\n",
       "      <th>144906 </th>\n",
       "      <td>  5118126</td>\n",
       "      <td>           Roman Catholic churches in Bohol</td>\n",
       "      <td>    9628</td>\n",
       "      <td> 0.266577</td>\n",
       "    </tr>\n",
       "    <tr>\n",
       "      <th>...</th>\n",
       "      <td>...</td>\n",
       "      <td>...</td>\n",
       "      <td>...</td>\n",
       "      <td>...</td>\n",
       "    </tr>\n",
       "    <tr>\n",
       "      <th>40681  </th>\n",
       "      <td> 12241422</td>\n",
       "      <td>                             New Suez Canal</td>\n",
       "      <td>   28700</td>\n",
       "      <td> 0.254289</td>\n",
       "    </tr>\n",
       "    <tr>\n",
       "      <th>808321 </th>\n",
       "      <td>  4076987</td>\n",
       "      <td>                              Baluan Sholak</td>\n",
       "      <td>    1060</td>\n",
       "      <td> 0.254067</td>\n",
       "    </tr>\n",
       "    <tr>\n",
       "      <th>179556 </th>\n",
       "      <td>  6762233</td>\n",
       "      <td>                                Survivor BG</td>\n",
       "      <td>    7690</td>\n",
       "      <td> 0.254047</td>\n",
       "    </tr>\n",
       "    <tr>\n",
       "      <th>77801  </th>\n",
       "      <td>  3015654</td>\n",
       "      <td>                         Dance in Indonesia</td>\n",
       "      <td>   17199</td>\n",
       "      <td> 0.254027</td>\n",
       "    </tr>\n",
       "    <tr>\n",
       "      <th>6739   </th>\n",
       "      <td>  3351108</td>\n",
       "      <td>                                    Kuvempu</td>\n",
       "      <td>   85629</td>\n",
       "      <td> 0.253699</td>\n",
       "    </tr>\n",
       "    <tr>\n",
       "      <th>199213 </th>\n",
       "      <td>  4773257</td>\n",
       "      <td>                        Repentance in Islam</td>\n",
       "      <td>    6873</td>\n",
       "      <td> 0.253590</td>\n",
       "    </tr>\n",
       "    <tr>\n",
       "      <th>75671  </th>\n",
       "      <td> 18342125</td>\n",
       "      <td>              Working Cabinet (Joko Widodo)</td>\n",
       "      <td>   17620</td>\n",
       "      <td> 0.253112</td>\n",
       "    </tr>\n",
       "    <tr>\n",
       "      <th>136209 </th>\n",
       "      <td>  5548845</td>\n",
       "      <td>                  Gerakan Pramuka Indonesia</td>\n",
       "      <td>   10245</td>\n",
       "      <td> 0.252942</td>\n",
       "    </tr>\n",
       "    <tr>\n",
       "      <th>245    </th>\n",
       "      <td>   328951</td>\n",
       "      <td>                                   Mary Kom</td>\n",
       "      <td>  474607</td>\n",
       "      <td> 0.252557</td>\n",
       "    </tr>\n",
       "    <tr>\n",
       "      <th>382380 </th>\n",
       "      <td>   378309</td>\n",
       "      <td>                              Stepan Zoryan</td>\n",
       "      <td>    3110</td>\n",
       "      <td> 0.252489</td>\n",
       "    </tr>\n",
       "    <tr>\n",
       "      <th>2591   </th>\n",
       "      <td>  1517326</td>\n",
       "      <td>                         History of cricket</td>\n",
       "      <td>  142329</td>\n",
       "      <td> 0.252344</td>\n",
       "    </tr>\n",
       "    <tr>\n",
       "      <th>27178  </th>\n",
       "      <td>   879634</td>\n",
       "      <td>                   Sijil Pelajaran Malaysia</td>\n",
       "      <td>   37824</td>\n",
       "      <td> 0.252218</td>\n",
       "    </tr>\n",
       "    <tr>\n",
       "      <th>521420 </th>\n",
       "      <td>  2996747</td>\n",
       "      <td>                             Mustafa Shokay</td>\n",
       "      <td>    2033</td>\n",
       "      <td> 0.252087</td>\n",
       "    </tr>\n",
       "    <tr>\n",
       "      <th>1072780</th>\n",
       "      <td>  3537834</td>\n",
       "      <td>      History of rail transport in Slovenia</td>\n",
       "      <td>     675</td>\n",
       "      <td> 0.251977</td>\n",
       "    </tr>\n",
       "    <tr>\n",
       "      <th>732303 </th>\n",
       "      <td>  2467956</td>\n",
       "      <td>                                 Kasym Khan</td>\n",
       "      <td>    1234</td>\n",
       "      <td> 0.251809</td>\n",
       "    </tr>\n",
       "    <tr>\n",
       "      <th>77985  </th>\n",
       "      <td>  1188307</td>\n",
       "      <td>                         Hindustani grammar</td>\n",
       "      <td>   17160</td>\n",
       "      <td> 0.251676</td>\n",
       "    </tr>\n",
       "    <tr>\n",
       "      <th>71007  </th>\n",
       "      <td>  2247576</td>\n",
       "      <td>                       Vegetarian nutrition</td>\n",
       "      <td>   18610</td>\n",
       "      <td> 0.251343</td>\n",
       "    </tr>\n",
       "    <tr>\n",
       "      <th>285765 </th>\n",
       "      <td>   934585</td>\n",
       "      <td>                          Yusuf Khass Hajib</td>\n",
       "      <td>    4514</td>\n",
       "      <td> 0.251314</td>\n",
       "    </tr>\n",
       "    <tr>\n",
       "      <th>323590 </th>\n",
       "      <td> 13096488</td>\n",
       "      <td>                                Ricky Harun</td>\n",
       "      <td>    3872</td>\n",
       "      <td> 0.251217</td>\n",
       "    </tr>\n",
       "    <tr>\n",
       "      <th>21593  </th>\n",
       "      <td>  3521036</td>\n",
       "      <td>                      Sarva Shiksha Abhiyan</td>\n",
       "      <td>   43745</td>\n",
       "      <td> 0.251098</td>\n",
       "    </tr>\n",
       "    <tr>\n",
       "      <th>9      </th>\n",
       "      <td>  3520517</td>\n",
       "      <td>                                    Kho kho</td>\n",
       "      <td> 3046920</td>\n",
       "      <td> 0.250923</td>\n",
       "    </tr>\n",
       "    <tr>\n",
       "      <th>305691 </th>\n",
       "      <td>  3000949</td>\n",
       "      <td>          Constitutional Court of Indonesia</td>\n",
       "      <td>    4158</td>\n",
       "      <td> 0.250915</td>\n",
       "    </tr>\n",
       "    <tr>\n",
       "      <th>104640 </th>\n",
       "      <td>  2026385</td>\n",
       "      <td>                        Norwegian Folktales</td>\n",
       "      <td>   13214</td>\n",
       "      <td> 0.250908</td>\n",
       "    </tr>\n",
       "    <tr>\n",
       "      <th>107948 </th>\n",
       "      <td>  1188166</td>\n",
       "      <td>                               Rumah Gadang</td>\n",
       "      <td>   12828</td>\n",
       "      <td> 0.250897</td>\n",
       "    </tr>\n",
       "    <tr>\n",
       "      <th>299252 </th>\n",
       "      <td>  1641409</td>\n",
       "      <td>                                 Little jüz</td>\n",
       "      <td>    4270</td>\n",
       "      <td> 0.250712</td>\n",
       "    </tr>\n",
       "    <tr>\n",
       "      <th>50901  </th>\n",
       "      <td> 18113714</td>\n",
       "      <td>                                  Ko Wen-je</td>\n",
       "      <td>   24230</td>\n",
       "      <td> 0.250707</td>\n",
       "    </tr>\n",
       "    <tr>\n",
       "      <th>563856 </th>\n",
       "      <td>     6065</td>\n",
       "      <td>                    Pesisir Selatan Regency</td>\n",
       "      <td>    1818</td>\n",
       "      <td> 0.250678</td>\n",
       "    </tr>\n",
       "    <tr>\n",
       "      <th>5212   </th>\n",
       "      <td>   611371</td>\n",
       "      <td>                               Vaishno Devi</td>\n",
       "      <td>   98261</td>\n",
       "      <td> 0.250438</td>\n",
       "    </tr>\n",
       "    <tr>\n",
       "      <th>763970 </th>\n",
       "      <td>  8099813</td>\n",
       "      <td>                           Vakhtang Ananyan</td>\n",
       "      <td>    1156</td>\n",
       "      <td> 0.250428</td>\n",
       "    </tr>\n",
       "    <tr>\n",
       "      <th>48043  </th>\n",
       "      <td>  4678227</td>\n",
       "      <td>                      Ada Apa dengan Cinta?</td>\n",
       "      <td>   25352</td>\n",
       "      <td> 0.250311</td>\n",
       "    </tr>\n",
       "  </tbody>\n",
       "</table>\n",
       "<p>100 rows × 4 columns</p>\n",
       "</div>"
      ],
      "text/plain": [
       "               id                                        name  en_pageviews  \\\n",
       "852881    1046216                            Mağjan Jumabayev           975   \n",
       "360358    2467249                         Bauyrzhan Momyshuly          3370   \n",
       "732102    2380565                         Makhambet Otemisuly          1234   \n",
       "142850    5645435                                       Hamka          9765   \n",
       "2788      2913218  Contrasting and categorization of emotions        137530   \n",
       "18358      466337                              Mahadevi Varma         48412   \n",
       "584839    1675962                           Mustafa al-Siba'i          1724   \n",
       "1376282   4580683                                   Ella Hval           437   \n",
       "399010     145291                             Kanysh Satbayev          2939   \n",
       "1149927   1045926                               Sabit Mukanov           602   \n",
       "521       2722956                             Maharana Pratap        321030   \n",
       "70608     1397644                                  Kanshi Ram         18706   \n",
       "288998    3743196                       Daredevils of Sassoun          4454   \n",
       "184035   17411488                            Susi Pudjiastuti          7491   \n",
       "6875      2249676                   Environment (biophysical)         84755   \n",
       "310269    5420371                               Exists (band)          4081   \n",
       "721941    4402066                              Turar Ryskulov          1261   \n",
       "3089       738368                        Chandra Shekhar Azad        130036   \n",
       "1209943   5217764         National Encyclopedia of Uzbekistan           552   \n",
       "1296479   2437590                              Rovte, Logatec           489   \n",
       "665      17633938              Pradhan Mantri Jan Dhan Yojana        286290   \n",
       "3014      5341212                Education in the Philippines        131892   \n",
       "1822      3530272                         Corruption in India        170130   \n",
       "5129         9575                      Harivansh Rai Bachchan         99264   \n",
       "73710     4251721                                  Rukunegara         18028   \n",
       "120        470774                        Mahendra Singh Dhoni        675274   \n",
       "20880     2992962                       Ramdhari Singh Dinkar         44676   \n",
       "84461     3605924                       Immigration to Greece         16010   \n",
       "244974   18604415              Kud puklo da puklo (TV series)          5427   \n",
       "144906    5118126            Roman Catholic churches in Bohol          9628   \n",
       "...           ...                                         ...           ...   \n",
       "40681    12241422                              New Suez Canal         28700   \n",
       "808321    4076987                               Baluan Sholak          1060   \n",
       "179556    6762233                                 Survivor BG          7690   \n",
       "77801     3015654                          Dance in Indonesia         17199   \n",
       "6739      3351108                                     Kuvempu         85629   \n",
       "199213    4773257                         Repentance in Islam          6873   \n",
       "75671    18342125               Working Cabinet (Joko Widodo)         17620   \n",
       "136209    5548845                   Gerakan Pramuka Indonesia         10245   \n",
       "245        328951                                    Mary Kom        474607   \n",
       "382380     378309                               Stepan Zoryan          3110   \n",
       "2591      1517326                          History of cricket        142329   \n",
       "27178      879634                    Sijil Pelajaran Malaysia         37824   \n",
       "521420    2996747                              Mustafa Shokay          2033   \n",
       "1072780   3537834       History of rail transport in Slovenia           675   \n",
       "732303    2467956                                  Kasym Khan          1234   \n",
       "77985     1188307                          Hindustani grammar         17160   \n",
       "71007     2247576                        Vegetarian nutrition         18610   \n",
       "285765     934585                           Yusuf Khass Hajib          4514   \n",
       "323590   13096488                                 Ricky Harun          3872   \n",
       "21593     3521036                       Sarva Shiksha Abhiyan         43745   \n",
       "9         3520517                                     Kho kho       3046920   \n",
       "305691    3000949           Constitutional Court of Indonesia          4158   \n",
       "104640    2026385                         Norwegian Folktales         13214   \n",
       "107948    1188166                                Rumah Gadang         12828   \n",
       "299252    1641409                                  Little jüz          4270   \n",
       "50901    18113714                                   Ko Wen-je         24230   \n",
       "563856       6065                     Pesisir Selatan Regency          1818   \n",
       "5212       611371                                Vaishno Devi         98261   \n",
       "763970    8099813                            Vakhtang Ananyan          1156   \n",
       "48043     4678227                       Ada Apa dengan Cinta?         25352   \n",
       "\n",
       "            score  \n",
       "852881   0.306052  \n",
       "360358   0.303625  \n",
       "732102   0.299871  \n",
       "142850   0.294769  \n",
       "2788     0.293515  \n",
       "18358    0.291562  \n",
       "584839   0.288240  \n",
       "1376282  0.288070  \n",
       "399010   0.286615  \n",
       "1149927  0.285768  \n",
       "521      0.284377  \n",
       "70608    0.284344  \n",
       "288998   0.279381  \n",
       "184035   0.277351  \n",
       "6875     0.276108  \n",
       "310269   0.276099  \n",
       "721941   0.275761  \n",
       "3089     0.274963  \n",
       "1209943  0.274821  \n",
       "1296479  0.273546  \n",
       "665      0.272353  \n",
       "3014     0.271667  \n",
       "1822     0.270375  \n",
       "5129     0.270153  \n",
       "73710    0.269931  \n",
       "120      0.269836  \n",
       "20880    0.268524  \n",
       "84461    0.267227  \n",
       "244974   0.266748  \n",
       "144906   0.266577  \n",
       "...           ...  \n",
       "40681    0.254289  \n",
       "808321   0.254067  \n",
       "179556   0.254047  \n",
       "77801    0.254027  \n",
       "6739     0.253699  \n",
       "199213   0.253590  \n",
       "75671    0.253112  \n",
       "136209   0.252942  \n",
       "245      0.252557  \n",
       "382380   0.252489  \n",
       "2591     0.252344  \n",
       "27178    0.252218  \n",
       "521420   0.252087  \n",
       "1072780  0.251977  \n",
       "732303   0.251809  \n",
       "77985    0.251676  \n",
       "71007    0.251343  \n",
       "285765   0.251314  \n",
       "323590   0.251217  \n",
       "21593    0.251098  \n",
       "9        0.250923  \n",
       "305691   0.250915  \n",
       "104640   0.250908  \n",
       "107948   0.250897  \n",
       "299252   0.250712  \n",
       "50901    0.250707  \n",
       "563856   0.250678  \n",
       "5212     0.250438  \n",
       "763970   0.250428  \n",
       "48043    0.250311  \n",
       "\n",
       "[100 rows x 4 columns]"
      ]
     },
     "execution_count": 11,
     "metadata": {},
     "output_type": "execute_result"
    }
   ],
   "source": [
    "df.head(100)"
   ]
  },
  {
   "cell_type": "markdown",
   "metadata": {},
   "source": [
    "### Project Languages\n",
    "We can run ALS with rank 2 and see what languages end up close to each other"
   ]
  },
  {
   "cell_type": "code",
   "execution_count": 19,
   "metadata": {
    "collapsed": true
   },
   "outputs": [],
   "source": [
    "model = ALS.train(training, 2, iterations = 15,  lambda_ = 0.001, nonnegative=True, seed=10)"
   ]
  },
  {
   "cell_type": "code",
   "execution_count": 7,
   "metadata": {
    "collapsed": false
   },
   "outputs": [
    {
     "name": "stderr",
     "output_type": "stream",
     "text": [
      "/home/ellery/anaconda/lib/python2.7/site-packages/matplotlib/text.py:1857: UserWarning: You have used the `textcoords` kwarg, but not the `xytext` kwarg.  This can lead to surprising results.\n",
      "  warnings.warn(\"You have used the `textcoords` kwarg, but not \"\n"
     ]
    },
    {
     "data": {
      "image/png": "[encoded data removed]",
      "text/plain": [
       "<matplotlib.figure.Figure at 0x7fc24ad2d310>"
      ]
     },
     "metadata": {},
     "output_type": "display_data"
    }
   ],
   "source": [
    "project(model, normalize=False)"
   ]
  },
  {
   "cell_type": "code",
   "execution_count": 10,
   "metadata": {
    "collapsed": false
   },
   "outputs": [
    {
     "data": {
      "image/png": "[encoded data removed]",
      "text/plain": [
       "<matplotlib.figure.Figure at 0x7fc23010ec10>"
      ]
     },
     "metadata": {},
     "output_type": "display_data"
    }
   ],
   "source": [
    "project(model, normalize=True)"
   ]
  },
  {
   "cell_type": "code",
   "execution_count": null,
   "metadata": {
    "collapsed": true
   },
   "outputs": [],
   "source": []
  },
  {
   "cell_type": "code",
   "execution_count": null,
   "metadata": {
    "collapsed": true
   },
   "outputs": [],
   "source": []
  },
  {
   "cell_type": "code",
   "execution_count": null,
   "metadata": {
    "collapsed": true
   },
   "outputs": [],
   "source": []
  },
  {
   "cell_type": "code",
   "execution_count": null,
   "metadata": {
    "collapsed": true
   },
   "outputs": [],
   "source": []
  },
  {
   "cell_type": "markdown",
   "metadata": {},
   "source": [
    "#Scratch"
   ]
  },
  {
   "cell_type": "code",
   "execution_count": null,
   "metadata": {
    "collapsed": true
   },
   "outputs": [],
   "source": [
    "def print_baseline_distributed(training, validation, test):\n",
    "    numTest = test.count()  \n",
    "    \n",
    "    sumUserRatings = training.union(validation)\\\n",
    "    .map(lambda x: (x[0], x[2]))\\\n",
    "    .reduce(add)\n",
    "    \n",
    "    numUserRatings = training.union(validation)\\\n",
    "    .map(lambda x: (x[0], 1.0))\\\n",
    "    .reduce(add)\n",
    "    \n",
    "    meanUserRatings = sumUserRatings.join(numUserRatings).map(lambda x: (x[0], x[1][0]/x[1][1]))\n",
    "    meanUserRatings = dict(meanUserRatings.collect())\n",
    "    baselineRmse = sqrt(test.map(lambda x: (meanUserRatings[x[0]] - x[2]) ** 2).reduce(add) / numTest)\n",
    "    \n",
    "    print \"Mean Ratings:\"\n",
    "    pprint(meanUserRatings)\n",
    "    \n",
    "    print \"RMSE (test):  %f\" % baselineRmse\n",
    "    "
   ]
  },
  {
   "cell_type": "code",
   "execution_count": 29,
   "metadata": {
    "collapsed": false
   },
   "outputs": [],
   "source": [
    "def to_libsvm(x):\n",
    "    line = x[0][1:] + ' '\n",
    "    langs = [str(lang2id[d['lang']]) + ':' + d['pageview_count'] for d in x[1]]\n",
    "    langs.sort()\n",
    "    return line + ' '.join(langs)\n",
    "    \n",
    "names = [ 'id', 'lang', 'title', 'pageview_count']\n",
    "\n",
    "k = 3\n",
    "\n",
    "pageviews = sc.textFile(cp.get('general', 'pageviews'))\\\n",
    ".map(get_parser(names))\\\n",
    ".filter(lambda x: len(x) == 4)\\\n",
    ".filter(lambda x: x['lang'] in languages_set)\\\n",
    ".map(lambda x: (x['id'], x))\\\n",
    ".groupByKey().filter(lambda x: len(x[1]) >=k ).map(to_libsvm)"
   ]
  },
  {
   "cell_type": "code",
   "execution_count": 30,
   "metadata": {
    "collapsed": false
   },
   "outputs": [
    {
     "name": "stdout",
     "output_type": "stream",
     "text": [
      "256\n",
      "0\n",
      "256\n",
      "256\n",
      "0\n",
      "0\n",
      "0\n",
      "0\n"
     ]
    }
   ],
   "source": [
    "exp_dir = 'importance'\n",
    "fname = 'libsvm.txt'\n",
    "base_dir = os.path.join(cp.get('general', 'local_data_dir'), exp_dir)\n",
    "hadoop_base_dir = os.path.join(cp.get('general', 'hadoop_data_dir'), exp_dir)\n",
    "save_rdd(pageviews, base_dir , hadoop_base_dir, fname)"
   ]
  },
  {
   "cell_type": "code",
   "execution_count": 37,
   "metadata": {
    "collapsed": false
   },
   "outputs": [],
   "source": [
    "from sklearn.datasets import load_svmlight_file\n",
    "X, Y= load_svmlight_file(os.path.join(base_dir, fname))"
   ]
  },
  {
   "cell_type": "code",
   "execution_count": 44,
   "metadata": {
    "collapsed": false
   },
   "outputs": [],
   "source": [
    "X = X.T\n",
    "from sklearn.preprocessing import normalize\n",
    "X = normalize(X, norm='l2', axis=1, copy=True)"
   ]
  },
  {
   "cell_type": "code",
   "execution_count": 45,
   "metadata": {
    "collapsed": false
   },
   "outputs": [
    {
     "name": "stdout",
     "output_type": "stream",
     "text": [
      "[ 0.97762391  0.00994535  0.00675686]\n"
     ]
    }
   ],
   "source": [
    "import numpy as np\n",
    "from sklearn.decomposition import PCA\n",
    "pca = PCA(n_components=3)\n",
    "pca.fit(X.T.toarray())\n",
    "print(pca.explained_variance_ratio_) "
   ]
  },
  {
   "cell_type": "code",
   "execution_count": 41,
   "metadata": {
    "collapsed": false
   },
   "outputs": [
    {
     "data": {
      "text/plain": [
       "<1254410x7 sparse matrix of type '<type 'numpy.float64'>'\n",
       "\twith 5373355 stored elements in Compressed Sparse Row format>"
      ]
     },
     "execution_count": 41,
     "metadata": {},
     "output_type": "execute_result"
    }
   ],
   "source": [
    "X"
   ]
  }
 ],
 "metadata": {
  "kernelspec": {
   "display_name": "Python 2",
   "language": "python",
   "name": "python2"
  },
  "language_info": {
   "codemirror_mode": {
    "name": "ipython",
    "version": 2
   },
   "file_extension": ".py",
   "mimetype": "text/x-python",
   "name": "python",
   "nbconvert_exporter": "python",
   "pygments_lexer": "ipython2",
   "version": "2.7.9"
  }
 },
 "nbformat": 4,
 "nbformat_minor": 0
}
