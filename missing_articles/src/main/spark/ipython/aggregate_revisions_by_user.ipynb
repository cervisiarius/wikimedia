{
 "cells": [
  {
   "cell_type": "code",
   "execution_count": 7,
   "metadata": {
    "collapsed": false
   },
   "outputs": [],
   "source": [
    "from ConfigParser import SafeConfigParser\n",
    "import os,sys,inspect\n",
    "currentdir = os.path.dirname(os.path.abspath(inspect.getfile(inspect.currentframe())))\n",
    "parentdir = os.path.dirname(currentdir)\n",
    "sys.path.insert(0,parentdir) \n",
    "from util import save_rdd, get_parser\n",
    "import json\n",
    "\n",
    "exp_dir = 'en-en'\n",
    "target_language = 'en'\n",
    "config = '/home/ellery/wikimedia/missing_articles/missing_articles.ini'\n",
    "\n",
    "cp = SafeConfigParser()\n",
    "cp.read(config)\n",
    "base_dir = os.path.join(cp.get('general', 'local_data_dir'), exp_dir)\n",
    "hadoop_base_dir = os.path.join(cp.get('general', 'hadoop_data_dir'), exp_dir)"
   ]
  },
  {
   "cell_type": "code",
   "execution_count": 8,
   "metadata": {
    "collapsed": false
   },
   "outputs": [],
   "source": [
    "def to_str(t):\n",
    "    uid, contributions = t\n",
    "    contributions = list(contributions)\n",
    "    uname = contributions[0]['user']\n",
    "    contributions = [{k: d[k] for k in ('id', 'page_title', 'num_edits', 'timestamp', 'bytes_added')} for d in contributions]\n",
    "    contributions.sort(key = lambda x: x['timestamp'])\n",
    "    obj = {'uid': uid, 'uname': uname, 'contributions': contributions}\n",
    "    return json.dumps(obj)\n",
    "        "
   ]
  },
  {
   "cell_type": "code",
   "execution_count": 9,
   "metadata": {
    "collapsed": false
   },
   "outputs": [
    {
     "name": "stdout",
     "output_type": "stream",
     "text": [
      "0\n",
      "256\n",
      "256\n",
      "256\n",
      "0\n",
      "0\n",
      "0\n",
      "0\n"
     ]
    }
   ],
   "source": [
    "names = [\"language_code\", \"user_id\", \"user\", \"id\",\"page_title\",\"num_edits\",\"timestamp\", \"bytes_added\"]\n",
    "contributions_file = os.path.join(cp.get('general', 'contributions_dir'), target_language)\n",
    "contributions = sc.textFile(contributions_file).map(get_parser(names)).filter(lambda x: len(x) == 8)\n",
    "contributions = contributions.map(lambda x: (x['user_id'], x)).groupByKey()\n",
    "contributions = contributions.map(to_str)\n",
    "save_rdd(contributions, base_dir , hadoop_base_dir, cp.get('eval', 'contributions'))"
   ]
  }
 ],
 "metadata": {
  "kernelspec": {
   "display_name": "Python 2",
   "language": "python",
   "name": "python2"
  },
  "language_info": {
   "codemirror_mode": {
    "name": "ipython",
    "version": 2
   },
   "file_extension": ".py",
   "mimetype": "text/x-python",
   "name": "python",
   "nbconvert_exporter": "python",
   "pygments_lexer": "ipython2",
   "version": "2.7.10"
  }
 },
 "nbformat": 4,
 "nbformat_minor": 0
}
