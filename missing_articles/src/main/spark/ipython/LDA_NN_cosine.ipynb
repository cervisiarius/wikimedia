{
 "metadata": {
  "name": "",
  "signature": "sha256:6a50d3b9549d39ed1cebbbf06e0808d411e00e6023cc4d92abb91a8909a9dd7d"
 },
 "nbformat": 3,
 "nbformat_minor": 0,
 "worksheets": [
  {
   "cells": [
    {
     "cell_type": "code",
     "collapsed": false,
     "input": [
      "import os\n",
      "import numpy as np\n",
      "import time\n",
      "import numpy as np\n",
      "import collections\n",
      "\n",
      "home_dir = '/home/ellery'\n",
      "hadoop_home_dir = '/user/ellery'\n",
      "exp_dir = 'en-simple'\n",
      "base_dir = os.path.join(home_dir, exp_dir)\n",
      "hadoop_base_dir = os.path.join(hadoop_home_dir,  exp_dir)\n",
      "article_vectors_file = 'article_vectors.txt'"
     ],
     "language": "python",
     "metadata": {},
     "outputs": [],
     "prompt_number": 1
    },
    {
     "cell_type": "code",
     "collapsed": false,
     "input": [
      "DIM = 400\n",
      "\n",
      "def parse_pair(p):\n",
      "        index, value  = p.split(':')\n",
      "        return int(index), float(value)\n",
      "    \n",
      "def parse_vector_text(line):\n",
      "    tokens = line.strip().split(' ')\n",
      "    article_id = tokens[0]\n",
      "    \n",
      "    d = dict(parse_pair(p) for p in tokens[1:])\n",
      "    v = [d[i] if i in d else 0.0 for i in range(DIM)]\n",
      "    v = np.array(v)\n",
      "    print v\n",
      "    v = v / np.linalg.norm(v)\n",
      "    return (article_id, v)\n",
      "\n",
      "vectors = sc.textFile(os.path.join(hadoop_base_dir,article_vectors_file )).map(parse_vector_text)\n",
      "vectors.cache()"
     ],
     "language": "python",
     "metadata": {},
     "outputs": [
      {
       "metadata": {},
       "output_type": "pyout",
       "prompt_number": 2,
       "text": [
        "PythonRDD[2] at RDD at PythonRDD.scala:42"
       ]
      }
     ],
     "prompt_number": 2
    },
    {
     "cell_type": "code",
     "collapsed": false,
     "input": [
      "def get_nn(article_id, v, sparse_vectors):\n",
      "    def get_dist(t):\n",
      "        article_id, w = t\n",
      "        return article_id, np.dot(v, w)\n",
      "    \n",
      "    return sparse_vectors.map(get_dist).top(25, key = lambda x: -x[1])  "
     ],
     "language": "python",
     "metadata": {},
     "outputs": [],
     "prompt_number": 3
    },
    {
     "cell_type": "code",
     "collapsed": false,
     "input": [
      "article_id = u'en|Biology'\n",
      "v = vectors.lookup(article_id)[0]\n",
      "#get_nn(article_id, v, sparse_vectors )"
     ],
     "language": "python",
     "metadata": {},
     "outputs": []
    },
    {
     "cell_type": "code",
     "collapsed": false,
     "input": [
      "get_nn(article_id, v, sparse_vectors )"
     ],
     "language": "python",
     "metadata": {},
     "outputs": []
    }
   ],
   "metadata": {}
  }
 ]
}