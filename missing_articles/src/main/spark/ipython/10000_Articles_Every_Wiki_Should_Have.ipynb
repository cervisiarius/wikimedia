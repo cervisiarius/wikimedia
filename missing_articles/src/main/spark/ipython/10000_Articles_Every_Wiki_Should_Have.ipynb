{
 "cells": [
  {
   "cell_type": "code",
   "execution_count": 1,
   "metadata": {
    "collapsed": true
   },
   "outputs": [],
   "source": [
    "import pandas as pd\n",
    "%matplotlib inline"
   ]
  },
  {
   "cell_type": "code",
   "execution_count": 2,
   "metadata": {
    "collapsed": false
   },
   "outputs": [],
   "source": [
    "topfile = '/home/ellery/wikimedia/data/top_wikidata_entities/top_10k_wikidata_entities.tsv'\n",
    "top = pd.read_csv(topfile, sep = '\\t', encoding = 'utf8', names = ['id', 'cat', 'title'])"
   ]
  },
  {
   "cell_type": "code",
   "execution_count": 3,
   "metadata": {
    "collapsed": false
   },
   "outputs": [],
   "source": [
    "exist_file = '/home/ellery/missing_and_exisiting_for_top_50_langs_reduced.tsv'\n",
    "header = ['id', 'num_present', 'num_missing', 'title', 'exist_codes', 'non_exist_codes', 'titles']\n",
    "ex = pd.read_csv(exist_file, sep = '\\t', encoding = 'utf8', names = header)"
   ]
  },
  {
   "cell_type": "code",
   "execution_count": 4,
   "metadata": {
    "collapsed": false
   },
   "outputs": [
    {
     "data": {
      "text/html": [
       "<div style=\"max-height:1000px;max-width:1500px;overflow:auto;\">\n",
       "<table border=\"1\" class=\"dataframe\">\n",
       "  <thead>\n",
       "    <tr style=\"text-align: right;\">\n",
       "      <th></th>\n",
       "      <th>id</th>\n",
       "      <th>num_present</th>\n",
       "      <th>num_missing</th>\n",
       "      <th>title</th>\n",
       "      <th>exist_codes</th>\n",
       "      <th>non_exist_codes</th>\n",
       "      <th>titles</th>\n",
       "    </tr>\n",
       "  </thead>\n",
       "  <tbody>\n",
       "    <tr>\n",
       "      <th>0</th>\n",
       "      <td> Q15</td>\n",
       "      <td> 48</td>\n",
       "      <td> 2</td>\n",
       "      <td>        en:Africa</td>\n",
       "      <td> ar|bg|ca|ceb|cs|da|de|el|en|eo|es|et|eu|fa|fi|...</td>\n",
       "      <td> min|vo</td>\n",
       "      <td>NaN</td>\n",
       "    </tr>\n",
       "    <tr>\n",
       "      <th>1</th>\n",
       "      <td> Q17</td>\n",
       "      <td> 50</td>\n",
       "      <td> 0</td>\n",
       "      <td>         en:Japan</td>\n",
       "      <td> ar|bg|ca|ceb|cs|da|de|el|en|eo|es|et|eu|fa|fi|...</td>\n",
       "      <td>    NaN</td>\n",
       "      <td>NaN</td>\n",
       "    </tr>\n",
       "    <tr>\n",
       "      <th>2</th>\n",
       "      <td> Q18</td>\n",
       "      <td> 48</td>\n",
       "      <td> 2</td>\n",
       "      <td> en:South America</td>\n",
       "      <td> ar|bg|ca|ceb|cs|da|de|el|en|eo|es|et|eu|fa|fi|...</td>\n",
       "      <td> min|vo</td>\n",
       "      <td>NaN</td>\n",
       "    </tr>\n",
       "    <tr>\n",
       "      <th>3</th>\n",
       "      <td> Q20</td>\n",
       "      <td> 49</td>\n",
       "      <td> 1</td>\n",
       "      <td>        en:Norway</td>\n",
       "      <td> ar|bg|ca|ceb|cs|da|de|el|en|eo|es|et|eu|fa|fi|...</td>\n",
       "      <td>    min</td>\n",
       "      <td>NaN</td>\n",
       "    </tr>\n",
       "    <tr>\n",
       "      <th>4</th>\n",
       "      <td> Q21</td>\n",
       "      <td> 50</td>\n",
       "      <td> 0</td>\n",
       "      <td>       en:England</td>\n",
       "      <td> ar|bg|ca|ceb|cs|da|de|el|en|eo|es|et|eu|fa|fi|...</td>\n",
       "      <td>    NaN</td>\n",
       "      <td>NaN</td>\n",
       "    </tr>\n",
       "  </tbody>\n",
       "</table>\n",
       "</div>"
      ],
      "text/plain": [
       "    id  num_present  num_missing             title  \\\n",
       "0  Q15           48            2         en:Africa   \n",
       "1  Q17           50            0          en:Japan   \n",
       "2  Q18           48            2  en:South America   \n",
       "3  Q20           49            1         en:Norway   \n",
       "4  Q21           50            0        en:England   \n",
       "\n",
       "                                         exist_codes non_exist_codes  titles  \n",
       "0  ar|bg|ca|ceb|cs|da|de|el|en|eo|es|et|eu|fa|fi|...          min|vo     NaN  \n",
       "1  ar|bg|ca|ceb|cs|da|de|el|en|eo|es|et|eu|fa|fi|...             NaN     NaN  \n",
       "2  ar|bg|ca|ceb|cs|da|de|el|en|eo|es|et|eu|fa|fi|...          min|vo     NaN  \n",
       "3  ar|bg|ca|ceb|cs|da|de|el|en|eo|es|et|eu|fa|fi|...             min     NaN  \n",
       "4  ar|bg|ca|ceb|cs|da|de|el|en|eo|es|et|eu|fa|fi|...             NaN     NaN  "
      ]
     },
     "execution_count": 4,
     "metadata": {},
     "output_type": "execute_result"
    }
   ],
   "source": [
    "ex.head()"
   ]
  },
  {
   "cell_type": "code",
   "execution_count": 5,
   "metadata": {
    "collapsed": false
   },
   "outputs": [
    {
     "data": {
      "text/html": [
       "<div style=\"max-height:1000px;max-width:1500px;overflow:auto;\">\n",
       "<table border=\"1\" class=\"dataframe\">\n",
       "  <thead>\n",
       "    <tr style=\"text-align: right;\">\n",
       "      <th></th>\n",
       "      <th>id</th>\n",
       "      <th>cat</th>\n",
       "      <th>title</th>\n",
       "    </tr>\n",
       "  </thead>\n",
       "  <tbody>\n",
       "    <tr>\n",
       "      <th>0</th>\n",
       "      <td> Q104340</td>\n",
       "      <td> People/Entertainers/Actors_and_Actresses/Silen...</td>\n",
       "      <td>   Harold Lloyd</td>\n",
       "    </tr>\n",
       "    <tr>\n",
       "      <th>0</th>\n",
       "      <td> Q104183</td>\n",
       "      <td> People/Entertainers/Actors_and_Actresses/Silen...</td>\n",
       "      <td>   Lillian Gish</td>\n",
       "    </tr>\n",
       "    <tr>\n",
       "      <th>0</th>\n",
       "      <td> Q103949</td>\n",
       "      <td> People/Entertainers/Actors_and_Actresses/Silen...</td>\n",
       "      <td>  Buster Keaton</td>\n",
       "    </tr>\n",
       "    <tr>\n",
       "      <th>0</th>\n",
       "      <td> Q104109</td>\n",
       "      <td> People/Entertainers/Actors_and_Actresses/Silen...</td>\n",
       "      <td>  Mary Pickford</td>\n",
       "    </tr>\n",
       "    <tr>\n",
       "      <th>0</th>\n",
       "      <td> Q229232</td>\n",
       "      <td> People/Entertainers/Actors_and_Actresses/Silen...</td>\n",
       "      <td> Gloria Swanson</td>\n",
       "    </tr>\n",
       "  </tbody>\n",
       "</table>\n",
       "</div>"
      ],
      "text/plain": [
       "        id                                                cat           title\n",
       "0  Q104340  People/Entertainers/Actors_and_Actresses/Silen...    Harold Lloyd\n",
       "0  Q104183  People/Entertainers/Actors_and_Actresses/Silen...    Lillian Gish\n",
       "0  Q103949  People/Entertainers/Actors_and_Actresses/Silen...   Buster Keaton\n",
       "0  Q104109  People/Entertainers/Actors_and_Actresses/Silen...   Mary Pickford\n",
       "0  Q229232  People/Entertainers/Actors_and_Actresses/Silen...  Gloria Swanson"
      ]
     },
     "execution_count": 5,
     "metadata": {},
     "output_type": "execute_result"
    }
   ],
   "source": [
    "top.head()"
   ]
  },
  {
   "cell_type": "code",
   "execution_count": 6,
   "metadata": {
    "collapsed": false
   },
   "outputs": [],
   "source": [
    "df = top.merge(ex, on = 'id', how = 'inner') "
   ]
  },
  {
   "cell_type": "code",
   "execution_count": 7,
   "metadata": {
    "collapsed": false
   },
   "outputs": [
    {
     "data": {
      "text/plain": [
       "(9999, 9)"
      ]
     },
     "execution_count": 7,
     "metadata": {},
     "output_type": "execute_result"
    }
   ],
   "source": [
    "df.shape"
   ]
  },
  {
   "cell_type": "code",
   "execution_count": 8,
   "metadata": {
    "collapsed": false
   },
   "outputs": [
    {
     "data": {
      "text/plain": [
       "<matplotlib.axes._subplots.AxesSubplot at 0x7fd8ed6bb950>"
      ]
     },
     "execution_count": 8,
     "metadata": {},
     "output_type": "execute_result"
    },
    {
     "data": {
      "image/png": "[encoded data removed]",
      "text/plain": [
       "<matplotlib.figure.Figure at 0x7fd8ed6bbf50>"
      ]
     },
     "metadata": {},
     "output_type": "display_data"
    }
   ],
   "source": [
    "df['num_missing'].hist()"
   ]
  },
  {
   "cell_type": "code",
   "execution_count": 9,
   "metadata": {
    "collapsed": false
   },
   "outputs": [
    {
     "data": {
      "text/plain": [
       "126274"
      ]
     },
     "execution_count": 9,
     "metadata": {},
     "output_type": "execute_result"
    }
   ],
   "source": [
    "df['num_missing'].sum()"
   ]
  },
  {
   "cell_type": "code",
   "execution_count": 10,
   "metadata": {
    "collapsed": true
   },
   "outputs": [],
   "source": [
    "wikis_by_size = [\n",
    "'en',\n",
    "'sv',\n",
    "'de',\n",
    "'nl',\n",
    "'fr',\n",
    "'war',\n",
    "'ru',\n",
    "'ceb',\n",
    "'it',\n",
    "'es',\n",
    "'vi',\n",
    "'pl',\n",
    "'ja',\n",
    "'pt',\n",
    "'zh',\n",
    "'uk',\n",
    "'ca',\n",
    "'fa',\n",
    "'sh',\n",
    "'no',\n",
    "'fi',\n",
    "'ar',\n",
    "'id',\n",
    "'ro',\n",
    "'cs',\n",
    "'hu',\n",
    "'sr',\n",
    "'ko',\n",
    "'ms',\n",
    "'tr',\n",
    "'min',\n",
    "'eo',\n",
    "'kk',\n",
    "'eu',\n",
    "'da',\n",
    "'sk',\n",
    "'bg',\n",
    "'he',\n",
    "'hy',\n",
    "'lt',\n",
    "'sl',\n",
    "'et',\n",
    "'uz',\n",
    "'gl',\n",
    "'nn',\n",
    "'vo',\n",
    "'la',\n",
    "'simple',\n",
    "'el',\n",
    "'hi'\n",
    "]"
   ]
  },
  {
   "cell_type": "code",
   "execution_count": null,
   "metadata": {
    "collapsed": false
   },
   "outputs": [],
   "source": []
  },
  {
   "cell_type": "code",
   "execution_count": 11,
   "metadata": {
    "collapsed": false
   },
   "outputs": [
    {
     "name": "stdout",
     "output_type": "stream",
     "text": [
      "Top 5 2102\n",
      "Top 10 16549\n",
      "Top 15 21548\n",
      "Top 20 28593\n",
      "Top 25 35945\n",
      "Top 30 48136\n",
      "Top 35 69616\n",
      "Top 40 83649\n",
      "Top 45 104165\n",
      "Top 50 123668\n"
     ]
    }
   ],
   "source": [
    "for n in range(5, 51,5):\n",
    "    wiki_set = set(wikis_by_size[:n])\n",
    "    def count(x):\n",
    "        return len(wiki_set.intersection(set(x.split('|'))))\n",
    "\n",
    "    print 'Top %d' % n, df[df['non_exist_codes'].notnull()]['non_exist_codes'].apply(count).sum()"
   ]
  },
  {
   "cell_type": "code",
   "execution_count": 37,
   "metadata": {
    "collapsed": true
   },
   "outputs": [],
   "source": [
    "ex = ex[ex['num_present'] > 0]"
   ]
  },
  {
   "cell_type": "code",
   "execution_count": 45,
   "metadata": {
    "collapsed": false
   },
   "outputs": [
    {
     "data": {
      "text/plain": [
       "1     9146145\n",
       "2     1932447\n",
       "3     1239880\n",
       "4      800657\n",
       "5      419786\n",
       "6      247182\n",
       "7      182698\n",
       "8      118333\n",
       "9       84664\n",
       "10      70664\n",
       "11      59621\n",
       "12      48965\n",
       "13      40471\n",
       "14      36070\n",
       "15      30855\n",
       "16      26549\n",
       "17      22367\n",
       "19      21975\n",
       "18      21707\n",
       "20      21483\n",
       "21      21377\n",
       "22      19715\n",
       "23      17556\n",
       "24      14141\n",
       "25      10809\n",
       "26       8076\n",
       "27       6560\n",
       "28       5695\n",
       "29       5033\n",
       "30       4658\n",
       "31       4301\n",
       "32       3970\n",
       "33       3789\n",
       "34       3504\n",
       "35       3400\n",
       "36       3036\n",
       "37       3031\n",
       "38       2888\n",
       "39       2493\n",
       "40       2296\n",
       "41       2189\n",
       "42       2023\n",
       "43       1784\n",
       "47       1591\n",
       "44       1570\n",
       "49       1454\n",
       "45       1309\n",
       "46       1289\n",
       "48       1042\n",
       "50        199\n",
       "dtype: int64"
      ]
     },
     "execution_count": 45,
     "metadata": {},
     "output_type": "execute_result"
    }
   ],
   "source": [
    "(ex['num_present'].value_counts()) #/ float(ex.shape[0])) #[:5].sum()"
   ]
  },
  {
   "cell_type": "code",
   "execution_count": 26,
   "metadata": {
    "collapsed": false
   },
   "outputs": [
    {
     "data": {
      "text/plain": [
       "(15368716, 7)"
      ]
     },
     "execution_count": 26,
     "metadata": {},
     "output_type": "execute_result"
    }
   ],
   "source": [
    "ex.shape"
   ]
  },
  {
   "cell_type": "code",
   "execution_count": 27,
   "metadata": {
    "collapsed": false
   },
   "outputs": [
    {
     "data": {
      "text/plain": [
       "0.2378015834244058"
      ]
     },
     "execution_count": 27,
     "metadata": {},
     "output_type": "execute_result"
    }
   ],
   "source": [
    "3654705./ 15368716 "
   ]
  },
  {
   "cell_type": "code",
   "execution_count": 30,
   "metadata": {
    "collapsed": false
   },
   "outputs": [
    {
     "data": {
      "text/plain": [
       "0.1257390012282093"
      ]
     },
     "execution_count": 30,
     "metadata": {},
     "output_type": "execute_result"
    }
   ],
   "source": [
    "1932447 /15368716."
   ]
  },
  {
   "cell_type": "code",
   "execution_count": null,
   "metadata": {
    "collapsed": true
   },
   "outputs": [],
   "source": [
    "9146145 "
   ]
  }
 ],
 "metadata": {
  "kernelspec": {
   "display_name": "Python 2",
   "language": "python",
   "name": "python2"
  },
  "language_info": {
   "codemirror_mode": {
    "name": "ipython",
    "version": 2
   },
   "file_extension": ".py",
   "mimetype": "text/x-python",
   "name": "python",
   "nbconvert_exporter": "python",
   "pygments_lexer": "ipython2",
   "version": "2.7.10"
  }
 },
 "nbformat": 4,
 "nbformat_minor": 0
}
