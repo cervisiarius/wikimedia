{
 "cells": [
  {
   "cell_type": "code",
   "execution_count": 1,
   "metadata": {
    "collapsed": true
   },
   "outputs": [],
   "source": [
    "import os\n",
    "import multiprocessing\n",
    "\n",
    "def download_dumps_parallel(exp_dir, urls):\n",
    "    p = multiprocessing.Pool(8)\n",
    "    data = [(exp_dir, url, i) for i, url in enumerate(urls)]\n",
    "    p.map(download_dump, data)\n",
    "    \n",
    "    \n",
    "def download_dump(t):\n",
    "    exp_dir, url, i = t\n",
    "    path_template = \"/home/ellery/%s/dump%d.xml.bz2\"\n",
    "    path = path_template % (exp_dir, i+1)\n",
    "    print \"getting dump %d ...\" % i\n",
    "    os.system('wget -O %s %s' % (path, url ))\n",
    "    print \"got dump %d, unzipping ...\" % i\n",
    "    os.system('bzip2 -d %s' % path)\n",
    "    print \"unzipped dump %d!\" % i\n",
    "    \n",
    "    \n",
    "def download_dumps(exp_dir, urls):\n",
    "    for i, url in enumerate(urls):\n",
    "        download_dump((exp_dir, url, i))\n",
    "        \n",
    "        \n",
    "def get_standard_urls(wiki, date, n):\n",
    "    url_template = \"https://dumps.wikimedia.org/%s/%s/%s-%s-pages-meta-current%d.xml.bz2\"\n",
    "    urls = []\n",
    "    for i in range(1, n+1):\n",
    "        urls.append(url_template % (wiki, date, wiki, date, i))\n",
    "    return urls"
   ]
  },
  {
   "cell_type": "code",
   "execution_count": 2,
   "metadata": {
    "collapsed": false
   },
   "outputs": [],
   "source": [
    "wiki = 'plwiki'\n",
    "date = '20150510'\n",
    "exp_dir = 'en-pl'\n",
    "download_dumps_parallel(exp_dir, get_standard_urls(wiki, date, 4))"
   ]
  },
  {
   "cell_type": "code",
   "execution_count": null,
   "metadata": {
    "collapsed": true
   },
   "outputs": [],
   "source": [
    "wiki = 'frwiki'\n",
    "date = '20150512'\n",
    "exp_dir = 'en-fr'\n",
    "download_dumps(exp_dir, get_standard_urls(wiki, date, 4))"
   ]
  },
  {
   "cell_type": "code",
   "execution_count": null,
   "metadata": {
    "collapsed": true
   },
   "outputs": [],
   "source": [
    "wiki = 'eswiki'\n",
    "date = '20150518'\n",
    "exp_dir = 'en-es'\n",
    "download_dumps(exp_dir, get_standard_urls(wiki, date, 4))"
   ]
  },
  {
   "cell_type": "code",
   "execution_count": null,
   "metadata": {
    "collapsed": false
   },
   "outputs": [
    {
     "name": "stdout",
     "output_type": "stream",
     "text": [
      "getting dump 0 ...\n",
      "got dump 0, unzipping ...\n",
      "unzipped dump 0!"
     ]
    }
   ],
   "source": [
    "wiki = 'enwiki'\n",
    "date = '20150515'\n",
    "exp_dir = 'en-en'\n",
    "urls = [\n",
    "\"https://dumps.wikimedia.org/enwiki/20150304/enwiki-20150304-pages-meta-current1.xml-p000000010p000010000.bz2\",\n",
    "\"https://dumps.wikimedia.org/enwiki/20150304/enwiki-20150304-pages-meta-current2.xml-p000010001p000025000.bz2\",\n",
    "\"https://dumps.wikimedia.org/enwiki/20150304/enwiki-20150304-pages-meta-current3.xml-p000025001p000055000.bz2\",\n",
    "\"https://dumps.wikimedia.org/enwiki/20150304/enwiki-20150304-pages-meta-current4.xml-p000055002p000104998.bz2\",\n",
    "\"https://dumps.wikimedia.org/enwiki/20150304/enwiki-20150304-pages-meta-current5.xml-p000105001p000184999.bz2\",\n",
    "\"https://dumps.wikimedia.org/enwiki/20150304/enwiki-20150304-pages-meta-current6.xml-p000185003p000305000.bz2\",\n",
    "\"https://dumps.wikimedia.org/enwiki/20150304/enwiki-20150304-pages-meta-current7.xml-p000305002p000464997.bz2\",\n",
    "\"https://dumps.wikimedia.org/enwiki/20150304/enwiki-20150304-pages-meta-current8.xml-p000465001p000665000.bz2\",\n",
    "\"https://dumps.wikimedia.org/enwiki/20150304/enwiki-20150304-pages-meta-current9.xml-p000665001p000925000.bz2\",\n",
    "\"https://dumps.wikimedia.org/enwiki/20150304/enwiki-20150304-pages-meta-current10.xml-p000925001p001325000.bz2\",\n",
    "\"https://dumps.wikimedia.org/enwiki/20150304/enwiki-20150304-pages-meta-current11.xml-p001325001p001825000.bz2\",\n",
    "\"https://dumps.wikimedia.org/enwiki/20150304/enwiki-20150304-pages-meta-current12.xml-p001825001p002425000.bz2\",\n",
    "\"https://dumps.wikimedia.org/enwiki/20150304/enwiki-20150304-pages-meta-current13.xml-p002425001p003124998.bz2\",\n",
    "\"https://dumps.wikimedia.org/enwiki/20150304/enwiki-20150304-pages-meta-current14.xml-p003125001p003924999.bz2\",\n",
    "\"https://dumps.wikimedia.org/enwiki/20150304/enwiki-20150304-pages-meta-current15.xml-p003925001p004825000.bz2\",\n",
    "\"https://dumps.wikimedia.org/enwiki/20150304/enwiki-20150304-pages-meta-current16.xml-p004825002p006025000.bz2\",\n",
    "\"https://dumps.wikimedia.org/enwiki/20150304/enwiki-20150304-pages-meta-current17.xml-p006025001p007524997.bz2\",\n",
    "\"https://dumps.wikimedia.org/enwiki/20150304/enwiki-20150304-pages-meta-current18.xml-p007525002p009225000.bz2\",\n",
    "\"https://dumps.wikimedia.org/enwiki/20150304/enwiki-20150304-pages-meta-current19.xml-p009225001p011125000.bz2\",\n",
    "\"https://dumps.wikimedia.org/enwiki/20150304/enwiki-20150304-pages-meta-current20.xml-p011125001p013324998.bz2\",\n",
    "\"https://dumps.wikimedia.org/enwiki/20150304/enwiki-20150304-pages-meta-current21.xml-p013325001p015725000.bz2\",\n",
    "\"https://dumps.wikimedia.org/enwiki/20150304/enwiki-20150304-pages-meta-current22.xml-p015725003p018225000.bz2\",\n",
    "\"https://dumps.wikimedia.org/enwiki/20150304/enwiki-20150304-pages-meta-current23.xml-p018225001p020925000.bz2\",\n",
    "\"https://dumps.wikimedia.org/enwiki/20150304/enwiki-20150304-pages-meta-current24.xml-p020925002p023725000.bz2\",\n",
    "\"https://dumps.wikimedia.org/enwiki/20150304/enwiki-20150304-pages-meta-current25.xml-p023725001p026624999.bz2\",\n",
    "\"https://dumps.wikimedia.org/enwiki/20150304/enwiki-20150304-pages-meta-current26.xml-p026625002p029625000.bz2\",\n",
    "\"https://dumps.wikimedia.org/enwiki/20150304/enwiki-20150304-pages-meta-current27.xml-p029625001p045581262.bz2\",\n",
    "]\n",
    "download_dumps(exp_dir, urls = urls)"
   ]
  },
  {
   "cell_type": "code",
   "execution_count": null,
   "metadata": {
    "collapsed": true
   },
   "outputs": [],
   "source": []
  }
 ],
 "metadata": {
  "kernelspec": {
   "display_name": "Python 2",
   "language": "python",
   "name": "python2"
  },
  "language_info": {
   "codemirror_mode": {
    "name": "ipython",
    "version": 2
   },
   "file_extension": ".py",
   "mimetype": "text/x-python",
   "name": "python",
   "nbconvert_exporter": "python",
   "pygments_lexer": "ipython2",
   "version": "2.7.10"
  }
 },
 "nbformat": 4,
 "nbformat_minor": 0
}
