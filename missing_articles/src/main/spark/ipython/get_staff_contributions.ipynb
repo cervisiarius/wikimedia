{
 "cells": [
  {
   "cell_type": "code",
   "execution_count": 1,
   "metadata": {
    "collapsed": false
   },
   "outputs": [],
   "source": [
    "import pandas as pd\n",
    "staff =  pd.read_csv('staff.csv', index_col  =False)"
   ]
  },
  {
   "cell_type": "code",
   "execution_count": 2,
   "metadata": {
    "collapsed": false
   },
   "outputs": [
    {
     "data": {
      "text/html": [
       "<div style=\"max-height:1000px;max-width:1500px;overflow:auto;\">\n",
       "<table border=\"1\" class=\"dataframe\">\n",
       "  <thead>\n",
       "    <tr style=\"text-align: right;\">\n",
       "      <th></th>\n",
       "      <th>Timestamp</th>\n",
       "      <th>name</th>\n",
       "      <th>email</th>\n",
       "      <th>blank</th>\n",
       "      <th>yes</th>\n",
       "      <th>lang</th>\n",
       "      <th>user</th>\n",
       "      <th>wiki</th>\n",
       "    </tr>\n",
       "  </thead>\n",
       "  <tbody>\n",
       "    <tr>\n",
       "      <th>0</th>\n",
       "      <td> 02/06/2015 06:15:40</td>\n",
       "      <td>    Gilles</td>\n",
       "      <td>    gilles@wikimedia.org</td>\n",
       "      <td>NaN</td>\n",
       "      <td> Yes.</td>\n",
       "      <td>  French</td>\n",
       "      <td>        Kouiskas</td>\n",
       "      <td> frwiki</td>\n",
       "    </tr>\n",
       "    <tr>\n",
       "      <th>1</th>\n",
       "      <td> 02/06/2015 07:13:42</td>\n",
       "      <td>  Stephane</td>\n",
       "      <td>   sbisson@wikimedia.org</td>\n",
       "      <td>NaN</td>\n",
       "      <td> Yes.</td>\n",
       "      <td>  French</td>\n",
       "      <td> stephanecbisson</td>\n",
       "      <td> frwiki</td>\n",
       "    </tr>\n",
       "    <tr>\n",
       "      <th>2</th>\n",
       "      <td> 02/06/2015 07:45:19</td>\n",
       "      <td>    Marcel</td>\n",
       "      <td>    mforns@wikimedia.org</td>\n",
       "      <td>NaN</td>\n",
       "      <td> Yes.</td>\n",
       "      <td> Spanish</td>\n",
       "      <td> Marcelruizforns</td>\n",
       "      <td> eswiki</td>\n",
       "    </tr>\n",
       "    <tr>\n",
       "      <th>3</th>\n",
       "      <td> 02/06/2015 08:12:52</td>\n",
       "      <td>    Joseph</td>\n",
       "      <td>      joal@wikimedia.org</td>\n",
       "      <td>NaN</td>\n",
       "      <td> Yes.</td>\n",
       "      <td>  French</td>\n",
       "      <td>            joal</td>\n",
       "      <td> frwiki</td>\n",
       "    </tr>\n",
       "    <tr>\n",
       "      <th>4</th>\n",
       "      <td> 02/06/2015 08:57:25</td>\n",
       "      <td>      Anne</td>\n",
       "      <td>    agomez@wikimedia.org</td>\n",
       "      <td>NaN</td>\n",
       "      <td> Yes.</td>\n",
       "      <td> Spanish</td>\n",
       "      <td>             NaN</td>\n",
       "      <td> eswiki</td>\n",
       "    </tr>\n",
       "    <tr>\n",
       "      <th>5</th>\n",
       "      <td> 02/06/2015 10:05:29</td>\n",
       "      <td> Guillaume</td>\n",
       "      <td> gp@guillaumepaumier.com</td>\n",
       "      <td>NaN</td>\n",
       "      <td> Yes.</td>\n",
       "      <td>  French</td>\n",
       "      <td>         Guillom</td>\n",
       "      <td> frwiki</td>\n",
       "    </tr>\n",
       "    <tr>\n",
       "      <th>6</th>\n",
       "      <td> 02/06/2015 11:48:56</td>\n",
       "      <td>   Sylvia </td>\n",
       "      <td>  sventura@wikimedia.org</td>\n",
       "      <td>NaN</td>\n",
       "      <td> Yes.</td>\n",
       "      <td>  French</td>\n",
       "      <td>       Slventura</td>\n",
       "      <td> frwiki</td>\n",
       "    </tr>\n",
       "    <tr>\n",
       "      <th>7</th>\n",
       "      <td> 02/06/2015 17:22:31</td>\n",
       "      <td>    Benoît</td>\n",
       "      <td>  bevellin@wikimedia.org</td>\n",
       "      <td>NaN</td>\n",
       "      <td> Yes.</td>\n",
       "      <td>  French</td>\n",
       "      <td>          Trizek</td>\n",
       "      <td> frwiki</td>\n",
       "    </tr>\n",
       "    <tr>\n",
       "      <th>8</th>\n",
       "      <td> 03/06/2015 01:24:50</td>\n",
       "      <td>      Quim</td>\n",
       "      <td>      qgil@wikimedia.org</td>\n",
       "      <td>NaN</td>\n",
       "      <td> Yes.</td>\n",
       "      <td> Spanish</td>\n",
       "      <td>         QuimGil</td>\n",
       "      <td> eswiki</td>\n",
       "    </tr>\n",
       "    <tr>\n",
       "      <th>9</th>\n",
       "      <td> 03/06/2015 11:28:10</td>\n",
       "      <td>     Jorge</td>\n",
       "      <td>   jvargas@wikimedia.org</td>\n",
       "      <td>NaN</td>\n",
       "      <td> Yes.</td>\n",
       "      <td> Spanish</td>\n",
       "      <td>          Javp87</td>\n",
       "      <td> eswiki</td>\n",
       "    </tr>\n",
       "  </tbody>\n",
       "</table>\n",
       "</div>"
      ],
      "text/plain": [
       "             Timestamp       name                    email  blank   yes  \\\n",
       "0  02/06/2015 06:15:40     Gilles     gilles@wikimedia.org    NaN  Yes.   \n",
       "1  02/06/2015 07:13:42   Stephane    sbisson@wikimedia.org    NaN  Yes.   \n",
       "2  02/06/2015 07:45:19     Marcel     mforns@wikimedia.org    NaN  Yes.   \n",
       "3  02/06/2015 08:12:52     Joseph       joal@wikimedia.org    NaN  Yes.   \n",
       "4  02/06/2015 08:57:25       Anne     agomez@wikimedia.org    NaN  Yes.   \n",
       "5  02/06/2015 10:05:29  Guillaume  gp@guillaumepaumier.com    NaN  Yes.   \n",
       "6  02/06/2015 11:48:56    Sylvia    sventura@wikimedia.org    NaN  Yes.   \n",
       "7  02/06/2015 17:22:31     Benoît   bevellin@wikimedia.org    NaN  Yes.   \n",
       "8  03/06/2015 01:24:50       Quim       qgil@wikimedia.org    NaN  Yes.   \n",
       "9  03/06/2015 11:28:10      Jorge    jvargas@wikimedia.org    NaN  Yes.   \n",
       "\n",
       "      lang             user    wiki  \n",
       "0   French         Kouiskas  frwiki  \n",
       "1   French  stephanecbisson  frwiki  \n",
       "2  Spanish  Marcelruizforns  eswiki  \n",
       "3   French             joal  frwiki  \n",
       "4  Spanish              NaN  eswiki  \n",
       "5   French          Guillom  frwiki  \n",
       "6   French        Slventura  frwiki  \n",
       "7   French           Trizek  frwiki  \n",
       "8  Spanish          QuimGil  eswiki  \n",
       "9  Spanish           Javp87  eswiki  "
      ]
     },
     "execution_count": 2,
     "metadata": {},
     "output_type": "execute_result"
    }
   ],
   "source": [
    "staff"
   ]
  },
  {
   "cell_type": "code",
   "execution_count": 3,
   "metadata": {
    "collapsed": false
   },
   "outputs": [],
   "source": [
    "staff_fr = staff[staff['wiki'] == 'frwiki']\n",
    "staff_es = staff[staff['wiki'] == 'eswiki']"
   ]
  },
  {
   "cell_type": "code",
   "execution_count": 5,
   "metadata": {
    "collapsed": false
   },
   "outputs": [],
   "source": [
    "from ConfigParser import SafeConfigParser\n",
    "import os,sys,inspect\n",
    "currentdir = os.path.dirname(os.path.abspath(inspect.getfile(inspect.currentframe())))\n",
    "parentdir = os.path.dirname(currentdir)\n",
    "sys.path.insert(0,parentdir) \n",
    "from util import get_parser\n",
    "import json\n",
    "\n",
    "config = '/home/ellery/wikimedia/missing_articles/missing_articles.ini'\n",
    "cp = SafeConfigParser()\n",
    "cp.read(config)\n",
    "min_date = '20100600000000'\n",
    "min_bytes = -1 #\n",
    "\n",
    "\n",
    "\n",
    "def to_str(t):\n",
    "    uid, contributions = t\n",
    "    contributions = list(contributions)\n",
    "    uname = contributions[0]['user']\n",
    "    contributions = [{k: d[k] for k in ('language_code', 'id', 'page_title', 'num_edits', 'timestamp', 'bytes_added')} for d in contributions]\n",
    "    contributions.sort(key = lambda x: x['timestamp'])\n",
    "    if contributions[-1]['timestamp'] < min_date:\n",
    "        return None\n",
    "    else: \n",
    "        obj = {'uid': uid, 'uname': uname, 'contributions': contributions}\n",
    "        return (uname, json.dumps(obj))\n",
    "\n",
    "def get_contributions(cp, langs, user_set):\n",
    "    contributions_file = os.path.join(cp.get('general', 'contributions_dir'), langs[0])\n",
    "    contributions = sc.textFile(contributions_file)\n",
    "    for lang in langs[1:]:\n",
    "        contributions_file = os.path.join(cp.get('general', 'contributions_dir'), lang)\n",
    "        contributions = contributions.union(sc.textFile(contributions_file))\n",
    "    names = [\"language_code\", \"user_id\", \"user\", \"id\",\"page_title\",\"num_edits\",\"timestamp\", \"bytes_added\"]\n",
    "\n",
    "    contributions = contributions.map(get_parser(names))\\\n",
    "    .filter(lambda x: len(x) == 8)\\\n",
    "    .filter(lambda x: x['user'] in user_set)\\\n",
    "    .filter(lambda x: float(x['bytes_added']) > min_bytes)\\\n",
    "    .map(lambda x: (x['user'], x)).groupByKey()\\\n",
    "    .map(to_str)\\\n",
    "    .filter(lambda x: x is not None)\\\n",
    "    .collect()\n",
    "    contributions = pd.DataFrame(contributions)\n",
    "    contributions.columns =['user', 'history']\n",
    "    return contributions\n",
    "\n",
    "contributions_fr = get_contributions(cp, ['fr'], set(staff_fr['user']))"
   ]
  },
  {
   "cell_type": "code",
   "execution_count": 6,
   "metadata": {
    "collapsed": true
   },
   "outputs": [],
   "source": [
    "contributions_es = get_contributions(cp, ['es'], set(staff_es['user']))"
   ]
  },
  {
   "cell_type": "code",
   "execution_count": 7,
   "metadata": {
    "collapsed": false
   },
   "outputs": [],
   "source": [
    "d_es = contributions_es.merge(staff_es[['user', 'email']], on = 'user')"
   ]
  },
  {
   "cell_type": "code",
   "execution_count": 8,
   "metadata": {
    "collapsed": false
   },
   "outputs": [],
   "source": [
    "d_fr = contributions_fr.merge(staff_fr[['user', 'email']], on = 'user')"
   ]
  },
  {
   "cell_type": "code",
   "execution_count": 9,
   "metadata": {
    "collapsed": false
   },
   "outputs": [],
   "source": [
    "d_es.to_csv('/home/ellery/en-es/staff.tsv', encoding = 'utf8', sep = '\\t')"
   ]
  },
  {
   "cell_type": "code",
   "execution_count": 10,
   "metadata": {
    "collapsed": true
   },
   "outputs": [],
   "source": [
    "d_fr.to_csv('/home/ellery/en-fr/staff.tsv', encoding = 'utf8', sep = '\\t')"
   ]
  },
  {
   "cell_type": "code",
   "execution_count": 14,
   "metadata": {
    "collapsed": false,
    "scrolled": true
   },
   "outputs": [
    {
     "name": "stdout",
     "output_type": "stream",
     "text": [
      "'{\"uname\": \"Kouiskas\", \"contributions\": [{\"page_title\": \"Bitcoin\", \"bytes_added\": \"0\", \"language_code\": \"fr\", \"num_edits\": \"1\", \"timestamp\": \"20131124093856\", \"id\": \"Q131723\"}, {\"page_title\": \"\\\\u00c9nur\\\\u00e9sie_nocturne\", \"bytes_added\": \"0\", \"language_code\": \"fr\", \"num_edits\": \"1\", \"timestamp\": \"20131129130521\", \"id\": \"Q318005\"}], \"uid\": \"Kouiskas\"}'\n"
     ]
    }
   ],
   "source": [
    "from pprint import pprint \n",
    "d_fr.index = d_fr['user']\n",
    "pprint(d_fr.loc['Kouiskas']['history'])"
   ]
  },
  {
   "cell_type": "code",
   "execution_count": 13,
   "metadata": {
    "collapsed": false
   },
   "outputs": [
    {
     "data": {
      "text/html": [
       "<div style=\"max-height:1000px;max-width:1500px;overflow:auto;\">\n",
       "<table border=\"1\" class=\"dataframe\">\n",
       "  <thead>\n",
       "    <tr style=\"text-align: right;\">\n",
       "      <th></th>\n",
       "      <th>user</th>\n",
       "      <th>history</th>\n",
       "      <th>email</th>\n",
       "    </tr>\n",
       "    <tr>\n",
       "      <th>user</th>\n",
       "      <th></th>\n",
       "      <th></th>\n",
       "      <th></th>\n",
       "    </tr>\n",
       "  </thead>\n",
       "  <tbody>\n",
       "    <tr>\n",
       "      <th>Slventura</th>\n",
       "      <td> Slventura</td>\n",
       "      <td> {\"uname\": \"Slventura\", \"contributions\": [{\"pag...</td>\n",
       "      <td>  sventura@wikimedia.org</td>\n",
       "    </tr>\n",
       "    <tr>\n",
       "      <th>Kouiskas</th>\n",
       "      <td>  Kouiskas</td>\n",
       "      <td> {\"uname\": \"Kouiskas\", \"contributions\": [{\"page...</td>\n",
       "      <td>    gilles@wikimedia.org</td>\n",
       "    </tr>\n",
       "    <tr>\n",
       "      <th>Guillom</th>\n",
       "      <td>   Guillom</td>\n",
       "      <td> {\"uname\": \"Guillom\", \"contributions\": [{\"page_...</td>\n",
       "      <td> gp@guillaumepaumier.com</td>\n",
       "    </tr>\n",
       "    <tr>\n",
       "      <th>Trizek</th>\n",
       "      <td>    Trizek</td>\n",
       "      <td> {\"uname\": \"Trizek\", \"contributions\": [{\"page_t...</td>\n",
       "      <td>  bevellin@wikimedia.org</td>\n",
       "    </tr>\n",
       "  </tbody>\n",
       "</table>\n",
       "</div>"
      ],
      "text/plain": [
       "                user                                            history  \\\n",
       "user                                                                      \n",
       "Slventura  Slventura  {\"uname\": \"Slventura\", \"contributions\": [{\"pag...   \n",
       "Kouiskas    Kouiskas  {\"uname\": \"Kouiskas\", \"contributions\": [{\"page...   \n",
       "Guillom      Guillom  {\"uname\": \"Guillom\", \"contributions\": [{\"page_...   \n",
       "Trizek        Trizek  {\"uname\": \"Trizek\", \"contributions\": [{\"page_t...   \n",
       "\n",
       "                             email  \n",
       "user                                \n",
       "Slventura   sventura@wikimedia.org  \n",
       "Kouiskas      gilles@wikimedia.org  \n",
       "Guillom    gp@guillaumepaumier.com  \n",
       "Trizek      bevellin@wikimedia.org  "
      ]
     },
     "execution_count": 13,
     "metadata": {},
     "output_type": "execute_result"
    }
   ],
   "source": [
    "d_fr"
   ]
  },
  {
   "cell_type": "code",
   "execution_count": 15,
   "metadata": {
    "collapsed": false
   },
   "outputs": [
    {
     "data": {
      "text/html": [
       "<div style=\"max-height:1000px;max-width:1500px;overflow:auto;\">\n",
       "<table border=\"1\" class=\"dataframe\">\n",
       "  <thead>\n",
       "    <tr style=\"text-align: right;\">\n",
       "      <th></th>\n",
       "      <th>user</th>\n",
       "      <th>history</th>\n",
       "      <th>email</th>\n",
       "    </tr>\n",
       "  </thead>\n",
       "  <tbody>\n",
       "    <tr>\n",
       "      <th>0</th>\n",
       "      <td> QuimGil</td>\n",
       "      <td> {\"uname\": \"QuimGil\", \"contributions\": [{\"page_...</td>\n",
       "      <td>    qgil@wikimedia.org</td>\n",
       "    </tr>\n",
       "    <tr>\n",
       "      <th>1</th>\n",
       "      <td>  Javp87</td>\n",
       "      <td> {\"uname\": \"Javp87\", \"contributions\": [{\"page_t...</td>\n",
       "      <td> jvargas@wikimedia.org</td>\n",
       "    </tr>\n",
       "  </tbody>\n",
       "</table>\n",
       "</div>"
      ],
      "text/plain": [
       "      user                                            history  \\\n",
       "0  QuimGil  {\"uname\": \"QuimGil\", \"contributions\": [{\"page_...   \n",
       "1   Javp87  {\"uname\": \"Javp87\", \"contributions\": [{\"page_t...   \n",
       "\n",
       "                   email  \n",
       "0     qgil@wikimedia.org  \n",
       "1  jvargas@wikimedia.org  "
      ]
     },
     "execution_count": 15,
     "metadata": {},
     "output_type": "execute_result"
    }
   ],
   "source": [
    "d_es"
   ]
  },
  {
   "cell_type": "code",
   "execution_count": null,
   "metadata": {
    "collapsed": true
   },
   "outputs": [],
   "source": []
  }
 ],
 "metadata": {
  "kernelspec": {
   "display_name": "Python 2",
   "language": "python",
   "name": "python2"
  },
  "language_info": {
   "codemirror_mode": {
    "name": "ipython",
    "version": 2
   },
   "file_extension": ".py",
   "mimetype": "text/x-python",
   "name": "python",
   "nbconvert_exporter": "python",
   "pygments_lexer": "ipython2",
   "version": "2.7.10"
  }
 },
 "nbformat": 4,
 "nbformat_minor": 0
}
