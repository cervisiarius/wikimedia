{
 "cells": [
  {
   "cell_type": "markdown",
   "metadata": {},
   "source": [
    "## Estimating the Importance of Missing Articles\n",
    "\n",
    "Our goal is estimate the importance of the set of articles that exist in English but not in Spanish Wikipedia. As a measure of importance, I use the percentile of the "
   ]
  },
  {
   "cell_type": "markdown",
   "metadata": {},
   "source": [
    "#### Setup"
   ]
  },
  {
   "cell_type": "code",
   "execution_count": 2,
   "metadata": {
    "collapsed": false
   },
   "outputs": [
    {
     "name": "stdout",
     "output_type": "stream",
     "text": [
      "The autoreload extension is already loaded. To reload it, use:\n",
      "  %reload_ext autoreload\n"
     ]
    },
    {
     "data": {
      "text/plain": [
       "['/home/ellery/wikimedia/missing_articles/missing_articles.ini']"
      ]
     },
     "execution_count": 2,
     "metadata": {},
     "output_type": "execute_result"
    }
   ],
   "source": [
    "%load_ext autoreload\n",
    "%autoreload 2\n",
    "%matplotlib inline\n",
    "\n",
    "import matplotlib.pyplot as plt\n",
    "from ConfigParser import SafeConfigParser\n",
    "from operator import add\n",
    "from pyspark.mllib.recommendation import ALS, Rating\n",
    "import random \n",
    "from random import randint\n",
    "import itertools\n",
    "from math import sqrt\n",
    "import numpy as np\n",
    "from pprint import pprint\n",
    "import math\n",
    "from ConfigParser import SafeConfigParser\n",
    "import pandas as pd\n",
    "import os,sys,inspect\n",
    "currentdir = os.path.dirname(os.path.abspath(inspect.getfile(inspect.currentframe())))\n",
    "parentdir = os.path.dirname(currentdir)\n",
    "sys.path.insert(0,parentdir) \n",
    "from eval_util import *\n",
    "\n",
    "from sklearn import cross_validation, grid_search\n",
    "from sklearn.cross_validation import StratifiedKFold\n",
    "import multiprocessing\n",
    "from sklearn.linear_model import LinearRegression\n",
    "from scipy.sparse import coo_matrix, hstack\n",
    "import sklearn\n",
    "from scipy.stats import spearmanr\n",
    "from sklearn.metrics import r2_score, mean_squared_error, make_scorer\n",
    "from sklearn.linear_model import LinearRegression\n",
    "\n",
    "\n",
    "def get_parser(names):\n",
    "    def loadRecord(line):\n",
    "        cells = line.strip().split('\\t')\n",
    "        return dict(zip(names, cells))\n",
    "    return loadRecord\n",
    "\n",
    "\n",
    "def get_X(M, df, index_col, feature_cols):\n",
    "    if M is None:\n",
    "        l = []\n",
    "    else:\n",
    "        l = [M[df[index_col]], ]\n",
    "    for col in feature_cols:\n",
    "         l.append(coo_matrix(df[col].astype('float')).T)\n",
    "    return hstack(l).toarray()\n",
    "\n",
    "\n",
    "def spearman(x, y):\n",
    "    sr = spearmanr(x, y)[0]\n",
    "    print 'Spearman: %2.5f \\n' % sr\n",
    "    return sr\n",
    "\n",
    "def MSE(y_true,y_pred):\n",
    "    mse = mean_squared_error(y_true, y_pred)\n",
    "    print 'MSE: %2.5f' % mse\n",
    "    return mse\n",
    "\n",
    "def R2(y_true,y_pred):    \n",
    "     r2 = r2_score(y_true, y_pred)\n",
    "     print 'R2: %2.5f' % r2\n",
    "     return r2\n",
    "\n",
    "def multi_score(y_true,y_pred):    \n",
    "    MSE(y_true,y_pred) #set score here and not below if using MSE in GridCV\n",
    "    R2(y_true,y_pred)\n",
    "    score = spearman(y_true,y_pred)\n",
    "    return score\n",
    "\n",
    "def multi_scorer():\n",
    "    return make_scorer(multi_score, greater_is_better=True) # change for false if using MSE\n",
    "\n",
    "\n",
    "\n",
    "def cv (X, y, folds, alg, param_grid, scoring  = multi_scorer()):\n",
    "    \"\"\"\n",
    "    Determine the best model via cross validation. This should be run on training data.\n",
    "    \"\"\"\n",
    "\n",
    "    print \"\\n\\n\\nDoing Gridsearch\\n\"\n",
    "\n",
    "    kfold_cv = cross_validation.KFold(X.shape[0], n_folds=folds, shuffle=True)\n",
    "    model = grid_search.GridSearchCV(cv  = kfold_cv, estimator = alg, param_grid = param_grid, scoring = scoring) #n_jobs=multiprocessing.cpu_count()\n",
    "    model = model.fit(X,y)\n",
    "    # model trained on all data\n",
    "    y_pred = model.predict(X)\n",
    "    print \"Best Model Train MSE: %f\" % sklearn.metrics.mean_squared_error(y, y_pred)\n",
    "    print \"Best Model Train Spearman %f\" % spearman(y, y_pred)\n",
    "\n",
    "\n",
    "    print(\"\\nBest parameters set found:\")\n",
    "    best_parameters, score, _ = max(model.grid_scores_, key=lambda x: x[1])\n",
    "    print(best_parameters, score)\n",
    "    print \"\\n\"\n",
    "    print(\"Grid scores:\")\n",
    "    for params, mean_score, scores in model.grid_scores_:\n",
    "        print(\"%0.5f (+/-%0.05f) for %r\"\n",
    "              % (mean_score, scores.std() / 2, params))\n",
    "\n",
    "    return model\n",
    "\n",
    "config = '/home/ellery/wikimedia/missing_articles/missing_articles.ini'\n",
    "cp = SafeConfigParser()\n",
    "cp.read(config)"
   ]
  },
  {
   "cell_type": "code",
   "execution_count": 3,
   "metadata": {
    "collapsed": true
   },
   "outputs": [],
   "source": [
    "s = 'en'\n",
    "t = 'es'\n",
    "exp_dir = '%s-%s' % (s, t)"
   ]
  },
  {
   "cell_type": "markdown",
   "metadata": {
    "collapsed": false
   },
   "source": [
    "#### Load pagview data"
   ]
  },
  {
   "cell_type": "code",
   "execution_count": 4,
   "metadata": {
    "collapsed": false
   },
   "outputs": [],
   "source": [
    "def get_ranking_score(t):\n",
    "    lang_id, items = t\n",
    "    items = list(items)\n",
    "    item_ranks = np.argsort(np.array([x['pageview_count'] for x in items]))\n",
    "    n = float(len(items))\n",
    "    for r, i in enumerate(item_ranks):\n",
    "        items[i]['rank'] = r/n\n",
    "    return items\n",
    "\n",
    "def make_counts_float(x):\n",
    "    x['pageview_count']  = float(x['pageview_count'])  \n",
    "    return x                                 \n",
    "                                      \n",
    "names = [ 'id', 'lang', 'title', 'pageview_count']\n",
    "\n",
    "pageviews = sc.textFile(cp.get('general', 'pageviews'))\\\n",
    ".map(get_parser(names))\\\n",
    ".filter(lambda x: len(x) == 4)\\\n",
    ".filter(lambda x: ':' not in x['title'])\\\n",
    ".filter(lambda x: x['lang'] == s or x['lang'] == t)\\\n",
    ".map(make_counts_float)\\\n",
    ".map(lambda x: (x['lang'], x))\\\n",
    ".groupByKey()\\\n",
    ".flatMap(get_ranking_score)\\\n",
    ".collect()\n",
    "\n",
    "s_or_t_views = pd.DataFrame(pageviews, columns = [ 'id', 'lang', 'title', 'pageview_count', 'rank'])\n",
    "s_or_t_views.index = s_or_t_views.id\n",
    "del s_or_t_views['id']\n"
   ]
  },
  {
   "cell_type": "markdown",
   "metadata": {},
   "source": [
    "#### Load Document Vectors"
   ]
  },
  {
   "cell_type": "code",
   "execution_count": 5,
   "metadata": {
    "collapsed": false
   },
   "outputs": [],
   "source": [
    "# Load doc vectors\n",
    "lda_dir = 'en_lda'\n",
    "base_dir = os.path.join(cp.get('general', 'local_data_dir'), lda_dir)\n",
    "dict_file = os.path.join(base_dir, cp.get('LDA', 'article2index'))\n",
    "id2index, _ , _ = get_universal_maps(dict_file)\n",
    "mm_file = os.path.join(base_dir, cp.get('LDA', 'doc2topic'))\n",
    "f = open(mm_file)\n",
    "M = mmread(f).tocsr()"
   ]
  },
  {
   "cell_type": "markdown",
   "metadata": {},
   "source": [
    "#### Merge Pageviews and Document Vectors"
   ]
  },
  {
   "cell_type": "code",
   "execution_count": 6,
   "metadata": {
    "collapsed": false
   },
   "outputs": [
    {
     "name": "stdout",
     "output_type": "stream",
     "text": [
      "pre merge (5910788, 4)\n",
      "post merge (5398917, 6)\n"
     ]
    }
   ],
   "source": [
    "# Merge \n",
    "print 'pre merge', s_or_t_views.shape\n",
    "id2index_df = pd.DataFrame(id2index.items(), columns = ['id', 'indx'])\n",
    "id2index_df.index = id2index_df['id']\n",
    "del id2index_df['id']\n",
    "s_or_t_views = s_or_t_views.merge(id2index_df, left_index=True, right_index=True)\n",
    "s_or_t_views['log_pageview_count'] = np.log(s_or_t_views['pageview_count'])\n",
    "print 'post merge', s_or_t_views.shape"
   ]
  },
  {
   "cell_type": "markdown",
   "metadata": {
    "collapsed": false
   },
   "source": [
    "#### Get Training Data\n",
    "Training examples come from items that exist in en and es wiki. \n",
    "\n",
    "Training features include\n",
    "- the LDA vector for the english article\n",
    "- the percentile of the english article\n",
    "- the log of the pageviews of the english article\n",
    "\n",
    "The response is the percentile of the article in spanish"
   ]
  },
  {
   "cell_type": "code",
   "execution_count": 7,
   "metadata": {
    "collapsed": false
   },
   "outputs": [],
   "source": [
    "# Get Training Data\n",
    "t_views = s_or_t_views[s_or_t_views['lang'] == t]\n",
    "del t_views['lang']\n",
    "del t_views['indx']\n",
    "t_views.columns = ['title_t', 'pageview_count_t', 'rank_t', 'log_pageview_count_t']\n",
    "s_views = s_or_t_views[s_or_t_views['lang'] == s]\n",
    "del s_views['lang']\n",
    "s_views.columns = ['title_s', 'pageview_count_s', 'rank_s', 'indx', 'log_pageview_count_s']\n",
    "s_and_t_views = t_views.merge(s_views, left_index=True, right_index=True, copy=True)\n",
    "s_and_t_views['id'] = s_and_t_views.index"
   ]
  },
  {
   "cell_type": "markdown",
   "metadata": {
    "collapsed": true
   },
   "source": [
    "### Getting Dump Features"
   ]
  },
  {
   "cell_type": "code",
   "execution_count": 8,
   "metadata": {
    "collapsed": false
   },
   "outputs": [],
   "source": [
    "feature_file = \"/home/ellery/en-en/dump_features.tsv\"\n",
    "dump_df = pd.read_csv(feature_file, encoding = 'utf8', sep = '\\t')\n",
    "del dump_df['Unnamed: 0']\n",
    "dump_df['title'] = dump_df['title'].apply(lambda x: unicode(x).replace(u' ', u'_'))\n",
    "dump_df['log_length'] = dump_df['length'].apply(np.log)\n",
    "s_and_t_views = s_and_t_views.merge(dump_df, how = 'inner', left_on = 'title_s', right_on = 'title' )\n",
    "del s_and_t_views['title']"
   ]
  },
  {
   "cell_type": "markdown",
   "metadata": {},
   "source": [
    "## Subsample Data for Model Building"
   ]
  },
  {
   "cell_type": "code",
   "execution_count": 9,
   "metadata": {
    "collapsed": false
   },
   "outputs": [],
   "source": [
    "# code for sub-sampling training data\n",
    "fraction = 0.5\n",
    "rows = random.sample(s_and_t_views.index, int(fraction*s_and_t_views.shape[0]))\n",
    "s_and_t_views_sample = s_and_t_views.ix[rows]"
   ]
  },
  {
   "cell_type": "markdown",
   "metadata": {},
   "source": [
    "#### Baselines\n",
    "What if we simply use the percentile of the article in english as our prediction?"
   ]
  },
  {
   "cell_type": "code",
   "execution_count": 10,
   "metadata": {
    "collapsed": false
   },
   "outputs": [
    {
     "name": "stdout",
     "output_type": "stream",
     "text": [
      "Baseline MSE 0.0764082201391\n",
      "Baseline Spearman (0.69196575248345271, 0.0)\n"
     ]
    }
   ],
   "source": [
    "print \"Baseline MSE\", sklearn.metrics.mean_squared_error(s_and_t_views_sample['rank_s'], s_and_t_views_sample['rank_t'])\n",
    "print \"Baseline Spearman\", spearmanr(s_and_t_views_sample['rank_s'], s_and_t_views_sample['rank_t'])\n"
   ]
  },
  {
   "cell_type": "markdown",
   "metadata": {},
   "source": [
    "What if we just use the LDA vectors?"
   ]
  },
  {
   "cell_type": "code",
   "execution_count": 48,
   "metadata": {
    "collapsed": false
   },
   "outputs": [
    {
     "name": "stdout",
     "output_type": "stream",
     "text": [
      "\n",
      "\n",
      "\n",
      "Doing Gridsearch\n",
      "\n",
      "MSE: 0.04652\n",
      "R2: 0.42702\n",
      "Spearman: 0.65090 \n",
      "\n",
      "MSE: 0.04663\n",
      "R2: 0.42589\n",
      "Spearman: 0.65003 \n",
      "\n",
      "MSE: 0.04655\n",
      "R2: 0.42739\n",
      "Spearman: 0.65144 \n",
      "\n",
      "MSE: 0.04700\n",
      "R2: 0.42317\n",
      "Spearman: 0.64736 \n",
      "\n",
      "MSE: 0.04659\n",
      "R2: 0.42694\n",
      "Spearman: 0.65116 \n",
      "\n",
      "Best Model Train MSE: 0.046614\n",
      "Spearman: 0.65061 \n",
      "\n",
      "Best Model Train Spearman 0.650612\n",
      "\n",
      "Best parameters set found:\n",
      "({}, 0.65017874695980782)\n",
      "\n",
      "\n",
      "Grid scores:\n",
      "0.65018 (+/-0.00074) for {}\n"
     ]
    }
   ],
   "source": [
    "X = get_X(M, s_and_t_views_sample, 'indx', [])\n",
    "y = s_and_t_views_sample['rank_t'].astype('float').values\n",
    "model = cv (X, y, 5, LinearRegression(), {})"
   ]
  },
  {
   "cell_type": "markdown",
   "metadata": {},
   "source": [
    "#### Fitting the Model - Predicting Ranks\n",
    "I experimented with more sophisticated methods (Random Forest Regression, Lasso), but it looks like linear regression can't be beat. The model gets an cv'ed MSE of 0.021, which means that on average, it is 2 percentile points off. This is an improvment of 5.5 percentile points over the baseline. The cv'ed spearman correlation is also drastically higher at 0.86."
   ]
  },
  {
   "cell_type": "code",
   "execution_count": 11,
   "metadata": {
    "collapsed": true
   },
   "outputs": [],
   "source": [
    "full_feature_set = ['rank_s', 'log_pageview_count_s', 'pageview_count_s', 'length', 'log_length', 'is_stub']"
   ]
  },
  {
   "cell_type": "code",
   "execution_count": 12,
   "metadata": {
    "collapsed": false
   },
   "outputs": [
    {
     "name": "stdout",
     "output_type": "stream",
     "text": [
      "\n",
      "\n",
      "\n",
      "Doing Gridsearch\n",
      "\n",
      "MSE: 0.02233\n",
      "R2: 0.72042\n",
      "Spearman: 0.85434 \n",
      "\n",
      "MSE: 0.02231\n",
      "R2: 0.71858\n",
      "Spearman: 0.85315 \n",
      "\n",
      "MSE: 0.02237\n",
      "R2: 0.71824\n",
      "Spearman: 0.85350 \n",
      "\n",
      "MSE: 0.02234\n",
      "R2: 0.71762\n",
      "Spearman: 0.85333 \n",
      "\n",
      "MSE: 0.02235\n",
      "R2: 0.71889\n",
      "Spearman: 0.85335 \n",
      "\n",
      "Best Model Train MSE: 0.022260\n",
      "Spearman: 0.85398 \n",
      "\n",
      "Best Model Train Spearman 0.853981\n",
      "\n",
      "Best parameters set found:\n",
      "({}, 0.85353358658251277)\n",
      "\n",
      "\n",
      "Grid scores:\n",
      "0.85353 (+/-0.00021) for {}\n"
     ]
    }
   ],
   "source": [
    "X = get_X(M, s_and_t_views_sample, 'indx', full_feature_set)\n",
    "y = s_and_t_views_sample['rank_t'].astype('float').values\n",
    "\n",
    "alg = LinearRegression()\n",
    "param_grid = {}\n",
    "model = cv (X, y, 5, alg, param_grid)"
   ]
  },
  {
   "cell_type": "markdown",
   "metadata": {},
   "source": [
    "####Fitting Log Views"
   ]
  },
  {
   "cell_type": "code",
   "execution_count": 44,
   "metadata": {
    "collapsed": false
   },
   "outputs": [
    {
     "name": "stdout",
     "output_type": "stream",
     "text": [
      "\n",
      "\n",
      "\n",
      "Doing Gridsearch\n",
      "\n",
      "MSE: 0.64126\n",
      "R2: 0.70089\n",
      "Spearman: 0.82664 \n",
      "\n",
      "MSE: 0.62583\n",
      "R2: 0.70416\n",
      "Spearman: 0.82858 \n",
      "\n",
      "MSE: 0.68395\n",
      "R2: 0.68627\n",
      "Spearman: 0.83474 \n",
      "\n",
      "MSE: 0.63626\n",
      "R2: 0.70868\n",
      "Spearman: 0.83122 \n",
      "\n",
      "MSE: 0.63283\n",
      "R2: 0.70446\n",
      "Spearman: 0.82971 \n",
      "\n",
      "Best Model Train MSE: 0.626099\n",
      "Spearman: 0.83190 \n",
      "\n",
      "Best Model Train Spearman 0.831902\n",
      "\n",
      "Best parameters set found:\n",
      "({}, 0.83017880492896978)\n",
      "\n",
      "\n",
      "Grid scores:\n",
      "0.83018 (+/-0.00136) for {}\n"
     ]
    }
   ],
   "source": [
    "X = get_X(M, s_and_t_views_sample, 'indx', full_feature_set)\n",
    "y = s_and_t_views_sample['log_pageview_count_t'].astype('float').values\n",
    "model = cv (X, y, 5, LinearRegression(), {})"
   ]
  },
  {
   "cell_type": "markdown",
   "metadata": {},
   "source": [
    "#### Fitting Views"
   ]
  },
  {
   "cell_type": "code",
   "execution_count": 15,
   "metadata": {
    "collapsed": false
   },
   "outputs": [
    {
     "name": "stdout",
     "output_type": "stream",
     "text": [
      "\n",
      "\n",
      "\n",
      "Doing Gridsearch\n",
      "\n",
      "MSE: 3379262746.43368\n",
      "R2: -3.29225\n",
      "Spearman: 0.64103 \n",
      "\n",
      "MSE: 567874405.07260\n",
      "R2: 0.25481\n",
      "Spearman: 0.56079 \n",
      "\n",
      "MSE: 798202738.05062\n",
      "R2: 0.25721\n",
      "Spearman: 0.57377 \n",
      "\n",
      "MSE: 620646704.47069\n",
      "R2: 0.28687\n",
      "Spearman: 0.56645 \n",
      "\n",
      "MSE: 447444857.33070\n",
      "R2: 0.29517\n",
      "Spearman: 0.55834 \n",
      "\n",
      "Best Model Train MSE: 607848716.542980\n",
      "Spearman: 0.56986 \n",
      "\n",
      "Best Model Train Spearman 0.569860\n",
      "\n",
      "Best parameters set found:\n",
      "({}, 0.58007614646770533)\n",
      "\n",
      "\n",
      "Grid scores:\n",
      "0.58008 (+/-0.01547) for {}\n"
     ]
    }
   ],
   "source": [
    "X = get_X(M, s_and_t_views_sample, 'indx', full_feature_set)\n",
    "y = s_and_t_views_sample['pageview_count_t'].astype('float').values\n",
    "model = cv (X, y, 5, LinearRegression(), {})"
   ]
  },
  {
   "cell_type": "markdown",
   "metadata": {},
   "source": [
    "#### Loading the missing articles"
   ]
  },
  {
   "cell_type": "code",
   "execution_count": 13,
   "metadata": {
    "collapsed": false
   },
   "outputs": [],
   "source": [
    "missing_articles_file = os.path.join(cp.get('general', 'local_data_dir'), exp_dir, cp.get('missing', 'missing_items'))\n",
    "d_missing = pd.read_csv(missing_articles_file, sep='\\t', names = ['id', 'title_s', 'pageview_count_s'], encoding = 'utf8')\n",
    "d_missing.index = d_missing['id']\n",
    "d_missing['log_pageview_count_s'] = np.log(d_missing['pageview_count_s'])\n",
    "d_missing = d_missing.merge(s_views[['indx', 'rank_s']],left_index=True, right_index=True)"
   ]
  },
  {
   "cell_type": "code",
   "execution_count": 14,
   "metadata": {
    "collapsed": false
   },
   "outputs": [
    {
     "data": {
      "text/plain": [
       "(3868755, 6)"
      ]
     },
     "execution_count": 14,
     "metadata": {},
     "output_type": "execute_result"
    }
   ],
   "source": [
    "d_missing['title_s'] = d_missing['title_s'].apply(lambda x: unicode(x).replace(u' ', u'_'))\n",
    "d_missing.shape"
   ]
  },
  {
   "cell_type": "code",
   "execution_count": 15,
   "metadata": {
    "collapsed": false
   },
   "outputs": [],
   "source": [
    "d_missing = d_missing.merge(dump_df, how= 'inner', left_on = 'title_s', right_on = 'title')\n",
    "del d_missing['title']\n",
    "d_missing.index = d_missing['id']"
   ]
  },
  {
   "cell_type": "code",
   "execution_count": 16,
   "metadata": {
    "collapsed": false
   },
   "outputs": [
    {
     "data": {
      "text/plain": [
       "(3868598, 10)"
      ]
     },
     "execution_count": 16,
     "metadata": {},
     "output_type": "execute_result"
    }
   ],
   "source": [
    "d_missing.shape"
   ]
  },
  {
   "cell_type": "code",
   "execution_count": 17,
   "metadata": {
    "collapsed": false
   },
   "outputs": [
    {
     "data": {
      "text/html": [
       "<div style=\"max-height:1000px;max-width:1500px;overflow:auto;\">\n",
       "<table border=\"1\" class=\"dataframe\">\n",
       "  <thead>\n",
       "    <tr style=\"text-align: right;\">\n",
       "      <th></th>\n",
       "      <th>id</th>\n",
       "      <th>title_s</th>\n",
       "      <th>pageview_count_s</th>\n",
       "      <th>log_pageview_count_s</th>\n",
       "      <th>indx</th>\n",
       "      <th>rank_s</th>\n",
       "      <th>length</th>\n",
       "      <th>is_dis</th>\n",
       "      <th>is_stub</th>\n",
       "      <th>log_length</th>\n",
       "    </tr>\n",
       "    <tr>\n",
       "      <th>id</th>\n",
       "      <th></th>\n",
       "      <th></th>\n",
       "      <th></th>\n",
       "      <th></th>\n",
       "      <th></th>\n",
       "      <th></th>\n",
       "      <th></th>\n",
       "      <th></th>\n",
       "      <th></th>\n",
       "      <th></th>\n",
       "    </tr>\n",
       "  </thead>\n",
       "  <tbody>\n",
       "    <tr>\n",
       "      <th>Q100000</th>\n",
       "      <td>  Q100000</td>\n",
       "      <td>         Cadier_en_Keer</td>\n",
       "      <td>   699</td>\n",
       "      <td> 6.549651</td>\n",
       "      <td> 3703458</td>\n",
       "      <td> 0.340215</td>\n",
       "      <td>  2327</td>\n",
       "      <td> False</td>\n",
       "      <td>  True</td>\n",
       "      <td>  7.752335</td>\n",
       "    </tr>\n",
       "    <tr>\n",
       "      <th>Q1000000</th>\n",
       "      <td> Q1000000</td>\n",
       "      <td>   Water_crisis_in_Iran</td>\n",
       "      <td>  1584</td>\n",
       "      <td> 7.367709</td>\n",
       "      <td>  612799</td>\n",
       "      <td> 0.692669</td>\n",
       "      <td>  9439</td>\n",
       "      <td> False</td>\n",
       "      <td> False</td>\n",
       "      <td>  9.152605</td>\n",
       "    </tr>\n",
       "    <tr>\n",
       "      <th>Q1000004</th>\n",
       "      <td> Q1000004</td>\n",
       "      <td> New_Hampshire_Route_16</td>\n",
       "      <td>  5379</td>\n",
       "      <td> 8.590258</td>\n",
       "      <td>  263308</td>\n",
       "      <td> 0.855872</td>\n",
       "      <td> 22777</td>\n",
       "      <td> False</td>\n",
       "      <td> False</td>\n",
       "      <td> 10.033507</td>\n",
       "    </tr>\n",
       "    <tr>\n",
       "      <th>Q1000005</th>\n",
       "      <td> Q1000005</td>\n",
       "      <td> Karel_Matěj_Čapek-Chod</td>\n",
       "      <td>  1273</td>\n",
       "      <td> 7.149132</td>\n",
       "      <td> 2211181</td>\n",
       "      <td> 0.588291</td>\n",
       "      <td>  2291</td>\n",
       "      <td> False</td>\n",
       "      <td>  True</td>\n",
       "      <td>  7.736744</td>\n",
       "    </tr>\n",
       "    <tr>\n",
       "      <th>Q1000013</th>\n",
       "      <td> Q1000013</td>\n",
       "      <td>           Jaguar_XK140</td>\n",
       "      <td> 16222</td>\n",
       "      <td> 9.694124</td>\n",
       "      <td> 4401886</td>\n",
       "      <td> 0.942489</td>\n",
       "      <td>  7607</td>\n",
       "      <td> False</td>\n",
       "      <td> False</td>\n",
       "      <td>  8.936824</td>\n",
       "    </tr>\n",
       "  </tbody>\n",
       "</table>\n",
       "</div>"
      ],
      "text/plain": [
       "                id                 title_s  pageview_count_s  \\\n",
       "id                                                             \n",
       "Q100000    Q100000          Cadier_en_Keer               699   \n",
       "Q1000000  Q1000000    Water_crisis_in_Iran              1584   \n",
       "Q1000004  Q1000004  New_Hampshire_Route_16              5379   \n",
       "Q1000005  Q1000005  Karel_Matěj_Čapek-Chod              1273   \n",
       "Q1000013  Q1000013            Jaguar_XK140             16222   \n",
       "\n",
       "          log_pageview_count_s     indx    rank_s  length is_dis is_stub  \\\n",
       "id                                                                         \n",
       "Q100000               6.549651  3703458  0.340215    2327  False    True   \n",
       "Q1000000              7.367709   612799  0.692669    9439  False   False   \n",
       "Q1000004              8.590258   263308  0.855872   22777  False   False   \n",
       "Q1000005              7.149132  2211181  0.588291    2291  False    True   \n",
       "Q1000013              9.694124  4401886  0.942489    7607  False   False   \n",
       "\n",
       "          log_length  \n",
       "id                    \n",
       "Q100000     7.752335  \n",
       "Q1000000    9.152605  \n",
       "Q1000004   10.033507  \n",
       "Q1000005    7.736744  \n",
       "Q1000013    8.936824  "
      ]
     },
     "execution_count": 17,
     "metadata": {},
     "output_type": "execute_result"
    }
   ],
   "source": [
    "d_missing.head()"
   ]
  },
  {
   "cell_type": "code",
   "execution_count": 18,
   "metadata": {
    "collapsed": false
   },
   "outputs": [
    {
     "data": {
      "text/plain": [
       "1723985"
      ]
     },
     "execution_count": 18,
     "metadata": {},
     "output_type": "execute_result"
    }
   ],
   "source": [
    "(d_missing['pageview_count_s'] > 1000).sum()\n"
   ]
  },
  {
   "cell_type": "code",
   "execution_count": 19,
   "metadata": {
    "collapsed": false
   },
   "outputs": [
    {
     "data": {
      "text/plain": [
       "(5486, 25)"
      ]
     },
     "execution_count": 19,
     "metadata": {},
     "output_type": "execute_result"
    }
   ],
   "source": [
    "# Sanity Check Did not train in missing articles\n",
    "d_missing.merge(s_and_t_views_sample,left_index=True, right_on='id').shape"
   ]
  },
  {
   "cell_type": "markdown",
   "metadata": {},
   "source": [
    "#### Apply our model to the mssing articles"
   ]
  },
  {
   "cell_type": "code",
   "execution_count": 20,
   "metadata": {
    "collapsed": false
   },
   "outputs": [],
   "source": [
    "X_missing = get_X(M, d_missing, 'indx', full_feature_set)\n",
    "rank_t = model.predict(X_missing)\n",
    "d_missing['rank_t'] = rank_t"
   ]
  },
  {
   "cell_type": "code",
   "execution_count": 21,
   "metadata": {
    "collapsed": false
   },
   "outputs": [
    {
     "data": {
      "text/html": [
       "<div style=\"max-height:1000px;max-width:1500px;overflow:auto;\">\n",
       "<table border=\"1\" class=\"dataframe\">\n",
       "  <thead>\n",
       "    <tr style=\"text-align: right;\">\n",
       "      <th></th>\n",
       "      <th>id</th>\n",
       "      <th>title_s</th>\n",
       "      <th>pageview_count_s</th>\n",
       "      <th>log_pageview_count_s</th>\n",
       "      <th>indx</th>\n",
       "      <th>rank_s</th>\n",
       "      <th>length</th>\n",
       "      <th>is_dis</th>\n",
       "      <th>is_stub</th>\n",
       "      <th>log_length</th>\n",
       "      <th>rank_t</th>\n",
       "    </tr>\n",
       "    <tr>\n",
       "      <th>id</th>\n",
       "      <th></th>\n",
       "      <th></th>\n",
       "      <th></th>\n",
       "      <th></th>\n",
       "      <th></th>\n",
       "      <th></th>\n",
       "      <th></th>\n",
       "      <th></th>\n",
       "      <th></th>\n",
       "      <th></th>\n",
       "      <th></th>\n",
       "    </tr>\n",
       "  </thead>\n",
       "  <tbody>\n",
       "    <tr>\n",
       "      <th>Q3490506</th>\n",
       "      <td>  Q3490506</td>\n",
       "      <td>   Former_FBI_Ten_Most_Wanted_Fugitives</td>\n",
       "      <td>  23295</td>\n",
       "      <td> 10.055994</td>\n",
       "      <td> 4371574</td>\n",
       "      <td> 0.957612</td>\n",
       "      <td>  1580</td>\n",
       "      <td> False</td>\n",
       "      <td> False</td>\n",
       "      <td>  7.365180</td>\n",
       "      <td> 1.468341</td>\n",
       "    </tr>\n",
       "    <tr>\n",
       "      <th>Q18702116</th>\n",
       "      <td> Q18702116</td>\n",
       "      <td>                  La_esquina_del_diablo</td>\n",
       "      <td>  14120</td>\n",
       "      <td>  9.555348</td>\n",
       "      <td> 4062932</td>\n",
       "      <td> 0.931640</td>\n",
       "      <td>  4036</td>\n",
       "      <td> False</td>\n",
       "      <td>  True</td>\n",
       "      <td>  8.303009</td>\n",
       "      <td> 1.392375</td>\n",
       "    </tr>\n",
       "    <tr>\n",
       "      <th>Q4788652</th>\n",
       "      <td>  Q4788652</td>\n",
       "      <td> Area_codes_in_Mexico_by_code_(400-499)</td>\n",
       "      <td>   7304</td>\n",
       "      <td>  8.896177</td>\n",
       "      <td> 2869722</td>\n",
       "      <td> 0.883391</td>\n",
       "      <td> 59386</td>\n",
       "      <td> False</td>\n",
       "      <td> False</td>\n",
       "      <td> 10.991814</td>\n",
       "      <td> 1.359949</td>\n",
       "    </tr>\n",
       "    <tr>\n",
       "      <th>Q17004397</th>\n",
       "      <td> Q17004397</td>\n",
       "      <td> Area_codes_in_Mexico_by_code_(700-799)</td>\n",
       "      <td>   5416</td>\n",
       "      <td>  8.597113</td>\n",
       "      <td> 1279379</td>\n",
       "      <td> 0.863004</td>\n",
       "      <td> 35496</td>\n",
       "      <td> False</td>\n",
       "      <td> False</td>\n",
       "      <td> 10.477175</td>\n",
       "      <td> 1.348232</td>\n",
       "    </tr>\n",
       "    <tr>\n",
       "      <th>Q16959919</th>\n",
       "      <td> Q16959919</td>\n",
       "      <td>                     Odd_Thomas_(novel)</td>\n",
       "      <td>  84721</td>\n",
       "      <td> 11.347119</td>\n",
       "      <td> 1321282</td>\n",
       "      <td> 0.987730</td>\n",
       "      <td> 20189</td>\n",
       "      <td> False</td>\n",
       "      <td> False</td>\n",
       "      <td>  9.912893</td>\n",
       "      <td> 1.342388</td>\n",
       "    </tr>\n",
       "    <tr>\n",
       "      <th>Q3257188</th>\n",
       "      <td>  Q3257188</td>\n",
       "      <td>                       Livraria_Cultura</td>\n",
       "      <td>   8650</td>\n",
       "      <td>  9.065315</td>\n",
       "      <td>  333388</td>\n",
       "      <td> 0.905505</td>\n",
       "      <td>   646</td>\n",
       "      <td> False</td>\n",
       "      <td>  True</td>\n",
       "      <td>  6.470800</td>\n",
       "      <td> 1.324503</td>\n",
       "    </tr>\n",
       "    <tr>\n",
       "      <th>Q18230618</th>\n",
       "      <td> Q18230618</td>\n",
       "      <td>                                 Señora</td>\n",
       "      <td>  10845</td>\n",
       "      <td>  9.291459</td>\n",
       "      <td> 4703986</td>\n",
       "      <td> 0.911737</td>\n",
       "      <td>   296</td>\n",
       "      <td> False</td>\n",
       "      <td> False</td>\n",
       "      <td>  5.690359</td>\n",
       "      <td> 1.319826</td>\n",
       "    </tr>\n",
       "    <tr>\n",
       "      <th>Q7573371</th>\n",
       "      <td>  Q7573371</td>\n",
       "      <td>           Spanish_football_top_scorers</td>\n",
       "      <td> 180735</td>\n",
       "      <td> 12.104787</td>\n",
       "      <td> 4510107</td>\n",
       "      <td> 0.994796</td>\n",
       "      <td> 21834</td>\n",
       "      <td> False</td>\n",
       "      <td> False</td>\n",
       "      <td>  9.991224</td>\n",
       "      <td> 1.319226</td>\n",
       "    </tr>\n",
       "    <tr>\n",
       "      <th>Q3840416</th>\n",
       "      <td>  Q3840416</td>\n",
       "      <td>                            Luis_Segura</td>\n",
       "      <td>   3472</td>\n",
       "      <td>  8.152486</td>\n",
       "      <td> 2009198</td>\n",
       "      <td> 0.800496</td>\n",
       "      <td>  5762</td>\n",
       "      <td> False</td>\n",
       "      <td> False</td>\n",
       "      <td>  8.659040</td>\n",
       "      <td> 1.307874</td>\n",
       "    </tr>\n",
       "    <tr>\n",
       "      <th>Q16964048</th>\n",
       "      <td> Q16964048</td>\n",
       "      <td>                         Os_Nossos_Dias</td>\n",
       "      <td>   2558</td>\n",
       "      <td>  7.846981</td>\n",
       "      <td> 2787771</td>\n",
       "      <td> 0.837436</td>\n",
       "      <td>  3411</td>\n",
       "      <td> False</td>\n",
       "      <td> False</td>\n",
       "      <td>  8.134761</td>\n",
       "      <td> 1.288150</td>\n",
       "    </tr>\n",
       "  </tbody>\n",
       "</table>\n",
       "</div>"
      ],
      "text/plain": [
       "                  id                                 title_s  \\\n",
       "id                                                             \n",
       "Q3490506    Q3490506    Former_FBI_Ten_Most_Wanted_Fugitives   \n",
       "Q18702116  Q18702116                   La_esquina_del_diablo   \n",
       "Q4788652    Q4788652  Area_codes_in_Mexico_by_code_(400-499)   \n",
       "Q17004397  Q17004397  Area_codes_in_Mexico_by_code_(700-799)   \n",
       "Q16959919  Q16959919                      Odd_Thomas_(novel)   \n",
       "Q3257188    Q3257188                        Livraria_Cultura   \n",
       "Q18230618  Q18230618                                  Señora   \n",
       "Q7573371    Q7573371            Spanish_football_top_scorers   \n",
       "Q3840416    Q3840416                             Luis_Segura   \n",
       "Q16964048  Q16964048                          Os_Nossos_Dias   \n",
       "\n",
       "           pageview_count_s  log_pageview_count_s     indx    rank_s  length  \\\n",
       "id                                                                             \n",
       "Q3490506              23295             10.055994  4371574  0.957612    1580   \n",
       "Q18702116             14120              9.555348  4062932  0.931640    4036   \n",
       "Q4788652               7304              8.896177  2869722  0.883391   59386   \n",
       "Q17004397              5416              8.597113  1279379  0.863004   35496   \n",
       "Q16959919             84721             11.347119  1321282  0.987730   20189   \n",
       "Q3257188               8650              9.065315   333388  0.905505     646   \n",
       "Q18230618             10845              9.291459  4703986  0.911737     296   \n",
       "Q7573371             180735             12.104787  4510107  0.994796   21834   \n",
       "Q3840416               3472              8.152486  2009198  0.800496    5762   \n",
       "Q16964048              2558              7.846981  2787771  0.837436    3411   \n",
       "\n",
       "          is_dis is_stub  log_length    rank_t  \n",
       "id                                              \n",
       "Q3490506   False   False    7.365180  1.468341  \n",
       "Q18702116  False    True    8.303009  1.392375  \n",
       "Q4788652   False   False   10.991814  1.359949  \n",
       "Q17004397  False   False   10.477175  1.348232  \n",
       "Q16959919  False   False    9.912893  1.342388  \n",
       "Q3257188   False    True    6.470800  1.324503  \n",
       "Q18230618  False   False    5.690359  1.319826  \n",
       "Q7573371   False   False    9.991224  1.319226  \n",
       "Q3840416   False   False    8.659040  1.307874  \n",
       "Q16964048  False   False    8.134761  1.288150  "
      ]
     },
     "execution_count": 21,
     "metadata": {},
     "output_type": "execute_result"
    }
   ],
   "source": [
    "d_missing = d_missing.sort('rank_t', ascending = False)\n",
    "d_missing.head(10)"
   ]
  },
  {
   "cell_type": "code",
   "execution_count": 22,
   "metadata": {
    "collapsed": false
   },
   "outputs": [],
   "source": [
    "del d_missing['id']"
   ]
  },
  {
   "cell_type": "code",
   "execution_count": 23,
   "metadata": {
    "collapsed": false
   },
   "outputs": [],
   "source": [
    "ranked_missing_articles_file = os.path.join(cp.get('general', 'local_data_dir'), exp_dir, cp.get('missing', 'ranked_missing_items'))\n",
    "d_missing.to_csv(ranked_missing_articles_file, sep='\\t', encoding='utf-8')"
   ]
  },
  {
   "cell_type": "markdown",
   "metadata": {},
   "source": [
    "#Scratch"
   ]
  },
  {
   "cell_type": "code",
   "execution_count": 24,
   "metadata": {
    "collapsed": false
   },
   "outputs": [
    {
     "data": {
      "text/plain": [
       "<matplotlib.axes._subplots.AxesSubplot at 0x7f3b85b3f710>"
      ]
     },
     "execution_count": 24,
     "metadata": {},
     "output_type": "execute_result"
    },
    {
     "data": {
      "image/png": "[encoded data removed]",
      "text/plain": [
       "<matplotlib.figure.Figure at 0x7f3a3c78f690>"
      ]
     },
     "metadata": {},
     "output_type": "display_data"
    }
   ],
   "source": [
    "d_missing['rank_s'].hist(bins=30)"
   ]
  },
  {
   "cell_type": "code",
   "execution_count": 25,
   "metadata": {
    "collapsed": false
   },
   "outputs": [
    {
     "data": {
      "text/plain": [
       "<matplotlib.axes._subplots.AxesSubplot at 0x7f3b25e845d0>"
      ]
     },
     "execution_count": 25,
     "metadata": {},
     "output_type": "execute_result"
    },
    {
     "data": {
      "image/png": "[encoded data removed]",
      "text/plain": [
       "<matplotlib.figure.Figure at 0x7f3b25e95e90>"
      ]
     },
     "metadata": {},
     "output_type": "display_data"
    }
   ],
   "source": [
    "d_missing['rank_t'].hist(bins=30)"
   ]
  },
  {
   "cell_type": "code",
   "execution_count": 125,
   "metadata": {
    "collapsed": false
   },
   "outputs": [
    {
     "name": "stdout",
     "output_type": "stream",
     "text": [
      "Baseline Spearman (0.76148637933899221, 0.0)\n"
     ]
    }
   ],
   "source": [
    "\n",
    "# compute spearman correlation between en as es ranks on missing articles\n",
    "print \"Baseline Spearman\", spearmanr(d_missing_k['rank_en'], d_missing_k['rank_es'])"
   ]
  },
  {
   "cell_type": "code",
   "execution_count": 126,
   "metadata": {
    "collapsed": false
   },
   "outputs": [
    {
     "name": "stdout",
     "output_type": "stream",
     "text": [
      "\n",
      "\n",
      "\n",
      "Doing Gridsearch\n",
      "\n",
      "MSE: 0.02139\n",
      "R2: 0.73260\n",
      "Spearman: 0.86140 \n",
      "\n",
      "MSE: 0.02148\n",
      "R2: 0.73211\n",
      "Spearman: 0.86140 \n",
      "\n",
      "MSE: 0.02309\n",
      "R2: 0.71128\n",
      "Spearman: 0.84927 \n",
      "\n",
      "MSE: 0.02319\n",
      "R2: 0.71080\n",
      "Spearman: 0.84913 \n",
      "\n",
      "MSE: 0.02639\n",
      "R2: 0.66998\n",
      "Spearman: 0.82518 \n",
      "\n",
      "MSE: 0.02649\n",
      "R2: 0.66964\n",
      "Spearman: 0.82518 \n",
      "\n",
      "MSE: 0.07998\n",
      "R2: -0.00001\n",
      "Spearman: nan \n",
      "\n",
      "MSE: 0.08019\n",
      "R2: -0.00001\n",
      "Spearman: nan \n",
      "\n",
      "Best Model Train MSE: 0.021394\n",
      "Spearman: 0.86169 \n",
      "\n",
      "Best Model Train Spearman 0.861693\n",
      "\n",
      "Best parameters set found:\n",
      "({'alpha': 1e-06}, 0.86140266086482908)\n",
      "\n",
      "\n",
      "Grid scores:\n",
      "0.86140 (+/-0.00000) for {'alpha': 1e-06}\n",
      "0.84920 (+/-0.00003) for {'alpha': 0.0001}\n",
      "0.82518 (+/-0.00000) for {'alpha': 0.001}\n",
      "nan (+/-nan) for {'alpha': 1}\n"
     ]
    }
   ],
   "source": [
    "from sklearn.linear_model import Lasso\n",
    "alg = Lasso()\n",
    "param_grid = {'alpha': [0.000001, 0.0001, 0.001, 1]}\n",
    "model = cv (X, y, 2, alg, param_grid)"
   ]
  },
  {
   "cell_type": "code",
   "execution_count": 62,
   "metadata": {
    "collapsed": false
   },
   "outputs": [
    {
     "data": {
      "text/plain": [
       "Lasso(alpha=1e-06, copy_X=True, fit_intercept=True, max_iter=1000,\n",
       "   normalize=False, positive=False, precompute='auto', tol=0.0001,\n",
       "   warm_start=False)"
      ]
     },
     "execution_count": 62,
     "metadata": {},
     "output_type": "execute_result"
    }
   ],
   "source": [
    "model.best_estimator_"
   ]
  },
  {
   "cell_type": "code",
   "execution_count": 54,
   "metadata": {
    "collapsed": false
   },
   "outputs": [
    {
     "name": "stdout",
     "output_type": "stream",
     "text": [
      "\n",
      "\n",
      "\n",
      "Doing Gridsearch\n",
      "\n",
      "Best Model Train MSE: 0.024215\n",
      "\n",
      "Best parameters set found:\n",
      "({'n_estimators': 50, 'n_jobs': 8, 'max_depth': 4}, -0.024152132858999739)\n",
      "\n",
      "\n",
      "Grid scores:\n",
      "-0.03364 (+/-0.00021) for {'n_estimators': 50, 'n_jobs': 8, 'max_depth': 2}\n",
      "-0.03378 (+/-0.00018) for {'n_estimators': 500, 'n_jobs': 8, 'max_depth': 2}\n",
      "-0.02695 (+/-0.00007) for {'n_estimators': 50, 'n_jobs': 8, 'max_depth': 3}\n",
      "-0.02700 (+/-0.00005) for {'n_estimators': 500, 'n_jobs': 8, 'max_depth': 3}\n",
      "-0.02415 (+/-0.00003) for {'n_estimators': 50, 'n_jobs': 8, 'max_depth': 4}\n",
      "-0.02424 (+/-0.00008) for {'n_estimators': 500, 'n_jobs': 8, 'max_depth': 4}\n"
     ]
    },
    {
     "data": {
      "text/plain": [
       "GridSearchCV(cv=sklearn.cross_validation.KFold(n=70617, n_folds=2, shuffle=True, random_state=None),\n",
       "       estimator=RandomForestRegressor(bootstrap=True, compute_importances=None,\n",
       "           criterion='mse', max_depth=None, max_features='auto',\n",
       "           max_leaf_nodes=None, min_density=None, min_samples_leaf=1,\n",
       "           min_samples_split=2, n_estimators=10, n_jobs=1, oob_score=False,\n",
       "           random_state=None, verbose=0),\n",
       "       fit_params={}, iid=True, loss_func=None, n_jobs=1,\n",
       "       param_grid={'n_estimators': [50, 500], 'n_jobs': [8], 'max_depth': [2, 3, 4]},\n",
       "       pre_dispatch='2*n_jobs', refit=True, score_func=None,\n",
       "       scoring='mean_squared_error', verbose=0)"
      ]
     },
     "execution_count": 54,
     "metadata": {},
     "output_type": "execute_result"
    }
   ],
   "source": [
    "from sklearn.ensemble import RandomForestRegressor\n",
    "alg = RandomForestRegressor()\n",
    "param_grid = {'n_jobs' : [8], 'n_estimators' : [50, 500 ], 'max_depth' : [2, 3, 4 ] }\n",
    "cv (X, y, 2, alg, param_grid)"
   ]
  },
  {
   "cell_type": "code",
   "execution_count": null,
   "metadata": {
    "collapsed": true
   },
   "outputs": [],
   "source": []
  },
  {
   "cell_type": "code",
   "execution_count": 57,
   "metadata": {
    "collapsed": false
   },
   "outputs": [
    {
     "name": "stdout",
     "output_type": "stream",
     "text": [
      "\n",
      "\n",
      "\n",
      "Doing Gridsearch\n",
      "\n",
      "Best Model Train MSE: 0.080153\n",
      "\n",
      "Best parameters set found:\n",
      "({}, -0.080153485281797415)\n",
      "\n",
      "\n",
      "Grid scores:\n",
      "-0.08015 (+/-0.00002) for {}\n"
     ]
    }
   ],
   "source": [
    "from sklearn.linear_model import LinearRegression\n",
    "alg = Lasso()\n",
    "param_grid = {}\n",
    "model = cv (rank_en.toarray(), y, 2, alg, param_grid)\n"
   ]
  },
  {
   "cell_type": "code",
   "execution_count": 59,
   "metadata": {
    "collapsed": false
   },
   "outputs": [
    {
     "name": "stdout",
     "output_type": "stream",
     "text": [
      "\n",
      "\n",
      "\n",
      "Doing Gridsearch\n",
      "\n",
      "Best Model Train MSE: 0.080153\n",
      "\n",
      "Best parameters set found:\n",
      "({}, -0.080153429784761906)\n",
      "\n",
      "\n",
      "Grid scores:\n",
      "-0.08015 (+/-0.00011) for {}\n"
     ]
    }
   ],
   "source": [
    "from sklearn.linear_model import LinearRegression\n",
    "alg = Lasso()\n",
    "param_grid = {}\n",
    "model = cv (M_r.toarray(), y, 2, alg, param_grid)\n"
   ]
  },
  {
   "cell_type": "code",
   "execution_count": null,
   "metadata": {
    "collapsed": true
   },
   "outputs": [],
   "source": []
  }
 ],
 "metadata": {
  "kernelspec": {
   "display_name": "Python 2",
   "language": "python",
   "name": "python2"
  },
  "language_info": {
   "codemirror_mode": {
    "name": "ipython",
    "version": 2
   },
   "file_extension": ".py",
   "mimetype": "text/x-python",
   "name": "python",
   "nbconvert_exporter": "python",
   "pygments_lexer": "ipython2",
   "version": "2.7.10"
  }
 },
 "nbformat": 4,
 "nbformat_minor": 0
}
