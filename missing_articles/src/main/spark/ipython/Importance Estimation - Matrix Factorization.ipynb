{
 "cells": [
  {
   "cell_type": "markdown",
   "metadata": {
    "collapsed": false
   },
   "source": [
    "# Code"
   ]
  },
  {
   "cell_type": "code",
   "execution_count": 18,
   "metadata": {
    "collapsed": false
   },
   "outputs": [
    {
     "name": "stdout",
     "output_type": "stream",
     "text": [
      "The autoreload extension is already loaded. To reload it, use:\n",
      "  %reload_ext autoreload\n"
     ]
    }
   ],
   "source": [
    "%load_ext autoreload\n",
    "%autoreload 2\n",
    "%matplotlib inline\n",
    "\n",
    "import matplotlib.pyplot as plt\n",
    "from ConfigParser import SafeConfigParser\n",
    "from operator import add\n",
    "from pyspark.mllib.recommendation import ALS, Rating\n",
    "import random \n",
    "from random import randint\n",
    "import itertools\n",
    "from math import sqrt\n",
    "import numpy as np\n",
    "from pprint import pprint\n",
    "import math\n",
    "from ConfigParser import SafeConfigParser\n",
    "import pandas as pd\n",
    "\n",
    "\n",
    "def get_parser(names):\n",
    "    def loadRecord(line):\n",
    "        cells = line.strip().split('\\t')\n",
    "        return dict(zip(names, cells))\n",
    "    return loadRecord\n",
    "\n",
    "def get_lang2id_maps(languages):\n",
    "    lang2id = {}\n",
    "    id2lang = {}\n",
    "    for i, lang in enumerate(languages):\n",
    "        lang2id[lang] = i\n",
    "        id2lang[i] = lang\n",
    "    return lang2id, id2lang\n",
    "\n",
    "def toRating(x):\n",
    "    user_id = lang2id[x['lang']]\n",
    "    item_id=int(x['id'][1:])\n",
    "    counts = float(x['pageview_count'])\n",
    "    return (user_id, item_id, counts)\n",
    "\n",
    "def load_pageviews(sc, filename, k=3):\n",
    "    names = [ 'id', 'lang', 'title', 'pageview_count']\n",
    "    pageviews = sc.textFile(filename)\\\n",
    "    .map(get_parser(names))\\\n",
    "    .filter(lambda x: len(x) == 4)\\\n",
    "    .filter(lambda x: x['lang'] in languages_set)\\\n",
    "    .map(lambda x: (x['id'], x))\\\n",
    "    .groupByKey().filter(lambda x: len(x[1]) >=k ).flatMap(lambda x: x[1])\\\n",
    "    .map(toRating)\n",
    "    return pageviews\n",
    "\n",
    "\n",
    "def split_train_validation_test(triples, splits = [6, 8], numPartitions = 100):\n",
    "    # split ratings into train (60%), validation (20%), and test (20%) \n",
    "    random.seed(2)\n",
    "    split_triples = triples.map(lambda x: (random.randint(0,9),x ))\n",
    "    split1, split2 = splits\n",
    "    \n",
    "    training = split_triples.filter(lambda x: x[0] < split1) \\\n",
    "      .values() \\\n",
    "      .repartition(numPartitions) \\\n",
    "      .cache()\n",
    "    validation = split_triples.filter(lambda x: x[0] >= split1 and x[0] < split2) \\\n",
    "      .values() \\\n",
    "      .repartition(numPartitions) \\\n",
    "      .cache()\n",
    "\n",
    "    test = split_triples.filter(lambda x: x[0] >= split2).values().cache()\n",
    "    numTraining = training.count()\n",
    "    numValidation = validation.count()\n",
    "    numTest = test.count()\n",
    "    print \"Training: %d, validation: %d, Test: %d\" % (numTraining, numValidation, numTest)\n",
    "    return training, validation, test\n",
    "\n",
    "\n",
    "\n",
    "def computeRmse(model, data, n):\n",
    "    \"\"\"\n",
    "    Compute RMSE (Root Mean Squared Error).\n",
    "    \"\"\"\n",
    "    predictions = model.predictAll(data.map(lambda x: (x[0], x[1])))\n",
    "    predictionsAndRatings = predictions.map(lambda x: ((x[0], x[1]), x[2])) \\\n",
    "      .join(data.map(lambda x: ((x[0], x[1]), x[2]))) \\\n",
    "      .values()\n",
    "    return sqrt(predictionsAndRatings.map(lambda x: (x[0] - x[1]) ** 2).reduce(add) / float(n))\n",
    "\n",
    "\n",
    "def cross_validation(training, validation, test, all_triplets, ranks, lambdas, numIters):\n",
    "# train models and evaluate them on the validation set\n",
    "\n",
    "    result_dict = {}\n",
    "    result_template = \"rank:%d  iters:%d  lambda: %f\"\n",
    "    bestModel = None\n",
    "    bestValidationRmse = float(\"inf\")\n",
    "    bestRank = 0\n",
    "    bestLambda = -1.0\n",
    "    bestNumIter = -1\n",
    "    numTraining = training.count()\n",
    "    numValidation = validation.count()\n",
    "    numTest = test.count()\n",
    "    \n",
    "    for lmbda, numIter, rank in itertools.product(lambdas, numIters, ranks):\n",
    "        model = ALS.train(training, rank, iterations = numIter,  lambda_ = lmbda, nonnegative=True, seed=10)\n",
    "        validationRmse = computeRmse(model, validation, numValidation)\n",
    "        print \"RMSE (validation) = %f for the model trained with \" % validationRmse + \\\n",
    "              \"rank = %d, lambda = %.4f, and numIter = %d.\" % (rank, lmbda, numIter)\n",
    "\n",
    "        if (validationRmse < bestValidationRmse):\n",
    "            bestModel = model\n",
    "            bestValidationRmse = validationRmse\n",
    "            bestRank = rank\n",
    "            bestLambda = lmbda\n",
    "            bestNumIter = numIter\n",
    "        result_dict[result_template % (rank, numIter, lmbda)] = validationRmse\n",
    "    testRmse = computeRmse(bestModel, test, numTest)\n",
    "    # evaluate the best model on the test set\n",
    "    print \"The best model was trained with rank = %d and lambda = %.1f, \" % (bestRank, bestLambda) \\\n",
    "      + \"and numIter = %d, and its RMSE on the test set is %f.\" % (bestNumIter, testRmse)\n",
    "    result_dict['BEST Model on Test:' + result_template % (bestRank, bestNumIter, bestLambda)] = testRmse\n",
    "    # compare the best model with a naive baseline that always returns the mean rating\n",
    "    meanRating = training.union(validation).map(lambda x: x[2]).mean()\n",
    "    _ , baselineRmse = compute_baseline(training, validation, test)\n",
    "    improvement = (baselineRmse - testRmse) / baselineRmse * 100\n",
    "    print \"The best model improves the baseline by %.2f\" % (improvement) + \"%.\"\n",
    "    result_dict['BEST gain over baseline'] = improvement\n",
    "\n",
    "    return bestModel, result_dict\n",
    "\n",
    "\n",
    "def compute_baseline(training, validation, test):\n",
    "    dt = pd.DataFrame(training.union(validation).collect())\n",
    "    dt.columns = ['lang', 'id', 'rating']\n",
    "    lang_means = dt[['lang', 'rating']].groupby('lang').mean()\n",
    "    dt = pd.DataFrame(test.collect())\n",
    "    dt.columns = ['lang', 'id', 'rating']\n",
    "    dt = dt.merge(lang_means, how='inner', left_on='lang',  right_index=True, sort=False)\n",
    "    def error(x):\n",
    "        return (x['rating_x'] - x['rating_y'])**2      \n",
    "    ss = dt.apply(error, axis=1).sum()\n",
    "    \n",
    "    return lang_means,  math.sqrt(ss / dt.shape[0])\n",
    "    \n",
    "def print_baseline(training, validation, test):\n",
    "    lang_means, rmse = compute_baseline(training, validation, test)\n",
    "    print \"Mean Ratings:\"\n",
    "    print (lang_means)\n",
    "    print \"RMSE (test):  %f\" % rmse\n",
    "    \n",
    "\n",
    "def get_named_rankings(cp, model):\n",
    "    missing_articles_file = os.path.join(cp.get('general', 'local_data_dir'), 'en-es', cp.get('missing', 'ranked_missing_items'))\n",
    "    d = pd.read_csv(missing_articles_file, sep='\\t', names = ['id', 'name', 'score'], encoding = 'utf8')\n",
    "    d['id'] = d['id'].apply(lambda x: int(x[1:]))\n",
    "    id2name = dict(zip(d['id'], d['name']))\n",
    "    \n",
    "    es_id = lang2id['es']\n",
    "    missing_articles_file = os.path.join(cp.get('general', 'hadoop_data_dir'), 'en-es', cp.get('missing', 'ranked_missing_items'))\n",
    "    missing_articles = sc.textFile(missing_articles_file)\\\n",
    "                                         .map(lambda x: x.split('\\t'))\\\n",
    "                                         .map(lambda x: (es_id, int(x[0][1:])))\n",
    "    predictions = model.predictAll(missing_articles).map(lambda x: (x.product, x.rating)).collect()\n",
    "    d_als = pd.DataFrame(predictions)\n",
    "    d_als.columns = ['id', 'score']\n",
    "    d_als['name'] = d_als['id'].apply(lambda x: id2name[x] if x in id2name else u'')\n",
    "    df = pd.merge(left = d, right = d_als, on = 'id')[['id', 'name_x', 'score_x', 'score_y']]\n",
    "    df.columns = ['id', 'name', 'en_pageviews', 'score']\n",
    "    \n",
    "    return df.sort('score', ascending = False)\n",
    "    \n",
    "\n",
    "def project(model, normalize=False):\n",
    "    lang_vecs = model.userFeatures().collect()\n",
    "    \n",
    "    if normalize:\n",
    "        lang_vecs = [t[1] / np.linalg.norm(t[1]) for t in lang_vecs]\n",
    "    else:\n",
    "        lang_vecs = [t[1]  for t in lang_vecs]\n",
    "    A = [t[0] for t in lang_vecs]\n",
    "    B = [t[1] for t in lang_vecs]\n",
    "\n",
    "    fig = plt.figure()\n",
    "    ax = fig.add_subplot(111)\n",
    "\n",
    "    plt.scatter(A,B)\n",
    "    for i, xy in enumerate(zip(A, B)):                                                \n",
    "        ax.annotate(languages[i], xy=xy, textcoords='offset points') \n",
    "\n",
    "    plt.grid()\n",
    "    plt.show()\n",
    "\n",
    "#languages = ['ar', 'bg', 'ca', 'ceb', 'cs','da','de','el','en','eo','es','et','eu','fa','fi','fr','gl','he','hi','hr','hu','hy','id','it','ja','kk','ko','lt','ms','nl','nn','no','pl','pt','ro','ru','sh','simple','sk','sl','sr','sv','tr','uk','uz','vi','war','zh','min','vo']\n"
   ]
  },
  {
   "cell_type": "markdown",
   "metadata": {},
   "source": [
    "#Analysis"
   ]
  },
  {
   "cell_type": "markdown",
   "metadata": {},
   "source": [
    " To start, lets only use data from the top 9 wikipedias and only include items that exist in at least 2 languages"
   ]
  },
  {
   "cell_type": "code",
   "execution_count": 3,
   "metadata": {
    "collapsed": false
   },
   "outputs": [],
   "source": [
    "config = '/home/ellery/wikimedia/missing_articles/missing_articles.ini'\n",
    "cp = SafeConfigParser()\n",
    "cp.read(config)\n",
    "\n",
    "languages = ['en', 'de', 'fr', 'es', 'nl', 'ru', 'ja', 'sv', 'pl']\n",
    "languages_set = set(languages)\n",
    "lang2id, id2lang = get_lang2id_maps(languages)\n",
    "pageviews = load_pageviews(sc, cp.get('general', 'pageviews'), k=2) "
   ]
  },
  {
   "cell_type": "markdown",
   "metadata": {},
   "source": [
    "# Rank Transformation"
   ]
  },
  {
   "cell_type": "markdown",
   "metadata": {},
   "source": [
    "Within each language rank articles by the number of views and assign article a the score 1 - rank(a) / n. Think of this as continuos equal frquency binning."
   ]
  },
  {
   "cell_type": "markdown",
   "metadata": {},
   "source": [
    "### Transform Data"
   ]
  },
  {
   "cell_type": "code",
   "execution_count": 23,
   "metadata": {
    "collapsed": false
   },
   "outputs": [
    {
     "name": "stdout",
     "output_type": "stream",
     "text": [
      "Training: 6431440, validation: 2148364, Test: 2146015\n"
     ]
    }
   ],
   "source": [
    "\n",
    "def get_ranking_score(t):\n",
    "    lang_id, items = t\n",
    "    ids = np.array([x[0] for x in items])\n",
    "    item_ranks = np.argsort(np.array([x[1] for x in items]))\n",
    "    print item_ranks\n",
    "    n = float(len(items))\n",
    "    return [(lang_id, ids[r], i/n) for i, r in enumerate(item_ranks)]\n",
    "       \n",
    "rank_pageviews = pageviews.map(lambda x: (x[0], (x[1], x[2]))).groupByKey().flatMap(get_ranking_score)\n",
    "training, validation, test = split_train_validation_test(rank_pageviews)"
   ]
  },
  {
   "cell_type": "markdown",
   "metadata": {},
   "source": [
    "### Compute Baseline (mean \"user\" rating)\n",
    "We can use the mean score per language as a simple baseline."
   ]
  },
  {
   "cell_type": "code",
   "execution_count": 24,
   "metadata": {
    "collapsed": false
   },
   "outputs": [
    {
     "name": "stdout",
     "output_type": "stream",
     "text": [
      "Mean Ratings:\n",
      "        rating\n",
      "lang          \n",
      "0     0.500340\n",
      "1     0.499976\n",
      "2     0.500022\n",
      "3     0.500104\n",
      "4     0.500472\n",
      "5     0.500234\n",
      "6     0.500259\n",
      "7     0.500325\n",
      "8     0.499927\n",
      "RMSE (test):  0.288754\n"
     ]
    }
   ],
   "source": [
    "print_baseline(training, validation, test)"
   ]
  },
  {
   "cell_type": "markdown",
   "metadata": {},
   "source": [
    "### CV : Lets find the best model"
   ]
  },
  {
   "cell_type": "code",
   "execution_count": 43,
   "metadata": {
    "collapsed": false
   },
   "outputs": [
    {
     "name": "stdout",
     "output_type": "stream",
     "text": [
      "RMSE (validation) = 0.173174 for the model trained with rank = 1, lambda = 0.0100, and numIter = 15.\n",
      "RMSE (validation) = 0.177248 for the model trained with rank = 2, lambda = 0.0100, and numIter = 15.\n",
      "RMSE (validation) = 0.185956 for the model trained with rank = 3, lambda = 0.0100, and numIter = 15.\n",
      "RMSE (validation) = 0.173835 for the model trained with rank = 1, lambda = 0.0300, and numIter = 15.\n",
      "RMSE (validation) = 0.170992 for the model trained with rank = 2, lambda = 0.0300, and numIter = 15.\n",
      "RMSE (validation) = 0.174296 for the model trained with rank = 3, lambda = 0.0300, and numIter = 15.\n",
      "RMSE (validation) = 0.176747 for the model trained with rank = 1, lambda = 0.0500, and numIter = 15.\n",
      "RMSE (validation) = 0.173950 for the model trained with rank = 2, lambda = 0.0500, and numIter = 15.\n",
      "RMSE (validation) = 0.176301 for the model trained with rank = 3, lambda = 0.0500, and numIter = 15.\n",
      "RMSE (validation) = 0.185133 for the model trained with rank = 1, lambda = 0.0800, and numIter = 15.\n",
      "RMSE (validation) = 0.184564 for the model trained with rank = 2, lambda = 0.0800, and numIter = 15.\n",
      "RMSE (validation) = 0.185257 for the model trained with rank = 3, lambda = 0.0800, and numIter = 15.\n",
      "The best model was trained with rank = 2 and lambda = 0.0, and numIter = 15, and its RMSE on the test set is 0.197909.\n",
      "The best model improves the baseline by 31.50%.\n"
     ]
    }
   ],
   "source": [
    "ranks = [1,2,3]\n",
    "numIters = [15]\n",
    "lambdas = [0.01, 0.03, 0.05, 0.08]\n",
    "model, cv_results = cross_validation(training, validation, test, pageviews, ranks, lambdas, numIters)"
   ]
  },
  {
   "cell_type": "markdown",
   "metadata": {},
   "source": [
    "The rank 2 model is insignificantly better than the rank 1 model. A rank 1 model means that articles have the same ranking within each language. Not really waht we were hoping for."
   ]
  },
  {
   "cell_type": "markdown",
   "metadata": {},
   "source": [
    "### Inspect Ranking of EN articles missing in ES"
   ]
  },
  {
   "cell_type": "code",
   "execution_count": 87,
   "metadata": {
    "collapsed": false
   },
   "outputs": [],
   "source": [
    "df = get_named_rankings(cp)"
   ]
  },
  {
   "cell_type": "code",
   "execution_count": 90,
   "metadata": {
    "collapsed": false
   },
   "outputs": [
    {
     "data": {
      "text/html": [
       "<div style=\"max-height:1000px;max-width:1500px;overflow:auto;\">\n",
       "<table border=\"1\" class=\"dataframe\">\n",
       "  <thead>\n",
       "    <tr style=\"text-align: right;\">\n",
       "      <th></th>\n",
       "      <th>name</th>\n",
       "      <th>pageviews</th>\n",
       "      <th>score</th>\n",
       "    </tr>\n",
       "  </thead>\n",
       "  <tbody>\n",
       "    <tr>\n",
       "      <th>13667 </th>\n",
       "      <td>           Conservatorship</td>\n",
       "      <td>  51173</td>\n",
       "      <td> 1.042220</td>\n",
       "    </tr>\n",
       "    <tr>\n",
       "      <th>2922  </th>\n",
       "      <td>   Yu-Gi-Oh! Duel Monsters</td>\n",
       "      <td> 120147</td>\n",
       "      <td> 1.039728</td>\n",
       "    </tr>\n",
       "    <tr>\n",
       "      <th>1860  </th>\n",
       "      <td>                 Shirobako</td>\n",
       "      <td> 151589</td>\n",
       "      <td> 1.038770</td>\n",
       "    </tr>\n",
       "    <tr>\n",
       "      <th>281   </th>\n",
       "      <td>           Corporate title</td>\n",
       "      <td> 386458</td>\n",
       "      <td> 1.038457</td>\n",
       "    </tr>\n",
       "    <tr>\n",
       "      <th>14617 </th>\n",
       "      <td>                Compliance</td>\n",
       "      <td>  49167</td>\n",
       "      <td> 1.037608</td>\n",
       "    </tr>\n",
       "    <tr>\n",
       "      <th>31622 </th>\n",
       "      <td>                    Massan</td>\n",
       "      <td>  29756</td>\n",
       "      <td> 1.036183</td>\n",
       "    </tr>\n",
       "    <tr>\n",
       "      <th>7652  </th>\n",
       "      <td>      The Fruit of Grisaia</td>\n",
       "      <td>  71237</td>\n",
       "      <td> 1.036123</td>\n",
       "    </tr>\n",
       "    <tr>\n",
       "      <th>68893 </th>\n",
       "      <td>              Sota Fukushi</td>\n",
       "      <td>  15853</td>\n",
       "      <td> 1.036075</td>\n",
       "    </tr>\n",
       "    <tr>\n",
       "      <th>695   </th>\n",
       "      <td> Lord Marksman and Vanadis</td>\n",
       "      <td> 249141</td>\n",
       "      <td> 1.036067</td>\n",
       "    </tr>\n",
       "    <tr>\n",
       "      <th>352782</th>\n",
       "      <td>                 Ga (kana)</td>\n",
       "      <td>   2450</td>\n",
       "      <td> 1.036019</td>\n",
       "    </tr>\n",
       "  </tbody>\n",
       "</table>\n",
       "</div>"
      ],
      "text/plain": [
       "                             name  pageviews     score\n",
       "13667             Conservatorship      51173  1.042220\n",
       "2922      Yu-Gi-Oh! Duel Monsters     120147  1.039728\n",
       "1860                    Shirobako     151589  1.038770\n",
       "281               Corporate title     386458  1.038457\n",
       "14617                  Compliance      49167  1.037608\n",
       "31622                      Massan      29756  1.036183\n",
       "7652         The Fruit of Grisaia      71237  1.036123\n",
       "68893                Sota Fukushi      15853  1.036075\n",
       "695     Lord Marksman and Vanadis     249141  1.036067\n",
       "352782                  Ga (kana)       2450  1.036019"
      ]
     },
     "execution_count": 90,
     "metadata": {},
     "output_type": "execute_result"
    }
   ],
   "source": [
    "df.head(10)"
   ]
  },
  {
   "cell_type": "markdown",
   "metadata": {},
   "source": [
    " Why are Japanese articles dominating the ranking?"
   ]
  },
  {
   "cell_type": "code",
   "execution_count": 91,
   "metadata": {
    "collapsed": false
   },
   "outputs": [
    {
     "data": {
      "text/html": [
       "<div style=\"max-height:1000px;max-width:1500px;overflow:auto;\">\n",
       "<table border=\"1\" class=\"dataframe\">\n",
       "  <thead>\n",
       "    <tr style=\"text-align: right;\">\n",
       "      <th></th>\n",
       "      <th>name</th>\n",
       "      <th>pageviews</th>\n",
       "      <th>score</th>\n",
       "    </tr>\n",
       "  </thead>\n",
       "  <tbody>\n",
       "    <tr>\n",
       "      <th>0</th>\n",
       "      <td>               NASA Helios</td>\n",
       "      <td> 6462135</td>\n",
       "      <td> 0.827147</td>\n",
       "    </tr>\n",
       "    <tr>\n",
       "      <th>1</th>\n",
       "      <td> Line integral convolution</td>\n",
       "      <td> 5312288</td>\n",
       "      <td> 0.552656</td>\n",
       "    </tr>\n",
       "    <tr>\n",
       "      <th>2</th>\n",
       "      <td>            Deaths in 2015</td>\n",
       "      <td> 4444490</td>\n",
       "      <td> 0.965520</td>\n",
       "    </tr>\n",
       "    <tr>\n",
       "      <th>3</th>\n",
       "      <td>         Ingres (database)</td>\n",
       "      <td> 4302270</td>\n",
       "      <td> 0.774785</td>\n",
       "    </tr>\n",
       "    <tr>\n",
       "      <th>4</th>\n",
       "      <td>           NASA Pathfinder</td>\n",
       "      <td> 4213272</td>\n",
       "      <td> 0.695580</td>\n",
       "    </tr>\n",
       "  </tbody>\n",
       "</table>\n",
       "</div>"
      ],
      "text/plain": [
       "                        name  pageviews     score\n",
       "0                NASA Helios    6462135  0.827147\n",
       "1  Line integral convolution    5312288  0.552656\n",
       "2             Deaths in 2015    4444490  0.965520\n",
       "3          Ingres (database)    4302270  0.774785\n",
       "4            NASA Pathfinder    4213272  0.695580"
      ]
     },
     "execution_count": 91,
     "metadata": {},
     "output_type": "execute_result"
    }
   ],
   "source": [
    "df.sort('pageviews', ascending = False).head()"
   ]
  },
  {
   "cell_type": "markdown",
   "metadata": {},
   "source": [
    "### Project Languages into 2D\n",
    "We can run ALS with rank 2 and see what languages end up close to each other"
   ]
  },
  {
   "cell_type": "code",
   "execution_count": null,
   "metadata": {
    "collapsed": true
   },
   "outputs": [],
   "source": [
    "model = ALS.train(training, 2, iterations = 15,  lambda_ = 0.03, nonnegative=True, seed=10)"
   ]
  },
  {
   "cell_type": "code",
   "execution_count": 93,
   "metadata": {
    "collapsed": false
   },
   "outputs": [
    {
     "data": {
      "image/png": "[encoded data removed]",
      "text/plain": [
       "<matplotlib.figure.Figure at 0x7f7ab8e80b50>"
      ]
     },
     "metadata": {},
     "output_type": "display_data"
    }
   ],
   "source": [
    "project(model, normalize=False)"
   ]
  },
  {
   "cell_type": "code",
   "execution_count": 94,
   "metadata": {
    "collapsed": false
   },
   "outputs": [
    {
     "data": {
      "image/png": "[encoded data removed]",
      "text/plain": [
       "<matplotlib.figure.Figure at 0x7f7ab6292ed0>"
      ]
     },
     "metadata": {},
     "output_type": "display_data"
    }
   ],
   "source": [
    "project(model, normalize=True)"
   ]
  },
  {
   "cell_type": "markdown",
   "metadata": {},
   "source": [
    "# Log Transformation"
   ]
  },
  {
   "cell_type": "markdown",
   "metadata": {},
   "source": [
    "### Transform"
   ]
  },
  {
   "cell_type": "code",
   "execution_count": 4,
   "metadata": {
    "collapsed": false
   },
   "outputs": [
    {
     "name": "stdout",
     "output_type": "stream",
     "text": [
      "Training: 6436642, validation: 2148391, Test: 2143711\n"
     ]
    }
   ],
   "source": [
    "pageviews = load_pageviews(sc, cp.get('general', 'pageviews'), k=2) \n",
    "log_pageviews = pageviews.map(lambda x: (x[0], x[1], math.log( max(1.0, x[2]))))\n",
    "training, validation, test = split_train_validation_test(log_pageviews)"
   ]
  },
  {
   "cell_type": "markdown",
   "metadata": {},
   "source": [
    "### Visualize Distributions"
   ]
  },
  {
   "cell_type": "code",
   "execution_count": 101,
   "metadata": {
    "collapsed": false
   },
   "outputs": [
    {
     "data": {
      "image/png": "[encoded data removed]",
      "text/plain": [
       "<matplotlib.figure.Figure at 0x7f7ab247ad10>"
      ]
     },
     "metadata": {},
     "output_type": "display_data"
    }
   ],
   "source": [
    "views = training.filter(lambda x: x[0] == 0).map(lambda x: x[2]).collect()\n",
    "x = plt.hist(np.array(views), bins = 100)"
   ]
  },
  {
   "cell_type": "code",
   "execution_count": 102,
   "metadata": {
    "collapsed": false
   },
   "outputs": [
    {
     "data": {
      "image/png": "[encoded data removed]",
      "text/plain": [
       "<matplotlib.figure.Figure at 0x7f7a89586610>"
      ]
     },
     "metadata": {},
     "output_type": "display_data"
    }
   ],
   "source": [
    "views = training.filter(lambda x: x[0] == 1).map(lambda x: x[2]).collect()\n",
    "x = plt.hist(np.array(views), bins = 100)"
   ]
  },
  {
   "cell_type": "code",
   "execution_count": 103,
   "metadata": {
    "collapsed": false
   },
   "outputs": [
    {
     "data": {
      "image/png": "[encoded data removed]",
      "text/plain": [
       "<matplotlib.figure.Figure at 0x7f7a9913c310>"
      ]
     },
     "metadata": {},
     "output_type": "display_data"
    }
   ],
   "source": [
    "views = training.filter(lambda x: x[0] == 2).map(lambda x: x[2]).collect()\n",
    "x = plt.hist(np.array(views), bins = 100)"
   ]
  },
  {
   "cell_type": "code",
   "execution_count": 104,
   "metadata": {
    "collapsed": false
   },
   "outputs": [
    {
     "data": {
      "image/png": "[encoded data removed]",
      "text/plain": [
       "<matplotlib.figure.Figure at 0x7f7aa3f63910>"
      ]
     },
     "metadata": {},
     "output_type": "display_data"
    }
   ],
   "source": [
    "views = training.filter(lambda x: x[0] == 3).map(lambda x: x[2]).collect()\n",
    "x = plt.hist(np.array(views), bins = 100)"
   ]
  },
  {
   "cell_type": "code",
   "execution_count": 105,
   "metadata": {
    "collapsed": false
   },
   "outputs": [
    {
     "data": {
      "image/png": "[encoded data removed]",
      "text/plain": [
       "<matplotlib.figure.Figure at 0x7f7a973ef210>"
      ]
     },
     "metadata": {},
     "output_type": "display_data"
    }
   ],
   "source": [
    "views = training.filter(lambda x: x[0] == 4).map(lambda x: x[2]).collect()\n",
    "x = plt.hist(np.array(views), bins = 100)"
   ]
  },
  {
   "cell_type": "code",
   "execution_count": 106,
   "metadata": {
    "collapsed": false
   },
   "outputs": [
    {
     "data": {
      "image/png": "[encoded data removed]",
      "text/plain": [
       "<matplotlib.figure.Figure at 0x7f7a12845cd0>"
      ]
     },
     "metadata": {},
     "output_type": "display_data"
    }
   ],
   "source": [
    "views = training.filter(lambda x: x[0] == 5).map(lambda x: x[2]).collect()\n",
    "x = plt.hist(np.array(views), bins = 100)"
   ]
  },
  {
   "cell_type": "code",
   "execution_count": 107,
   "metadata": {
    "collapsed": false
   },
   "outputs": [
    {
     "data": {
      "image/png": "[encoded data removed]",
      "text/plain": [
       "<matplotlib.figure.Figure at 0x7f7a96a16190>"
      ]
     },
     "metadata": {},
     "output_type": "display_data"
    }
   ],
   "source": [
    "views = training.filter(lambda x: x[0] == 6).map(lambda x: x[2]).collect()\n",
    "x = plt.hist(np.array(views), bins = 100)"
   ]
  },
  {
   "cell_type": "code",
   "execution_count": 108,
   "metadata": {
    "collapsed": false
   },
   "outputs": [
    {
     "data": {
      "image/png": "[encoded data removed]",
      "text/plain": [
       "<matplotlib.figure.Figure at 0x7f7ab1e69950>"
      ]
     },
     "metadata": {},
     "output_type": "display_data"
    }
   ],
   "source": [
    "views = training.filter(lambda x: x[0] == 7).map(lambda x: x[2]).collect()\n",
    "x = plt.hist(np.array(views), bins = 100)"
   ]
  },
  {
   "cell_type": "code",
   "execution_count": 109,
   "metadata": {
    "collapsed": false
   },
   "outputs": [
    {
     "data": {
      "image/png": "[encoded data removed]",
      "text/plain": [
       "<matplotlib.figure.Figure at 0x7f7ac1c9ef10>"
      ]
     },
     "metadata": {},
     "output_type": "display_data"
    }
   ],
   "source": [
    "views = training.filter(lambda x: x[0] == 8).map(lambda x: x[2]).collect()\n",
    "x = plt.hist(np.array(views), bins = 100)"
   ]
  },
  {
   "cell_type": "markdown",
   "metadata": {},
   "source": [
    "### Compute Baseline (mean \"user\" rating)"
   ]
  },
  {
   "cell_type": "code",
   "execution_count": 47,
   "metadata": {
    "collapsed": false
   },
   "outputs": [
    {
     "name": "stdout",
     "output_type": "stream",
     "text": [
      "Mean Ratings:\n",
      "        rating\n",
      "lang          \n",
      "0     7.394563\n",
      "1     6.417169\n",
      "2     5.992262\n",
      "3     6.234379\n",
      "4     4.484033\n",
      "5     6.517464\n",
      "6     6.831579\n",
      "7     4.203344\n",
      "8     6.096160\n",
      "RMSE (test):  1.542293\n"
     ]
    }
   ],
   "source": [
    "print_baseline(training, validation, test)"
   ]
  },
  {
   "cell_type": "markdown",
   "metadata": {},
   "source": [
    "### CV "
   ]
  },
  {
   "cell_type": "code",
   "execution_count": 112,
   "metadata": {
    "collapsed": false
   },
   "outputs": [
    {
     "name": "stdout",
     "output_type": "stream",
     "text": [
      "RMSE (validation) = 0.960728 for the model trained with rank = 2, lambda = 0.0010, and numIter = 15.\n",
      "RMSE (validation) = 0.907979 for the model trained with rank = 2, lambda = 0.0100, and numIter = 15.\n",
      "RMSE (validation) = 0.805965 for the model trained with rank = 2, lambda = 0.0500, and numIter = 15.\n",
      "RMSE (validation) = 0.755540 for the model trained with rank = 2, lambda = 0.1000, and numIter = 15.\n",
      "RMSE (validation) = 1.237602 for the model trained with rank = 2, lambda = 1.0000, and numIter = 15.\n",
      "The best model was trained with rank = 2 and lambda = 0.1, and numIter = 15, and its RMSE on the test set is 0.766996.\n",
      "The best model improves the baseline by 59.21%.\n"
     ]
    }
   ],
   "source": [
    "ranks = [2]\n",
    "numIters = [15]\n",
    "lambdas = [0.001, 0.01, 0.05, 0.1, 1.0]\n",
    "model, cv_results = cross_validation(training, validation, test, pageviews, ranks, lambdas, numIters)"
   ]
  },
  {
   "cell_type": "code",
   "execution_count": 120,
   "metadata": {
    "collapsed": false
   },
   "outputs": [
    {
     "name": "stdout",
     "output_type": "stream",
     "text": [
      "RMSE (validation) = 0.762301 for the model trained with rank = 1, lambda = 0.0010, and numIter = 15.\n",
      "RMSE (validation) = 0.761977 for the model trained with rank = 1, lambda = 0.0100, and numIter = 15.\n",
      "RMSE (validation) = 0.761811 for the model trained with rank = 1, lambda = 0.0500, and numIter = 15.\n",
      "RMSE (validation) = 0.764644 for the model trained with rank = 1, lambda = 0.1000, and numIter = 15.\n",
      "RMSE (validation) = 1.237599 for the model trained with rank = 1, lambda = 1.0000, and numIter = 15.\n",
      "The best model was trained with rank = 1 and lambda = 0.1, and numIter = 15, and its RMSE on the test set is 0.768265.\n",
      "The best model improves the baseline by 59.20%.\n"
     ]
    }
   ],
   "source": [
    "ranks = [1]\n",
    "numIters = [15]\n",
    "lambdas = [0.001, 0.01, 0.05, 0.1, 1.0]\n",
    "model, cv_results = cross_validation(training, validation, test, pageviews, ranks, lambdas, numIters)"
   ]
  },
  {
   "cell_type": "markdown",
   "metadata": {},
   "source": [
    "A rank 1 approximation means that articles have the same ranking within each language. Not really waht we were hoping for."
   ]
  },
  {
   "cell_type": "markdown",
   "metadata": {},
   "source": [
    "### Inspect Ranking of EN articles missing in ES"
   ]
  },
  {
   "cell_type": "code",
   "execution_count": 121,
   "metadata": {
    "collapsed": false
   },
   "outputs": [],
   "source": [
    "df = get_named_rankings(cp, model)"
   ]
  },
  {
   "cell_type": "code",
   "execution_count": 122,
   "metadata": {
    "collapsed": false
   },
   "outputs": [
    {
     "data": {
      "text/html": [
       "<div style=\"max-height:1000px;max-width:1500px;overflow:auto;\">\n",
       "<table border=\"1\" class=\"dataframe\">\n",
       "  <thead>\n",
       "    <tr style=\"text-align: right;\">\n",
       "      <th></th>\n",
       "      <th>name</th>\n",
       "      <th>pageviews</th>\n",
       "      <th>score</th>\n",
       "    </tr>\n",
       "  </thead>\n",
       "  <tbody>\n",
       "    <tr>\n",
       "      <th>31705 </th>\n",
       "      <td>                                   Massan</td>\n",
       "      <td>  29756</td>\n",
       "      <td> 14.309044</td>\n",
       "    </tr>\n",
       "    <tr>\n",
       "      <th>4516  </th>\n",
       "      <td>                        Jeannette Bougrab</td>\n",
       "      <td>  95949</td>\n",
       "      <td> 13.884616</td>\n",
       "    </tr>\n",
       "    <tr>\n",
       "      <th>77859 </th>\n",
       "      <td>                  Wallander (film series)</td>\n",
       "      <td>  14213</td>\n",
       "      <td> 13.740674</td>\n",
       "    </tr>\n",
       "    <tr>\n",
       "      <th>34522 </th>\n",
       "      <td>                       Charlotte Kate Fox</td>\n",
       "      <td>  27971</td>\n",
       "      <td> 13.718313</td>\n",
       "    </tr>\n",
       "    <tr>\n",
       "      <th>160   </th>\n",
       "      <td>                        Your Lie in April</td>\n",
       "      <td> 520615</td>\n",
       "      <td> 13.586271</td>\n",
       "    </tr>\n",
       "    <tr>\n",
       "      <th>333045</th>\n",
       "      <td> Belarusian National Technical University</td>\n",
       "      <td>   2658</td>\n",
       "      <td> 13.574096</td>\n",
       "    </tr>\n",
       "    <tr>\n",
       "      <th>422181</th>\n",
       "      <td>                              Love Antell</td>\n",
       "      <td>   1887</td>\n",
       "      <td> 13.553452</td>\n",
       "    </tr>\n",
       "    <tr>\n",
       "      <th>19491 </th>\n",
       "      <td>     Telephone numbers in the Netherlands</td>\n",
       "      <td>  41335</td>\n",
       "      <td> 13.513248</td>\n",
       "    </tr>\n",
       "    <tr>\n",
       "      <th>217208</th>\n",
       "      <td>                             Jönssonligan</td>\n",
       "      <td>   4690</td>\n",
       "      <td> 13.488244</td>\n",
       "    </tr>\n",
       "    <tr>\n",
       "      <th>539   </th>\n",
       "      <td>                               Ebolavirus</td>\n",
       "      <td> 289408</td>\n",
       "      <td> 13.424642</td>\n",
       "    </tr>\n",
       "  </tbody>\n",
       "</table>\n",
       "</div>"
      ],
      "text/plain": [
       "                                            name  pageviews      score\n",
       "31705                                     Massan      29756  14.309044\n",
       "4516                           Jeannette Bougrab      95949  13.884616\n",
       "77859                    Wallander (film series)      14213  13.740674\n",
       "34522                         Charlotte Kate Fox      27971  13.718313\n",
       "160                            Your Lie in April     520615  13.586271\n",
       "333045  Belarusian National Technical University       2658  13.574096\n",
       "422181                               Love Antell       1887  13.553452\n",
       "19491       Telephone numbers in the Netherlands      41335  13.513248\n",
       "217208                              Jönssonligan       4690  13.488244\n",
       "539                                   Ebolavirus     289408  13.424642"
      ]
     },
     "execution_count": 122,
     "metadata": {},
     "output_type": "execute_result"
    }
   ],
   "source": [
    "df.head(10)"
   ]
  },
  {
   "cell_type": "markdown",
   "metadata": {},
   "source": [
    "Looks like there are articles popular in a mix of countries among the top ranked articles"
   ]
  },
  {
   "cell_type": "markdown",
   "metadata": {},
   "source": [
    "### Project Languages\n",
    "We can run ALS with rank 2 and see what languages end up close to each other"
   ]
  },
  {
   "cell_type": "code",
   "execution_count": null,
   "metadata": {
    "collapsed": true
   },
   "outputs": [],
   "source": [
    "model = ALS.train(training, 2, iterations = 15,  lambda_ = 0.1, nonnegative=True, seed=10)"
   ]
  },
  {
   "cell_type": "code",
   "execution_count": 118,
   "metadata": {
    "collapsed": false
   },
   "outputs": [
    {
     "data": {
      "image/png": "[encoded data removed]",
      "text/plain": [
       "<matplotlib.figure.Figure at 0x7f7ab3277bd0>"
      ]
     },
     "metadata": {},
     "output_type": "display_data"
    }
   ],
   "source": [
    "project(model, normalize=False)"
   ]
  },
  {
   "cell_type": "code",
   "execution_count": 119,
   "metadata": {
    "collapsed": false
   },
   "outputs": [
    {
     "data": {
      "image/png": "[encoded data removed]",
      "text/plain": [
       "<matplotlib.figure.Figure at 0x7f7ac18cc0d0>"
      ]
     },
     "metadata": {},
     "output_type": "display_data"
    }
   ],
   "source": [
    "project(model, normalize=True)"
   ]
  },
  {
   "cell_type": "markdown",
   "metadata": {},
   "source": [
    "# Log + Normalize Rows Transformarion"
   ]
  },
  {
   "cell_type": "markdown",
   "metadata": {
    "collapsed": false
   },
   "source": [
    "### Transform"
   ]
  },
  {
   "cell_type": "code",
   "execution_count": 25,
   "metadata": {
    "collapsed": false
   },
   "outputs": [
    {
     "name": "stdout",
     "output_type": "stream",
     "text": [
      "NORMALIZATION CONSTANTS\n",
      "{0: 18329214.416625448,\n",
      " 1: 7421456.765657312,\n",
      " 2: 7926217.643698666,\n",
      " 3: 6237313.184675915,\n",
      " 4: 6026920.662480737,\n",
      " 5: 5677050.307488076,\n",
      " 6: 3662377.933163915,\n",
      " 7: 4863420.026699739,\n",
      " 8: 5264657.804982263}\n",
      "Training: 6426665, validation: 2144696, Test: 2148670\n"
     ]
    }
   ],
   "source": [
    "log_pageviews = pageviews.map(lambda x: (x[0], x[1], math.log( max(1.0, x[2]))))\n",
    "user_normalization_constants = dict(log_pageviews.map(lambda x: (x[0], x[2])).reduceByKey(add).collect())\n",
    "print \"NORMALIZATION CONSTANTS\"\n",
    "pprint(user_normalization_constants)\n",
    "scale_factor = 100000.0\n",
    "log_norm_pageviews = log_pageviews.map(lambda x: (x[0], x[1], (scale_factor*x[2])/user_normalization_constants[x[0]]))\n",
    "training, validation, test = split_train_validation_test(log_norm_pageviews)"
   ]
  },
  {
   "cell_type": "markdown",
   "metadata": {
    "collapsed": false
   },
   "source": [
    "### Visualize Distributions"
   ]
  },
  {
   "cell_type": "code",
   "execution_count": 26,
   "metadata": {
    "collapsed": false
   },
   "outputs": [
    {
     "data": {
      "image/png": "[encoded data removed]",
      "text/plain": [
       "<matplotlib.figure.Figure at 0x7fc220b138d0>"
      ]
     },
     "metadata": {},
     "output_type": "display_data"
    }
   ],
   "source": [
    "views = training.filter(lambda x: x[0] == 0).map(lambda x: x[2]).collect()\n",
    "x = plt.hist(np.array(views), bins = 100)"
   ]
  },
  {
   "cell_type": "code",
   "execution_count": 27,
   "metadata": {
    "collapsed": false
   },
   "outputs": [
    {
     "data": {
      "image/png": "[encoded data removed]",
      "text/plain": [
       "<matplotlib.figure.Figure at 0x7fc2221e06d0>"
      ]
     },
     "metadata": {},
     "output_type": "display_data"
    }
   ],
   "source": [
    "views = training.filter(lambda x: x[0] == 1).map(lambda x: x[2]).collect()\n",
    "x = plt.hist(np.array(views), bins = 100)"
   ]
  },
  {
   "cell_type": "code",
   "execution_count": 28,
   "metadata": {
    "collapsed": false
   },
   "outputs": [
    {
     "data": {
      "image/png": "[encoded data removed]",
      "text/plain": [
       "<matplotlib.figure.Figure at 0x7fc21e3da350>"
      ]
     },
     "metadata": {},
     "output_type": "display_data"
    }
   ],
   "source": [
    "views = training.filter(lambda x: x[0] == 2).map(lambda x: x[2]).collect()\n",
    "x = plt.hist(np.array(views), bins = 100)"
   ]
  },
  {
   "cell_type": "markdown",
   "metadata": {
    "collapsed": true
   },
   "source": [
    "### Compute Baseline (mean \"user\" rating)"
   ]
  },
  {
   "cell_type": "code",
   "execution_count": 29,
   "metadata": {
    "collapsed": false
   },
   "outputs": [
    {
     "name": "stdout",
     "output_type": "stream",
     "text": [
      "Mean Ratings:\n",
      "        rating\n",
      "lang          \n",
      "0     0.040348\n",
      "1     0.086446\n",
      "2     0.075603\n",
      "3     0.099973\n",
      "4     0.074435\n",
      "5     0.114784\n",
      "6     0.186540\n",
      "7     0.086407\n",
      "8     0.115822\n",
      "RMSE (test):  0.023934\n"
     ]
    }
   ],
   "source": [
    "print_baseline(training, validation, test)"
   ]
  },
  {
   "cell_type": "markdown",
   "metadata": {},
   "source": [
    "### CV"
   ]
  },
  {
   "cell_type": "code",
   "execution_count": 30,
   "metadata": {
    "collapsed": false
   },
   "outputs": [
    {
     "name": "stdout",
     "output_type": "stream",
     "text": [
      "RMSE (validation) = 0.011655 for the model trained with rank = 1, lambda = 0.0001, and numIter = 15.\n",
      "RMSE (validation) = 0.014093 for the model trained with rank = 2, lambda = 0.0001, and numIter = 15.\n",
      "RMSE (validation) = 0.016067 for the model trained with rank = 3, lambda = 0.0001, and numIter = 15.\n",
      "RMSE (validation) = 0.011725 for the model trained with rank = 1, lambda = 0.0003, and numIter = 15.\n",
      "RMSE (validation) = 0.012603 for the model trained with rank = 2, lambda = 0.0003, and numIter = 15.\n",
      "RMSE (validation) = 0.012545 for the model trained with rank = 3, lambda = 0.0003, and numIter = 15.\n",
      "RMSE (validation) = 0.011791 for the model trained with rank = 1, lambda = 0.0005, and numIter = 15.\n",
      "RMSE (validation) = 0.011759 for the model trained with rank = 2, lambda = 0.0005, and numIter = 15.\n",
      "RMSE (validation) = 0.011690 for the model trained with rank = 3, lambda = 0.0005, and numIter = 15.\n",
      "RMSE (validation) = 0.011844 for the model trained with rank = 1, lambda = 0.0008, and numIter = 15.\n",
      "RMSE (validation) = 0.011480 for the model trained with rank = 2, lambda = 0.0008, and numIter = 15.\n",
      "RMSE (validation) = 0.011361 for the model trained with rank = 3, lambda = 0.0008, and numIter = 15.\n",
      "RMSE (validation) = 0.011877 for the model trained with rank = 1, lambda = 0.0010, and numIter = 15.\n",
      "RMSE (validation) = 0.011413 for the model trained with rank = 2, lambda = 0.0010, and numIter = 15.\n",
      "RMSE (validation) = 0.011397 for the model trained with rank = 3, lambda = 0.0010, and numIter = 15.\n",
      "The best model was trained with rank = 3 and lambda = 0.0, and numIter = 15, and its RMSE on the test set is 0.011629.\n",
      "The best model improves the baseline by 51.44%.\n"
     ]
    }
   ],
   "source": [
    "ranks = [1,2,3]\n",
    "numIters = [15]\n",
    "lambdas = [0.0001, 0.00025, 0.0005, 0.0008, 0.001]\n",
    "model, cv_results = cross_validation(training, validation, test, pageviews, ranks, lambdas, numIters)"
   ]
  },
  {
   "cell_type": "markdown",
   "metadata": {},
   "source": [
    "### Inspect Ranking of EN articles missing in ES"
   ]
  },
  {
   "cell_type": "code",
   "execution_count": 21,
   "metadata": {
    "collapsed": false
   },
   "outputs": [],
   "source": [
    "df = get_named_rankings(cp, model)"
   ]
  },
  {
   "cell_type": "code",
   "execution_count": 22,
   "metadata": {
    "collapsed": false
   },
   "outputs": [
    {
     "data": {
      "text/html": [
       "<div style=\"max-height:1000px;max-width:1500px;overflow:auto;\">\n",
       "<table border=\"1\" class=\"dataframe\">\n",
       "  <thead>\n",
       "    <tr style=\"text-align: right;\">\n",
       "      <th></th>\n",
       "      <th>id</th>\n",
       "      <th>name</th>\n",
       "      <th>en_pageviews</th>\n",
       "      <th>score</th>\n",
       "    </tr>\n",
       "  </thead>\n",
       "  <tbody>\n",
       "    <tr>\n",
       "      <th>532   </th>\n",
       "      <td>  5331908</td>\n",
       "      <td>                       Ebolavirus</td>\n",
       "      <td> 289408</td>\n",
       "      <td> 0.251467</td>\n",
       "    </tr>\n",
       "    <tr>\n",
       "      <th>5010  </th>\n",
       "      <td>   321149</td>\n",
       "      <td>                  Freddy Heineken</td>\n",
       "      <td>  90148</td>\n",
       "      <td> 0.239257</td>\n",
       "    </tr>\n",
       "    <tr>\n",
       "      <th>28912 </th>\n",
       "      <td>   689438</td>\n",
       "      <td>                           Tatort</td>\n",
       "      <td>  31851</td>\n",
       "      <td> 0.238903</td>\n",
       "    </tr>\n",
       "    <tr>\n",
       "      <th>568464</th>\n",
       "      <td>   508894</td>\n",
       "      <td>                              Åke</td>\n",
       "      <td>   1200</td>\n",
       "      <td> 0.236506</td>\n",
       "    </tr>\n",
       "    <tr>\n",
       "      <th>93839 </th>\n",
       "      <td>  4568100</td>\n",
       "      <td>                      David Batra</td>\n",
       "      <td>  11891</td>\n",
       "      <td> 0.234354</td>\n",
       "    </tr>\n",
       "    <tr>\n",
       "      <th>697646</th>\n",
       "      <td> 16939437</td>\n",
       "      <td> Kommissar Beck – Die neuen Fälle</td>\n",
       "      <td>    860</td>\n",
       "      <td> 0.233967</td>\n",
       "    </tr>\n",
       "    <tr>\n",
       "      <th>191977</th>\n",
       "      <td>  2202089</td>\n",
       "      <td>                          Familie</td>\n",
       "      <td>   5463</td>\n",
       "      <td> 0.231994</td>\n",
       "    </tr>\n",
       "    <tr>\n",
       "      <th>77842 </th>\n",
       "      <td> 12986432</td>\n",
       "      <td>          Wallander (film series)</td>\n",
       "      <td>  14213</td>\n",
       "      <td> 0.230566</td>\n",
       "    </tr>\n",
       "    <tr>\n",
       "      <th>3464  </th>\n",
       "      <td> 17385969</td>\n",
       "      <td>                     Kendji Girac</td>\n",
       "      <td> 109877</td>\n",
       "      <td> 0.229761</td>\n",
       "    </tr>\n",
       "    <tr>\n",
       "      <th>654898</th>\n",
       "      <td>  5710889</td>\n",
       "      <td>                     Hem till byn</td>\n",
       "      <td>    955</td>\n",
       "      <td> 0.227617</td>\n",
       "    </tr>\n",
       "  </tbody>\n",
       "</table>\n",
       "</div>"
      ],
      "text/plain": [
       "              id                              name  en_pageviews     score\n",
       "532      5331908                        Ebolavirus        289408  0.251467\n",
       "5010      321149                   Freddy Heineken         90148  0.239257\n",
       "28912     689438                            Tatort         31851  0.238903\n",
       "568464    508894                               Åke          1200  0.236506\n",
       "93839    4568100                       David Batra         11891  0.234354\n",
       "697646  16939437  Kommissar Beck – Die neuen Fälle           860  0.233967\n",
       "191977   2202089                           Familie          5463  0.231994\n",
       "77842   12986432           Wallander (film series)         14213  0.230566\n",
       "3464    17385969                      Kendji Girac        109877  0.229761\n",
       "654898   5710889                      Hem till byn           955  0.227617"
      ]
     },
     "execution_count": 22,
     "metadata": {},
     "output_type": "execute_result"
    }
   ],
   "source": [
    "df.head(10)"
   ]
  },
  {
   "cell_type": "markdown",
   "metadata": {},
   "source": [
    "### Project Languages\n",
    "We can run ALS with rank 2 and see what languages end up close to each other"
   ]
  },
  {
   "cell_type": "code",
   "execution_count": 19,
   "metadata": {
    "collapsed": true
   },
   "outputs": [],
   "source": [
    "model = ALS.train(training, 2, iterations = 15,  lambda_ = 0.001, nonnegative=True, seed=10)"
   ]
  },
  {
   "cell_type": "code",
   "execution_count": 7,
   "metadata": {
    "collapsed": false
   },
   "outputs": [
    {
     "name": "stderr",
     "output_type": "stream",
     "text": [
      "/home/ellery/anaconda/lib/python2.7/site-packages/matplotlib/text.py:1857: UserWarning: You have used the `textcoords` kwarg, but not the `xytext` kwarg.  This can lead to surprising results.\n",
      "  warnings.warn(\"You have used the `textcoords` kwarg, but not \"\n"
     ]
    },
    {
     "data": {
      "image/png": "[encoded data removed]",
      "text/plain": [
       "<matplotlib.figure.Figure at 0x7fc24ad2d310>"
      ]
     },
     "metadata": {},
     "output_type": "display_data"
    }
   ],
   "source": [
    "project(model, normalize=False)"
   ]
  },
  {
   "cell_type": "code",
   "execution_count": 10,
   "metadata": {
    "collapsed": false
   },
   "outputs": [
    {
     "data": {
      "image/png": "[encoded data removed]",
      "text/plain": [
       "<matplotlib.figure.Figure at 0x7fc23010ec10>"
      ]
     },
     "metadata": {},
     "output_type": "display_data"
    }
   ],
   "source": [
    "project(model, normalize=True)"
   ]
  },
  {
   "cell_type": "code",
   "execution_count": null,
   "metadata": {
    "collapsed": true
   },
   "outputs": [],
   "source": []
  },
  {
   "cell_type": "code",
   "execution_count": null,
   "metadata": {
    "collapsed": true
   },
   "outputs": [],
   "source": []
  },
  {
   "cell_type": "code",
   "execution_count": null,
   "metadata": {
    "collapsed": true
   },
   "outputs": [],
   "source": []
  },
  {
   "cell_type": "code",
   "execution_count": null,
   "metadata": {
    "collapsed": true
   },
   "outputs": [],
   "source": []
  },
  {
   "cell_type": "markdown",
   "metadata": {},
   "source": [
    "#Scratch"
   ]
  },
  {
   "cell_type": "code",
   "execution_count": null,
   "metadata": {
    "collapsed": true
   },
   "outputs": [],
   "source": [
    "def print_baseline_distributed(training, validation, test):\n",
    "    numTest = test.count()  \n",
    "    \n",
    "    sumUserRatings = training.union(validation)\\\n",
    "    .map(lambda x: (x[0], x[2]))\\\n",
    "    .reduce(add)\n",
    "    \n",
    "    numUserRatings = training.union(validation)\\\n",
    "    .map(lambda x: (x[0], 1.0))\\\n",
    "    .reduce(add)\n",
    "    \n",
    "    meanUserRatings = sumUserRatings.join(numUserRatings).map(lambda x: (x[0], x[1][0]/x[1][1]))\n",
    "    meanUserRatings = dict(meanUserRatings.collect())\n",
    "    baselineRmse = sqrt(test.map(lambda x: (meanUserRatings[x[0]] - x[2]) ** 2).reduce(add) / numTest)\n",
    "    \n",
    "    print \"Mean Ratings:\"\n",
    "    pprint(meanUserRatings)\n",
    "    \n",
    "    print \"RMSE (test):  %f\" % baselineRmse\n",
    "    "
   ]
  },
  {
   "cell_type": "code",
   "execution_count": 29,
   "metadata": {
    "collapsed": false
   },
   "outputs": [],
   "source": [
    "def to_libsvm(x):\n",
    "    line = x[0][1:] + ' '\n",
    "    langs = [str(lang2id[d['lang']]) + ':' + d['pageview_count'] for d in x[1]]\n",
    "    langs.sort()\n",
    "    return line + ' '.join(langs)\n",
    "    \n",
    "names = [ 'id', 'lang', 'title', 'pageview_count']\n",
    "\n",
    "k = 3\n",
    "\n",
    "pageviews = sc.textFile(cp.get('general', 'pageviews'))\\\n",
    ".map(get_parser(names))\\\n",
    ".filter(lambda x: len(x) == 4)\\\n",
    ".filter(lambda x: x['lang'] in languages_set)\\\n",
    ".map(lambda x: (x['id'], x))\\\n",
    ".groupByKey().filter(lambda x: len(x[1]) >=k ).map(to_libsvm)"
   ]
  },
  {
   "cell_type": "code",
   "execution_count": 30,
   "metadata": {
    "collapsed": false
   },
   "outputs": [
    {
     "name": "stdout",
     "output_type": "stream",
     "text": [
      "256\n",
      "0\n",
      "256\n",
      "256\n",
      "0\n",
      "0\n",
      "0\n",
      "0\n"
     ]
    }
   ],
   "source": [
    "exp_dir = 'importance'\n",
    "fname = 'libsvm.txt'\n",
    "base_dir = os.path.join(cp.get('general', 'local_data_dir'), exp_dir)\n",
    "hadoop_base_dir = os.path.join(cp.get('general', 'hadoop_data_dir'), exp_dir)\n",
    "save_rdd(pageviews, base_dir , hadoop_base_dir, fname)"
   ]
  },
  {
   "cell_type": "code",
   "execution_count": 37,
   "metadata": {
    "collapsed": false
   },
   "outputs": [],
   "source": [
    "from sklearn.datasets import load_svmlight_file\n",
    "X, Y= load_svmlight_file(os.path.join(base_dir, fname))"
   ]
  },
  {
   "cell_type": "code",
   "execution_count": 44,
   "metadata": {
    "collapsed": false
   },
   "outputs": [],
   "source": [
    "X = X.T\n",
    "from sklearn.preprocessing import normalize\n",
    "X = normalize(X, norm='l2', axis=1, copy=True)"
   ]
  },
  {
   "cell_type": "code",
   "execution_count": 45,
   "metadata": {
    "collapsed": false
   },
   "outputs": [
    {
     "name": "stdout",
     "output_type": "stream",
     "text": [
      "[ 0.97762391  0.00994535  0.00675686]\n"
     ]
    }
   ],
   "source": [
    "import numpy as np\n",
    "from sklearn.decomposition import PCA\n",
    "pca = PCA(n_components=3)\n",
    "pca.fit(X.T.toarray())\n",
    "print(pca.explained_variance_ratio_) "
   ]
  },
  {
   "cell_type": "code",
   "execution_count": 41,
   "metadata": {
    "collapsed": false
   },
   "outputs": [
    {
     "data": {
      "text/plain": [
       "<1254410x7 sparse matrix of type '<type 'numpy.float64'>'\n",
       "\twith 5373355 stored elements in Compressed Sparse Row format>"
      ]
     },
     "execution_count": 41,
     "metadata": {},
     "output_type": "execute_result"
    }
   ],
   "source": [
    "X"
   ]
  }
 ],
 "metadata": {
  "kernelspec": {
   "display_name": "Python 2",
   "language": "python",
   "name": "python2"
  },
  "language_info": {
   "codemirror_mode": {
    "name": "ipython",
    "version": 2
   },
   "file_extension": ".py",
   "mimetype": "text/x-python",
   "name": "python",
   "nbconvert_exporter": "python",
   "pygments_lexer": "ipython2",
   "version": "2.7.9"
  }
 },
 "nbformat": 4,
 "nbformat_minor": 0
}
