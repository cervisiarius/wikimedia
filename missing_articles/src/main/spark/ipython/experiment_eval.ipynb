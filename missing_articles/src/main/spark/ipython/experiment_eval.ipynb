{
 "cells": [
  {
   "cell_type": "markdown",
   "metadata": {},
   "source": [
    "#Code"
   ]
  },
  {
   "cell_type": "code",
   "execution_count": 1,
   "metadata": {
    "collapsed": false
   },
   "outputs": [
    {
     "name": "stderr",
     "output_type": "stream",
     "text": [
      "Vendor:  Continuum Analytics, Inc.\n",
      "Package: mkl\n",
      "Message: trial mode expires in 28 days\n"
     ]
    }
   ],
   "source": [
    "import pymysql\n",
    "import pandas as pd\n",
    "import matplotlib.pyplot as plt\n",
    "import json\n",
    "import time\n",
    "%matplotlib inline\n",
    "from scipy.stats import norm\n",
    "from numpy.random import  beta\n",
    "import numpy as np\n",
    "from statsmodels.stats.power import tt_ind_solve_power\n",
    "from numpy.random import dirichlet\n",
    "\n",
    "def query_db(host,query, params):\n",
    "    conn = pymysql.connect(host =host, read_default_file=\"/etc/mysql/conf.d/analytics-research-client.cnf\")\n",
    "    cursor = conn.cursor(pymysql.cursors.DictCursor)\n",
    "    cursor.execute(query, params)\n",
    "    rows = cursor.fetchall()\n",
    "    conn.close()\n",
    "    return mysql_to_pandas(rows)\n",
    "\n",
    "\n",
    "def mysql_to_pandas(dicts):\n",
    "    dmaster = {}\n",
    "    for d in dicts:\n",
    "        for k in d.keys():\n",
    "            if k not in dmaster:\n",
    "                dmaster[k] = []\n",
    "            \n",
    "            dmaster[k].append(d[k]) \n",
    "    return pd.DataFrame(dmaster)\n",
    "\n",
    "def decode(x):\n",
    "    try:\n",
    "         return x.decode('utf-8')\n",
    "    except:\n",
    "        return x\n",
    "\n",
    "\n",
    "def get_uname(uid):\n",
    "    query = \"SELECT gu_name from centralauth.globaluser where gu_id = %(id)s\"\n",
    "    try:\n",
    "        return query_db( 'analytics-store.eqiad.wmnet', query,  {'id': uid  })['gu_name'][0]\n",
    "    except:\n",
    "        return None\n",
    "    \n",
    "\n",
    "def get_recs_df():\n",
    "    rec_file = \"/home/ellery/en-fr/final/frwiki-personal-recs.json\"\n",
    "    f = open(rec_file)\n",
    "    recs = json.load(f)\n",
    "    tuples = []\n",
    "    for obj in recs:\n",
    "        user = obj['user']\n",
    "        for rec in obj['recommendations']:\n",
    "            title = rec['title'].replace('_', ' ')\n",
    "            score = rec['score']\n",
    "            tuples.append((user, title, 'personal', score), )\n",
    "\n",
    "    rec_file = \"/home/ellery/en-fr/final/frwiki-random-recs.json\"\n",
    "    f = open(rec_file)\n",
    "    recs = json.load(f)\n",
    "    for obj in recs:\n",
    "        user = obj['user']\n",
    "        for rec in obj['recommendations']:\n",
    "            title = rec['title'].replace('_', ' ')\n",
    "            score = rec['score']\n",
    "            tuples.append((user, title, 'random', score))\n",
    "\n",
    "\n",
    "    d_recs = pd.DataFrame(tuples)\n",
    "    d_recs.columns = ['user', 'translation_source_title', 'condition', 'affinity']\n",
    "    return d_recs\n",
    "\n",
    "def custom_rate_stats(a_num_events, a_num_trials, b_num_events, b_num_trials, alabel = 'A', blabel = 'B', conf=95, plot =True):\n",
    "    a_dist = get_beta_dist(a_num_events, a_num_trials)\n",
    "    b_dist = get_beta_dist(b_num_events, b_num_trials)\n",
    "    d = pd.DataFrame.from_dict({alabel:a_dist, blabel:b_dist})\n",
    "    return print_rate_stats(d, conf, plot)\n",
    "\n",
    "def print_rate_stats(dists, conf, plot):\n",
    "\n",
    "    \"\"\"\n",
    "    Helper function to create a pandas datframe with rate statistics\n",
    "    \"\"\"\n",
    "\n",
    "    if plot:\n",
    "        plot_dist(dists)\n",
    "    result_df = pd.DataFrame()\n",
    "\n",
    "    def f(d):\n",
    "        rci = bayesian_ci(d, conf)\n",
    "        return \"(%0.6f, %0.6f)\" % (rci[0], rci[1])\n",
    "\n",
    "    result_df['Confidence Interval'] = dists.apply(f)\n",
    "\n",
    "    def f(d):\n",
    "        return d.idxmax()\n",
    "    best = dists.apply(f, axis=1)\n",
    "    result_df['P(Winner)'] = best.value_counts() / best.shape[0]\n",
    "    result_df = result_df.sort('P(Winner)', ascending=False)\n",
    "\n",
    "    def f(d):\n",
    "        ref_d = dists[result_df.index[0]]\n",
    "        lift_ci = bayesian_ci(100.0 * ((ref_d - d) / d), conf)\n",
    "        return \"(%0.2f%%, %0.2f%%)\" % (lift_ci[0], lift_ci[1])\n",
    "\n",
    "    result_df['Winners Lift'] = dists.apply(f)\n",
    "\n",
    "    return result_df[['P(Winner)', 'Winners Lift', 'Confidence Interval']]\n",
    "\n",
    "def get_beta_dist(num_events, num_trials, num_samples = 50000):\n",
    "    return beta(num_events+1, num_trials-num_events+1, num_samples)\n",
    "\n",
    "\n",
    "def bayesian_ci(dist, conf):\n",
    "    return (np.percentile(dist, (100.0 - conf)/2.0 ), np.percentile(dist, conf + (100.0 - conf)/2.0 ))\n",
    "\n",
    "def plot_dist(dists):\n",
    "    \"\"\"\n",
    "    Helper function to plot the probability distribution over\n",
    "    the donation rates (bayesian formalism)\n",
    "    \"\"\"\n",
    "    fig =  plt.figure(figsize=(13, 3))\n",
    "\n",
    "    bins = 50\n",
    "    for name in dists.columns:\n",
    "        plt.hist(dists[name], bins=bins, alpha=0.6, label=name, normed=True)\n",
    "    plt.legend(loc='center left', bbox_to_anchor=(1, 0.5))\n",
    "    plt.xlabel('Activation Rate')\n",
    "    plt.ylabel('Posterior Probablility Density')\n",
    "    \n",
    "    \n",
    "\n",
    "from collections import Counter\n",
    "def bihist(a, a_label, b, b_label):\n",
    "    \"\"\"\n",
    "    This one only operates in 2 banners.\n",
    "    It gives very nice histogramms of donation amounts\n",
    "    \"\"\"\n",
    "    a_cntr = Counter(a)\n",
    "    b_cntr = Counter(b)\n",
    "\n",
    "    print (a_cntr)\n",
    "\n",
    "    keys = [int(s) for s in set(a_cntr.keys()).union(b_cntr.keys())]\n",
    "    keys.sort()\n",
    "\n",
    "    a_values = [a_cntr.get(k, 0) for k in keys]\n",
    "    b_values = [b_cntr.get(k, 0) for k in keys]\n",
    "\n",
    "\n",
    "    fig, ax = plt.subplots()\n",
    "    fig.set_size_inches(7, 4)\n",
    "\n",
    "    ind = 2.5*np.arange(len(keys))  # the x locations for the groups\n",
    "    width = 1.2       # the width of the bars\n",
    "\n",
    "    a_rects = ax.bar(ind, a_values, align='center', facecolor ='yellow', edgecolor='gray', label =a_label)\n",
    "    b_rects = ax.bar(ind+width, b_values, align='center', facecolor ='blue', edgecolor='gray', label =b_label)\n",
    "\n",
    "    ax.set_xticks(ind+width/2)\n",
    "    ax.set_xticklabels(keys)\n",
    "    ax.legend()\n",
    "\n",
    "\n",
    "    def autolabel(rects):\n",
    "        # attach some text labels\n",
    "        for rect in rects:\n",
    "            height = rect.get_height()\n",
    "            ax.text(rect.get_x()+rect.get_width()/2., 1.05*height, '%d'%int(height),\n",
    "                    ha='center', va='bottom')\n",
    "\n",
    "    autolabel(a_rects)\n",
    "    autolabel(b_rects)\n",
    "\n",
    "    plt.show()"
   ]
  },
  {
   "cell_type": "markdown",
   "metadata": {},
   "source": [
    "# Collect and Merge Data Sources"
   ]
  },
  {
   "cell_type": "code",
   "execution_count": 2,
   "metadata": {
    "collapsed": false
   },
   "outputs": [
    {
     "ename": "OperationalError",
     "evalue": "(2003, \"Can't connect to MySQL server on 'x1-slave.eqiad.wmnet' ([Errno 8] nodename nor servname provided, or not known)\")",
     "output_type": "error",
     "traceback": [
      "\u001b[0;31m---------------------------------------------------------------------------\u001b[0m",
      "\u001b[0;31mgaierror\u001b[0m                                  Traceback (most recent call last)",
      "\u001b[0;32m/Users/ellerywulczyn/miniconda3/lib/python3.4/site-packages/pymysql/connections.py\u001b[0m in \u001b[0;36m_connect\u001b[0;34m(self)\u001b[0m\n\u001b[1;32m    822\u001b[0m                         sock = socket.create_connection(\n\u001b[0;32m--> 823\u001b[0;31m                             (self.host, self.port), self.connect_timeout)\n\u001b[0m\u001b[1;32m    824\u001b[0m                         \u001b[0;32mbreak\u001b[0m\u001b[0;34m\u001b[0m\u001b[0m\n",
      "\u001b[0;32m/Users/ellerywulczyn/miniconda3/lib/python3.4/socket.py\u001b[0m in \u001b[0;36mcreate_connection\u001b[0;34m(address, timeout, source_address)\u001b[0m\n\u001b[1;32m    493\u001b[0m     \u001b[0merr\u001b[0m \u001b[0;34m=\u001b[0m \u001b[0;32mNone\u001b[0m\u001b[0;34m\u001b[0m\u001b[0m\n\u001b[0;32m--> 494\u001b[0;31m     \u001b[0;32mfor\u001b[0m \u001b[0mres\u001b[0m \u001b[0;32min\u001b[0m \u001b[0mgetaddrinfo\u001b[0m\u001b[0;34m(\u001b[0m\u001b[0mhost\u001b[0m\u001b[0;34m,\u001b[0m \u001b[0mport\u001b[0m\u001b[0;34m,\u001b[0m \u001b[0;36m0\u001b[0m\u001b[0;34m,\u001b[0m \u001b[0mSOCK_STREAM\u001b[0m\u001b[0;34m)\u001b[0m\u001b[0;34m:\u001b[0m\u001b[0;34m\u001b[0m\u001b[0m\n\u001b[0m\u001b[1;32m    495\u001b[0m         \u001b[0maf\u001b[0m\u001b[0;34m,\u001b[0m \u001b[0msocktype\u001b[0m\u001b[0;34m,\u001b[0m \u001b[0mproto\u001b[0m\u001b[0;34m,\u001b[0m \u001b[0mcanonname\u001b[0m\u001b[0;34m,\u001b[0m \u001b[0msa\u001b[0m \u001b[0;34m=\u001b[0m \u001b[0mres\u001b[0m\u001b[0;34m\u001b[0m\u001b[0m\n",
      "\u001b[0;32m/Users/ellerywulczyn/miniconda3/lib/python3.4/socket.py\u001b[0m in \u001b[0;36mgetaddrinfo\u001b[0;34m(host, port, family, type, proto, flags)\u001b[0m\n\u001b[1;32m    532\u001b[0m     \u001b[0maddrlist\u001b[0m \u001b[0;34m=\u001b[0m \u001b[0;34m[\u001b[0m\u001b[0;34m]\u001b[0m\u001b[0;34m\u001b[0m\u001b[0m\n\u001b[0;32m--> 533\u001b[0;31m     \u001b[0;32mfor\u001b[0m \u001b[0mres\u001b[0m \u001b[0;32min\u001b[0m \u001b[0m_socket\u001b[0m\u001b[0;34m.\u001b[0m\u001b[0mgetaddrinfo\u001b[0m\u001b[0;34m(\u001b[0m\u001b[0mhost\u001b[0m\u001b[0;34m,\u001b[0m \u001b[0mport\u001b[0m\u001b[0;34m,\u001b[0m \u001b[0mfamily\u001b[0m\u001b[0;34m,\u001b[0m \u001b[0mtype\u001b[0m\u001b[0;34m,\u001b[0m \u001b[0mproto\u001b[0m\u001b[0;34m,\u001b[0m \u001b[0mflags\u001b[0m\u001b[0;34m)\u001b[0m\u001b[0;34m:\u001b[0m\u001b[0;34m\u001b[0m\u001b[0m\n\u001b[0m\u001b[1;32m    534\u001b[0m         \u001b[0maf\u001b[0m\u001b[0;34m,\u001b[0m \u001b[0msocktype\u001b[0m\u001b[0;34m,\u001b[0m \u001b[0mproto\u001b[0m\u001b[0;34m,\u001b[0m \u001b[0mcanonname\u001b[0m\u001b[0;34m,\u001b[0m \u001b[0msa\u001b[0m \u001b[0;34m=\u001b[0m \u001b[0mres\u001b[0m\u001b[0;34m\u001b[0m\u001b[0m\n",
      "\u001b[0;31mgaierror\u001b[0m: [Errno 8] nodename nor servname provided, or not known",
      "\nDuring handling of the above exception, another exception occurred:\n",
      "\u001b[0;31mOperationalError\u001b[0m                          Traceback (most recent call last)",
      "\u001b[0;32m<ipython-input-2-ebd6d681a48f>\u001b[0m in \u001b[0;36m<module>\u001b[0;34m()\u001b[0m\n\u001b[0;32m----> 1\u001b[0;31m \u001b[0mcx_df\u001b[0m \u001b[0;34m=\u001b[0m \u001b[0mquery_db\u001b[0m\u001b[0;34m(\u001b[0m \u001b[0;34m'x1-slave.eqiad.wmnet'\u001b[0m\u001b[0;34m,\u001b[0m \u001b[0;34m\"SELECT * FROM wikishared.cx_translations WHERE translation_started_by = translation_last_update_by  \"\u001b[0m\u001b[0;34m,\u001b[0m \u001b[0;34m{\u001b[0m\u001b[0;34m}\u001b[0m\u001b[0;34m)\u001b[0m\u001b[0;34m\u001b[0m\u001b[0m\n\u001b[0m\u001b[1;32m      2\u001b[0m \u001b[0mcx_df\u001b[0m\u001b[0;34m[\u001b[0m\u001b[0;34m'user'\u001b[0m\u001b[0;34m]\u001b[0m \u001b[0;34m=\u001b[0m  \u001b[0mcx_df\u001b[0m\u001b[0;34m[\u001b[0m\u001b[0;34m'translation_last_update_by'\u001b[0m\u001b[0;34m]\u001b[0m\u001b[0;34m.\u001b[0m\u001b[0mapply\u001b[0m\u001b[0;34m(\u001b[0m\u001b[0;32mlambda\u001b[0m \u001b[0mx\u001b[0m\u001b[0;34m:\u001b[0m \u001b[0mget_uname\u001b[0m\u001b[0;34m(\u001b[0m\u001b[0mint\u001b[0m\u001b[0;34m(\u001b[0m\u001b[0mx\u001b[0m\u001b[0;34m)\u001b[0m\u001b[0;34m)\u001b[0m\u001b[0;34m)\u001b[0m\u001b[0;34m\u001b[0m\u001b[0m\n",
      "\u001b[0;32m<ipython-input-1-cba175b112dc>\u001b[0m in \u001b[0;36mquery_db\u001b[0;34m(host, query, params)\u001b[0m\n\u001b[1;32m     12\u001b[0m \u001b[0;34m\u001b[0m\u001b[0m\n\u001b[1;32m     13\u001b[0m \u001b[0;32mdef\u001b[0m \u001b[0mquery_db\u001b[0m\u001b[0;34m(\u001b[0m\u001b[0mhost\u001b[0m\u001b[0;34m,\u001b[0m\u001b[0mquery\u001b[0m\u001b[0;34m,\u001b[0m \u001b[0mparams\u001b[0m\u001b[0;34m)\u001b[0m\u001b[0;34m:\u001b[0m\u001b[0;34m\u001b[0m\u001b[0m\n\u001b[0;32m---> 14\u001b[0;31m     \u001b[0mconn\u001b[0m \u001b[0;34m=\u001b[0m \u001b[0mpymysql\u001b[0m\u001b[0;34m.\u001b[0m\u001b[0mconnect\u001b[0m\u001b[0;34m(\u001b[0m\u001b[0mhost\u001b[0m \u001b[0;34m=\u001b[0m\u001b[0mhost\u001b[0m\u001b[0;34m,\u001b[0m \u001b[0mread_default_file\u001b[0m\u001b[0;34m=\u001b[0m\u001b[0;34m\"/etc/mysql/conf.d/analytics-research-client.cnf\"\u001b[0m\u001b[0;34m)\u001b[0m\u001b[0;34m\u001b[0m\u001b[0m\n\u001b[0m\u001b[1;32m     15\u001b[0m     \u001b[0mcursor\u001b[0m \u001b[0;34m=\u001b[0m \u001b[0mconn\u001b[0m\u001b[0;34m.\u001b[0m\u001b[0mcursor\u001b[0m\u001b[0;34m(\u001b[0m\u001b[0mpymysql\u001b[0m\u001b[0;34m.\u001b[0m\u001b[0mcursors\u001b[0m\u001b[0;34m.\u001b[0m\u001b[0mDictCursor\u001b[0m\u001b[0;34m)\u001b[0m\u001b[0;34m\u001b[0m\u001b[0m\n\u001b[1;32m     16\u001b[0m     \u001b[0mcursor\u001b[0m\u001b[0;34m.\u001b[0m\u001b[0mexecute\u001b[0m\u001b[0;34m(\u001b[0m\u001b[0mquery\u001b[0m\u001b[0;34m,\u001b[0m \u001b[0mparams\u001b[0m\u001b[0;34m)\u001b[0m\u001b[0;34m\u001b[0m\u001b[0m\n",
      "\u001b[0;32m/Users/ellerywulczyn/miniconda3/lib/python3.4/site-packages/pymysql/__init__.py\u001b[0m in \u001b[0;36mConnect\u001b[0;34m(*args, **kwargs)\u001b[0m\n\u001b[1;32m     86\u001b[0m     \"\"\"\n\u001b[1;32m     87\u001b[0m     \u001b[0;32mfrom\u001b[0m \u001b[0;34m.\u001b[0m\u001b[0mconnections\u001b[0m \u001b[0;32mimport\u001b[0m \u001b[0mConnection\u001b[0m\u001b[0;34m\u001b[0m\u001b[0m\n\u001b[0;32m---> 88\u001b[0;31m     \u001b[0;32mreturn\u001b[0m \u001b[0mConnection\u001b[0m\u001b[0;34m(\u001b[0m\u001b[0;34m*\u001b[0m\u001b[0margs\u001b[0m\u001b[0;34m,\u001b[0m \u001b[0;34m**\u001b[0m\u001b[0mkwargs\u001b[0m\u001b[0;34m)\u001b[0m\u001b[0;34m\u001b[0m\u001b[0m\n\u001b[0m\u001b[1;32m     89\u001b[0m \u001b[0;34m\u001b[0m\u001b[0m\n\u001b[1;32m     90\u001b[0m \u001b[0;32mfrom\u001b[0m \u001b[0mpymysql\u001b[0m \u001b[0;32mimport\u001b[0m \u001b[0mconnections\u001b[0m \u001b[0;32mas\u001b[0m \u001b[0m_orig_conn\u001b[0m\u001b[0;34m\u001b[0m\u001b[0m\n",
      "\u001b[0;32m/Users/ellerywulczyn/miniconda3/lib/python3.4/site-packages/pymysql/connections.py\u001b[0m in \u001b[0;36m__init__\u001b[0;34m(self, host, user, password, database, port, unix_socket, charset, sql_mode, read_default_file, conv, use_unicode, client_flag, cursorclass, init_command, connect_timeout, ssl, read_default_group, compress, named_pipe, no_delay, autocommit, db, passwd, local_infile)\u001b[0m\n\u001b[1;32m    642\u001b[0m         \u001b[0mself\u001b[0m\u001b[0;34m.\u001b[0m\u001b[0msql_mode\u001b[0m \u001b[0;34m=\u001b[0m \u001b[0msql_mode\u001b[0m\u001b[0;34m\u001b[0m\u001b[0m\n\u001b[1;32m    643\u001b[0m         \u001b[0mself\u001b[0m\u001b[0;34m.\u001b[0m\u001b[0minit_command\u001b[0m \u001b[0;34m=\u001b[0m \u001b[0minit_command\u001b[0m\u001b[0;34m\u001b[0m\u001b[0m\n\u001b[0;32m--> 644\u001b[0;31m         \u001b[0mself\u001b[0m\u001b[0;34m.\u001b[0m\u001b[0m_connect\u001b[0m\u001b[0;34m(\u001b[0m\u001b[0;34m)\u001b[0m\u001b[0;34m\u001b[0m\u001b[0m\n\u001b[0m\u001b[1;32m    645\u001b[0m \u001b[0;34m\u001b[0m\u001b[0m\n\u001b[1;32m    646\u001b[0m     \u001b[0;32mdef\u001b[0m \u001b[0mclose\u001b[0m\u001b[0;34m(\u001b[0m\u001b[0mself\u001b[0m\u001b[0;34m)\u001b[0m\u001b[0;34m:\u001b[0m\u001b[0;34m\u001b[0m\u001b[0m\n",
      "\u001b[0;32m/Users/ellerywulczyn/miniconda3/lib/python3.4/site-packages/pymysql/connections.py\u001b[0m in \u001b[0;36m_connect\u001b[0;34m(self)\u001b[0m\n\u001b[1;32m    867\u001b[0m                 \u001b[0mexc\u001b[0m\u001b[0;34m.\u001b[0m\u001b[0mtraceback\u001b[0m \u001b[0;34m=\u001b[0m \u001b[0mtraceback\u001b[0m\u001b[0;34m.\u001b[0m\u001b[0mformat_exc\u001b[0m\u001b[0;34m(\u001b[0m\u001b[0;34m)\u001b[0m\u001b[0;34m\u001b[0m\u001b[0m\n\u001b[1;32m    868\u001b[0m                 \u001b[0;32mif\u001b[0m \u001b[0mDEBUG\u001b[0m\u001b[0;34m:\u001b[0m \u001b[0mprint\u001b[0m\u001b[0;34m(\u001b[0m\u001b[0mexc\u001b[0m\u001b[0;34m.\u001b[0m\u001b[0mtraceback\u001b[0m\u001b[0;34m)\u001b[0m\u001b[0;34m\u001b[0m\u001b[0m\n\u001b[0;32m--> 869\u001b[0;31m                 \u001b[0;32mraise\u001b[0m \u001b[0mexc\u001b[0m\u001b[0;34m\u001b[0m\u001b[0m\n\u001b[0m\u001b[1;32m    870\u001b[0m \u001b[0;34m\u001b[0m\u001b[0m\n\u001b[1;32m    871\u001b[0m             \u001b[0;31m# If e is neither DatabaseError or IOError, It's a bug.\u001b[0m\u001b[0;34m\u001b[0m\u001b[0;34m\u001b[0m\u001b[0m\n",
      "\u001b[0;31mOperationalError\u001b[0m: (2003, \"Can't connect to MySQL server on 'x1-slave.eqiad.wmnet' ([Errno 8] nodename nor servname provided, or not known)\")"
     ]
    }
   ],
   "source": [
    "cx_df = query_db( 'x1-slave.eqiad.wmnet', \"SELECT * FROM wikishared.cx_translations WHERE translation_started_by = translation_last_update_by  \", {})\n",
    "cx_df['user'] =  cx_df['translation_last_update_by'].apply(lambda x: get_uname(int(x)))"
   ]
  },
  {
   "cell_type": "code",
   "execution_count": 3,
   "metadata": {
    "collapsed": false
   },
   "outputs": [
    {
     "ename": "FileNotFoundError",
     "evalue": "[Errno 2] No such file or directory: '/home/ellery/en-fr/final/frwiki-personal-recs.json'",
     "output_type": "error",
     "traceback": [
      "\u001b[0;31m---------------------------------------------------------------------------\u001b[0m",
      "\u001b[0;31mFileNotFoundError\u001b[0m                         Traceback (most recent call last)",
      "\u001b[0;32m<ipython-input-3-bbcfcfb4a83a>\u001b[0m in \u001b[0;36m<module>\u001b[0;34m()\u001b[0m\n\u001b[0;32m----> 1\u001b[0;31m \u001b[0md_recs\u001b[0m \u001b[0;34m=\u001b[0m \u001b[0mget_recs_df\u001b[0m\u001b[0;34m(\u001b[0m\u001b[0;34m)\u001b[0m\u001b[0;34m\u001b[0m\u001b[0m\n\u001b[0m\u001b[1;32m      2\u001b[0m \u001b[0md_recs\u001b[0m \u001b[0;34m=\u001b[0m \u001b[0md_recs\u001b[0m\u001b[0;34m.\u001b[0m\u001b[0mmerge\u001b[0m\u001b[0;34m(\u001b[0m\u001b[0mcx_df\u001b[0m\u001b[0;34m,\u001b[0m \u001b[0mhow\u001b[0m \u001b[0;34m=\u001b[0m \u001b[0;34m'left'\u001b[0m\u001b[0;34m,\u001b[0m \u001b[0mon\u001b[0m \u001b[0;34m=\u001b[0m \u001b[0;34m[\u001b[0m\u001b[0;34m'user'\u001b[0m\u001b[0;34m,\u001b[0m \u001b[0;34m'translation_source_title'\u001b[0m\u001b[0;34m]\u001b[0m\u001b[0;34m)\u001b[0m\u001b[0;34m\u001b[0m\u001b[0m\n\u001b[1;32m      3\u001b[0m \u001b[0md_recs\u001b[0m\u001b[0;34m[\u001b[0m\u001b[0;34m'started'\u001b[0m\u001b[0;34m]\u001b[0m \u001b[0;34m=\u001b[0m \u001b[0md_recs\u001b[0m\u001b[0;34m[\u001b[0m\u001b[0;34m'translation_id'\u001b[0m\u001b[0;34m]\u001b[0m\u001b[0;34m.\u001b[0m\u001b[0mnotnull\u001b[0m\u001b[0;34m(\u001b[0m\u001b[0;34m)\u001b[0m\u001b[0;34m\u001b[0m\u001b[0m\n\u001b[1;32m      4\u001b[0m \u001b[0md_recs\u001b[0m\u001b[0;34m[\u001b[0m\u001b[0;34m'rank'\u001b[0m\u001b[0;34m]\u001b[0m \u001b[0;34m=\u001b[0m \u001b[0md_recs\u001b[0m\u001b[0;34m.\u001b[0m\u001b[0mgroupby\u001b[0m\u001b[0;34m(\u001b[0m\u001b[0;34m'user'\u001b[0m\u001b[0;34m)\u001b[0m\u001b[0;34m[\u001b[0m\u001b[0;34m'affinity'\u001b[0m\u001b[0;34m]\u001b[0m\u001b[0;34m.\u001b[0m\u001b[0mrank\u001b[0m\u001b[0;34m(\u001b[0m\u001b[0mascending\u001b[0m\u001b[0;34m=\u001b[0m\u001b[0;32mFalse\u001b[0m\u001b[0;34m,\u001b[0m \u001b[0mmethod\u001b[0m \u001b[0;34m=\u001b[0m \u001b[0;34m'first'\u001b[0m\u001b[0;34m)\u001b[0m\u001b[0;34m\u001b[0m\u001b[0m\n",
      "\u001b[0;32m<ipython-input-1-cba175b112dc>\u001b[0m in \u001b[0;36mget_recs_df\u001b[0;34m()\u001b[0m\n\u001b[1;32m     47\u001b[0m \u001b[0;32mdef\u001b[0m \u001b[0mget_recs_df\u001b[0m\u001b[0;34m(\u001b[0m\u001b[0;34m)\u001b[0m\u001b[0;34m:\u001b[0m\u001b[0;34m\u001b[0m\u001b[0m\n\u001b[1;32m     48\u001b[0m     \u001b[0mrec_file\u001b[0m \u001b[0;34m=\u001b[0m \u001b[0;34m\"/home/ellery/en-fr/final/frwiki-personal-recs.json\"\u001b[0m\u001b[0;34m\u001b[0m\u001b[0m\n\u001b[0;32m---> 49\u001b[0;31m     \u001b[0mf\u001b[0m \u001b[0;34m=\u001b[0m \u001b[0mopen\u001b[0m\u001b[0;34m(\u001b[0m\u001b[0mrec_file\u001b[0m\u001b[0;34m)\u001b[0m\u001b[0;34m\u001b[0m\u001b[0m\n\u001b[0m\u001b[1;32m     50\u001b[0m     \u001b[0mrecs\u001b[0m \u001b[0;34m=\u001b[0m \u001b[0mjson\u001b[0m\u001b[0;34m.\u001b[0m\u001b[0mload\u001b[0m\u001b[0;34m(\u001b[0m\u001b[0mf\u001b[0m\u001b[0;34m)\u001b[0m\u001b[0;34m\u001b[0m\u001b[0m\n\u001b[1;32m     51\u001b[0m     \u001b[0mtuples\u001b[0m \u001b[0;34m=\u001b[0m \u001b[0;34m[\u001b[0m\u001b[0;34m]\u001b[0m\u001b[0;34m\u001b[0m\u001b[0m\n",
      "\u001b[0;31mFileNotFoundError\u001b[0m: [Errno 2] No such file or directory: '/home/ellery/en-fr/final/frwiki-personal-recs.json'"
     ]
    }
   ],
   "source": [
    "d_recs = get_recs_df()\n",
    "d_recs = d_recs.merge(cx_df, how = 'left', on = ['user', 'translation_source_title'])\n",
    "d_recs['started'] = d_recs['translation_id'].notnull()\n",
    "d_recs['rank'] = d_recs.groupby('user')['affinity'].rank(ascending=False, method = 'first')"
   ]
  },
  {
   "cell_type": "code",
   "execution_count": 4,
   "metadata": {
    "collapsed": false
   },
   "outputs": [
    {
     "ename": "NameError",
     "evalue": "name 'd_recs' is not defined",
     "output_type": "error",
     "traceback": [
      "\u001b[0;31m---------------------------------------------------------------------------\u001b[0m",
      "\u001b[0;31mNameError\u001b[0m                                 Traceback (most recent call last)",
      "\u001b[0;32m<ipython-input-4-8467caadd5b7>\u001b[0m in \u001b[0;36m<module>\u001b[0;34m()\u001b[0m\n\u001b[0;32m----> 1\u001b[0;31m \u001b[0md_recs\u001b[0m\u001b[0;34m[\u001b[0m\u001b[0;34m'published'\u001b[0m\u001b[0;34m]\u001b[0m \u001b[0;34m=\u001b[0m \u001b[0md_recs\u001b[0m\u001b[0;34m[\u001b[0m\u001b[0;34m'translation_status'\u001b[0m\u001b[0;34m]\u001b[0m \u001b[0;34m==\u001b[0m \u001b[0;34m'published'\u001b[0m\u001b[0;34m\u001b[0m\u001b[0m\n\u001b[0m\u001b[1;32m      2\u001b[0m \u001b[0md_recs\u001b[0m\u001b[0;34m[\u001b[0m\u001b[0;34m'drafted'\u001b[0m\u001b[0;34m]\u001b[0m \u001b[0;34m=\u001b[0m \u001b[0md_recs\u001b[0m\u001b[0;34m[\u001b[0m\u001b[0;34m'translation_status'\u001b[0m\u001b[0;34m]\u001b[0m \u001b[0;34m==\u001b[0m \u001b[0;34m'draft'\u001b[0m\u001b[0;34m\u001b[0m\u001b[0m\n\u001b[1;32m      3\u001b[0m \u001b[0md_recs\u001b[0m\u001b[0;34m[\u001b[0m\u001b[0;34m'deleted'\u001b[0m\u001b[0;34m]\u001b[0m \u001b[0;34m=\u001b[0m \u001b[0md_recs\u001b[0m\u001b[0;34m[\u001b[0m\u001b[0;34m'translation_status'\u001b[0m\u001b[0;34m]\u001b[0m \u001b[0;34m==\u001b[0m \u001b[0;34m'deleted'\u001b[0m\u001b[0;34m\u001b[0m\u001b[0m\n",
      "\u001b[0;31mNameError\u001b[0m: name 'd_recs' is not defined"
     ]
    }
   ],
   "source": [
    "d_recs['published'] = d_recs['translation_status'] == 'published'\n",
    "d_recs['drafted'] = d_recs['translation_status'] == 'draft'\n",
    "d_recs['deleted'] = d_recs['translation_status'] == 'deleted'"
   ]
  },
  {
   "cell_type": "code",
   "execution_count": 220,
   "metadata": {
    "collapsed": true
   },
   "outputs": [],
   "source": [
    "d_recs['translation_target_title'] = d_recs['translation_target_title'].apply(lambda x: unicode(str(x), 'utf-8').replace(u' ', u'_'))"
   ]
  },
  {
   "cell_type": "code",
   "execution_count": 107,
   "metadata": {
    "collapsed": false
   },
   "outputs": [],
   "source": [
    "def get_user_stats(x):\n",
    "    n_started = x['started'].sum()\n",
    "    n_drafted = x['published'].sum()\n",
    "    n_published = x['drafted'].sum()\n",
    "    n_deleted = x['deleted'].sum()\n",
    "    return pd.Series({'active': n_started>0, 'started':n_started, 'published':n_published,'drafted': n_drafted, 'deleted': n_deleted })\n",
    "    \n",
    "d_users = d_recs.groupby(by=['user', 'condition']).apply(lambda x: get_user_stats(x)).reset_index()"
   ]
  },
  {
   "cell_type": "code",
   "execution_count": 108,
   "metadata": {
    "collapsed": false
   },
   "outputs": [],
   "source": [
    "# Get Users Gender\n",
    "gender_df_fr = query_db( 'analytics-store.eqiad.wmnet', \"SELECT * FROM staging.leila_artrecom_user_gender\", {})\n",
    "gender_df_fr.columns = ['gender', 'email', 'userid', 'user']\n",
    "gender_df_en = query_db( 'analytics-store.eqiad.wmnet', \"SELECT * FROM staging.leila_artrecom_user_gender_en\", {})\n",
    "gender_df_en.columns = ['gender', 'email', 'userid', 'user']\n",
    "gender_df = gender_df_fr.append(gender_df_en).drop_duplicates()d_users = d_users.merge(gender_df, on = 'user', how = 'left')"
   ]
  },
  {
   "cell_type": "code",
   "execution_count": 109,
   "metadata": {
    "collapsed": false
   },
   "outputs": [],
   "source": [
    "d_active_users = d_users[d_users['active']]\n",
    "d_active_recs = d_recs[d_recs['started'] > 0]"
   ]
  },
  {
   "cell_type": "markdown",
   "metadata": {},
   "source": [
    "### Investigate User Gender"
   ]
  },
  {
   "cell_type": "code",
   "execution_count": 256,
   "metadata": {
    "collapsed": false
   },
   "outputs": [
    {
     "data": {
      "text/plain": [
       "male      4267\n",
       "female     301\n",
       "dtype: int64"
      ]
     },
     "execution_count": 256,
     "metadata": {},
     "output_type": "execute_result"
    }
   ],
   "source": [
    "d_users['gender'].value_counts()"
   ]
  },
  {
   "cell_type": "code",
   "execution_count": 257,
   "metadata": {
    "collapsed": false
   },
   "outputs": [
    {
     "data": {
      "text/plain": [
       "male      162\n",
       "female      9\n",
       "dtype: int64"
      ]
     },
     "execution_count": 257,
     "metadata": {},
     "output_type": "execute_result"
    }
   ],
   "source": [
    "d_active_users['gender'].value_counts()"
   ]
  },
  {
   "cell_type": "code",
   "execution_count": 118,
   "metadata": {
    "collapsed": false
   },
   "outputs": [
    {
     "data": {
      "text/html": [
       "<div style=\"max-height:1000px;max-width:1500px;overflow:auto;\">\n",
       "<table border=\"1\" class=\"dataframe\">\n",
       "  <thead>\n",
       "    <tr style=\"text-align: right;\">\n",
       "      <th></th>\n",
       "      <th></th>\n",
       "      <th>user</th>\n",
       "      <th>active</th>\n",
       "      <th>deleted</th>\n",
       "      <th>drafted</th>\n",
       "      <th>published</th>\n",
       "      <th>started</th>\n",
       "      <th>email</th>\n",
       "      <th>userid</th>\n",
       "    </tr>\n",
       "    <tr>\n",
       "      <th>gender</th>\n",
       "      <th>condition</th>\n",
       "      <th></th>\n",
       "      <th></th>\n",
       "      <th></th>\n",
       "      <th></th>\n",
       "      <th></th>\n",
       "      <th></th>\n",
       "      <th></th>\n",
       "      <th></th>\n",
       "    </tr>\n",
       "  </thead>\n",
       "  <tbody>\n",
       "    <tr>\n",
       "      <th rowspan=\"2\" valign=\"top\">female</th>\n",
       "      <th>personal</th>\n",
       "      <td>   8</td>\n",
       "      <td>   8</td>\n",
       "      <td>   8</td>\n",
       "      <td>   8</td>\n",
       "      <td>   8</td>\n",
       "      <td>   8</td>\n",
       "      <td>   8</td>\n",
       "      <td>   8</td>\n",
       "    </tr>\n",
       "    <tr>\n",
       "      <th>random</th>\n",
       "      <td>   1</td>\n",
       "      <td>   1</td>\n",
       "      <td>   1</td>\n",
       "      <td>   1</td>\n",
       "      <td>   1</td>\n",
       "      <td>   1</td>\n",
       "      <td>   1</td>\n",
       "      <td>   1</td>\n",
       "    </tr>\n",
       "    <tr>\n",
       "      <th rowspan=\"2\" valign=\"top\">male</th>\n",
       "      <th>personal</th>\n",
       "      <td> 106</td>\n",
       "      <td> 106</td>\n",
       "      <td> 106</td>\n",
       "      <td> 106</td>\n",
       "      <td> 106</td>\n",
       "      <td> 106</td>\n",
       "      <td> 106</td>\n",
       "      <td> 106</td>\n",
       "    </tr>\n",
       "    <tr>\n",
       "      <th>random</th>\n",
       "      <td>  56</td>\n",
       "      <td>  56</td>\n",
       "      <td>  56</td>\n",
       "      <td>  56</td>\n",
       "      <td>  56</td>\n",
       "      <td>  56</td>\n",
       "      <td>  56</td>\n",
       "      <td>  56</td>\n",
       "    </tr>\n",
       "  </tbody>\n",
       "</table>\n",
       "</div>"
      ],
      "text/plain": [
       "                  user  active  deleted  drafted  published  started  email  \\\n",
       "gender condition                                                              \n",
       "female personal      8       8        8        8          8        8      8   \n",
       "       random        1       1        1        1          1        1      1   \n",
       "male   personal    106     106      106      106        106      106    106   \n",
       "       random       56      56       56       56         56       56     56   \n",
       "\n",
       "                  userid  \n",
       "gender condition          \n",
       "female personal        8  \n",
       "       random          1  \n",
       "male   personal      106  \n",
       "       random         56  "
      ]
     },
     "execution_count": 118,
     "metadata": {},
     "output_type": "execute_result"
    }
   ],
   "source": [
    "d_active_users.groupby(['gender', 'condition']).count()"
   ]
  },
  {
   "cell_type": "markdown",
   "metadata": {},
   "source": [
    "### Investigate  Creation and Deletion Rates"
   ]
  },
  {
   "cell_type": "code",
   "execution_count": 221,
   "metadata": {
    "collapsed": true
   },
   "outputs": [],
   "source": [
    "time_params =\\\n",
    "{\n",
    "    'start_date' : '20150611000000',\n",
    "    'end_date' : '20150708000000'\n",
    "}"
   ]
  },
  {
   "cell_type": "code",
   "execution_count": 248,
   "metadata": {
    "collapsed": true
   },
   "outputs": [],
   "source": [
    "query = \"\"\"\n",
    "SELECT log_title, log_page, log_timestamp\n",
    "FROM frwiki.logging \n",
    "WHERE log_type = 'delete'\n",
    "AND log_action = 'delete'\n",
    "AND log_timestamp > %(start_date)s\n",
    "AND log_timestamp < %(end_date)s\n",
    "AND log_namespace = 0\n",
    "\"\"\"\n",
    "\n",
    "deleted_df = query_db('analytics-store.eqiad.wmnet',query , time_params)\n",
    "deleted_df.columns = ['page_id', 'timestamp', 'title',]\n"
   ]
  },
  {
   "cell_type": "code",
   "execution_count": 249,
   "metadata": {
    "collapsed": false
   },
   "outputs": [
    {
     "data": {
      "text/plain": [
       "(7404, 3)"
      ]
     },
     "execution_count": 249,
     "metadata": {},
     "output_type": "execute_result"
    }
   ],
   "source": [
    "deleted_df.shape"
   ]
  },
  {
   "cell_type": "code",
   "execution_count": 250,
   "metadata": {
    "collapsed": false
   },
   "outputs": [
    {
     "data": {
      "text/plain": [
       "(14, 24)"
      ]
     },
     "execution_count": 250,
     "metadata": {},
     "output_type": "execute_result"
    }
   ],
   "source": [
    "deleted_recs = d_recs.merge(deleted_df, how = 'inner', left_on = 'translation_target_title', right_on = 'title')\n",
    "deleted_recs.shape"
   ]
  },
  {
   "cell_type": "code",
   "execution_count": 246,
   "metadata": {
    "collapsed": false
   },
   "outputs": [],
   "source": [
    "# Articles that were created in the span of interest and have been deleted\n",
    "query = \"\"\"\n",
    "SELECT ar_title, ar_page_id, ar_timestamp\n",
    "FROM frwiki.archive\n",
    "WHERE ar_parent_id = 0\n",
    "AND ar_namespace = 0\n",
    "AND ar_timestamp > %(start_date)s\n",
    "AND ar_timestamp < %(end_date)s\n",
    "\"\"\"\n",
    "archived_df = query_db('analytics-store.eqiad.wmnet',query , time_params)\n"
   ]
  },
  {
   "cell_type": "code",
   "execution_count": 261,
   "metadata": {
    "collapsed": false
   },
   "outputs": [
    {
     "data": {
      "text/plain": [
       "(3508, 3)"
      ]
     },
     "execution_count": 261,
     "metadata": {},
     "output_type": "execute_result"
    }
   ],
   "source": [
    "archived_df.shape"
   ]
  },
  {
   "cell_type": "code",
   "execution_count": 251,
   "metadata": {
    "collapsed": false
   },
   "outputs": [
    {
     "data": {
      "text/plain": [
       "(14, 24)"
      ]
     },
     "execution_count": 251,
     "metadata": {},
     "output_type": "execute_result"
    }
   ],
   "source": [
    "archived_recs = d_recs.merge(archived_df, how = 'inner', left_on = 'translation_target_title', right_on = 'ar_title')\n",
    "archived_recs.shape"
   ]
  },
  {
   "cell_type": "code",
   "execution_count": 252,
   "metadata": {
    "collapsed": false
   },
   "outputs": [],
   "source": [
    "# Articles that were created in the span of interest and still exist\n",
    "query = \"\"\"\n",
    "SELECT rev_timestamp, rev_page, page_title\n",
    "FROM frwiki.revision, frwiki.page\n",
    "WHERE rev_page = page_id\n",
    "AND page_namespace = 0\n",
    "AND page_is_redirect = 0\n",
    "AND rev_parent_id = 0\n",
    "AND rev_timestamp > %(start_date)s\n",
    "AND rev_timestamp < %(end_date)s\n",
    "\"\"\"\n",
    "creations_df = query_db('analytics-store.eqiad.wmnet', query, params)"
   ]
  },
  {
   "cell_type": "code",
   "execution_count": 254,
   "metadata": {
    "collapsed": false
   },
   "outputs": [
    {
     "data": {
      "text/plain": [
       "(9368, 3)"
      ]
     },
     "execution_count": 254,
     "metadata": {},
     "output_type": "execute_result"
    }
   ],
   "source": [
    "creations_df.shape"
   ]
  },
  {
   "cell_type": "code",
   "execution_count": 271,
   "metadata": {
    "collapsed": false,
    "scrolled": true
   },
   "outputs": [
    {
     "data": {
      "text/plain": [
       "<matplotlib.axes._subplots.AxesSubplot at 0x7f4b32022690>"
      ]
     },
     "execution_count": 271,
     "metadata": {},
     "output_type": "execute_result"
    },
    {
     "data": {
      "image/png": "[encoded data removed]",
      "text/plain": [
       "<matplotlib.figure.Figure at 0x7f4b337eb390>"
      ]
     },
     "metadata": {},
     "output_type": "display_data"
    }
   ],
   "source": [
    "times = pd.DataFrame(index = pd.to_datetime(creations_df['rev_timestamp']))\n",
    "times['n'] = 1\n",
    "times.groupby(lambda x: ( x.month, x.day, x.hour / 4 )).sum()['n'].plot()"
   ]
  },
  {
   "cell_type": "code",
   "execution_count": 280,
   "metadata": {
    "collapsed": false
   },
   "outputs": [
    {
     "name": "stdout",
     "output_type": "stream",
     "text": [
      "Baseline Deletion Rate: 0.308029\n",
      "Published Translation Deletion Rate 0.085890\n"
     ]
    }
   ],
   "source": [
    "start_date = '20150611000000'\n",
    "end_date = '20150625000000'\n",
    "\n",
    "num_archived = archived_df[archived_df['ar_timestamp'] > start_date][archived_df['ar_timestamp'] < end_date].shape[0]\n",
    "num_created = creations_df[creations_df['rev_timestamp'] > start_date][creations_df['rev_timestamp'] < end_date].shape[0]\n",
    "base_rate = num_archived / float(num_created + num_archived)\n",
    "print 'Baseline Deletion Rate: %f' % base_rate\n",
    "\n",
    "\n",
    "rec_rate = float(deleted_recs.shape[0]) / d_active_recs[d_active_recs['translation_status'] == 'published'].shape[0]\n",
    "print \"Published Translation Deletion Rate %f\" %  rec_rate\n",
    "\n"
   ]
  },
  {
   "cell_type": "markdown",
   "metadata": {},
   "source": [
    "### Simple Stats"
   ]
  },
  {
   "cell_type": "code",
   "execution_count": 8,
   "metadata": {
    "collapsed": false
   },
   "outputs": [
    {
     "name": "stdout",
     "output_type": "stream",
     "text": [
      "Number of translations started:  433\n"
     ]
    }
   ],
   "source": [
    "print \"Number of translations started: \", d_active_recs.shape[0]"
   ]
  },
  {
   "cell_type": "code",
   "execution_count": 9,
   "metadata": {
    "collapsed": false
   },
   "outputs": [
    {
     "data": {
      "text/plain": [
       "draft        242\n",
       "published    163\n",
       "deleted       28\n",
       "dtype: int64"
      ]
     },
     "execution_count": 9,
     "metadata": {},
     "output_type": "execute_result"
    }
   ],
   "source": [
    "d_active_recs['translation_status'].value_counts()"
   ]
  },
  {
   "cell_type": "code",
   "execution_count": 22,
   "metadata": {
    "collapsed": false
   },
   "outputs": [
    {
     "data": {
      "text/plain": [
       "personal    113\n",
       "random       50\n",
       "dtype: int64"
      ]
     },
     "execution_count": 22,
     "metadata": {},
     "output_type": "execute_result"
    }
   ],
   "source": [
    "d_active_recs[d_active_recs['translation_status'] == 'published']['condition'].value_counts()"
   ]
  },
  {
   "cell_type": "code",
   "execution_count": 10,
   "metadata": {
    "collapsed": false
   },
   "outputs": [
    {
     "name": "stdout",
     "output_type": "stream",
     "text": [
      "Number of personal translations: 278\n",
      "Number of random translations:  155\n"
     ]
    }
   ],
   "source": [
    "print 'Number of personal translations:', (d_active_recs['condition'] == 'personal').sum()\n",
    "print 'Number of random translations: ', (d_active_recs['condition'] == 'random').sum()"
   ]
  },
  {
   "cell_type": "code",
   "execution_count": 11,
   "metadata": {
    "collapsed": false
   },
   "outputs": [
    {
     "name": "stdout",
     "output_type": "stream",
     "text": [
      "Number of personal editors activated:  208\n",
      "Number of random editors activated:  119\n"
     ]
    }
   ],
   "source": [
    "print 'Number of personal editors activated: ', (d_active_users['condition'] == 'personal').sum()\n",
    "print 'Number of random editors activated: ', (d_active_users['condition'] == 'random').sum()"
   ]
  },
  {
   "cell_type": "markdown",
   "metadata": {},
   "source": [
    "#Data Over time"
   ]
  },
  {
   "cell_type": "code",
   "execution_count": 12,
   "metadata": {
    "collapsed": false
   },
   "outputs": [
    {
     "data": {
      "text/plain": [
       "<matplotlib.axes._subplots.AxesSubplot at 0x7f4b52344750>"
      ]
     },
     "execution_count": 12,
     "metadata": {},
     "output_type": "execute_result"
    },
    {
     "data": {
      "image/png": "[encoded data removed]",
      "text/plain": [
       "<matplotlib.figure.Figure at 0x7f4b643054d0>"
      ]
     },
     "metadata": {},
     "output_type": "display_data"
    }
   ],
   "source": [
    "times = pd.DataFrame(index = pd.to_datetime(d_active_recs['translation_start_timestamp']))\n",
    "times['n'] = 1\n",
    "times.groupby(lambda x: (x.year, x.month, x.day, x.hour )).sum()['n'].plot()"
   ]
  },
  {
   "cell_type": "markdown",
   "metadata": {},
   "source": [
    "# Num Started and Published per Editor by condition"
   ]
  },
  {
   "cell_type": "code",
   "execution_count": 13,
   "metadata": {
    "collapsed": false
   },
   "outputs": [
    {
     "name": "stdout",
     "output_type": "stream",
     "text": [
      "Counter({1: 166, 2: 24, 3: 11, 4: 4, 5: 3})\n"
     ]
    },
    {
     "data": {
      "image/png": "[encoded data removed]",
      "text/plain": [
       "<matplotlib.figure.Figure at 0x7f4b8f614d90>"
      ]
     },
     "metadata": {},
     "output_type": "display_data"
    }
   ],
   "source": [
    "a = d_active_users[d_active_users['condition'] == 'random']['started']\n",
    "b = d_active_users[d_active_users['condition'] == 'personal']['started']\n",
    "\n",
    "bihist(b, 'personal', a, 'random' )"
   ]
  },
  {
   "cell_type": "code",
   "execution_count": 14,
   "metadata": {
    "collapsed": false
   },
   "outputs": [
    {
     "name": "stdout",
     "output_type": "stream",
     "text": [
      "Counter({1: 105, 0: 85, 2: 13, 3: 4, 4: 1})\n"
     ]
    },
    {
     "data": {
      "image/png": "[encoded data removed]",
      "text/plain": [
       "<matplotlib.figure.Figure at 0x7f4b51b27b50>"
      ]
     },
     "metadata": {},
     "output_type": "display_data"
    }
   ],
   "source": [
    "a = d_active_users[d_active_users['condition'] == 'random']['published']\n",
    "b = d_active_users[d_active_users['condition'] == 'personal']['published']\n",
    "\n",
    "bihist(b, 'personal', a, 'random' )"
   ]
  },
  {
   "cell_type": "markdown",
   "metadata": {},
   "source": [
    "# Position of Started Objects "
   ]
  },
  {
   "cell_type": "code",
   "execution_count": 15,
   "metadata": {
    "collapsed": false
   },
   "outputs": [
    {
     "name": "stdout",
     "output_type": "stream",
     "text": [
      "Counter({1.0: 88, 4.0: 61, 5.0: 47, 2.0: 45, 3.0: 37})\n"
     ]
    },
    {
     "data": {
      "image/png": "[encoded data removed]",
      "text/plain": [
       "<matplotlib.figure.Figure at 0x7f4b4e64f650>"
      ]
     },
     "metadata": {},
     "output_type": "display_data"
    }
   ],
   "source": [
    "a = d_active_recs[d_active_recs['condition'] == 'random']['rank']\n",
    "b = d_active_recs[d_active_recs['condition'] == 'personal']['rank']\n",
    "\n",
    "bihist(b, 'personal', a, 'random' )\n"
   ]
  },
  {
   "cell_type": "markdown",
   "metadata": {},
   "source": [
    "# Activation as a Function of Affinity"
   ]
  },
  {
   "cell_type": "code",
   "execution_count": 16,
   "metadata": {
    "collapsed": false
   },
   "outputs": [
    {
     "name": "stdout",
     "output_type": "stream",
     "text": [
      "(12040, 21)\n",
      "(6011, 21)\n"
     ]
    },
    {
     "data": {
      "text/plain": [
       "<matplotlib.axes._subplots.AxesSubplot at 0x7f4b49385690>"
      ]
     },
     "execution_count": 16,
     "metadata": {},
     "output_type": "execute_result"
    },
    {
     "data": {
      "image/png": "[encoded data removed]",
      "text/plain": [
       "<matplotlib.figure.Figure at 0x7f4b49385090>"
      ]
     },
     "metadata": {},
     "output_type": "display_data"
    }
   ],
   "source": [
    "d_first_rec = d_recs.groupby('user').apply(lambda x: x.iloc[0])\n",
    "print d_first_rec.shape\n",
    "d_first_rec_personal = d_first_rec[d_first_rec['condition'] == 'personal']\n",
    "print d_first_rec_personal.shape\n",
    "d_first_rec_personal_active = d_first_rec_personal[d_first_rec_personal['started'] == 1]\n",
    "d_first_rec_personal['affinity'].hist()"
   ]
  },
  {
   "cell_type": "code",
   "execution_count": 17,
   "metadata": {
    "collapsed": false
   },
   "outputs": [
    {
     "data": {
      "text/plain": [
       "<matplotlib.axes._subplots.AxesSubplot at 0x7f4b492c6750>"
      ]
     },
     "execution_count": 17,
     "metadata": {},
     "output_type": "execute_result"
    },
    {
     "data": {
      "image/png": "[encoded data removed]",
      "text/plain": [
       "<matplotlib.figure.Figure at 0x7f4b48ea4510>"
      ]
     },
     "metadata": {},
     "output_type": "display_data"
    }
   ],
   "source": [
    "d_first_rec_personal_active['affinity'].hist()"
   ]
  },
  {
   "cell_type": "code",
   "execution_count": 18,
   "metadata": {
    "collapsed": false
   },
   "outputs": [
    {
     "data": {
      "text/plain": [
       "<matplotlib.axes._subplots.AxesSubplot at 0x7f4b48d564d0>"
      ]
     },
     "execution_count": 18,
     "metadata": {},
     "output_type": "execute_result"
    },
    {
     "data": {
      "image/png": "[encoded data removed]",
      "text/plain": [
       "<matplotlib.figure.Figure at 0x7f4b48d56cd0>"
      ]
     },
     "metadata": {},
     "output_type": "display_data"
    }
   ],
   "source": [
    "d_first_rec_random = d_first_rec[d_first_rec['condition'] == 'random']\n",
    "d_first_rec_ransom_active = d_first_rec_random[d_first_rec_random['started'] == 1]\n",
    "d_first_rec_random['affinity'].hist()"
   ]
  },
  {
   "cell_type": "code",
   "execution_count": 19,
   "metadata": {
    "collapsed": false
   },
   "outputs": [
    {
     "data": {
      "text/plain": [
       "<matplotlib.axes._subplots.AxesSubplot at 0x7f4b4886ba10>"
      ]
     },
     "execution_count": 19,
     "metadata": {},
     "output_type": "execute_result"
    },
    {
     "data": {
      "image/png": "[encoded data removed]",
      "text/plain": [
       "<matplotlib.figure.Figure at 0x7f4b48d8af50>"
      ]
     },
     "metadata": {},
     "output_type": "display_data"
    }
   ],
   "source": [
    "d_first_rec_ransom_active['affinity'].hist()"
   ]
  },
  {
   "cell_type": "code",
   "execution_count": 20,
   "metadata": {
    "collapsed": false
   },
   "outputs": [
    {
     "ename": "NameError",
     "evalue": "name 'model' is not defined",
     "output_type": "error",
     "traceback": [
      "\u001b[1;31m---------------------------------------------------------------------------\u001b[0m",
      "\u001b[1;31mNameError\u001b[0m                                 Traceback (most recent call last)",
      "\u001b[1;32m<ipython-input-20-e3fd88e56c43>\u001b[0m in \u001b[0;36m<module>\u001b[1;34m()\u001b[0m\n\u001b[0;32m      2\u001b[0m \u001b[0mlogistic\u001b[0m \u001b[1;33m=\u001b[0m \u001b[0mlinear_model\u001b[0m\u001b[1;33m.\u001b[0m\u001b[0mLogisticRegression\u001b[0m\u001b[1;33m(\u001b[0m\u001b[1;33m)\u001b[0m\u001b[1;33m\u001b[0m\u001b[0m\n\u001b[0;32m      3\u001b[0m \u001b[1;33m\u001b[0m\u001b[0m\n\u001b[1;32m----> 4\u001b[1;33m \u001b[0mmodel\u001b[0m \u001b[1;33m=\u001b[0m \u001b[0mmodel\u001b[0m\u001b[1;33m.\u001b[0m\u001b[0mfit\u001b[0m\u001b[1;33m(\u001b[0m\u001b[0mX\u001b[0m\u001b[1;33m,\u001b[0m \u001b[0my\u001b[0m\u001b[1;33m)\u001b[0m\u001b[1;33m\u001b[0m\u001b[0m\n\u001b[0m",
      "\u001b[1;31mNameError\u001b[0m: name 'model' is not defined"
     ]
    }
   ],
   "source": [
    "from sklearn import linear_model\n",
    "logistic = linear_model.LogisticRegression()\n",
    "model = logistic.fit(X, y)"
   ]
  },
  {
   "cell_type": "markdown",
   "metadata": {},
   "source": [
    "# Activation Rates By Group"
   ]
  },
  {
   "cell_type": "code",
   "execution_count": 438,
   "metadata": {
    "collapsed": false
   },
   "outputs": [
    {
     "data": {
      "text/html": [
       "<div style=\"max-height:1000px;max-width:1500px;overflow:auto;\">\n",
       "<table border=\"1\" class=\"dataframe\">\n",
       "  <thead>\n",
       "    <tr style=\"text-align: right;\">\n",
       "      <th></th>\n",
       "      <th>P(Winner)</th>\n",
       "      <th>Winners Lift</th>\n",
       "      <th>Confidence Interval</th>\n",
       "    </tr>\n",
       "  </thead>\n",
       "  <tbody>\n",
       "    <tr>\n",
       "      <th>Personal</th>\n",
       "      <td>  1</td>\n",
       "      <td>    (0.00%, 0.00%)</td>\n",
       "      <td> (0.031529, 0.040582)</td>\n",
       "    </tr>\n",
       "    <tr>\n",
       "      <th>Random</th>\n",
       "      <td>NaN</td>\n",
       "      <td> (41.15%, 114.66%)</td>\n",
       "      <td> (0.017331, 0.024280)</td>\n",
       "    </tr>\n",
       "  </tbody>\n",
       "</table>\n",
       "</div>"
      ],
      "text/plain": [
       "          P(Winner)       Winners Lift   Confidence Interval\n",
       "Personal          1     (0.00%, 0.00%)  (0.031529, 0.040582)\n",
       "Random          NaN  (41.15%, 114.66%)  (0.017331, 0.024280)"
      ]
     },
     "execution_count": 438,
     "metadata": {},
     "output_type": "execute_result"
    },
    {
     "data": {
      "image/png": "[encoded data removed]",
      "text/plain": [
       "<matplotlib.figure.Figure at 0x7f4b456fd2d0>"
      ]
     },
     "metadata": {},
     "output_type": "display_data"
    }
   ],
   "source": [
    "\n",
    "personal_num_events = (d_active_users['condition'] == 'personal').sum()\n",
    "personal_num_trials = (d_users['condition'] == 'personal').sum()\n",
    "random_num_events = (d_active_users['condition'] == 'random').sum()\n",
    "random_num_trials = (d_users['condition'] == 'random').sum()\n",
    "\n",
    "\n",
    "custom_rate_stats(personal_num_events, personal_num_trials, random_num_events, random_num_trials, alabel = 'Personal', blabel = 'Random', conf=95, plot =True)"
   ]
  },
  {
   "cell_type": "markdown",
   "metadata": {},
   "source": [
    "# Explore Rates as a function of recency and bilingualism"
   ]
  },
  {
   "cell_type": "code",
   "execution_count": 131,
   "metadata": {
    "collapsed": false
   },
   "outputs": [],
   "source": [
    "b = pd.read_csv(\"/home/ellery/en-fr/bilingual_users.tsv\", encoding = 'utf8', sep = '\\t')\n",
    "b = d_users.merge(b, how = 'inner', on = 'user')\n",
    "b['active'].sum() - d_active_users.shape[0]\n",
    "b['max_date'] = pd.to_datetime(b['max_date'])\n",
    "b['months_since_last_edit'] = b['max_date'].apply(lambda x: (6 + 12*2015) - (x.month + 12*x.year))\n",
    "b['byte_group'], byte_bins = pd.qcut( b['min_byte'], 5 , labels  = False, retbins = True)\n",
    "#b['byte_group'] = b['min_byte'].apply(lambda x: min(x, 100) / 25)\n",
    "\n",
    "bp = b[b['condition'] == 'personal']\n",
    "br = b[b['condition'] == 'random']"
   ]
  },
  {
   "cell_type": "code",
   "execution_count": 132,
   "metadata": {
    "collapsed": false
   },
   "outputs": [
    {
     "data": {
      "text/plain": [
       "array([    26,     87,    149,    994,   7530, 135669])"
      ]
     },
     "execution_count": 132,
     "metadata": {},
     "output_type": "execute_result"
    }
   ],
   "source": [
    "byte_bins.astype(int)"
   ]
  },
  {
   "cell_type": "code",
   "execution_count": 133,
   "metadata": {
    "collapsed": false
   },
   "outputs": [
    {
     "data": {
      "text/plain": [
       "<matplotlib.axes._subplots.AxesSubplot at 0x7f4b48972c90>"
      ]
     },
     "execution_count": 133,
     "metadata": {},
     "output_type": "execute_result"
    },
    {
     "data": {
      "image/png": "[encoded data removed]",
      "text/plain": [
       "<matplotlib.figure.Figure at 0x7f4b48e9f590>"
      ]
     },
     "metadata": {},
     "output_type": "display_data"
    }
   ],
   "source": [
    "b['byte_group'].hist(bins = 20)"
   ]
  },
  {
   "cell_type": "code",
   "execution_count": 134,
   "metadata": {
    "collapsed": false
   },
   "outputs": [
    {
     "data": {
      "text/plain": [
       "<matplotlib.legend.Legend at 0x7f4b436a3550>"
      ]
     },
     "execution_count": 134,
     "metadata": {},
     "output_type": "execute_result"
    },
    {
     "data": {
      "image/png": "[encoded data removed]",
      "text/plain": [
       "<matplotlib.figure.Figure at 0x7f4b436a3250>"
      ]
     },
     "metadata": {},
     "output_type": "display_data"
    }
   ],
   "source": [
    "plt.figure()\n",
    "bp.groupby('byte_group').apply(lambda x: x['active'].sum() / float(x.shape[0])).plot(label = 'personal')\n",
    "b.groupby('byte_group').apply(lambda x: x['active'].sum() / float(x.shape[0])).plot(label = 'combined')\n",
    "br.groupby('byte_group').apply(lambda x: x['active'].sum() / float(x.shape[0])).plot(label = 'random')\n",
    "plt.legend()"
   ]
  },
  {
   "cell_type": "code",
   "execution_count": 135,
   "metadata": {
    "collapsed": false
   },
   "outputs": [
    {
     "data": {
      "text/plain": [
       "<matplotlib.axes._subplots.AxesSubplot at 0x7f4b498b6dd0>"
      ]
     },
     "execution_count": 135,
     "metadata": {},
     "output_type": "execute_result"
    },
    {
     "data": {
      "image/png": "[encoded data removed]",
      "text/plain": [
       "<matplotlib.figure.Figure at 0x7f4b4a189bd0>"
      ]
     },
     "metadata": {},
     "output_type": "display_data"
    }
   ],
   "source": [
    "b['months_since_last_edit'].hist(bins = 12)"
   ]
  },
  {
   "cell_type": "code",
   "execution_count": 136,
   "metadata": {
    "collapsed": false
   },
   "outputs": [
    {
     "name": "stderr",
     "output_type": "stream",
     "text": [
      "/home/ellery/anaconda/lib/python2.7/site-packages/IPython/kernel/__main__.py:2: SettingWithCopyWarning: \n",
      "A value is trying to be set on a copy of a slice from a DataFrame\n",
      "\n",
      "See the the caveats in the documentation: http://pandas.pydata.org/pandas-docs/stable/indexing.html#indexing-view-versus-copy\n",
      "  from IPython.kernel.zmq import kernelapp as app\n",
      "/home/ellery/anaconda/lib/python2.7/site-packages/IPython/kernel/__main__.py:3: SettingWithCopyWarning: \n",
      "A value is trying to be set on a copy of a slice from a DataFrame\n",
      "\n",
      "See the the caveats in the documentation: http://pandas.pydata.org/pandas-docs/stable/indexing.html#indexing-view-versus-copy\n",
      "  app.launch_new_instance()\n"
     ]
    },
    {
     "data": {
      "image/png": "[encoded data removed]",
      "text/plain": [
       "<matplotlib.figure.Figure at 0x7f4b50953c50>"
      ]
     },
     "metadata": {},
     "output_type": "display_data"
    }
   ],
   "source": [
    "b['date_group'] = 0\n",
    "b['date_group'][b['months_since_last_edit'] >= 1] = 1\n",
    "b['date_group'][b['months_since_last_edit'] >= 4] = 2\n",
    "#b['date_group'][b['months_since_last_edit'] >= 6] = 3\n",
    "b['date_group'].hist()\n",
    "bp = b[b['condition'] == 'personal']\n",
    "br = b[b['condition'] == 'random']"
   ]
  },
  {
   "cell_type": "code",
   "execution_count": 137,
   "metadata": {
    "collapsed": false
   },
   "outputs": [
    {
     "data": {
      "text/plain": [
       "<matplotlib.legend.Legend at 0x7f4b52d938d0>"
      ]
     },
     "execution_count": 137,
     "metadata": {},
     "output_type": "execute_result"
    },
    {
     "data": {
      "image/png": "[encoded data removed]",
      "text/plain": [
       "<matplotlib.figure.Figure at 0x7f4b494a6bd0>"
      ]
     },
     "metadata": {},
     "output_type": "display_data"
    }
   ],
   "source": [
    "plt.figure()\n",
    "b.groupby('date_group').apply(lambda x: x['active'].sum() / float(x.shape[0])).plot(label = 'combined')\n",
    "br.groupby('date_group').apply(lambda x: x['active'].sum() / float(x.shape[0])).plot(label = 'random')\n",
    "bp.groupby('date_group').apply(lambda x: x['active'].sum() / float(x.shape[0])).plot(label = 'personal')\n",
    "plt.legend()"
   ]
  },
  {
   "cell_type": "code",
   "execution_count": 142,
   "metadata": {
    "collapsed": false
   },
   "outputs": [
    {
     "data": {
      "text/plain": [
       "months_since_last_edit\n",
       "0                         179\n",
       "1                          70\n",
       "2                          24\n",
       "3                          18\n",
       "4                          13\n",
       "5                           5\n",
       "6                           7\n",
       "7                           4\n",
       "8                           3\n",
       "9                           6\n",
       "10                          2\n",
       "11                          2\n",
       "12                          3\n",
       "Name: active, dtype: float64"
      ]
     },
     "execution_count": 142,
     "metadata": {},
     "output_type": "execute_result"
    }
   ],
   "source": [
    "b.groupby( ['months_since_last_edit'])['active'].sum()"
   ]
  },
  {
   "cell_type": "markdown",
   "metadata": {},
   "source": [
    "### Spill Over Engagement"
   ]
  },
  {
   "cell_type": "code",
   "execution_count": 412,
   "metadata": {
    "collapsed": true
   },
   "outputs": [],
   "source": [
    "exp_start = '2015060251000'"
   ]
  },
  {
   "cell_type": "code",
   "execution_count": 413,
   "metadata": {
    "collapsed": true
   },
   "outputs": [],
   "source": [
    "cx_user_start_times = pd.DataFrame(cx_df.groupby('user')['translation_start_timestamp'].min())\n",
    "cx_user_start_times['user'] = cx_user_start_times.index"
   ]
  },
  {
   "cell_type": "code",
   "execution_count": 414,
   "metadata": {
    "collapsed": false
   },
   "outputs": [],
   "source": [
    "contacted_users = pd.DataFrame( index = d_users['user'].drop_duplicates())\n",
    "contacted_users['first_cx_use'] = cx_user_start_times['translation_start_timestamp']"
   ]
  },
  {
   "cell_type": "code",
   "execution_count": 415,
   "metadata": {
    "collapsed": false
   },
   "outputs": [],
   "source": [
    "contacted_users['cx_user_status']  = 'not a user'"
   ]
  },
  {
   "cell_type": "code",
   "execution_count": 416,
   "metadata": {
    "collapsed": true
   },
   "outputs": [],
   "source": [
    "# Newbie: A user we contacted who had their first cx interaction after thr email\n",
    "# Veteran: A user we contacted who had used cx before\n",
    "contacted_users['cx_user_status'][contacted_users['first_cx_use'] > exp_start] = 'newbie'\n",
    "contacted_users['cx_user_status'][contacted_users['first_cx_use'] <= exp_start] = 'veteran'"
   ]
  },
  {
   "cell_type": "code",
   "execution_count": 417,
   "metadata": {
    "collapsed": false
   },
   "outputs": [
    {
     "name": "stdout",
     "output_type": "stream",
     "text": [
      "not a user    10966\n",
      "newbie          609\n",
      "veteran         465\n",
      "dtype: int64\n",
      "12040\n"
     ]
    }
   ],
   "source": [
    "print contacted_users['cx_user_status'].value_counts()\n",
    "print contacted_users['cx_user_status'].shape[0]"
   ]
  },
  {
   "cell_type": "code",
   "execution_count": 418,
   "metadata": {
    "collapsed": true
   },
   "outputs": [],
   "source": [
    "cx_aug = cx_df.merge(contacted_users, how = 'left', left_on = 'user', right_index = True)\n",
    "cx_aug['cx_user_status'].fillna('not contacted', inplace = True)\n",
    "cx_aug = cx_aug[cx_aug['translation_status'] == 'published']"
   ]
  },
  {
   "cell_type": "code",
   "execution_count": 419,
   "metadata": {
    "collapsed": false
   },
   "outputs": [
    {
     "data": {
      "text/plain": [
       "not contacted    5683\n",
       "veteran          1408\n",
       "newbie            400\n",
       "dtype: int64"
      ]
     },
     "execution_count": 419,
     "metadata": {},
     "output_type": "execute_result"
    }
   ],
   "source": [
    "# Published Article counts by whether the author was contacted\n",
    "cx_aug['cx_user_status'].value_counts()"
   ]
  },
  {
   "cell_type": "code",
   "execution_count": 420,
   "metadata": {
    "collapsed": false
   },
   "outputs": [],
   "source": [
    "# Published Article counts by whether the article was recommended \n",
    "cx_aug = cx_aug.merge(d_recs[['condition', 'translation_id']], how = 'left', on = 'translation_id')\n",
    "cx_aug['condition'].fillna('not recommended', inplace = True)"
   ]
  },
  {
   "cell_type": "code",
   "execution_count": 421,
   "metadata": {
    "collapsed": false
   },
   "outputs": [
    {
     "data": {
      "text/plain": [
       "not recommended    7328\n",
       "personal            113\n",
       "random               50\n",
       "dtype: int64"
      ]
     },
     "execution_count": 421,
     "metadata": {},
     "output_type": "execute_result"
    }
   ],
   "source": [
    "cx_aug['condition'].value_counts()"
   ]
  },
  {
   "cell_type": "code",
   "execution_count": 422,
   "metadata": {
    "collapsed": false
   },
   "outputs": [
    {
     "data": {
      "text/plain": [
       "newbie     149\n",
       "veteran     14\n",
       "dtype: int64"
      ]
     },
     "execution_count": 422,
     "metadata": {},
     "output_type": "execute_result"
    }
   ],
   "source": [
    "# Did published recs come from Vets or Newbies \n",
    "cx_aug[cx_aug['condition'] != 'not recommended']['cx_user_status'].value_counts()"
   ]
  },
  {
   "cell_type": "code",
   "execution_count": 423,
   "metadata": {
    "collapsed": false
   },
   "outputs": [
    {
     "data": {
      "text/plain": [
       "not recommended    251\n",
       "personal           102\n",
       "random              47\n",
       "dtype: int64"
      ]
     },
     "execution_count": 423,
     "metadata": {},
     "output_type": "execute_result"
    }
   ],
   "source": [
    "# What condition where the newbie publications in\n",
    "cx_aug[cx_aug['cx_user_status'] == 'newbie']['condition'].value_counts()"
   ]
  },
  {
   "cell_type": "code",
   "execution_count": 424,
   "metadata": {
    "collapsed": true
   },
   "outputs": [],
   "source": [
    "# How many of these Non Recommended Publications from newbie users came from users who also responded to a rec?\n",
    "cx_aug = cx_aug.merge(d_users[['user', 'active']].drop_duplicates(), on = 'user', how = 'left')"
   ]
  },
  {
   "cell_type": "code",
   "execution_count": 425,
   "metadata": {
    "collapsed": false
   },
   "outputs": [
    {
     "data": {
      "text/plain": [
       "personal           102\n",
       "random              47\n",
       "not recommended     28\n",
       "dtype: int64"
      ]
     },
     "execution_count": 425,
     "metadata": {},
     "output_type": "execute_result"
    }
   ],
   "source": [
    "cx_aug[cx_aug['active'] == True][cx_aug['cx_user_status'] == 'newbie']['condition'].value_counts()"
   ]
  },
  {
   "cell_type": "code",
   "execution_count": 439,
   "metadata": {
    "collapsed": false
   },
   "outputs": [
    {
     "data": {
      "text/plain": [
       "Index([u'translation_id', u'translation_last_update_by', u'translation_last_updated_timestamp', u'translation_progress', u'translation_source_language', u'translation_source_title', u'translation_source_url', u'translation_start_timestamp', u'translation_started_by', u'translation_status', u'translation_target_language', u'translation_target_title', u'translation_target_url', u'user', u'first_cx_use', u'cx_user_status', u'condition', u'active'], dtype='object')"
      ]
     },
     "execution_count": 439,
     "metadata": {},
     "output_type": "execute_result"
    }
   ],
   "source": [
    "cx_aug.columns"
   ]
  },
  {
   "cell_type": "code",
   "execution_count": 441,
   "metadata": {
    "collapsed": false
   },
   "outputs": [],
   "source": [
    "#cx_aug[cx_aug['cx_user_status'] == 'newbie'][['user', 'translation_source_title']]"
   ]
  },
  {
   "cell_type": "markdown",
   "metadata": {
    "collapsed": true
   },
   "source": [
    "# Activation Rate Test"
   ]
  },
  {
   "cell_type": "markdown",
   "metadata": {
    "collapsed": true
   },
   "source": [
    "# Scratch"
   ]
  },
  {
   "cell_type": "code",
   "execution_count": 145,
   "metadata": {
    "collapsed": true
   },
   "outputs": [],
   "source": [
    "rtuples = []\n",
    "rec_file = \"/home/ellery/en-fr/final/frwiki-random-recs.json\"\n",
    "f = open(rec_file)\n",
    "recs = json.load(f)\n",
    "for obj in recs:\n",
    "    user = obj['user']\n",
    "    for rec in obj['recommendations']:\n",
    "        title = rec['title'].replace('_', ' ')\n",
    "        score = rec['score']\n",
    "        rtuples.append((user, title, 'random', score))\n",
    "        \n",
    "        \n",
    "        \n",
    "        \n",
    "dr = pd.DataFrame(tuples)\n",
    "\n"
   ]
  },
  {
   "cell_type": "code",
   "execution_count": 148,
   "metadata": {
    "collapsed": false
   },
   "outputs": [
    {
     "data": {
      "text/plain": [
       "True"
      ]
     },
     "execution_count": 148,
     "metadata": {},
     "output_type": "execute_result"
    }
   ],
   "source": [
    "'Nbrouard' in set(dr[0])"
   ]
  },
  {
   "cell_type": "code",
   "execution_count": 164,
   "metadata": {
    "collapsed": false
   },
   "outputs": [
    {
     "data": {
      "text/html": [
       "<div style=\"max-height:1000px;max-width:1500px;overflow:auto;\">\n",
       "<table border=\"1\" class=\"dataframe\">\n",
       "  <thead>\n",
       "    <tr style=\"text-align: right;\">\n",
       "      <th></th>\n",
       "      <th>user</th>\n",
       "      <th>translation_source_title</th>\n",
       "      <th>condition</th>\n",
       "      <th>affinity</th>\n",
       "    </tr>\n",
       "  </thead>\n",
       "  <tbody>\n",
       "    <tr>\n",
       "      <th>28830</th>\n",
       "      <td> Xavier Combelle</td>\n",
       "      <td>                       Mal du siècle</td>\n",
       "      <td> personal</td>\n",
       "      <td> 0.488235</td>\n",
       "    </tr>\n",
       "    <tr>\n",
       "      <th>28831</th>\n",
       "      <td> Xavier Combelle</td>\n",
       "      <td>                    Acousmatic sound</td>\n",
       "      <td> personal</td>\n",
       "      <td> 0.483887</td>\n",
       "    </tr>\n",
       "    <tr>\n",
       "      <th>28832</th>\n",
       "      <td> Xavier Combelle</td>\n",
       "      <td> Mécanisme de la physionomie humaine</td>\n",
       "      <td> personal</td>\n",
       "      <td> 0.465202</td>\n",
       "    </tr>\n",
       "    <tr>\n",
       "      <th>28833</th>\n",
       "      <td> Xavier Combelle</td>\n",
       "      <td>                  Philosophy of love</td>\n",
       "      <td> personal</td>\n",
       "      <td> 0.450705</td>\n",
       "    </tr>\n",
       "    <tr>\n",
       "      <th>28834</th>\n",
       "      <td> Xavier Combelle</td>\n",
       "      <td>              Politician's syllogism</td>\n",
       "      <td> personal</td>\n",
       "      <td> 0.432555</td>\n",
       "    </tr>\n",
       "  </tbody>\n",
       "</table>\n",
       "</div>"
      ],
      "text/plain": [
       "                  user             translation_source_title condition  \\\n",
       "28830  Xavier Combelle                        Mal du siècle  personal   \n",
       "28831  Xavier Combelle                     Acousmatic sound  personal   \n",
       "28832  Xavier Combelle  Mécanisme de la physionomie humaine  personal   \n",
       "28833  Xavier Combelle                   Philosophy of love  personal   \n",
       "28834  Xavier Combelle               Politician's syllogism  personal   \n",
       "\n",
       "       affinity  \n",
       "28830  0.488235  \n",
       "28831  0.483887  \n",
       "28832  0.465202  \n",
       "28833  0.450705  \n",
       "28834  0.432555  "
      ]
     },
     "execution_count": 164,
     "metadata": {},
     "output_type": "execute_result"
    }
   ],
   "source": [
    "d[d['user'] == 'Xavier Combelle']"
   ]
  },
  {
   "cell_type": "markdown",
   "metadata": {
    "collapsed": true
   },
   "source": [
    "My questions:\n",
    "0) baseline as random recommendations could actually be considered a negative (as in actively disruptive) treatment, how do we address this?\n",
    "1) How many editors activated were existing translators? Can we say that recs brought a larger share of the editor population to CX?\n",
    "2) Are we planning to look at sustained/repeated use of CX? Hypothesis: recs as an invitation to discover tool which people wouldn’t discover otherwise\n",
    "3) Deletion rates compared to organic translations: do completed translations coming from recs survive at a higher rate?\n",
    "\n",
    "Re. personalization, a better control might be a global mean."
   ]
  }
 ],
 "metadata": {
  "kernelspec": {
   "display_name": "Python 3",
   "language": "python",
   "name": "python3"
  },
  "language_info": {
   "codemirror_mode": {
    "name": "ipython",
    "version": 3
   },
   "file_extension": ".py",
   "mimetype": "text/x-python",
   "name": "python",
   "nbconvert_exporter": "python",
   "pygments_lexer": "ipython3",
   "version": "3.4.3"
  }
 },
 "nbformat": 4,
 "nbformat_minor": 0
}
