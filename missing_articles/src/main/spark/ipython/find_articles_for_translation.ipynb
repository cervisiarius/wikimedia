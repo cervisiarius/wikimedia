{
 "cells": [
  {
   "cell_type": "code",
   "execution_count": 2,
   "metadata": {
    "collapsed": true
   },
   "outputs": [],
   "source": [
    "import os,sys,inspect\n",
    "currentdir = os.path.dirname(os.path.abspath(inspect.getfile(inspect.currentframe())))\n",
    "parentdir = os.path.dirname(currentdir)\n",
    "sys.path.insert(0,parentdir) \n",
    "from find_articles_for_translation import *\n",
    "import os\n",
    "import codecs\n",
    "import networkx as nx\n",
    "from collections import Counter\n",
    "from pprint import pprint\n",
    "from ConfigParser import SafeConfigParser\n",
    "from util import get_parser, save_rdd\n",
    "import pandas as pd"
   ]
  },
  {
   "cell_type": "code",
   "execution_count": 4,
   "metadata": {
    "collapsed": false
   },
   "outputs": [
    {
     "name": "stdout",
     "output_type": "stream",
     "text": [
      "Got Wikidata Links\n"
     ]
    }
   ],
   "source": [
    "exp_dir = 'en-fr'\n",
    "s = 'en'\n",
    "t = 'fr'\n",
    "r = 'en'\n",
    "\n",
    "cp = SafeConfigParser()\n",
    "cp.read('/home/ellery/wikimedia/missing_articles/missing_articles.ini')\n",
    "\n",
    "delim = '|'\n",
    "\n",
    "wd_languages = set([s, t, r])\n",
    "rd_languages = set([s, t, r, 'wikidata'])\n",
    "ill_languages_from = set([s, t, r])\n",
    "ill_languages_to = set([s, t, r])\n",
    "\n",
    "G = create_graph(sc, cp, delim, wd_languages, rd_languages, ill_languages_from, ill_languages_to)\n"
   ]
  },
  {
   "cell_type": "code",
   "execution_count": 8,
   "metadata": {
    "collapsed": false
   },
   "outputs": [
    {
     "name": "stdout",
     "output_type": "stream",
     "text": [
      "Got 4869687 missing items\n"
     ]
    }
   ],
   "source": [
    "cc = nx.connected_component_subgraphs (G)\n",
    "missing_items = {}\n",
    "for i, g in enumerate(cc):\n",
    "    missing_items.update(is_subgraph_missing_target_item(g, s, t, delim))"
   ]
  },
  {
   "cell_type": "code",
   "execution_count": null,
   "metadata": {
    "collapsed": true
   },
   "outputs": [],
   "source": [
    "missing_items_df = pd.DataFrame(missing_items.items())\n",
    "missing_items_df.columns = ['id', 'title']\n",
    "missing_items_df = missing_items_df[missing_items_df['title'].apply(lambda x: (':' not in x) and (not x.startswith('List')))]"
   ]
  },
  {
   "cell_type": "code",
   "execution_count": 34,
   "metadata": {
    "collapsed": true
   },
   "outputs": [],
   "source": [
    "pageviews = sc.textFile(cp.get('general', 'pageviews'))\\\n",
    "    .map(lambda x: x.split('\\t'))\\\n",
    "    .filter(lambda x: x[1] == s)\\\n",
    "    .map(lambda x: (x[0], int(x[3]))).collect()\n",
    "pageviews_df = pd.DataFrame(pageviews)\n",
    "pageviews_df.columns = ['id', 'n']"
   ]
  },
  {
   "cell_type": "code",
   "execution_count": 40,
   "metadata": {
    "collapsed": false
   },
   "outputs": [],
   "source": [
    "missing_items_df = missing_items_df.merge(pageviews_df, on='id')\n",
    "missing_items_df = missing_items_df.sort('n', ascending = False)\n",
    "fname = os.path.join(cp.get('general', 'local_data_dir'), exp_dir, cp.get('missing', 'missing_items'))\n",
    "missing_items_df.to_csv(fname, sep='\\t', encoding='utf8', index = False, header = False) "
   ]
  }
 ],
 "metadata": {
  "kernelspec": {
   "display_name": "Python 2",
   "language": "python",
   "name": "python2"
  },
  "language_info": {
   "codemirror_mode": {
    "name": "ipython",
    "version": 2
   },
   "file_extension": ".py",
   "mimetype": "text/x-python",
   "name": "python",
   "nbconvert_exporter": "python",
   "pygments_lexer": "ipython2",
   "version": "2.7.10"
  }
 },
 "nbformat": 4,
 "nbformat_minor": 0
}
