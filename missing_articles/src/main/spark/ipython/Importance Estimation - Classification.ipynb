{
 "cells": [
  {
   "cell_type": "markdown",
   "metadata": {},
   "source": [
    "## Estimating the Importance of Missing Articles\n",
    "\n",
    "Our goal is to Find Articles that should exist in the target language"
   ]
  },
  {
   "cell_type": "markdown",
   "metadata": {},
   "source": [
    "#### Setup"
   ]
  },
  {
   "cell_type": "code",
   "execution_count": 1,
   "metadata": {
    "collapsed": false
   },
   "outputs": [
    {
     "data": {
      "text/plain": [
       "['/home/ellery/wikimedia/missing_articles/missing_articles.ini']"
      ]
     },
     "execution_count": 1,
     "metadata": {},
     "output_type": "execute_result"
    }
   ],
   "source": [
    "%load_ext autoreload\n",
    "%autoreload 2\n",
    "%matplotlib inline\n",
    "\n",
    "import matplotlib.pyplot as plt\n",
    "from ConfigParser import SafeConfigParser\n",
    "from operator import add\n",
    "#from pyspark.mllib.recommendation import ALS, Rating\n",
    "import random \n",
    "from random import randint\n",
    "import itertools\n",
    "from math import sqrt\n",
    "import numpy as np\n",
    "from pprint import pprint\n",
    "import math\n",
    "from ConfigParser import SafeConfigParser\n",
    "import pandas as pd\n",
    "import os,sys,inspect\n",
    "currentdir = os.path.dirname(os.path.abspath(inspect.getfile(inspect.currentframe())))\n",
    "parentdir = os.path.dirname(currentdir)\n",
    "sys.path.insert(0,parentdir) \n",
    "from eval_util import *\n",
    "\n",
    "from sklearn import cross_validation, grid_search\n",
    "from sklearn.cross_validation import StratifiedKFold\n",
    "import multiprocessing\n",
    "from sklearn.linear_model import LinearRegression\n",
    "from sklearn.linear_model import LogisticRegression\n",
    "\n",
    "from scipy.sparse import coo_matrix, hstack\n",
    "import sklearn\n",
    "from scipy.stats import spearmanr\n",
    "from sklearn.metrics import f1_score, roc_auc_score,accuracy_score, make_scorer\n",
    "from sklearn.metrics import r2_score, mean_squared_error\n",
    "from sklearn.preprocessing import StandardScaler\n",
    "\n",
    "\n",
    "def get_parser(names):\n",
    "    def loadRecord(line):\n",
    "        cells = line.strip().split('\\t')\n",
    "        return dict(zip(names, cells))\n",
    "    return loadRecord\n",
    "\n",
    "\n",
    "def get_X(M, df, index_col, feature_cols):\n",
    "    if M is None or index_col is None:\n",
    "        l = []\n",
    "    else:\n",
    "        l = [M[df[index_col]], ]\n",
    "    for col in feature_cols:\n",
    "         l.append(coo_matrix(df[col].astype('float')).T)\n",
    "    return hstack(l).toarray()\n",
    "\n",
    "\n",
    "def f1(x, y):\n",
    "    sr = f1_score(x, y)\n",
    "    print 'F1: %2.5f' % sr\n",
    "    return sr\n",
    "\n",
    "def auc(y_true,y_pred):\n",
    "    mse = roc_auc_score(y_true, y_pred)\n",
    "    print 'ROC: %2.5f \\n' % mse\n",
    "    return mse\n",
    "\n",
    "def acc(y_true,y_pred):    \n",
    "     r2 = accuracy_score(y_true, y_pred)\n",
    "     print 'Accuracy: %2.5f' % r2\n",
    "     return r2\n",
    "\n",
    "def multi_score_classification(y_true,y_pred):   \n",
    "    f1(y_true,y_pred) #set score here and not below if using MSE in GridCV\n",
    "    acc(y_true,y_pred)\n",
    "    score = auc(y_true,y_pred)\n",
    "    return score\n",
    "\n",
    "def multi_scorer_classification():\n",
    "    return make_scorer(multi_score_classification, greater_is_better=True) # change for false if using MSE\n",
    "\n",
    "\n",
    "def spearman(x, y):\n",
    "    sr = spearmanr(x, y)[0]\n",
    "    print 'Spearman: %2.5f \\n' % sr\n",
    "    return sr\n",
    "\n",
    "def MSE(y_true,y_pred):\n",
    "    mse = mean_squared_error(y_true, y_pred)\n",
    "    print 'MSE: %2.5f' % mse\n",
    "    return mse\n",
    "\n",
    "def R2(y_true,y_pred):    \n",
    "     r2 = r2_score(y_true, y_pred)\n",
    "     print 'R2: %2.5f' % r2\n",
    "     return r2\n",
    "\n",
    "def multi_score_regression(y_true,y_pred):    \n",
    "    MSE(y_true,y_pred) #set score here and not below if using MSE in GridCV\n",
    "    R2(y_true,y_pred)\n",
    "    score = spearman(y_true,y_pred)\n",
    "    return score\n",
    "\n",
    "def multi_scorer_regression():\n",
    "    return make_scorer(multi_score_regression, greater_is_better=True) # change for false if using MSE\n",
    "\n",
    "\n",
    "\n",
    "    \n",
    "def cv (X, y, folds, alg, param_grid, regression):\n",
    "    \"\"\"\n",
    "    Determine the best model via cross validation. This should be run on training data.\n",
    "    \"\"\"\n",
    "    if regression:\n",
    "        scoring = multi_scorer_regression()\n",
    "    else:\n",
    "        scoring = multi_scorer_classification()\n",
    "        \n",
    "    print \"\\n\\n\\nDoing Gridsearch\\n\"\n",
    "\n",
    "    kfold_cv = cross_validation.KFold(X.shape[0], n_folds=folds, shuffle=True)\n",
    "    model = grid_search.GridSearchCV(cv  = kfold_cv, estimator = alg, param_grid = param_grid, scoring = scoring) #n_jobs=multiprocessing.cpu_count()\n",
    "    model = model.fit(X,y)\n",
    "    # model trained on all data\n",
    "    y_pred = model.predict(X)\n",
    "    \n",
    "    if regression:\n",
    "        print \"Best Model Train MSE: %f\" % sklearn.metrics.mean_squared_error(y, y_pred)\n",
    "        print \"Best Model Train Spearman %f\" % spearman(y, y_pred)\n",
    "    else:\n",
    "        print \"Best Model Train AUC: %f\" % roc_auc_score(y, y_pred)\n",
    "        print \"Best Model Train F1 %f\" % f1_score(y, y_pred)\n",
    "        print \"Best Model Train Accuracy %f\" % accuracy_score(y, y_pred)\n",
    "        \n",
    "\n",
    "\n",
    "    print(\"\\nBest parameters set found:\")\n",
    "    best_parameters, score, _ = max(model.grid_scores_, key=lambda x: x[1])\n",
    "    print(best_parameters, score)\n",
    "    print \"\\n\"\n",
    "    print(\"Grid scores:\")\n",
    "    for params, mean_score, scores in model.grid_scores_:\n",
    "        print(\"%0.5f (+/-%0.05f) for %r\"\n",
    "              % (mean_score, scores.std() / 2, params))\n",
    "\n",
    "    return model\n",
    "\n",
    "config = '/home/ellery/wikimedia/missing_articles/missing_articles.ini'\n",
    "cp = SafeConfigParser()\n",
    "cp.read(config)"
   ]
  },
  {
   "cell_type": "code",
   "execution_count": 2,
   "metadata": {
    "collapsed": true
   },
   "outputs": [],
   "source": [
    "# Predict if the source article exists in the target"
   ]
  },
  {
   "cell_type": "code",
   "execution_count": 3,
   "metadata": {
    "collapsed": true
   },
   "outputs": [],
   "source": [
    "s = 'en'\n",
    "t = 'fr'\n",
    "t_country_name = 'France'\n",
    "exp_dir = '%s-%s' % (s, t)"
   ]
  },
  {
   "cell_type": "code",
   "execution_count": 5,
   "metadata": {
    "collapsed": false
   },
   "outputs": [],
   "source": [
    "#pv_df_final.to_csv('/home/ellery/'+exp_dir+'/pv_df.tsv', encoding = 'utf8', sep = '\\t', index = False)\n",
    "pv_df_final = pd.read_csv('/home/ellery/'+exp_dir+'/pv_df.tsv', encoding = 'utf8', sep = '\\t')\n",
    "pv_df_final['is_dis'] = pv_df_final['is_dis'].apply(lambda x: x =='True')\n",
    "pv_df_final['is_stub'] = pv_df_final['is_stub'].apply(lambda x: x =='True')"
   ]
  },
  {
   "cell_type": "code",
   "execution_count": 6,
   "metadata": {
    "collapsed": true
   },
   "outputs": [],
   "source": [
    "countries = set(['France', 'Spain', 'Germany', 'Russia', 'Poland', 'Italy', 'Netherlands'])"
   ]
  },
  {
   "cell_type": "markdown",
   "metadata": {
    "collapsed": false
   },
   "source": [
    "#### Get Page View Counts and Ranks"
   ]
  },
  {
   "cell_type": "code",
   "execution_count": 7,
   "metadata": {
    "collapsed": true
   },
   "outputs": [],
   "source": [
    "other_langs = ['de', 'nl', 'it', 'es', 'en', 'fr', 'ru', 'pl']\n",
    "langs = set(other_langs)\n",
    "langs.add(s)\n",
    "langs.add(t)"
   ]
  },
  {
   "cell_type": "code",
   "execution_count": null,
   "metadata": {
    "collapsed": false
   },
   "outputs": [],
   "source": [
    "def get_ranking_score(t):\n",
    "    lang_id, items = t\n",
    "    items = list(items)\n",
    "    item_ranks = np.argsort(np.array([x['pageview_count'] for x in items]))\n",
    "    n = float(len(items))\n",
    "    for r, i in enumerate(item_ranks):\n",
    "        items[i]['rank'] = r/n\n",
    "    return items\n",
    "\n",
    "def make_counts_float(x):\n",
    "    x['pageview_count']  = int(x['pageview_count'])  \n",
    "    return x  \n",
    "\n",
    "def contains_source(dict_list):\n",
    "    for d in dict_list:\n",
    "        if s == d['lang']:\n",
    "            return True\n",
    "    return False\n",
    "    \n",
    "                                      \n",
    "names = [ 'id', 'lang', 'title', 'pageview_count']\n",
    "\n",
    "pv_features = sc.textFile(cp.get('general', 'pageviews'))\\\n",
    ".map(get_parser(names))\\\n",
    ".filter(lambda x: len(x) == 4)\\\n",
    ".filter(lambda x: ':' not in x['title'])\\\n",
    ".filter(lambda x: x['lang'] in langs)\\\n",
    ".map(make_counts_float)\\\n",
    ".map(lambda x: (x['lang'], x))\\\n",
    ".groupByKey()\\\n",
    ".flatMap(get_ranking_score)\\\n",
    ".map(lambda x: (x['id'], x))\\\n",
    ".groupByKey()\\\n",
    ".filter(lambda x: contains_source(x[1]))\\\n",
    ".flatMap(lambda x: x[1])\\\n",
    ".map(lambda x: (x['id'], x['lang'], x['pageview_count'], x['rank']))\n",
    "\n",
    "pv_df = pd.DataFrame(pv_features.collect(), columns = [ 'id', 'lang', 'pageview_count', 'rank'])\n",
    "\n",
    "df1 = pv_df.pivot(index='id', columns='lang', values='pageview_count')\n",
    "df1.fillna(value=0, inplace=True)\n",
    "df1.columns = ['pageview_count_' + lang for lang in df1.columns]\n",
    "\n",
    "df2 = pv_df.pivot(index='id', columns='lang', values='rank')\n",
    "df2.fillna(value=0, inplace=True)\n",
    "df2.columns = ['rank_' + lang for lang in df2.columns]\n",
    "\n",
    "pv_df_final = df1.merge(df2, right_index = True, left_index = True, how = 'inner')\n",
    "del df1\n",
    "del df2"
   ]
  },
  {
   "cell_type": "markdown",
   "metadata": {},
   "source": [
    "#### Get Article Titles"
   ]
  },
  {
   "cell_type": "code",
   "execution_count": 6,
   "metadata": {
    "collapsed": false
   },
   "outputs": [],
   "source": [
    "names = [ 'id', 'lang', 'title']\n",
    "item_names = sc.textFile(cp.get('general', 'id2article'))\\\n",
    ".map(get_parser(names))\\\n",
    ".filter(lambda x: len(x) == 3)\\\n",
    ".filter(lambda x: x['lang'] == s)\\\n",
    ".map(lambda x: (x['id'], x['title'])).collect()\n",
    "\n",
    "ids = [x[0] for x in item_names]\n",
    "names = [x[1] for x in item_names]\n",
    "names_series = pd.Series(names, index=ids)\n",
    "del ids\n",
    "del names\n",
    "pv_df_final['title'] = names_series\n",
    "del names_series\n",
    "del item_names"
   ]
  },
  {
   "cell_type": "code",
   "execution_count": 12,
   "metadata": {
    "collapsed": true
   },
   "outputs": [],
   "source": [
    "def underscore(x):\n",
    "    return unicode(x).replace(u' ', u'_')"
   ]
  },
  {
   "cell_type": "code",
   "execution_count": 14,
   "metadata": {
    "collapsed": false
   },
   "outputs": [],
   "source": [
    "pv_df_final['title'] = pv_df_final['title'].apply(underscore)"
   ]
  },
  {
   "cell_type": "markdown",
   "metadata": {},
   "source": [
    "#### Get Number of Wikis the Article Exists in"
   ]
  },
  {
   "cell_type": "code",
   "execution_count": 15,
   "metadata": {
    "collapsed": false
   },
   "outputs": [],
   "source": [
    "def count_non_target(x):\n",
    "    res = 0\n",
    "    for d in x:\n",
    "        if t != d['lang']:\n",
    "            res+=1\n",
    "    return res\n",
    "\n",
    "names = [ 'id', 'lang', 'title']\n",
    "item_counts = sc.textFile(cp.get('general', 'id2article'))\\\n",
    ".map(get_parser(names))\\\n",
    ".filter(lambda x: len(x) == 3)\\\n",
    ".map(lambda x: (x['id'], x))\\\n",
    ".groupByKey()\\\n",
    ".filter(lambda x: contains_source(x[1]))\\\n",
    ".mapValues(count_non_target)\\\n",
    ".collect()\n",
    "\n",
    "ids = [x[0] for x in item_counts]\n",
    "counts = [x[1] for x in item_counts]\n",
    "count_series = pd.Series(counts, index=ids)\n",
    "del ids\n",
    "del counts\n",
    "pv_df_final['wiki_count'] = count_series\n",
    "del count_series\n",
    "del item_counts"
   ]
  },
  {
   "cell_type": "markdown",
   "metadata": {},
   "source": [
    "#### Label Articles that exist in the target"
   ]
  },
  {
   "cell_type": "code",
   "execution_count": 16,
   "metadata": {
    "collapsed": false
   },
   "outputs": [],
   "source": [
    "names = [ 'id', 'lang', 'title']\n",
    "target_items = sc.textFile(cp.get('general', 'id2article'))\\\n",
    ".map(get_parser(names))\\\n",
    ".filter(lambda x: len(x) == 3)\\\n",
    ".filter(lambda x: x['lang'] == t)\\\n",
    ".map(lambda x: x['id'])\\\n",
    ".collect()\n",
    "\n",
    "joint_items = set(pv_df_final.index).intersection(set(target_items))\n",
    "joint_items_series = pd.Series(1, index =list(joint_items))\n",
    "pv_df_final['in_t'] = joint_items_series\n",
    "pv_df_final['id'] = pv_df_final.index"
   ]
  },
  {
   "cell_type": "code",
   "execution_count": 17,
   "metadata": {
    "collapsed": true
   },
   "outputs": [],
   "source": [
    "del target_items\n",
    "del joint_items\n",
    "del joint_items_series"
   ]
  },
  {
   "cell_type": "markdown",
   "metadata": {},
   "source": [
    "#### Get Geo Pageviews"
   ]
  },
  {
   "cell_type": "code",
   "execution_count": 18,
   "metadata": {
    "collapsed": false
   },
   "outputs": [],
   "source": [
    "# Views of Source Article from other countries\n",
    "geo_file = \"/user/ellery/enwiki_views_reduced.tsv\"\n",
    "names = ['title', 'country', 'count']\n",
    "geo_pv = sc.textFile(geo_file)\\\n",
    ".map(get_parser(names))\\\n",
    ".filter(lambda x: len(x) == 3)\\\n",
    ".filter(lambda x: x['country'] in countries)\\\n",
    ".map(lambda x: (x['title'], x['country'], int(x['count'])))\\\n",
    ".collect()\n",
    "\n",
    "geo_pv_df = pd.DataFrame(geo_pv, columns = names)\n",
    "geo_pv_df = geo_pv_df.pivot(index='title', columns='country', values='count')\n",
    "geo_pv_df.fillna(value=0, inplace=True)"
   ]
  },
  {
   "cell_type": "code",
   "execution_count": 41,
   "metadata": {
    "collapsed": true
   },
   "outputs": [],
   "source": [
    "geo_pv_df.columns = ['pageviews_for_s_from_' + c for c in geo_pv_df.columns]"
   ]
  },
  {
   "cell_type": "code",
   "execution_count": 43,
   "metadata": {
    "collapsed": true
   },
   "outputs": [],
   "source": [
    "geo_pv_df['title'] = geo_pv_df.index"
   ]
  },
  {
   "cell_type": "code",
   "execution_count": 44,
   "metadata": {
    "collapsed": false
   },
   "outputs": [],
   "source": [
    "geo_pv_df['title'] = geo_pv_df['title'].apply(underscore)"
   ]
  },
  {
   "cell_type": "code",
   "execution_count": 45,
   "metadata": {
    "collapsed": true
   },
   "outputs": [],
   "source": [
    "pv_df_final = pv_df_final.merge(geo_pv_df, how = 'left', on = 'title')"
   ]
  },
  {
   "cell_type": "code",
   "execution_count": 11,
   "metadata": {
    "collapsed": true
   },
   "outputs": [],
   "source": [
    "del geo_pv\n",
    "del geo_pv_df"
   ]
  },
  {
   "cell_type": "markdown",
   "metadata": {},
   "source": [
    "#### Get Log Pageview counts"
   ]
  },
  {
   "cell_type": "code",
   "execution_count": 8,
   "metadata": {
    "collapsed": true
   },
   "outputs": [],
   "source": [
    "pageview_counts = ['pageviews_for_s_from_' + c for c in countries] + ['pageview_count_' + lang for lang in langs if lang != t]\n",
    "log_pageview_counts = ['log_' + c for c in pageview_counts]"
   ]
  },
  {
   "cell_type": "code",
   "execution_count": 49,
   "metadata": {
    "collapsed": false
   },
   "outputs": [],
   "source": [
    "pv_df_final[log_pageview_counts] = pv_df_final[pageview_counts].replace(0, 1).apply(np.log)"
   ]
  },
  {
   "cell_type": "markdown",
   "metadata": {},
   "source": [
    "#### Get Edit Features"
   ]
  },
  {
   "cell_type": "code",
   "execution_count": 50,
   "metadata": {
    "collapsed": false
   },
   "outputs": [],
   "source": [
    "def months_ago(date):\n",
    "    year = int(date[:4])\n",
    "    month = int(date[4:6])\n",
    "    return (2015*12 + 6) - (year*12+month)\n",
    "\n",
    "revisions_file = '/user/west1/revision_history_aggregated/' + s\n",
    "names = ['lang','user_id','user','mid','page_title','num_edits','timestamp','bytes_added']\n",
    "revisions = sc.textFile(revisions_file)\\\n",
    ".map(get_parser(names))\\\n",
    ".filter(lambda x: len(x) == 8)\\\n",
    ".map(lambda x: (x['mid'], x['timestamp']))\\\n",
    ".groupByKey()\\\n",
    ".map(lambda x: (x[0], len(x[1]), months_ago(min(x[1])), months_ago(max(x[1]))))\\\n",
    "\n",
    "edit_features_df = pd.DataFrame(revisions.collect(), columns = ['id', 'num_contributors', 'first_date', 'last_date'] )"
   ]
  },
  {
   "cell_type": "code",
   "execution_count": 52,
   "metadata": {
    "collapsed": false
   },
   "outputs": [],
   "source": [
    "pv_df_final = pv_df_final.merge(edit_features_df, how = 'left', on = 'id')\n",
    "pv_df_final.fillna(value=0, inplace=True)"
   ]
  },
  {
   "cell_type": "code",
   "execution_count": 55,
   "metadata": {
    "collapsed": true
   },
   "outputs": [],
   "source": [
    "del edit_features_df"
   ]
  },
  {
   "cell_type": "markdown",
   "metadata": {
    "collapsed": true
   },
   "source": [
    "#### Get Dump Features"
   ]
  },
  {
   "cell_type": "code",
   "execution_count": 56,
   "metadata": {
    "collapsed": false
   },
   "outputs": [],
   "source": [
    "feature_file = \"/home/ellery/en-en/dump_features.tsv\"\n",
    "dump_df = pd.read_csv(feature_file, encoding = 'utf8', sep = '\\t')\n",
    "del dump_df['Unnamed: 0']\n",
    "dump_df['title'] = dump_df['title'].apply(lambda x: unicode(x).replace(u' ', u'_'))\n",
    "dump_df['log_length'] = dump_df['length'].apply(np.log)\n",
    "pv_df_final = pv_df_final.merge(dump_df, how = 'left',on = 'title')\n",
    "pv_df_final.fillna(value=0, inplace=True)"
   ]
  },
  {
   "cell_type": "code",
   "execution_count": 57,
   "metadata": {
    "collapsed": true
   },
   "outputs": [],
   "source": [
    "del dump_df"
   ]
  },
  {
   "cell_type": "markdown",
   "metadata": {},
   "source": [
    "#### Get Importance Template Label Features"
   ]
  },
  {
   "cell_type": "code",
   "execution_count": 59,
   "metadata": {
    "collapsed": true
   },
   "outputs": [],
   "source": [
    "importance_file = '/home/ellery/importance.tsv'\n",
    "importance_df = pd.read_csv(importance_file, encoding = 'utf8', sep = '\\t')\n",
    "importance_df.columns = ['title', 'score']\n",
    "importance_df['group'] = importance_df['score']\n",
    "importance_df = importance_df[importance_df['title'].notnull()]\n",
    "importance_df_pivoted = importance_df.pivot(index='title', columns='group', values='score')\n",
    "importance_df_pivoted[importance_df_pivoted.notnull()] = 1\n",
    "importance_df_pivoted.fillna(0, inplace = True)\n",
    "importance_df_pivoted.columns =  ['unk', 'low', 'mid', 'high', 'top']\n",
    "del importance_df_pivoted['unk']"
   ]
  },
  {
   "cell_type": "code",
   "execution_count": 62,
   "metadata": {
    "collapsed": true
   },
   "outputs": [],
   "source": [
    "importance_df_pivoted['title'] = importance_df_pivoted.index"
   ]
  },
  {
   "cell_type": "code",
   "execution_count": 63,
   "metadata": {
    "collapsed": true
   },
   "outputs": [],
   "source": [
    "importance_df_pivoted['title'] = importance_df_pivoted['title'].apply(underscore)"
   ]
  },
  {
   "cell_type": "code",
   "execution_count": 65,
   "metadata": {
    "collapsed": true
   },
   "outputs": [],
   "source": [
    "pv_df_final = pv_df_final.merge(importance_df_pivoted, how = 'left',on = 'title')"
   ]
  },
  {
   "cell_type": "code",
   "execution_count": 67,
   "metadata": {
    "collapsed": true
   },
   "outputs": [],
   "source": [
    "del importance_df_pivoted\n",
    "del importance_df"
   ]
  },
  {
   "cell_type": "markdown",
   "metadata": {},
   "source": [
    "### Get Link Features"
   ]
  },
  {
   "cell_type": "code",
   "execution_count": 68,
   "metadata": {
    "collapsed": false
   },
   "outputs": [
    {
     "data": {
      "text/plain": [
       "ParallelCollectionRDD[38] at parallelize at PythonRDD.scala:376"
      ]
     },
     "execution_count": 68,
     "metadata": {},
     "output_type": "execute_result"
    }
   ],
   "source": [
    "subset = pv_df_final[['title', 'in_t']]\n",
    "subset = subset[subset['in_t'] ==1]\n",
    "tuples = [tuple(x) for x in subset.values]\n",
    "target_item_rdd = sc.parallelize(tuples)\n",
    "target_item_rdd.persist()"
   ]
  },
  {
   "cell_type": "code",
   "execution_count": 70,
   "metadata": {
    "collapsed": false
   },
   "outputs": [
    {
     "data": {
      "text/plain": [
       "[(u'Universe', 1.0), (u'Boston', 1.0), (u'Gabon', 1.0)]"
      ]
     },
     "execution_count": 70,
     "metadata": {},
     "output_type": "execute_result"
    }
   ],
   "source": [
    "target_item_rdd.take(3)"
   ]
  },
  {
   "cell_type": "code",
   "execution_count": 73,
   "metadata": {
    "collapsed": false
   },
   "outputs": [
    {
     "data": {
      "text/plain": [
       "PythonRDD[48] at RDD at PythonRDD.scala:42"
      ]
     },
     "execution_count": 73,
     "metadata": {},
     "output_type": "execute_result"
    }
   ],
   "source": [
    "from operator import add\n",
    "links_file = '/user/hive/warehouse/ellery.db/pagelinks_readable'\n",
    "  \n",
    "links = sc.textFile(links_file)\\\n",
    ".map(lambda x: tuple(x.split(u'\\x01')))\n",
    "\n",
    "out_link_counts = links.map(lambda x: (x[0], 1))\\\n",
    ".reduceByKey(add)\n",
    "out_link_counts.persist()"
   ]
  },
  {
   "cell_type": "code",
   "execution_count": 83,
   "metadata": {
    "collapsed": false
   },
   "outputs": [
    {
     "data": {
      "text/plain": [
       "[(u'Neue_Haas_Grotesk', 1),\n",
       " (u'The_Terror_(Marvel_comics)', 1),\n",
       " (u'1940_World_Snooker_Championship', 99),\n",
       " (u'Pennsylvania_Route_830', 34),\n",
       " (u'Senait_Mehari', 1),\n",
       " (u'C.R._Eklund', 1),\n",
       " (u'1688_in_music', 51),\n",
       " (u'Brimsdown_Rovers_F.C.', 40),\n",
       " (u'\\U0001308b', 1),\n",
       " (u'Nampu', 118)]"
      ]
     },
     "execution_count": 83,
     "metadata": {},
     "output_type": "execute_result"
    }
   ],
   "source": [
    "out_link_counts.take(10)"
   ]
  },
  {
   "cell_type": "code",
   "execution_count": 84,
   "metadata": {
    "collapsed": true
   },
   "outputs": [],
   "source": [
    "out_df  = pd.DataFrame(out_link_counts.collect(), columns = ['title', 'out_link_count'])\n",
    "pv_df_final = pv_df_final.merge(out_df, how = 'left', on = 'title')"
   ]
  },
  {
   "cell_type": "code",
   "execution_count": 85,
   "metadata": {
    "collapsed": false
   },
   "outputs": [
    {
     "data": {
      "text/plain": [
       "PythonRDD[83] at RDD at PythonRDD.scala:42"
      ]
     },
     "execution_count": 85,
     "metadata": {},
     "output_type": "execute_result"
    }
   ],
   "source": [
    "in_link_counts = links.map(lambda x: (x[1], 1))\\\n",
    ".reduceByKey(add)\n",
    "in_link_counts.persist()"
   ]
  },
  {
   "cell_type": "code",
   "execution_count": 86,
   "metadata": {
    "collapsed": false
   },
   "outputs": [
    {
     "data": {
      "text/plain": [
       "[(u'United_States_House_of_Representatives_elections_in_Oregon,_1996', 160),\n",
       " (u'Christopher_Bentley', 83),\n",
       " (u'West_La_Crosse,_Wisconsin', 36),\n",
       " (u'List_of_people_with_surname_Yu', 3),\n",
       " (u'Iliana_Raeva', 13),\n",
       " (u'North_Country_(soundtrack)', 3),\n",
       " (u'The_Stark_Munro_Letters', 37),\n",
       " (u'Annisa_Ananda_Nusyirwan', 71),\n",
       " (u'TuS_Wengern', 1),\n",
       " (u'SS_Delphic', 84)]"
      ]
     },
     "execution_count": 86,
     "metadata": {},
     "output_type": "execute_result"
    }
   ],
   "source": [
    "in_link_counts.take(10)"
   ]
  },
  {
   "cell_type": "code",
   "execution_count": 87,
   "metadata": {
    "collapsed": true
   },
   "outputs": [],
   "source": [
    "in_df  = pd.DataFrame(in_link_counts.collect(), columns = ['title', 'in_link_count'])\n",
    "pv_df_final = pv_df_final.merge(in_df, how = 'left', on = 'title')"
   ]
  },
  {
   "cell_type": "code",
   "execution_count": 71,
   "metadata": {
    "collapsed": true
   },
   "outputs": [],
   "source": [
    "# Target Reduction"
   ]
  },
  {
   "cell_type": "code",
   "execution_count": 74,
   "metadata": {
    "collapsed": false
   },
   "outputs": [
    {
     "data": {
      "text/plain": [
       "PythonRDD[61] at RDD at PythonRDD.scala:42"
      ]
     },
     "execution_count": 74,
     "metadata": {},
     "output_type": "execute_result"
    }
   ],
   "source": [
    "source_out_link_counts = links.join(target_item_rdd)\\\n",
    ".map(lambda x: tuple(x[1]))\\\n",
    ".reduceByKey(add)\n",
    "source_out_link_counts.persist()"
   ]
  },
  {
   "cell_type": "code",
   "execution_count": 75,
   "metadata": {
    "collapsed": false,
    "scrolled": true
   },
   "outputs": [
    {
     "data": {
      "text/plain": [
       "[(u'Lumber_River_Council_of_Governments', 5.0),\n",
       " (u'1940_World_Snooker_Championship', 74.0),\n",
       " (u'1946_in_architecture', 30.0),\n",
       " (u'George_Abercromby,_2nd_Baron_Abercromby', 3.0),\n",
       " (u'Cartersville,_Cumberland_County,_Virginia', 4.0),\n",
       " (u'Christopher_Bentley', 22.0),\n",
       " (u'F\\xf8rde_Municipality', 1.0),\n",
       " (u'Fountain_Tree', 1.0),\n",
       " (u'Sepsiszentgy\\xf6rgy', 1.0),\n",
       " (u'Multiple_familial_trichoepithelioma', 15.0),\n",
       " (u'Mazraeh-ye_Gura', 1.0),\n",
       " (u'Isa_Mohammed', 2.0),\n",
       " (u'Kharkiv_National_Aerospace_University_\"KhAI\"', 1.0),\n",
       " (u'Communist_states', 22.0),\n",
       " (u'Diego_Accorsi', 1.0),\n",
       " (u'Chill\\xe1n_Department', 2.0),\n",
       " (u'Chatham,_Mississippi', 7.0),\n",
       " (u'David_Mueller', 1.0),\n",
       " (u'Yuthasak_Sasiprapha', 2.0),\n",
       " (u'Kelsey,_Texas', 3.0),\n",
       " (u'Kahlil_Gibran', 26.0),\n",
       " (u'New_Hanover_Island', 69.0),\n",
       " (u'Phu_Khiao_Wildlife_Sanctuary', 1.0),\n",
       " (u'Barbalin,_Western_Australia', 1.0),\n",
       " (u'Prinia_sylvatica', 2.0),\n",
       " (u'Base36', 10.0),\n",
       " (u'Hells_Kitchen_(band)', 1.0),\n",
       " (u'Six_Pack_Annie', 2.0),\n",
       " (u'Wisconsin_140hp', 1.0),\n",
       " (u'Epeus_alboguttatus', 1.0),\n",
       " (u'Young_Pei', 1.0),\n",
       " (u'Moovattupuzha', 2.0),\n",
       " (u'Walter_H._Johns', 1.0),\n",
       " (u'Aja_Volkman', 3.0),\n",
       " (u\"St._Bernard's,_Newfoundland_and_Labrador\", 1.0),\n",
       " (u'Cladeus', 2.0),\n",
       " (u'Rational_Rhapsody', 2.0),\n",
       " (u'Rogier_de_Hesdin', 1.0),\n",
       " (u'Polaris_(comics)', 200.0),\n",
       " (u'1976_Philadelphia_Flyers\\u2013Red_Army_game', 118.0),\n",
       " (u'Willy_Ovesen', 1.0),\n",
       " (u'Alexander_Dutov', 11.0),\n",
       " (u'Axiomatic_Set_Theory', 2.0),\n",
       " (u'Satyrium_calanus', 2.0),\n",
       " (u'Philippe_H\\xe9riat', 20.0),\n",
       " (u'Humorous_Ghost_Stories', 1.0),\n",
       " (u'Kevin_Dallimore', 1.0),\n",
       " (u'Aoukar,_Lebanon', 33.0),\n",
       " (u'Jochen_Trunk', 1.0),\n",
       " (u'One_Hundred_Years_of_Evil', 2.0),\n",
       " (u'IASOC', 1.0),\n",
       " (u'Ronald_Ransom', 1.0),\n",
       " (u'Bob_Cottam_(cricketer)', 1.0),\n",
       " (u'Wendelstein_Cave', 1.0),\n",
       " (u'OGHET', 5.0),\n",
       " (u'Batep\\xe1_Massacre', 2.0),\n",
       " (u'Ulv_Galiciefarer', 1.0),\n",
       " (u'Polystichum_nepalense', 1.0),\n",
       " (u'Mr._Wrong', 28.0),\n",
       " (u'Bi_Abr-e_Choqamaran', 2.0),\n",
       " (u'1082_Pirola', 3.0),\n",
       " (u'Russia_at_the_Paralympics', 125.0),\n",
       " (u'Bedel_Pass', 13.0),\n",
       " (u'2003_in_Aruba', 2.0),\n",
       " (u'Languages_of_Belarus', 58.0),\n",
       " (u'Ansio_(Metro_Bilbao_station)', 2.0),\n",
       " (u'Nikolai_Tyrsa', 1.0),\n",
       " (u'Cecil_B._deMille', 4.0),\n",
       " (u'Rastislav_Revucky', 1.0),\n",
       " (u'Bombardment_of_Cura\\xe7ao', 3.0),\n",
       " (u'Bittacus_maculosus', 1.0),\n",
       " (u\"Gabon_women's_national_under-17_football_team\", 6.0),\n",
       " (u'Henry_Percy,_5th_Earl_of_Northumberland', 12.0),\n",
       " (u'Pietro_Prato', 1.0),\n",
       " (u'Konrad_Meyer', 8.0),\n",
       " (u'Riverrun_(A_Song_of_Ice_and_Fire)', 7.0),\n",
       " (u'North_Fork_Clackamas_River', 1.0),\n",
       " (u'Cal_Howard', 4.0),\n",
       " (u'Ascalon', 2.0),\n",
       " (u'SV_Merseburg_99', 1.0),\n",
       " (u'Centipede_(band)', 16.0),\n",
       " (u'Liege,_Alberta', 2.0),\n",
       " (u'Suisun_Bay', 178.0),\n",
       " (u'Compact_fluorescent_light', 3.0),\n",
       " (u'Laboureur', 2.0),\n",
       " (u\"Farmers'_Alliance\", 13.0),\n",
       " (u'Valeriya_Reznik', 4.0),\n",
       " (u'Irreligion_in_El_Salvador', 1.0),\n",
       " (u'Trendy_Awards', 1.0),\n",
       " (u'Tuna_Canyon_Detention_Station', 20.0),\n",
       " (u'Mochtar_Kusumaatmadja', 9.0),\n",
       " (u'Rikard_Hansson', 1.0),\n",
       " (u'Las_Flores_Asistencia', 2.0),\n",
       " (u'Microtonal_music', 188.0),\n",
       " (u'Paris_Expo', 1.0),\n",
       " (u'2009_in_Cyprus', 5.0),\n",
       " (u'Amorphoscelis_laxeretis', 1.0),\n",
       " (u'Dean_Evason', 16.0),\n",
       " (u'Clitocybe_vibecina', 1.0),\n",
       " (u'Hohe_Kisten', 1.0)]"
      ]
     },
     "execution_count": 75,
     "metadata": {},
     "output_type": "execute_result"
    }
   ],
   "source": [
    "source_out_link_counts.take(100)"
   ]
  },
  {
   "cell_type": "code",
   "execution_count": 76,
   "metadata": {
    "collapsed": true
   },
   "outputs": [],
   "source": [
    "s_out_df  = pd.DataFrame(source_out_link_counts.collect(), columns = ['title', 'source_in_link_count'])\n",
    "pv_df_final = pv_df_final.merge(s_out_df, how = 'left', on = 'title')"
   ]
  },
  {
   "cell_type": "code",
   "execution_count": 78,
   "metadata": {
    "collapsed": false
   },
   "outputs": [
    {
     "data": {
      "text/html": [
       "<div style=\"max-height:1000px;max-width:1500px;overflow:auto;\">\n",
       "<table border=\"1\" class=\"dataframe\">\n",
       "  <thead>\n",
       "    <tr style=\"text-align: right;\">\n",
       "      <th></th>\n",
       "      <th>title</th>\n",
       "      <th>source_in_link_count</th>\n",
       "    </tr>\n",
       "  </thead>\n",
       "  <tbody>\n",
       "    <tr>\n",
       "      <th>0</th>\n",
       "      <td>        Universe</td>\n",
       "      <td>  955</td>\n",
       "    </tr>\n",
       "    <tr>\n",
       "      <th>1</th>\n",
       "      <td>          Boston</td>\n",
       "      <td> 5483</td>\n",
       "    </tr>\n",
       "    <tr>\n",
       "      <th>2</th>\n",
       "      <td>           Gabon</td>\n",
       "      <td> 2685</td>\n",
       "    </tr>\n",
       "    <tr>\n",
       "      <th>3</th>\n",
       "      <td> Dutch_Wikipedia</td>\n",
       "      <td>  107</td>\n",
       "    </tr>\n",
       "    <tr>\n",
       "      <th>4</th>\n",
       "      <td>  Cadier_en_Keer</td>\n",
       "      <td>    8</td>\n",
       "    </tr>\n",
       "  </tbody>\n",
       "</table>\n",
       "</div>"
      ],
      "text/plain": [
       "             title  source_in_link_count\n",
       "0         Universe                   955\n",
       "1           Boston                  5483\n",
       "2            Gabon                  2685\n",
       "3  Dutch_Wikipedia                   107\n",
       "4   Cadier_en_Keer                     8"
      ]
     },
     "execution_count": 78,
     "metadata": {},
     "output_type": "execute_result"
    }
   ],
   "source": [
    "pv_df_final.head()[['title', 'source_in_link_count']]"
   ]
  },
  {
   "cell_type": "code",
   "execution_count": 79,
   "metadata": {
    "collapsed": false
   },
   "outputs": [
    {
     "data": {
      "text/plain": [
       "PythonRDD[75] at RDD at PythonRDD.scala:42"
      ]
     },
     "execution_count": 79,
     "metadata": {},
     "output_type": "execute_result"
    }
   ],
   "source": [
    "source_in_link_counts = links.map(lambda x: (x[1], x[0])).join(target_item_rdd)\\\n",
    ".map(lambda x: tuple(x[1]))\\\n",
    ".reduceByKey(add)\n",
    "source_in_link_counts.persist()"
   ]
  },
  {
   "cell_type": "code",
   "execution_count": 80,
   "metadata": {
    "collapsed": false
   },
   "outputs": [
    {
     "data": {
      "text/plain": [
       "[(u'Peel_Z-1_Glider_Boat', 34.0),\n",
       " (u'Leon_Bonnat', 1.0),\n",
       " (u'1946_in_architecture', 39.0),\n",
       " (u'William_Cook_(cricketer)', 10.0),\n",
       " (u'Cornelius_Wiebe', 12.0),\n",
       " (u'Cartersville,_Cumberland_County,_Virginia', 12.0),\n",
       " (u'La_lojban.', 1.0),\n",
       " (u'If_Not_Us_Who', 1.0),\n",
       " (u'Christopher_Bentley', 39.0),\n",
       " (u'1940_World_Snooker_Championship', 86.0)]"
      ]
     },
     "execution_count": 80,
     "metadata": {},
     "output_type": "execute_result"
    }
   ],
   "source": [
    "source_in_link_counts.take(10)"
   ]
  },
  {
   "cell_type": "code",
   "execution_count": 81,
   "metadata": {
    "collapsed": true
   },
   "outputs": [],
   "source": [
    "s_in_df  = pd.DataFrame(source_in_link_counts.collect(), columns = ['title', 'source_out_link_count'])\n",
    "pv_df_final = pv_df_final.merge(s_in_df, how = 'left', on = 'title')"
   ]
  },
  {
   "cell_type": "code",
   "execution_count": 88,
   "metadata": {
    "collapsed": false
   },
   "outputs": [
    {
     "data": {
      "text/html": [
       "<div style=\"max-height:1000px;max-width:1500px;overflow:auto;\">\n",
       "<table border=\"1\" class=\"dataframe\">\n",
       "  <thead>\n",
       "    <tr style=\"text-align: right;\">\n",
       "      <th></th>\n",
       "      <th>title</th>\n",
       "      <th>source_out_link_count</th>\n",
       "      <th>source_in_link_count</th>\n",
       "      <th>out_link_count</th>\n",
       "      <th>in_link_count</th>\n",
       "    </tr>\n",
       "  </thead>\n",
       "  <tbody>\n",
       "    <tr>\n",
       "      <th>0</th>\n",
       "      <td>        Universe</td>\n",
       "      <td> 536</td>\n",
       "      <td>  955</td>\n",
       "      <td>  755</td>\n",
       "      <td>  1690</td>\n",
       "    </tr>\n",
       "    <tr>\n",
       "      <th>1</th>\n",
       "      <td>          Boston</td>\n",
       "      <td> 701</td>\n",
       "      <td> 5483</td>\n",
       "      <td> 1181</td>\n",
       "      <td> 20316</td>\n",
       "    </tr>\n",
       "    <tr>\n",
       "      <th>2</th>\n",
       "      <td>           Gabon</td>\n",
       "      <td> 359</td>\n",
       "      <td> 2685</td>\n",
       "      <td>  502</td>\n",
       "      <td>  7233</td>\n",
       "    </tr>\n",
       "    <tr>\n",
       "      <th>3</th>\n",
       "      <td> Dutch_Wikipedia</td>\n",
       "      <td> 105</td>\n",
       "      <td>  107</td>\n",
       "      <td>  115</td>\n",
       "      <td>   153</td>\n",
       "    </tr>\n",
       "    <tr>\n",
       "      <th>4</th>\n",
       "      <td>  Cadier_en_Keer</td>\n",
       "      <td>   7</td>\n",
       "      <td>    8</td>\n",
       "      <td>    9</td>\n",
       "      <td>    12</td>\n",
       "    </tr>\n",
       "  </tbody>\n",
       "</table>\n",
       "</div>"
      ],
      "text/plain": [
       "             title  source_out_link_count  source_in_link_count  \\\n",
       "0         Universe                    536                   955   \n",
       "1           Boston                    701                  5483   \n",
       "2            Gabon                    359                  2685   \n",
       "3  Dutch_Wikipedia                    105                   107   \n",
       "4   Cadier_en_Keer                      7                     8   \n",
       "\n",
       "   out_link_count  in_link_count  \n",
       "0             755           1690  \n",
       "1            1181          20316  \n",
       "2             502           7233  \n",
       "3             115            153  \n",
       "4               9             12  "
      ]
     },
     "execution_count": 88,
     "metadata": {},
     "output_type": "execute_result"
    }
   ],
   "source": [
    "pv_df_final.head()[['title', 'source_out_link_count', 'source_in_link_count', 'out_link_count', 'in_link_count' ]]"
   ]
  },
  {
   "cell_type": "code",
   "execution_count": 89,
   "metadata": {
    "collapsed": true
   },
   "outputs": [],
   "source": [
    "pv_df_final.fillna(value=0, inplace=True)"
   ]
  },
  {
   "cell_type": "code",
   "execution_count": null,
   "metadata": {
    "collapsed": true
   },
   "outputs": [],
   "source": [
    "del s_in_df\n",
    "del s_out_df\n",
    "del in_df\n",
    "del out_df"
   ]
  },
  {
   "cell_type": "code",
   "execution_count": null,
   "metadata": {
    "collapsed": true
   },
   "outputs": [],
   "source": [
    "source_out_link_counts.unpersist()\n",
    "in_link_counts.unpersist()\n",
    "out_link_counts.unpersist()\n",
    "source_in_link_counts.unpersist()"
   ]
  },
  {
   "cell_type": "markdown",
   "metadata": {},
   "source": [
    "#### Get Topic Features"
   ]
  },
  {
   "cell_type": "code",
   "execution_count": 10,
   "metadata": {
    "collapsed": false
   },
   "outputs": [],
   "source": [
    "# Load doc vectors\n",
    "lda_dir = 'en_lda'\n",
    "base_dir = os.path.join(cp.get('general', 'local_data_dir'), lda_dir)\n",
    "dict_file = os.path.join(base_dir, cp.get('LDA', 'article2index'))\n",
    "id2index, _ , _ = get_universal_maps(dict_file)"
   ]
  },
  {
   "cell_type": "code",
   "execution_count": 11,
   "metadata": {
    "collapsed": false
   },
   "outputs": [],
   "source": [
    "mm_file = os.path.join(base_dir, cp.get('LDA', 'doc2topic'))\n",
    "f = open(mm_file)\n",
    "M = mmread(f).tocsr()"
   ]
  },
  {
   "cell_type": "code",
   "execution_count": 12,
   "metadata": {
    "collapsed": true
   },
   "outputs": [],
   "source": [
    "# Merge \n",
    "id2index_df = pd.DataFrame(id2index.items(), columns = ['id', 'indx'])\n",
    "pv_df_final = pv_df_final.merge(id2index_df, on = 'id', how = 'inner')"
   ]
  },
  {
   "cell_type": "markdown",
   "metadata": {},
   "source": [
    "### Subsample Data for Model Building"
   ]
  },
  {
   "cell_type": "code",
   "execution_count": 13,
   "metadata": {
    "collapsed": false
   },
   "outputs": [],
   "source": [
    "# code for sub-sampling training data\n",
    "fraction = 1.0\n",
    "rows = random.sample(pv_df_final.index, int(fraction*pv_df_final.shape[0]))\n",
    "df_sample = pv_df_final.ix[rows]\n",
    "df_sample_reg  = df_sample[df_sample['in_t'] ==1]"
   ]
  },
  {
   "cell_type": "markdown",
   "metadata": {},
   "source": [
    "#### Baselines"
   ]
  },
  {
   "cell_type": "code",
   "execution_count": 14,
   "metadata": {
    "collapsed": false
   },
   "outputs": [
    {
     "name": "stdout",
     "output_type": "stream",
     "text": [
      "0.215454074252\n"
     ]
    }
   ],
   "source": [
    "print df_sample['in_t'].sum() / float(df_sample.shape[0])"
   ]
  },
  {
   "cell_type": "code",
   "execution_count": 15,
   "metadata": {
    "collapsed": false
   },
   "outputs": [],
   "source": [
    "# Just en_ranks and views\n",
    "features = []\n",
    "features = pageview_counts + log_pageview_counts\n",
    "features += ['rank_' + lang for lang in langs if lang != t]\n",
    "features.append('wiki_count')\n",
    "features += ['length', 'is_dis', 'is_stub', 'log_length']\n",
    "features += ['num_contributors', 'first_date', 'last_date']\n",
    "features += ['source_out_link_count', 'source_in_link_count', 'out_link_count', 'in_link_count' ]\n",
    "features += ['low', 'mid', 'high', 'top']"
   ]
  },
  {
   "cell_type": "code",
   "execution_count": 16,
   "metadata": {
    "collapsed": false
   },
   "outputs": [],
   "source": [
    "#features"
   ]
  },
  {
   "cell_type": "code",
   "execution_count": 17,
   "metadata": {
    "collapsed": false
   },
   "outputs": [],
   "source": [
    "from sklearn.cross_validation import train_test_split\n",
    "\n",
    "def evaluate(X, y, alg, regression, retmodel = False):\n",
    "    \n",
    "    \n",
    "    X_train, X_test, y_train, y_test = train_test_split( X, y, test_size=0.33, random_state=42)\n",
    "    model = alg.fit(X_train,y_train)\n",
    "    y_train_pred = model.predict(X_train)\n",
    "    y_test_pred  = model.predict(X_test)\n",
    "    if not regression:\n",
    "        y_train_proba = model.predict_proba (X_train)[:, 1]\n",
    "        y_test_proba  = model.predict_proba (X_test)[:, 1]\n",
    "        \n",
    "    \n",
    "    if regression:\n",
    "        print \"Train MSE: %f\" % sklearn.metrics.mean_squared_error(y_train, y_train_pred)\n",
    "        print \"Test MSE: %f\" % sklearn.metrics.mean_squared_error(y_test, y_test_pred)\n",
    "        \n",
    "        print \"\\nTrain Spearman %f\" % spearmanr(y_train, y_train_pred)[0]\n",
    "        print \"Test Spearman %f\" % spearmanr(y_test, y_test_pred)[0]\n",
    "\n",
    "    else:\n",
    "        \n",
    "        print \"Train AUC: %f\" % roc_auc_score(y_train, y_train_proba)\n",
    "        print \"Test AUC: %f\" % roc_auc_score(y_test, y_test_proba)\n",
    "\n",
    "        print \"\\nTrain F1 %f\" % f1_score(y_train, y_train_pred)\n",
    "        print \"Test F1 %f\" % f1_score(y_test, y_test_pred)\n",
    "\n",
    "        print \"\\nTrain Accuracy %f\" % accuracy_score(y_train, y_train_pred)\n",
    "        print \"Test Accuracy %f\" % accuracy_score(y_test, y_test_pred)\n",
    "        \n",
    "    \n",
    "    if retmodel:\n",
    "        return alg.fit(X,y)\n",
    "        "
   ]
  },
  {
   "cell_type": "code",
   "execution_count": 18,
   "metadata": {
    "collapsed": false
   },
   "outputs": [
    {
     "name": "stdout",
     "output_type": "stream",
     "text": [
      "Train MSE: 0.024029\n",
      "Test MSE: 0.024078\n",
      "\n",
      "Train Spearman 0.849222\n",
      "Test Spearman 0.849009\n"
     ]
    }
   ],
   "source": [
    "y = df_sample_reg['rank_%s' % t].astype('float').values\n",
    "X = get_X(M, df_sample_reg, 'indx', features)\n",
    "scaler = StandardScaler().fit(X)\n",
    "X = scaler.transform(X) \n",
    "rank_model = evaluate(X, y, LinearRegression(), True, retmodel = True)"
   ]
  },
  {
   "cell_type": "code",
   "execution_count": 19,
   "metadata": {
    "collapsed": false
   },
   "outputs": [
    {
     "name": "stdout",
     "output_type": "stream",
     "text": [
      "Train AUC: 0.898017\n",
      "Test AUC: 0.898263\n",
      "\n",
      "Train F1 0.655766\n",
      "Test F1 0.656139\n",
      "\n",
      "Train Accuracy 0.876261\n",
      "Test Accuracy 0.875956\n"
     ]
    }
   ],
   "source": [
    "y = df_sample['in_t'].astype('int').values\n",
    "X = get_X(None, df_sample, None, features)\n",
    "scaler = StandardScaler().fit(X)\n",
    "X = scaler.transform(X) \n",
    "class_model = evaluate(X, y, LogisticRegression(max_iter=5, C = 1.0), False, retmodel = True)"
   ]
  },
  {
   "cell_type": "code",
   "execution_count": 21,
   "metadata": {
    "collapsed": false
   },
   "outputs": [],
   "source": [
    "del df_sample\n",
    "del X"
   ]
  },
  {
   "cell_type": "code",
   "execution_count": 235,
   "metadata": {
    "collapsed": false
   },
   "outputs": [],
   "source": [
    "coef = pd.Series(class_model.coef_[0], index=features)"
   ]
  },
  {
   "cell_type": "markdown",
   "metadata": {},
   "source": [
    "#### Apply Models to Full Data"
   ]
  },
  {
   "cell_type": "code",
   "execution_count": 22,
   "metadata": {
    "collapsed": false
   },
   "outputs": [],
   "source": [
    "# Apply Rank Model\n",
    "X = get_X(M, pv_df_final, 'indx', features)\n",
    "scaler = StandardScaler().fit(X)\n",
    "X = scaler.transform(X) \n",
    "pv_df_final['predicted_target_rank'] = rank_model.predict(X)"
   ]
  },
  {
   "cell_type": "code",
   "execution_count": 23,
   "metadata": {
    "collapsed": true
   },
   "outputs": [],
   "source": [
    "# Apply class model\n",
    "X = get_X(None, pv_df_final, 'indx', features)\n",
    "scaler = StandardScaler().fit(X)\n",
    "X = scaler.transform(X)\n",
    "pv_df_final['proba_in_t'] = class_model.predict_proba(X)[:, 1]\n",
    "pv_df_final['predicted_in_t'] = class_model.predict(X)"
   ]
  },
  {
   "cell_type": "code",
   "execution_count": 25,
   "metadata": {
    "collapsed": false
   },
   "outputs": [
    {
     "data": {
      "text/plain": [
       "<matplotlib.axes._subplots.AxesSubplot at 0x7fef98321bd0>"
      ]
     },
     "execution_count": 25,
     "metadata": {},
     "output_type": "execute_result"
    },
    {
     "data": {
      "image/png": "[encoded data removed]",
      "text/plain": [
       "<matplotlib.figure.Figure at 0x7fefbb148d90>"
      ]
     },
     "metadata": {},
     "output_type": "display_data"
    }
   ],
   "source": [
    "pv_df_final['proba_in_t'].hist()"
   ]
  },
  {
   "cell_type": "code",
   "execution_count": 27,
   "metadata": {
    "collapsed": true
   },
   "outputs": [],
   "source": [
    "# Add missing label to pv_df_final\n",
    "missing_articles_file = os.path.join(cp.get('general', 'local_data_dir'), exp_dir, cp.get('missing', 'missing_items'))\n",
    "d_missing = pd.read_csv(missing_articles_file, sep='\\t', names = ['id', 'title_s', 'pageview_count_s'], encoding = 'utf8')\n",
    "pv_df_final.index = pv_df_final['id']\n",
    "d_missing.index = d_missing['id']\n",
    "d_missing['missing'] = 1\n",
    "pv_df_final['missing'] = d_missing['missing']\n",
    "pv_df_final['missing'] = pv_df_final['missing'].fillna(0)"
   ]
  },
  {
   "cell_type": "code",
   "execution_count": 211,
   "metadata": {
    "collapsed": false
   },
   "outputs": [],
   "source": [
    "not_in_t = pv_df_final[pv_df_final['in_t'] == 0]\n",
    "merged = not_in_t[not_in_t['missing'] == 0]['title']\n",
    "del not_in_t"
   ]
  },
  {
   "cell_type": "code",
   "execution_count": 28,
   "metadata": {
    "collapsed": false,
    "scrolled": true
   },
   "outputs": [
    {
     "data": {
      "text/html": [
       "<div style=\"max-height:1000px;max-width:1500px;overflow:auto;\">\n",
       "<table border=\"1\" class=\"dataframe\">\n",
       "  <thead>\n",
       "    <tr style=\"text-align: right;\">\n",
       "      <th></th>\n",
       "      <th>title</th>\n",
       "      <th>proba_in_t</th>\n",
       "      <th>predicted_target_rank</th>\n",
       "      <th>in_t</th>\n",
       "      <th>missing</th>\n",
       "    </tr>\n",
       "    <tr>\n",
       "      <th>id</th>\n",
       "      <th></th>\n",
       "      <th></th>\n",
       "      <th></th>\n",
       "      <th></th>\n",
       "      <th></th>\n",
       "    </tr>\n",
       "  </thead>\n",
       "  <tbody>\n",
       "    <tr>\n",
       "      <th>Q4735216</th>\n",
       "      <td>    Alphabetical_list_of_comunes_of_Italy</td>\n",
       "      <td> 1.000000</td>\n",
       "      <td> 1.904408</td>\n",
       "      <td> 0</td>\n",
       "      <td> 1</td>\n",
       "    </tr>\n",
       "    <tr>\n",
       "      <th>Q11424</th>\n",
       "      <td>                                     Film</td>\n",
       "      <td> 1.000000</td>\n",
       "      <td> 1.424123</td>\n",
       "      <td> 0</td>\n",
       "      <td> 1</td>\n",
       "    </tr>\n",
       "    <tr>\n",
       "      <th>Q1211457</th>\n",
       "      <td>              Software_release_life_cycle</td>\n",
       "      <td> 1.000000</td>\n",
       "      <td> 1.371725</td>\n",
       "      <td> 0</td>\n",
       "      <td> 1</td>\n",
       "    </tr>\n",
       "    <tr>\n",
       "      <th>Q235065</th>\n",
       "      <td>                         Broadway_theatre</td>\n",
       "      <td> 1.000000</td>\n",
       "      <td> 1.340623</td>\n",
       "      <td> 0</td>\n",
       "      <td> 1</td>\n",
       "    </tr>\n",
       "    <tr>\n",
       "      <th>Q52954</th>\n",
       "      <td>                      Keyboard_instrument</td>\n",
       "      <td> 1.000000</td>\n",
       "      <td> 1.301301</td>\n",
       "      <td> 0</td>\n",
       "      <td> 1</td>\n",
       "    </tr>\n",
       "    <tr>\n",
       "      <th>Q852446</th>\n",
       "      <td> Political_divisions_of_the_United_States</td>\n",
       "      <td> 1.000000</td>\n",
       "      <td> 1.277820</td>\n",
       "      <td> 0</td>\n",
       "      <td> 1</td>\n",
       "    </tr>\n",
       "    <tr>\n",
       "      <th>Q2311683</th>\n",
       "      <td>                               ChemSpider</td>\n",
       "      <td> 1.000000</td>\n",
       "      <td> 1.159575</td>\n",
       "      <td> 0</td>\n",
       "      <td> 1</td>\n",
       "    </tr>\n",
       "    <tr>\n",
       "      <th>Q203250</th>\n",
       "      <td>        International_Chemical_Identifier</td>\n",
       "      <td> 1.000000</td>\n",
       "      <td> 1.114853</td>\n",
       "      <td> 0</td>\n",
       "      <td> 1</td>\n",
       "    </tr>\n",
       "    <tr>\n",
       "      <th>Q715772</th>\n",
       "      <td>           Captain_(association_football)</td>\n",
       "      <td> 1.000000</td>\n",
       "      <td> 1.104564</td>\n",
       "      <td> 0</td>\n",
       "      <td> 1</td>\n",
       "    </tr>\n",
       "    <tr>\n",
       "      <th>Q4116295</th>\n",
       "      <td>                                  Surname</td>\n",
       "      <td> 1.000000</td>\n",
       "      <td> 1.062691</td>\n",
       "      <td> 0</td>\n",
       "      <td> 1</td>\n",
       "    </tr>\n",
       "    <tr>\n",
       "      <th>Q648266</th>\n",
       "      <td>                          Wayback_Machine</td>\n",
       "      <td> 1.000000</td>\n",
       "      <td> 1.035570</td>\n",
       "      <td> 0</td>\n",
       "      <td> 1</td>\n",
       "    </tr>\n",
       "    <tr>\n",
       "      <th>Q4829957</th>\n",
       "      <td>                             Away_colours</td>\n",
       "      <td> 1.000000</td>\n",
       "      <td> 0.909982</td>\n",
       "      <td> 0</td>\n",
       "      <td> 1</td>\n",
       "    </tr>\n",
       "    <tr>\n",
       "      <th>Q986567</th>\n",
       "      <td>                   Flight_distance_record</td>\n",
       "      <td> 1.000000</td>\n",
       "      <td> 0.882439</td>\n",
       "      <td> 0</td>\n",
       "      <td> 1</td>\n",
       "    </tr>\n",
       "    <tr>\n",
       "      <th>Q653524</th>\n",
       "      <td>       Population_without_double_counting</td>\n",
       "      <td> 1.000000</td>\n",
       "      <td> 0.698453</td>\n",
       "      <td> 0</td>\n",
       "      <td> 1</td>\n",
       "    </tr>\n",
       "    <tr>\n",
       "      <th>Q207326</th>\n",
       "      <td>                                   Summit</td>\n",
       "      <td> 1.000000</td>\n",
       "      <td> 1.391101</td>\n",
       "      <td> 0</td>\n",
       "      <td> 1</td>\n",
       "    </tr>\n",
       "    <tr>\n",
       "      <th>Q42841</th>\n",
       "      <td>                                Incumbent</td>\n",
       "      <td> 1.000000</td>\n",
       "      <td> 1.207995</td>\n",
       "      <td> 0</td>\n",
       "      <td> 1</td>\n",
       "    </tr>\n",
       "    <tr>\n",
       "      <th>Q7112705</th>\n",
       "      <td>             Outline_of_political_science</td>\n",
       "      <td> 1.000000</td>\n",
       "      <td> 0.866103</td>\n",
       "      <td> 0</td>\n",
       "      <td> 1</td>\n",
       "    </tr>\n",
       "    <tr>\n",
       "      <th>Q1370848</th>\n",
       "      <td>                            Vikram_Samvat</td>\n",
       "      <td> 1.000000</td>\n",
       "      <td> 1.261980</td>\n",
       "      <td> 0</td>\n",
       "      <td> 1</td>\n",
       "    </tr>\n",
       "    <tr>\n",
       "      <th>Q187200</th>\n",
       "      <td>                Time_in_the_United_States</td>\n",
       "      <td> 1.000000</td>\n",
       "      <td> 1.141215</td>\n",
       "      <td> 0</td>\n",
       "      <td> 1</td>\n",
       "    </tr>\n",
       "    <tr>\n",
       "      <th>Q23003</th>\n",
       "      <td>          Community_Identification_Number</td>\n",
       "      <td> 1.000000</td>\n",
       "      <td> 0.898473</td>\n",
       "      <td> 0</td>\n",
       "      <td> 1</td>\n",
       "    </tr>\n",
       "    <tr>\n",
       "      <th>Q848935</th>\n",
       "      <td>                              Racing_Post</td>\n",
       "      <td> 1.000000</td>\n",
       "      <td> 0.841147</td>\n",
       "      <td> 0</td>\n",
       "      <td> 1</td>\n",
       "    </tr>\n",
       "    <tr>\n",
       "      <th>Q1306755</th>\n",
       "      <td>                    Administrative_centre</td>\n",
       "      <td> 1.000000</td>\n",
       "      <td> 1.005073</td>\n",
       "      <td> 0</td>\n",
       "      <td> 1</td>\n",
       "    </tr>\n",
       "    <tr>\n",
       "      <th>Q17165062</th>\n",
       "      <td>                                Glottolog</td>\n",
       "      <td> 1.000000</td>\n",
       "      <td> 0.924779</td>\n",
       "      <td> 0</td>\n",
       "      <td> 1</td>\n",
       "    </tr>\n",
       "    <tr>\n",
       "      <th>Q3544144</th>\n",
       "      <td>          Pronunciation_of_asteroid_names</td>\n",
       "      <td> 1.000000</td>\n",
       "      <td> 0.929489</td>\n",
       "      <td> 0</td>\n",
       "      <td> 1</td>\n",
       "    </tr>\n",
       "    <tr>\n",
       "      <th>Q6824428</th>\n",
       "      <td>                              MetroLyrics</td>\n",
       "      <td> 1.000000</td>\n",
       "      <td> 0.929798</td>\n",
       "      <td> 0</td>\n",
       "      <td> 1</td>\n",
       "    </tr>\n",
       "    <tr>\n",
       "      <th>Q717366</th>\n",
       "      <td>                          Minguo_calendar</td>\n",
       "      <td> 1.000000</td>\n",
       "      <td> 1.003560</td>\n",
       "      <td> 0</td>\n",
       "      <td> 1</td>\n",
       "    </tr>\n",
       "    <tr>\n",
       "      <th>Q3239498</th>\n",
       "      <td>                         Burmese_calendar</td>\n",
       "      <td> 1.000000</td>\n",
       "      <td> 0.948446</td>\n",
       "      <td> 0</td>\n",
       "      <td> 1</td>\n",
       "    </tr>\n",
       "    <tr>\n",
       "      <th>Q1228825</th>\n",
       "      <td>                      Discordian_calendar</td>\n",
       "      <td> 1.000000</td>\n",
       "      <td> 1.082083</td>\n",
       "      <td> 0</td>\n",
       "      <td> 1</td>\n",
       "    </tr>\n",
       "    <tr>\n",
       "      <th>Q986365</th>\n",
       "      <td>                         Seating_capacity</td>\n",
       "      <td> 1.000000</td>\n",
       "      <td> 0.934938</td>\n",
       "      <td> 0</td>\n",
       "      <td> 1</td>\n",
       "    </tr>\n",
       "    <tr>\n",
       "      <th>Q6018662</th>\n",
       "      <td>                   Index_of_U.S._counties</td>\n",
       "      <td> 1.000000</td>\n",
       "      <td> 1.354824</td>\n",
       "      <td> 0</td>\n",
       "      <td> 1</td>\n",
       "    </tr>\n",
       "    <tr>\n",
       "      <th>...</th>\n",
       "      <td>...</td>\n",
       "      <td>...</td>\n",
       "      <td>...</td>\n",
       "      <td>...</td>\n",
       "      <td>...</td>\n",
       "    </tr>\n",
       "    <tr>\n",
       "      <th>Q15079637</th>\n",
       "      <td>                        Automobile_layout</td>\n",
       "      <td> 1.000000</td>\n",
       "      <td> 1.069302</td>\n",
       "      <td> 0</td>\n",
       "      <td> 1</td>\n",
       "    </tr>\n",
       "    <tr>\n",
       "      <th>Q17085328</th>\n",
       "      <td>            Audio_mixing_(recorded_music)</td>\n",
       "      <td> 1.000000</td>\n",
       "      <td> 0.940786</td>\n",
       "      <td> 0</td>\n",
       "      <td> 1</td>\n",
       "    </tr>\n",
       "    <tr>\n",
       "      <th>Q213853</th>\n",
       "      <td>                                    Coupé</td>\n",
       "      <td> 1.000000</td>\n",
       "      <td> 1.358059</td>\n",
       "      <td> 0</td>\n",
       "      <td> 1</td>\n",
       "    </tr>\n",
       "    <tr>\n",
       "      <th>Q875538</th>\n",
       "      <td>                        Public_university</td>\n",
       "      <td> 1.000000</td>\n",
       "      <td> 1.141838</td>\n",
       "      <td> 0</td>\n",
       "      <td> 1</td>\n",
       "    </tr>\n",
       "    <tr>\n",
       "      <th>Q3565868</th>\n",
       "      <td>                           Rail_transport</td>\n",
       "      <td> 1.000000</td>\n",
       "      <td> 1.351738</td>\n",
       "      <td> 0</td>\n",
       "      <td> 1</td>\n",
       "    </tr>\n",
       "    <tr>\n",
       "      <th>Q5583892</th>\n",
       "      <td>  Google_Street_View_in_the_United_States</td>\n",
       "      <td> 1.000000</td>\n",
       "      <td> 1.231634</td>\n",
       "      <td> 0</td>\n",
       "      <td> 1</td>\n",
       "    </tr>\n",
       "    <tr>\n",
       "      <th>Q483394</th>\n",
       "      <td>                                    Genre</td>\n",
       "      <td> 1.000000</td>\n",
       "      <td> 1.418259</td>\n",
       "      <td> 0</td>\n",
       "      <td> 1</td>\n",
       "    </tr>\n",
       "    <tr>\n",
       "      <th>Q215700</th>\n",
       "      <td>                                    Vesak</td>\n",
       "      <td> 1.000000</td>\n",
       "      <td> 1.408726</td>\n",
       "      <td> 0</td>\n",
       "      <td> 1</td>\n",
       "    </tr>\n",
       "    <tr>\n",
       "      <th>Q7332669</th>\n",
       "      <td>            Ridge-and-Valley_Appalachians</td>\n",
       "      <td> 1.000000</td>\n",
       "      <td> 1.027800</td>\n",
       "      <td> 0</td>\n",
       "      <td> 1</td>\n",
       "    </tr>\n",
       "    <tr>\n",
       "      <th>Q193391</th>\n",
       "      <td>                                 Diplomat</td>\n",
       "      <td> 1.000000</td>\n",
       "      <td> 1.353309</td>\n",
       "      <td> 0</td>\n",
       "      <td> 1</td>\n",
       "    </tr>\n",
       "    <tr>\n",
       "      <th>Q640364</th>\n",
       "      <td>                                Municipiu</td>\n",
       "      <td> 1.000000</td>\n",
       "      <td> 0.923387</td>\n",
       "      <td> 0</td>\n",
       "      <td> 1</td>\n",
       "    </tr>\n",
       "    <tr>\n",
       "      <th>Q5583886</th>\n",
       "      <td>             Google_Street_View_in_Europe</td>\n",
       "      <td> 1.000000</td>\n",
       "      <td> 1.350160</td>\n",
       "      <td> 0</td>\n",
       "      <td> 1</td>\n",
       "    </tr>\n",
       "    <tr>\n",
       "      <th>Q787489</th>\n",
       "      <td>                        Automotive_design</td>\n",
       "      <td> 1.000000</td>\n",
       "      <td> 1.300064</td>\n",
       "      <td> 0</td>\n",
       "      <td> 1</td>\n",
       "    </tr>\n",
       "    <tr>\n",
       "      <th>Q3991740</th>\n",
       "      <td>                  Field_goal_(basketball)</td>\n",
       "      <td> 1.000000</td>\n",
       "      <td> 1.055555</td>\n",
       "      <td> 0</td>\n",
       "      <td> 1</td>\n",
       "    </tr>\n",
       "    <tr>\n",
       "      <th>Q132555</th>\n",
       "      <td>                                  De_jure</td>\n",
       "      <td> 1.000000</td>\n",
       "      <td> 1.508204</td>\n",
       "      <td> 0</td>\n",
       "      <td> 1</td>\n",
       "    </tr>\n",
       "    <tr>\n",
       "      <th>Q313301</th>\n",
       "      <td>                                 Autobahn</td>\n",
       "      <td> 1.000000</td>\n",
       "      <td> 1.373382</td>\n",
       "      <td> 0</td>\n",
       "      <td> 1</td>\n",
       "    </tr>\n",
       "    <tr>\n",
       "      <th>Q794394</th>\n",
       "      <td>                     Classical_liberalism</td>\n",
       "      <td> 1.000000</td>\n",
       "      <td> 1.316545</td>\n",
       "      <td> 0</td>\n",
       "      <td> 1</td>\n",
       "    </tr>\n",
       "    <tr>\n",
       "      <th>Q1345234</th>\n",
       "      <td>                        Comarcas_of_Spain</td>\n",
       "      <td> 1.000000</td>\n",
       "      <td> 1.058304</td>\n",
       "      <td> 0</td>\n",
       "      <td> 1</td>\n",
       "    </tr>\n",
       "    <tr>\n",
       "      <th>Q232405</th>\n",
       "      <td>                            Metric_system</td>\n",
       "      <td> 1.000000</td>\n",
       "      <td> 1.412890</td>\n",
       "      <td> 0</td>\n",
       "      <td> 1</td>\n",
       "    </tr>\n",
       "    <tr>\n",
       "      <th>Q215646</th>\n",
       "      <td>                                      Edo</td>\n",
       "      <td> 1.000000</td>\n",
       "      <td> 1.211012</td>\n",
       "      <td> 0</td>\n",
       "      <td> 1</td>\n",
       "    </tr>\n",
       "    <tr>\n",
       "      <th>Q13058055</th>\n",
       "      <td>      Administrative_divisions_of_Armenia</td>\n",
       "      <td> 1.000000</td>\n",
       "      <td> 0.965678</td>\n",
       "      <td> 0</td>\n",
       "      <td> 1</td>\n",
       "    </tr>\n",
       "    <tr>\n",
       "      <th>Q24698</th>\n",
       "      <td>               Regions_of_the_Philippines</td>\n",
       "      <td> 1.000000</td>\n",
       "      <td> 1.131015</td>\n",
       "      <td> 0</td>\n",
       "      <td> 1</td>\n",
       "    </tr>\n",
       "    <tr>\n",
       "      <th>Q1065449</th>\n",
       "      <td>                       Introduced_species</td>\n",
       "      <td> 1.000000</td>\n",
       "      <td> 1.195513</td>\n",
       "      <td> 0</td>\n",
       "      <td> 1</td>\n",
       "    </tr>\n",
       "    <tr>\n",
       "      <th>Q8641370</th>\n",
       "      <td>                       Operation_Overlord</td>\n",
       "      <td> 0.999999</td>\n",
       "      <td> 1.388244</td>\n",
       "      <td> 0</td>\n",
       "      <td> 1</td>\n",
       "    </tr>\n",
       "    <tr>\n",
       "      <th>Q6625963</th>\n",
       "      <td>                                 Novelist</td>\n",
       "      <td> 0.999999</td>\n",
       "      <td> 1.051189</td>\n",
       "      <td> 0</td>\n",
       "      <td> 1</td>\n",
       "    </tr>\n",
       "    <tr>\n",
       "      <th>Q37144</th>\n",
       "      <td>                     Cartridge_(firearms)</td>\n",
       "      <td> 0.999999</td>\n",
       "      <td> 1.366423</td>\n",
       "      <td> 0</td>\n",
       "      <td> 1</td>\n",
       "    </tr>\n",
       "    <tr>\n",
       "      <th>Q1208529</th>\n",
       "      <td>                      Manual_transmission</td>\n",
       "      <td> 0.999999</td>\n",
       "      <td> 1.175817</td>\n",
       "      <td> 0</td>\n",
       "      <td> 1</td>\n",
       "    </tr>\n",
       "    <tr>\n",
       "      <th>Q215685</th>\n",
       "      <td>                               Pāli_Canon</td>\n",
       "      <td> 0.999999</td>\n",
       "      <td> 1.346267</td>\n",
       "      <td> 0</td>\n",
       "      <td> 1</td>\n",
       "    </tr>\n",
       "    <tr>\n",
       "      <th>Q854050</th>\n",
       "      <td>                    Effective_temperature</td>\n",
       "      <td> 0.999999</td>\n",
       "      <td> 1.263392</td>\n",
       "      <td> 0</td>\n",
       "      <td> 1</td>\n",
       "    </tr>\n",
       "    <tr>\n",
       "      <th>Q1049848</th>\n",
       "      <td>                         Percentage_point</td>\n",
       "      <td> 0.999999</td>\n",
       "      <td> 1.100710</td>\n",
       "      <td> 0</td>\n",
       "      <td> 1</td>\n",
       "    </tr>\n",
       "  </tbody>\n",
       "</table>\n",
       "<p>100 rows × 5 columns</p>\n",
       "</div>"
      ],
      "text/plain": [
       "                                              title  proba_in_t  \\\n",
       "id                                                                \n",
       "Q4735216      Alphabetical_list_of_comunes_of_Italy    1.000000   \n",
       "Q11424                                         Film    1.000000   \n",
       "Q1211457                Software_release_life_cycle    1.000000   \n",
       "Q235065                            Broadway_theatre    1.000000   \n",
       "Q52954                          Keyboard_instrument    1.000000   \n",
       "Q852446    Political_divisions_of_the_United_States    1.000000   \n",
       "Q2311683                                 ChemSpider    1.000000   \n",
       "Q203250           International_Chemical_Identifier    1.000000   \n",
       "Q715772              Captain_(association_football)    1.000000   \n",
       "Q4116295                                    Surname    1.000000   \n",
       "Q648266                             Wayback_Machine    1.000000   \n",
       "Q4829957                               Away_colours    1.000000   \n",
       "Q986567                      Flight_distance_record    1.000000   \n",
       "Q653524          Population_without_double_counting    1.000000   \n",
       "Q207326                                      Summit    1.000000   \n",
       "Q42841                                    Incumbent    1.000000   \n",
       "Q7112705               Outline_of_political_science    1.000000   \n",
       "Q1370848                              Vikram_Samvat    1.000000   \n",
       "Q187200                   Time_in_the_United_States    1.000000   \n",
       "Q23003              Community_Identification_Number    1.000000   \n",
       "Q848935                                 Racing_Post    1.000000   \n",
       "Q1306755                      Administrative_centre    1.000000   \n",
       "Q17165062                                 Glottolog    1.000000   \n",
       "Q3544144            Pronunciation_of_asteroid_names    1.000000   \n",
       "Q6824428                                MetroLyrics    1.000000   \n",
       "Q717366                             Minguo_calendar    1.000000   \n",
       "Q3239498                           Burmese_calendar    1.000000   \n",
       "Q1228825                        Discordian_calendar    1.000000   \n",
       "Q986365                            Seating_capacity    1.000000   \n",
       "Q6018662                     Index_of_U.S._counties    1.000000   \n",
       "...                                             ...         ...   \n",
       "Q15079637                         Automobile_layout    1.000000   \n",
       "Q17085328             Audio_mixing_(recorded_music)    1.000000   \n",
       "Q213853                                       Coupé    1.000000   \n",
       "Q875538                           Public_university    1.000000   \n",
       "Q3565868                             Rail_transport    1.000000   \n",
       "Q5583892    Google_Street_View_in_the_United_States    1.000000   \n",
       "Q483394                                       Genre    1.000000   \n",
       "Q215700                                       Vesak    1.000000   \n",
       "Q7332669              Ridge-and-Valley_Appalachians    1.000000   \n",
       "Q193391                                    Diplomat    1.000000   \n",
       "Q640364                                   Municipiu    1.000000   \n",
       "Q5583886               Google_Street_View_in_Europe    1.000000   \n",
       "Q787489                           Automotive_design    1.000000   \n",
       "Q3991740                    Field_goal_(basketball)    1.000000   \n",
       "Q132555                                     De_jure    1.000000   \n",
       "Q313301                                    Autobahn    1.000000   \n",
       "Q794394                        Classical_liberalism    1.000000   \n",
       "Q1345234                          Comarcas_of_Spain    1.000000   \n",
       "Q232405                               Metric_system    1.000000   \n",
       "Q215646                                         Edo    1.000000   \n",
       "Q13058055       Administrative_divisions_of_Armenia    1.000000   \n",
       "Q24698                   Regions_of_the_Philippines    1.000000   \n",
       "Q1065449                         Introduced_species    1.000000   \n",
       "Q8641370                         Operation_Overlord    0.999999   \n",
       "Q6625963                                   Novelist    0.999999   \n",
       "Q37144                         Cartridge_(firearms)    0.999999   \n",
       "Q1208529                        Manual_transmission    0.999999   \n",
       "Q215685                                  Pāli_Canon    0.999999   \n",
       "Q854050                       Effective_temperature    0.999999   \n",
       "Q1049848                           Percentage_point    0.999999   \n",
       "\n",
       "           predicted_target_rank  in_t  missing  \n",
       "id                                               \n",
       "Q4735216                1.904408     0        1  \n",
       "Q11424                  1.424123     0        1  \n",
       "Q1211457                1.371725     0        1  \n",
       "Q235065                 1.340623     0        1  \n",
       "Q52954                  1.301301     0        1  \n",
       "Q852446                 1.277820     0        1  \n",
       "Q2311683                1.159575     0        1  \n",
       "Q203250                 1.114853     0        1  \n",
       "Q715772                 1.104564     0        1  \n",
       "Q4116295                1.062691     0        1  \n",
       "Q648266                 1.035570     0        1  \n",
       "Q4829957                0.909982     0        1  \n",
       "Q986567                 0.882439     0        1  \n",
       "Q653524                 0.698453     0        1  \n",
       "Q207326                 1.391101     0        1  \n",
       "Q42841                  1.207995     0        1  \n",
       "Q7112705                0.866103     0        1  \n",
       "Q1370848                1.261980     0        1  \n",
       "Q187200                 1.141215     0        1  \n",
       "Q23003                  0.898473     0        1  \n",
       "Q848935                 0.841147     0        1  \n",
       "Q1306755                1.005073     0        1  \n",
       "Q17165062               0.924779     0        1  \n",
       "Q3544144                0.929489     0        1  \n",
       "Q6824428                0.929798     0        1  \n",
       "Q717366                 1.003560     0        1  \n",
       "Q3239498                0.948446     0        1  \n",
       "Q1228825                1.082083     0        1  \n",
       "Q986365                 0.934938     0        1  \n",
       "Q6018662                1.354824     0        1  \n",
       "...                          ...   ...      ...  \n",
       "Q15079637               1.069302     0        1  \n",
       "Q17085328               0.940786     0        1  \n",
       "Q213853                 1.358059     0        1  \n",
       "Q875538                 1.141838     0        1  \n",
       "Q3565868                1.351738     0        1  \n",
       "Q5583892                1.231634     0        1  \n",
       "Q483394                 1.418259     0        1  \n",
       "Q215700                 1.408726     0        1  \n",
       "Q7332669                1.027800     0        1  \n",
       "Q193391                 1.353309     0        1  \n",
       "Q640364                 0.923387     0        1  \n",
       "Q5583886                1.350160     0        1  \n",
       "Q787489                 1.300064     0        1  \n",
       "Q3991740                1.055555     0        1  \n",
       "Q132555                 1.508204     0        1  \n",
       "Q313301                 1.373382     0        1  \n",
       "Q794394                 1.316545     0        1  \n",
       "Q1345234                1.058304     0        1  \n",
       "Q232405                 1.412890     0        1  \n",
       "Q215646                 1.211012     0        1  \n",
       "Q13058055               0.965678     0        1  \n",
       "Q24698                  1.131015     0        1  \n",
       "Q1065449                1.195513     0        1  \n",
       "Q8641370                1.388244     0        1  \n",
       "Q6625963                1.051189     0        1  \n",
       "Q37144                  1.366423     0        1  \n",
       "Q1208529                1.175817     0        1  \n",
       "Q215685                 1.346267     0        1  \n",
       "Q854050                 1.263392     0        1  \n",
       "Q1049848                1.100710     0        1  \n",
       "\n",
       "[100 rows x 5 columns]"
      ]
     },
     "execution_count": 28,
     "metadata": {},
     "output_type": "execute_result"
    }
   ],
   "source": [
    "pv_df_final.sort( ['proba_in_t', 'predicted_target_rank'], ascending = [0, 0], inplace=True)\n",
    "pv_df_final[pv_df_final['missing'] == 1].head(100)[['title', 'proba_in_t', 'predicted_target_rank', 'in_t', 'missing']]"
   ]
  },
  {
   "cell_type": "code",
   "execution_count": 29,
   "metadata": {
    "collapsed": false,
    "scrolled": true
   },
   "outputs": [
    {
     "data": {
      "text/html": [
       "<div style=\"max-height:1000px;max-width:1500px;overflow:auto;\">\n",
       "<table border=\"1\" class=\"dataframe\">\n",
       "  <thead>\n",
       "    <tr style=\"text-align: right;\">\n",
       "      <th></th>\n",
       "      <th>title</th>\n",
       "      <th>proba_in_t</th>\n",
       "      <th>predicted_target_rank</th>\n",
       "      <th>in_t</th>\n",
       "      <th>missing</th>\n",
       "    </tr>\n",
       "    <tr>\n",
       "      <th>id</th>\n",
       "      <th></th>\n",
       "      <th></th>\n",
       "      <th></th>\n",
       "      <th></th>\n",
       "      <th></th>\n",
       "    </tr>\n",
       "  </thead>\n",
       "  <tbody>\n",
       "    <tr>\n",
       "      <th>Q6772702</th>\n",
       "      <td>              Marquis_de_Sade_bibliography</td>\n",
       "      <td> 0.212782</td>\n",
       "      <td> 2.198990</td>\n",
       "      <td> 0</td>\n",
       "      <td> 1</td>\n",
       "    </tr>\n",
       "    <tr>\n",
       "      <th>Q7126609</th>\n",
       "      <td>                        Palais_des_Congrès</td>\n",
       "      <td> 0.113117</td>\n",
       "      <td> 2.113077</td>\n",
       "      <td> 0</td>\n",
       "      <td> 1</td>\n",
       "    </tr>\n",
       "    <tr>\n",
       "      <th>Q4967894</th>\n",
       "      <td>                      Brigitte_Jobbé-Duval</td>\n",
       "      <td> 0.100570</td>\n",
       "      <td> 2.042839</td>\n",
       "      <td> 0</td>\n",
       "      <td> 1</td>\n",
       "    </tr>\n",
       "    <tr>\n",
       "      <th>Q1862207</th>\n",
       "      <td>   French_Ambassador_to_the_Ottoman_Empire</td>\n",
       "      <td> 0.291312</td>\n",
       "      <td> 2.032708</td>\n",
       "      <td> 0</td>\n",
       "      <td> 1</td>\n",
       "    </tr>\n",
       "    <tr>\n",
       "      <th>Q4952915</th>\n",
       "      <td>                           Boîte_à_Bonbons</td>\n",
       "      <td> 0.117440</td>\n",
       "      <td> 1.969229</td>\n",
       "      <td> 0</td>\n",
       "      <td> 1</td>\n",
       "    </tr>\n",
       "    <tr>\n",
       "      <th>Q16999261</th>\n",
       "      <td>                    Les_sept_âges_du_monde</td>\n",
       "      <td> 0.052268</td>\n",
       "      <td> 1.965618</td>\n",
       "      <td> 0</td>\n",
       "      <td> 1</td>\n",
       "    </tr>\n",
       "    <tr>\n",
       "      <th>Q6711056</th>\n",
       "      <td>                              Léon_Broutin</td>\n",
       "      <td> 0.050991</td>\n",
       "      <td> 1.964523</td>\n",
       "      <td> 0</td>\n",
       "      <td> 1</td>\n",
       "    </tr>\n",
       "    <tr>\n",
       "      <th>Q7925639</th>\n",
       "      <td>                    Victor,_duc_de_Broglie</td>\n",
       "      <td> 0.065639</td>\n",
       "      <td> 1.963830</td>\n",
       "      <td> 0</td>\n",
       "      <td> 1</td>\n",
       "    </tr>\n",
       "    <tr>\n",
       "      <th>Q6622240</th>\n",
       "      <td>                                 Lamoignon</td>\n",
       "      <td> 0.125114</td>\n",
       "      <td> 1.938980</td>\n",
       "      <td> 0</td>\n",
       "      <td> 1</td>\n",
       "    </tr>\n",
       "    <tr>\n",
       "      <th>Q7818636</th>\n",
       "      <td>                               Émile_Sacré</td>\n",
       "      <td> 0.054241</td>\n",
       "      <td> 1.934303</td>\n",
       "      <td> 0</td>\n",
       "      <td> 1</td>\n",
       "    </tr>\n",
       "    <tr>\n",
       "      <th>Q16063446</th>\n",
       "      <td>                   Paul_Bernard_(composer)</td>\n",
       "      <td> 0.069969</td>\n",
       "      <td> 1.933009</td>\n",
       "      <td> 0</td>\n",
       "      <td> 1</td>\n",
       "    </tr>\n",
       "    <tr>\n",
       "      <th>Q4646436</th>\n",
       "      <td>                     9_September_massacres</td>\n",
       "      <td> 0.057964</td>\n",
       "      <td> 1.929362</td>\n",
       "      <td> 0</td>\n",
       "      <td> 1</td>\n",
       "    </tr>\n",
       "    <tr>\n",
       "      <th>Q3271877</th>\n",
       "      <td>      Communes_of_the_Nord_department,_A-K</td>\n",
       "      <td> 0.887252</td>\n",
       "      <td> 1.910578</td>\n",
       "      <td> 0</td>\n",
       "      <td> 1</td>\n",
       "    </tr>\n",
       "    <tr>\n",
       "      <th>Q4735216</th>\n",
       "      <td>     Alphabetical_list_of_comunes_of_Italy</td>\n",
       "      <td> 1.000000</td>\n",
       "      <td> 1.904408</td>\n",
       "      <td> 0</td>\n",
       "      <td> 1</td>\n",
       "    </tr>\n",
       "    <tr>\n",
       "      <th>Q17102409</th>\n",
       "      <td>                             Vers_l'avenir</td>\n",
       "      <td> 0.059656</td>\n",
       "      <td> 1.893580</td>\n",
       "      <td> 0</td>\n",
       "      <td> 1</td>\n",
       "    </tr>\n",
       "    <tr>\n",
       "      <th>Q5244488</th>\n",
       "      <td>                               De_La_Porte</td>\n",
       "      <td> 0.042694</td>\n",
       "      <td> 1.891851</td>\n",
       "      <td> 0</td>\n",
       "      <td> 1</td>\n",
       "    </tr>\n",
       "    <tr>\n",
       "      <th>Q5154052</th>\n",
       "      <td>      Communes_of_the_Nord_department,_L-Z</td>\n",
       "      <td> 0.880930</td>\n",
       "      <td> 1.889336</td>\n",
       "      <td> 0</td>\n",
       "      <td> 1</td>\n",
       "    </tr>\n",
       "    <tr>\n",
       "      <th>Q16013351</th>\n",
       "      <td>                                  Zoulikha</td>\n",
       "      <td> 0.057141</td>\n",
       "      <td> 1.881276</td>\n",
       "      <td> 0</td>\n",
       "      <td> 1</td>\n",
       "    </tr>\n",
       "    <tr>\n",
       "      <th>Q5148466</th>\n",
       "      <td>                     Colonne_de_la_liberté</td>\n",
       "      <td> 0.068054</td>\n",
       "      <td> 1.881211</td>\n",
       "      <td> 0</td>\n",
       "      <td> 1</td>\n",
       "    </tr>\n",
       "    <tr>\n",
       "      <th>Q3655578</th>\n",
       "      <td>                             Deulin_Castle</td>\n",
       "      <td> 0.119541</td>\n",
       "      <td> 1.881066</td>\n",
       "      <td> 0</td>\n",
       "      <td> 1</td>\n",
       "    </tr>\n",
       "    <tr>\n",
       "      <th>Q7200246</th>\n",
       "      <td>                    Place_du_Château_d'Eau</td>\n",
       "      <td> 0.064293</td>\n",
       "      <td> 1.879336</td>\n",
       "      <td> 0</td>\n",
       "      <td> 1</td>\n",
       "    </tr>\n",
       "    <tr>\n",
       "      <th>Q4907499</th>\n",
       "      <td>                       La_patrie_en_danger</td>\n",
       "      <td> 0.134287</td>\n",
       "      <td> 1.875031</td>\n",
       "      <td> 0</td>\n",
       "      <td> 1</td>\n",
       "    </tr>\n",
       "    <tr>\n",
       "      <th>Q5347960</th>\n",
       "      <td>                             Egide_Fologne</td>\n",
       "      <td> 0.039719</td>\n",
       "      <td> 1.872694</td>\n",
       "      <td> 0</td>\n",
       "      <td> 1</td>\n",
       "    </tr>\n",
       "    <tr>\n",
       "      <th>Q16274792</th>\n",
       "      <td>                            Marcel_Claudel</td>\n",
       "      <td> 0.058408</td>\n",
       "      <td> 1.865152</td>\n",
       "      <td> 0</td>\n",
       "      <td> 1</td>\n",
       "    </tr>\n",
       "    <tr>\n",
       "      <th>Q587038</th>\n",
       "      <td>                 Antoine_Thomas_(linguist)</td>\n",
       "      <td> 0.125413</td>\n",
       "      <td> 1.858452</td>\n",
       "      <td> 0</td>\n",
       "      <td> 1</td>\n",
       "    </tr>\n",
       "    <tr>\n",
       "      <th>Q1102346</th>\n",
       "      <td>                           Clos_(vineyard)</td>\n",
       "      <td> 0.404923</td>\n",
       "      <td> 1.858071</td>\n",
       "      <td> 0</td>\n",
       "      <td> 1</td>\n",
       "    </tr>\n",
       "    <tr>\n",
       "      <th>Q16769239</th>\n",
       "      <td>      Château_de_la_Roche_(disambiguation)</td>\n",
       "      <td> 0.046155</td>\n",
       "      <td> 1.850086</td>\n",
       "      <td> 0</td>\n",
       "      <td> 1</td>\n",
       "    </tr>\n",
       "    <tr>\n",
       "      <th>Q395552</th>\n",
       "      <td>              François_de_La_Rochefoucauld</td>\n",
       "      <td> 0.244870</td>\n",
       "      <td> 1.848824</td>\n",
       "      <td> 0</td>\n",
       "      <td> 1</td>\n",
       "    </tr>\n",
       "    <tr>\n",
       "      <th>Q16257799</th>\n",
       "      <td>                       Château_de_La_Brède</td>\n",
       "      <td> 0.052260</td>\n",
       "      <td> 1.845391</td>\n",
       "      <td> 0</td>\n",
       "      <td> 1</td>\n",
       "    </tr>\n",
       "    <tr>\n",
       "      <th>Q5026651</th>\n",
       "      <td>                      Camille_Jourdheuille</td>\n",
       "      <td> 0.045301</td>\n",
       "      <td> 1.845099</td>\n",
       "      <td> 0</td>\n",
       "      <td> 1</td>\n",
       "    </tr>\n",
       "    <tr>\n",
       "      <th>...</th>\n",
       "      <td>...</td>\n",
       "      <td>...</td>\n",
       "      <td>...</td>\n",
       "      <td>...</td>\n",
       "      <td>...</td>\n",
       "    </tr>\n",
       "    <tr>\n",
       "      <th>Q7931027</th>\n",
       "      <td>                            Ville_de_Paris</td>\n",
       "      <td> 0.091038</td>\n",
       "      <td> 1.754590</td>\n",
       "      <td> 0</td>\n",
       "      <td> 1</td>\n",
       "    </tr>\n",
       "    <tr>\n",
       "      <th>Q6687635</th>\n",
       "      <td>                Louis_Le_Prince_(composer)</td>\n",
       "      <td> 0.066110</td>\n",
       "      <td> 1.749718</td>\n",
       "      <td> 0</td>\n",
       "      <td> 1</td>\n",
       "    </tr>\n",
       "    <tr>\n",
       "      <th>Q5916898</th>\n",
       "      <td>                     Houtain-le-Val_Castle</td>\n",
       "      <td> 0.068755</td>\n",
       "      <td> 1.747690</td>\n",
       "      <td> 0</td>\n",
       "      <td> 1</td>\n",
       "    </tr>\n",
       "    <tr>\n",
       "      <th>Q6872892</th>\n",
       "      <td>                                    Mirare</td>\n",
       "      <td> 0.060839</td>\n",
       "      <td> 1.747651</td>\n",
       "      <td> 0</td>\n",
       "      <td> 1</td>\n",
       "    </tr>\n",
       "    <tr>\n",
       "      <th>Q1837191</th>\n",
       "      <td>                        Bishop_of_Lausanne</td>\n",
       "      <td> 0.141258</td>\n",
       "      <td> 1.743271</td>\n",
       "      <td> 0</td>\n",
       "      <td> 1</td>\n",
       "    </tr>\n",
       "    <tr>\n",
       "      <th>Q17007854</th>\n",
       "      <td>               Le_temps_des_fleurs_(album)</td>\n",
       "      <td> 0.119779</td>\n",
       "      <td> 1.742720</td>\n",
       "      <td> 0</td>\n",
       "      <td> 1</td>\n",
       "    </tr>\n",
       "    <tr>\n",
       "      <th>Q6306000</th>\n",
       "      <td>                            Jules_Pizzetta</td>\n",
       "      <td> 0.058022</td>\n",
       "      <td> 1.742502</td>\n",
       "      <td> 0</td>\n",
       "      <td> 1</td>\n",
       "    </tr>\n",
       "    <tr>\n",
       "      <th>Q155616</th>\n",
       "      <td>                       House_of_Glücksburg</td>\n",
       "      <td> 0.999991</td>\n",
       "      <td> 1.742339</td>\n",
       "      <td> 0</td>\n",
       "      <td> 1</td>\n",
       "    </tr>\n",
       "    <tr>\n",
       "      <th>Q8028906</th>\n",
       "      <td>                      Wladimir_Troubetzkoy</td>\n",
       "      <td> 0.084740</td>\n",
       "      <td> 1.742212</td>\n",
       "      <td> 0</td>\n",
       "      <td> 1</td>\n",
       "    </tr>\n",
       "    <tr>\n",
       "      <th>Q1736578</th>\n",
       "      <td>                  Katia_and_Maurice_Krafft</td>\n",
       "      <td> 0.755038</td>\n",
       "      <td> 1.741334</td>\n",
       "      <td> 0</td>\n",
       "      <td> 1</td>\n",
       "    </tr>\n",
       "    <tr>\n",
       "      <th>Q7799881</th>\n",
       "      <td>           Théophile_Le_Grand_de_la_Liraye</td>\n",
       "      <td> 0.053462</td>\n",
       "      <td> 1.740121</td>\n",
       "      <td> 0</td>\n",
       "      <td> 1</td>\n",
       "    </tr>\n",
       "    <tr>\n",
       "      <th>Q1564383</th>\n",
       "      <td>                   Musketeers_of_the_Guard</td>\n",
       "      <td> 0.836051</td>\n",
       "      <td> 1.739217</td>\n",
       "      <td> 0</td>\n",
       "      <td> 1</td>\n",
       "    </tr>\n",
       "    <tr>\n",
       "      <th>Q6518671</th>\n",
       "      <td>                         Legros_de_Rumigny</td>\n",
       "      <td> 0.068786</td>\n",
       "      <td> 1.736051</td>\n",
       "      <td> 0</td>\n",
       "      <td> 1</td>\n",
       "    </tr>\n",
       "    <tr>\n",
       "      <th>Q16874650</th>\n",
       "      <td>                           Le_Coup_de_lune</td>\n",
       "      <td> 0.046766</td>\n",
       "      <td> 1.735920</td>\n",
       "      <td> 0</td>\n",
       "      <td> 1</td>\n",
       "    </tr>\n",
       "    <tr>\n",
       "      <th>Q5228094</th>\n",
       "      <td>                             Daurel_e_Betó</td>\n",
       "      <td> 0.090184</td>\n",
       "      <td> 1.732787</td>\n",
       "      <td> 0</td>\n",
       "      <td> 1</td>\n",
       "    </tr>\n",
       "    <tr>\n",
       "      <th>Q4637424</th>\n",
       "      <td>                          40_chansons_d'or</td>\n",
       "      <td> 0.045151</td>\n",
       "      <td> 1.727639</td>\n",
       "      <td> 0</td>\n",
       "      <td> 1</td>\n",
       "    </tr>\n",
       "    <tr>\n",
       "      <th>Q8078135</th>\n",
       "      <td>                  Édouard_Muller_(painter)</td>\n",
       "      <td> 0.038649</td>\n",
       "      <td> 1.725535</td>\n",
       "      <td> 0</td>\n",
       "      <td> 1</td>\n",
       "    </tr>\n",
       "    <tr>\n",
       "      <th>Q5433750</th>\n",
       "      <td>              Fanfan_la_Tulipe_(1925_film)</td>\n",
       "      <td> 0.080528</td>\n",
       "      <td> 1.722695</td>\n",
       "      <td> 0</td>\n",
       "      <td> 1</td>\n",
       "    </tr>\n",
       "    <tr>\n",
       "      <th>Q6546850</th>\n",
       "      <td>            Ligue_de_Football_de_la_Wilaya</td>\n",
       "      <td> 0.208139</td>\n",
       "      <td> 1.722035</td>\n",
       "      <td> 0</td>\n",
       "      <td> 1</td>\n",
       "    </tr>\n",
       "    <tr>\n",
       "      <th>Q5715290</th>\n",
       "      <td> Henri_Antoine,_Hereditary_Prince_of_Ligne</td>\n",
       "      <td> 0.252738</td>\n",
       "      <td> 1.717728</td>\n",
       "      <td> 0</td>\n",
       "      <td> 1</td>\n",
       "    </tr>\n",
       "    <tr>\n",
       "      <th>Q15876622</th>\n",
       "      <td>         Charles_Aznavour_(Il_faut_savoir)</td>\n",
       "      <td> 0.059514</td>\n",
       "      <td> 1.717418</td>\n",
       "      <td> 0</td>\n",
       "      <td> 1</td>\n",
       "    </tr>\n",
       "    <tr>\n",
       "      <th>Q16387249</th>\n",
       "      <td>                                    Nanine</td>\n",
       "      <td> 0.112820</td>\n",
       "      <td> 1.713729</td>\n",
       "      <td> 0</td>\n",
       "      <td> 1</td>\n",
       "    </tr>\n",
       "    <tr>\n",
       "      <th>Q5447686</th>\n",
       "      <td>                      Figaro-ci,_Figaro-là</td>\n",
       "      <td> 0.054495</td>\n",
       "      <td> 1.713318</td>\n",
       "      <td> 0</td>\n",
       "      <td> 1</td>\n",
       "    </tr>\n",
       "    <tr>\n",
       "      <th>Q341885</th>\n",
       "      <td>                          Paris_Exposition</td>\n",
       "      <td> 0.829963</td>\n",
       "      <td> 1.712836</td>\n",
       "      <td> 0</td>\n",
       "      <td> 1</td>\n",
       "    </tr>\n",
       "    <tr>\n",
       "      <th>Q5470187</th>\n",
       "      <td>                                Formidable</td>\n",
       "      <td> 0.088165</td>\n",
       "      <td> 1.711690</td>\n",
       "      <td> 0</td>\n",
       "      <td> 1</td>\n",
       "    </tr>\n",
       "    <tr>\n",
       "      <th>Q7100920</th>\n",
       "      <td>                     Ordre_Nouveau_(1930s)</td>\n",
       "      <td> 0.072124</td>\n",
       "      <td> 1.709496</td>\n",
       "      <td> 0</td>\n",
       "      <td> 1</td>\n",
       "    </tr>\n",
       "    <tr>\n",
       "      <th>Q11288892</th>\n",
       "      <td>                              Eugène_Monod</td>\n",
       "      <td> 0.087977</td>\n",
       "      <td> 1.708866</td>\n",
       "      <td> 0</td>\n",
       "      <td> 1</td>\n",
       "    </tr>\n",
       "    <tr>\n",
       "      <th>Q16774865</th>\n",
       "      <td>                                 De_Fresne</td>\n",
       "      <td> 0.053662</td>\n",
       "      <td> 1.707536</td>\n",
       "      <td> 0</td>\n",
       "      <td> 1</td>\n",
       "    </tr>\n",
       "    <tr>\n",
       "      <th>Q4480412</th>\n",
       "      <td>                         Jean-Louis_Favier</td>\n",
       "      <td> 0.103116</td>\n",
       "      <td> 1.705576</td>\n",
       "      <td> 0</td>\n",
       "      <td> 1</td>\n",
       "    </tr>\n",
       "    <tr>\n",
       "      <th>Q6686814</th>\n",
       "      <td>                             Louis_Burnier</td>\n",
       "      <td> 0.040085</td>\n",
       "      <td> 1.704613</td>\n",
       "      <td> 0</td>\n",
       "      <td> 1</td>\n",
       "    </tr>\n",
       "  </tbody>\n",
       "</table>\n",
       "<p>100 rows × 5 columns</p>\n",
       "</div>"
      ],
      "text/plain": [
       "                                               title  proba_in_t  \\\n",
       "id                                                                 \n",
       "Q6772702                Marquis_de_Sade_bibliography    0.212782   \n",
       "Q7126609                          Palais_des_Congrès    0.113117   \n",
       "Q4967894                        Brigitte_Jobbé-Duval    0.100570   \n",
       "Q1862207     French_Ambassador_to_the_Ottoman_Empire    0.291312   \n",
       "Q4952915                             Boîte_à_Bonbons    0.117440   \n",
       "Q16999261                     Les_sept_âges_du_monde    0.052268   \n",
       "Q6711056                                Léon_Broutin    0.050991   \n",
       "Q7925639                      Victor,_duc_de_Broglie    0.065639   \n",
       "Q6622240                                   Lamoignon    0.125114   \n",
       "Q7818636                                 Émile_Sacré    0.054241   \n",
       "Q16063446                    Paul_Bernard_(composer)    0.069969   \n",
       "Q4646436                       9_September_massacres    0.057964   \n",
       "Q3271877        Communes_of_the_Nord_department,_A-K    0.887252   \n",
       "Q4735216       Alphabetical_list_of_comunes_of_Italy    1.000000   \n",
       "Q17102409                              Vers_l'avenir    0.059656   \n",
       "Q5244488                                 De_La_Porte    0.042694   \n",
       "Q5154052        Communes_of_the_Nord_department,_L-Z    0.880930   \n",
       "Q16013351                                   Zoulikha    0.057141   \n",
       "Q5148466                       Colonne_de_la_liberté    0.068054   \n",
       "Q3655578                               Deulin_Castle    0.119541   \n",
       "Q7200246                      Place_du_Château_d'Eau    0.064293   \n",
       "Q4907499                         La_patrie_en_danger    0.134287   \n",
       "Q5347960                               Egide_Fologne    0.039719   \n",
       "Q16274792                             Marcel_Claudel    0.058408   \n",
       "Q587038                    Antoine_Thomas_(linguist)    0.125413   \n",
       "Q1102346                             Clos_(vineyard)    0.404923   \n",
       "Q16769239       Château_de_la_Roche_(disambiguation)    0.046155   \n",
       "Q395552                 François_de_La_Rochefoucauld    0.244870   \n",
       "Q16257799                        Château_de_La_Brède    0.052260   \n",
       "Q5026651                        Camille_Jourdheuille    0.045301   \n",
       "...                                              ...         ...   \n",
       "Q7931027                              Ville_de_Paris    0.091038   \n",
       "Q6687635                  Louis_Le_Prince_(composer)    0.066110   \n",
       "Q5916898                       Houtain-le-Val_Castle    0.068755   \n",
       "Q6872892                                      Mirare    0.060839   \n",
       "Q1837191                          Bishop_of_Lausanne    0.141258   \n",
       "Q17007854                Le_temps_des_fleurs_(album)    0.119779   \n",
       "Q6306000                              Jules_Pizzetta    0.058022   \n",
       "Q155616                          House_of_Glücksburg    0.999991   \n",
       "Q8028906                        Wladimir_Troubetzkoy    0.084740   \n",
       "Q1736578                    Katia_and_Maurice_Krafft    0.755038   \n",
       "Q7799881             Théophile_Le_Grand_de_la_Liraye    0.053462   \n",
       "Q1564383                     Musketeers_of_the_Guard    0.836051   \n",
       "Q6518671                           Legros_de_Rumigny    0.068786   \n",
       "Q16874650                            Le_Coup_de_lune    0.046766   \n",
       "Q5228094                               Daurel_e_Betó    0.090184   \n",
       "Q4637424                            40_chansons_d'or    0.045151   \n",
       "Q8078135                    Édouard_Muller_(painter)    0.038649   \n",
       "Q5433750                Fanfan_la_Tulipe_(1925_film)    0.080528   \n",
       "Q6546850              Ligue_de_Football_de_la_Wilaya    0.208139   \n",
       "Q5715290   Henri_Antoine,_Hereditary_Prince_of_Ligne    0.252738   \n",
       "Q15876622          Charles_Aznavour_(Il_faut_savoir)    0.059514   \n",
       "Q16387249                                     Nanine    0.112820   \n",
       "Q5447686                        Figaro-ci,_Figaro-là    0.054495   \n",
       "Q341885                             Paris_Exposition    0.829963   \n",
       "Q5470187                                  Formidable    0.088165   \n",
       "Q7100920                       Ordre_Nouveau_(1930s)    0.072124   \n",
       "Q11288892                               Eugène_Monod    0.087977   \n",
       "Q16774865                                  De_Fresne    0.053662   \n",
       "Q4480412                           Jean-Louis_Favier    0.103116   \n",
       "Q6686814                               Louis_Burnier    0.040085   \n",
       "\n",
       "           predicted_target_rank  in_t  missing  \n",
       "id                                               \n",
       "Q6772702                2.198990     0        1  \n",
       "Q7126609                2.113077     0        1  \n",
       "Q4967894                2.042839     0        1  \n",
       "Q1862207                2.032708     0        1  \n",
       "Q4952915                1.969229     0        1  \n",
       "Q16999261               1.965618     0        1  \n",
       "Q6711056                1.964523     0        1  \n",
       "Q7925639                1.963830     0        1  \n",
       "Q6622240                1.938980     0        1  \n",
       "Q7818636                1.934303     0        1  \n",
       "Q16063446               1.933009     0        1  \n",
       "Q4646436                1.929362     0        1  \n",
       "Q3271877                1.910578     0        1  \n",
       "Q4735216                1.904408     0        1  \n",
       "Q17102409               1.893580     0        1  \n",
       "Q5244488                1.891851     0        1  \n",
       "Q5154052                1.889336     0        1  \n",
       "Q16013351               1.881276     0        1  \n",
       "Q5148466                1.881211     0        1  \n",
       "Q3655578                1.881066     0        1  \n",
       "Q7200246                1.879336     0        1  \n",
       "Q4907499                1.875031     0        1  \n",
       "Q5347960                1.872694     0        1  \n",
       "Q16274792               1.865152     0        1  \n",
       "Q587038                 1.858452     0        1  \n",
       "Q1102346                1.858071     0        1  \n",
       "Q16769239               1.850086     0        1  \n",
       "Q395552                 1.848824     0        1  \n",
       "Q16257799               1.845391     0        1  \n",
       "Q5026651                1.845099     0        1  \n",
       "...                          ...   ...      ...  \n",
       "Q7931027                1.754590     0        1  \n",
       "Q6687635                1.749718     0        1  \n",
       "Q5916898                1.747690     0        1  \n",
       "Q6872892                1.747651     0        1  \n",
       "Q1837191                1.743271     0        1  \n",
       "Q17007854               1.742720     0        1  \n",
       "Q6306000                1.742502     0        1  \n",
       "Q155616                 1.742339     0        1  \n",
       "Q8028906                1.742212     0        1  \n",
       "Q1736578                1.741334     0        1  \n",
       "Q7799881                1.740121     0        1  \n",
       "Q1564383                1.739217     0        1  \n",
       "Q6518671                1.736051     0        1  \n",
       "Q16874650               1.735920     0        1  \n",
       "Q5228094                1.732787     0        1  \n",
       "Q4637424                1.727639     0        1  \n",
       "Q8078135                1.725535     0        1  \n",
       "Q5433750                1.722695     0        1  \n",
       "Q6546850                1.722035     0        1  \n",
       "Q5715290                1.717728     0        1  \n",
       "Q15876622               1.717418     0        1  \n",
       "Q16387249               1.713729     0        1  \n",
       "Q5447686                1.713318     0        1  \n",
       "Q341885                 1.712836     0        1  \n",
       "Q5470187                1.711690     0        1  \n",
       "Q7100920                1.709496     0        1  \n",
       "Q11288892               1.708866     0        1  \n",
       "Q16774865               1.707536     0        1  \n",
       "Q4480412                1.705576     0        1  \n",
       "Q6686814                1.704613     0        1  \n",
       "\n",
       "[100 rows x 5 columns]"
      ]
     },
     "execution_count": 29,
     "metadata": {},
     "output_type": "execute_result"
    }
   ],
   "source": [
    "pv_df_final.sort( ['predicted_target_rank', 'proba_in_t'], ascending = [0, 0], inplace=True)\n",
    "pv_df_final[pv_df_final['missing'] == 1].head(100)[['title', 'proba_in_t', 'predicted_target_rank', 'in_t', 'missing']]"
   ]
  },
  {
   "cell_type": "markdown",
   "metadata": {},
   "source": [
    "# Not Converted Yet"
   ]
  },
  {
   "cell_type": "code",
   "execution_count": 23,
   "metadata": {
    "collapsed": false
   },
   "outputs": [],
   "source": [
    "# Save ranked missing items\n",
    "ranked_missing_articles_file = os.path.join(cp.get('general', 'local_data_dir'), exp_dir, cp.get('missing', 'ranked_missing_items'))\n",
    "d_missing.to_csv(ranked_missing_articles_file, sep='\\t', encoding='utf-8')"
   ]
  },
  {
   "cell_type": "code",
   "execution_count": 139,
   "metadata": {
    "collapsed": false
   },
   "outputs": [
    {
     "data": {
      "text/plain": [
       "<matplotlib.text.Text at 0x7f533c429610>"
      ]
     },
     "execution_count": 139,
     "metadata": {},
     "output_type": "execute_result"
    },
    {
     "data": {
      "image/png": "[encoded data removed]",
      "text/plain": [
       "<matplotlib.figure.Figure at 0x7f533c532850>"
      ]
     },
     "metadata": {},
     "output_type": "display_data"
    },
    {
     "data": {
      "image/png": "[encoded data removed]",
      "text/plain": [
       "<matplotlib.figure.Figure at 0x7f533c5a0110>"
      ]
     },
     "metadata": {},
     "output_type": "display_data"
    },
    {
     "data": {
      "image/png": "[encoded data removed]",
      "text/plain": [
       "<matplotlib.figure.Figure at 0x7f533c486450>"
      ]
     },
     "metadata": {},
     "output_type": "display_data"
    }
   ],
   "source": [
    "d_missing['rank_t'] = d_missing['rank_t'].apply(lambda x: min(1, max(0, x)))\n",
    "plt.figure()\n",
    "d_missing['rank_s'].hist()\n",
    "plt.title('Rank Distribution in Source')\n",
    "plt.figure()\n",
    "d_missing['rank_t'].hist()\n",
    "plt.title('Rank Distribution in Target')\n",
    "plt.figure()\n",
    "plt.scatter(d_missing['rank_t'], d_missing['rank_s'], s=1, facecolor='0.5', lw = 0, alpha = 0.05)\n",
    "plt.xlabel('Target Importance')\n",
    "plt.ylabel('Source Importance')"
   ]
  },
  {
   "cell_type": "markdown",
   "metadata": {},
   "source": [
    "#Scratch"
   ]
  },
  {
   "cell_type": "code",
   "execution_count": 24,
   "metadata": {
    "collapsed": false
   },
   "outputs": [
    {
     "data": {
      "text/plain": [
       "<matplotlib.axes._subplots.AxesSubplot at 0x7f3b85b3f710>"
      ]
     },
     "execution_count": 24,
     "metadata": {},
     "output_type": "execute_result"
    },
    {
     "data": {
      "image/png": "[encoded data removed]",
      "text/plain": [
       "<matplotlib.figure.Figure at 0x7f3a3c78f690>"
      ]
     },
     "metadata": {},
     "output_type": "display_data"
    }
   ],
   "source": [
    "d_missing['rank_s'].hist(bins=30)"
   ]
  },
  {
   "cell_type": "code",
   "execution_count": 25,
   "metadata": {
    "collapsed": false
   },
   "outputs": [
    {
     "data": {
      "text/plain": [
       "<matplotlib.axes._subplots.AxesSubplot at 0x7f3b25e845d0>"
      ]
     },
     "execution_count": 25,
     "metadata": {},
     "output_type": "execute_result"
    },
    {
     "data": {
      "image/png": "[encoded data removed]",
      "text/plain": [
       "<matplotlib.figure.Figure at 0x7f3b25e95e90>"
      ]
     },
     "metadata": {},
     "output_type": "display_data"
    }
   ],
   "source": [
    "d_missing['rank_t'].hist(bins=30)"
   ]
  },
  {
   "cell_type": "code",
   "execution_count": 125,
   "metadata": {
    "collapsed": false
   },
   "outputs": [
    {
     "name": "stdout",
     "output_type": "stream",
     "text": [
      "Baseline Spearman (0.76148637933899221, 0.0)\n"
     ]
    }
   ],
   "source": [
    "\n",
    "# compute spearman correlation between en as es ranks on missing articles\n",
    "print \"Baseline Spearman\", spearmanr(d_missing_k['rank_en'], d_missing_k['rank_es'])"
   ]
  },
  {
   "cell_type": "code",
   "execution_count": 126,
   "metadata": {
    "collapsed": false
   },
   "outputs": [
    {
     "name": "stdout",
     "output_type": "stream",
     "text": [
      "\n",
      "\n",
      "\n",
      "Doing Gridsearch\n",
      "\n",
      "MSE: 0.02139\n",
      "R2: 0.73260\n",
      "Spearman: 0.86140 \n",
      "\n",
      "MSE: 0.02148\n",
      "R2: 0.73211\n",
      "Spearman: 0.86140 \n",
      "\n",
      "MSE: 0.02309\n",
      "R2: 0.71128\n",
      "Spearman: 0.84927 \n",
      "\n",
      "MSE: 0.02319\n",
      "R2: 0.71080\n",
      "Spearman: 0.84913 \n",
      "\n",
      "MSE: 0.02639\n",
      "R2: 0.66998\n",
      "Spearman: 0.82518 \n",
      "\n",
      "MSE: 0.02649\n",
      "R2: 0.66964\n",
      "Spearman: 0.82518 \n",
      "\n",
      "MSE: 0.07998\n",
      "R2: -0.00001\n",
      "Spearman: nan \n",
      "\n",
      "MSE: 0.08019\n",
      "R2: -0.00001\n",
      "Spearman: nan \n",
      "\n",
      "Best Model Train MSE: 0.021394\n",
      "Spearman: 0.86169 \n",
      "\n",
      "Best Model Train Spearman 0.861693\n",
      "\n",
      "Best parameters set found:\n",
      "({'alpha': 1e-06}, 0.86140266086482908)\n",
      "\n",
      "\n",
      "Grid scores:\n",
      "0.86140 (+/-0.00000) for {'alpha': 1e-06}\n",
      "0.84920 (+/-0.00003) for {'alpha': 0.0001}\n",
      "0.82518 (+/-0.00000) for {'alpha': 0.001}\n",
      "nan (+/-nan) for {'alpha': 1}\n"
     ]
    }
   ],
   "source": [
    "from sklearn.linear_model import Lasso\n",
    "alg = Lasso()\n",
    "param_grid = {'alpha': [0.000001, 0.0001, 0.001, 1]}\n",
    "model = cv (X, y, 2, alg, param_grid)"
   ]
  },
  {
   "cell_type": "code",
   "execution_count": 62,
   "metadata": {
    "collapsed": false
   },
   "outputs": [
    {
     "data": {
      "text/plain": [
       "Lasso(alpha=1e-06, copy_X=True, fit_intercept=True, max_iter=1000,\n",
       "   normalize=False, positive=False, precompute='auto', tol=0.0001,\n",
       "   warm_start=False)"
      ]
     },
     "execution_count": 62,
     "metadata": {},
     "output_type": "execute_result"
    }
   ],
   "source": [
    "model.best_estimator_"
   ]
  },
  {
   "cell_type": "code",
   "execution_count": 54,
   "metadata": {
    "collapsed": false
   },
   "outputs": [
    {
     "name": "stdout",
     "output_type": "stream",
     "text": [
      "\n",
      "\n",
      "\n",
      "Doing Gridsearch\n",
      "\n",
      "Best Model Train MSE: 0.024215\n",
      "\n",
      "Best parameters set found:\n",
      "({'n_estimators': 50, 'n_jobs': 8, 'max_depth': 4}, -0.024152132858999739)\n",
      "\n",
      "\n",
      "Grid scores:\n",
      "-0.03364 (+/-0.00021) for {'n_estimators': 50, 'n_jobs': 8, 'max_depth': 2}\n",
      "-0.03378 (+/-0.00018) for {'n_estimators': 500, 'n_jobs': 8, 'max_depth': 2}\n",
      "-0.02695 (+/-0.00007) for {'n_estimators': 50, 'n_jobs': 8, 'max_depth': 3}\n",
      "-0.02700 (+/-0.00005) for {'n_estimators': 500, 'n_jobs': 8, 'max_depth': 3}\n",
      "-0.02415 (+/-0.00003) for {'n_estimators': 50, 'n_jobs': 8, 'max_depth': 4}\n",
      "-0.02424 (+/-0.00008) for {'n_estimators': 500, 'n_jobs': 8, 'max_depth': 4}\n"
     ]
    },
    {
     "data": {
      "text/plain": [
       "GridSearchCV(cv=sklearn.cross_validation.KFold(n=70617, n_folds=2, shuffle=True, random_state=None),\n",
       "       estimator=RandomForestRegressor(bootstrap=True, compute_importances=None,\n",
       "           criterion='mse', max_depth=None, max_features='auto',\n",
       "           max_leaf_nodes=None, min_density=None, min_samples_leaf=1,\n",
       "           min_samples_split=2, n_estimators=10, n_jobs=1, oob_score=False,\n",
       "           random_state=None, verbose=0),\n",
       "       fit_params={}, iid=True, loss_func=None, n_jobs=1,\n",
       "       param_grid={'n_estimators': [50, 500], 'n_jobs': [8], 'max_depth': [2, 3, 4]},\n",
       "       pre_dispatch='2*n_jobs', refit=True, score_func=None,\n",
       "       scoring='mean_squared_error', verbose=0)"
      ]
     },
     "execution_count": 54,
     "metadata": {},
     "output_type": "execute_result"
    }
   ],
   "source": [
    "from sklearn.ensemble import RandomForestRegressor\n",
    "alg = RandomForestRegressor()\n",
    "param_grid = {'n_jobs' : [8], 'n_estimators' : [50, 500 ], 'max_depth' : [2, 3, 4 ] }\n",
    "cv (X, y, 2, alg, param_grid)"
   ]
  },
  {
   "cell_type": "code",
   "execution_count": null,
   "metadata": {
    "collapsed": true
   },
   "outputs": [],
   "source": []
  },
  {
   "cell_type": "code",
   "execution_count": 57,
   "metadata": {
    "collapsed": false
   },
   "outputs": [
    {
     "name": "stdout",
     "output_type": "stream",
     "text": [
      "\n",
      "\n",
      "\n",
      "Doing Gridsearch\n",
      "\n",
      "Best Model Train MSE: 0.080153\n",
      "\n",
      "Best parameters set found:\n",
      "({}, -0.080153485281797415)\n",
      "\n",
      "\n",
      "Grid scores:\n",
      "-0.08015 (+/-0.00002) for {}\n"
     ]
    }
   ],
   "source": [
    "from sklearn.linear_model import LinearRegression\n",
    "alg = Lasso()\n",
    "param_grid = {}\n",
    "model = cv (rank_en.toarray(), y, 2, alg, param_grid)\n"
   ]
  },
  {
   "cell_type": "code",
   "execution_count": 59,
   "metadata": {
    "collapsed": false
   },
   "outputs": [
    {
     "name": "stdout",
     "output_type": "stream",
     "text": [
      "\n",
      "\n",
      "\n",
      "Doing Gridsearch\n",
      "\n",
      "Best Model Train MSE: 0.080153\n",
      "\n",
      "Best parameters set found:\n",
      "({}, -0.080153429784761906)\n",
      "\n",
      "\n",
      "Grid scores:\n",
      "-0.08015 (+/-0.00011) for {}\n"
     ]
    }
   ],
   "source": [
    "from sklearn.linear_model import LinearRegression\n",
    "alg = Lasso()\n",
    "param_grid = {}\n",
    "model = cv (M_r.toarray(), y, 2, alg, param_grid)\n"
   ]
  },
  {
   "cell_type": "code",
   "execution_count": null,
   "metadata": {
    "collapsed": true
   },
   "outputs": [],
   "source": []
  }
 ],
 "metadata": {
  "kernelspec": {
   "display_name": "Python 2",
   "language": "python",
   "name": "python2"
  },
  "language_info": {
   "codemirror_mode": {
    "name": "ipython",
    "version": 2
   },
   "file_extension": ".py",
   "mimetype": "text/x-python",
   "name": "python",
   "nbconvert_exporter": "python",
   "pygments_lexer": "ipython2",
   "version": "2.7.10"
  }
 },
 "nbformat": 4,
 "nbformat_minor": 0
}
