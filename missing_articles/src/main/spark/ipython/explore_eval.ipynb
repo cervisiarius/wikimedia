{
 "cells": [
  {
   "cell_type": "code",
   "execution_count": 2,
   "metadata": {
    "collapsed": false
   },
   "outputs": [
    {
     "name": "stdout",
     "output_type": "stream",
     "text": [
      "The autoreload extension is already loaded. To reload it, use:\n",
      "  %reload_ext autoreload\n"
     ]
    }
   ],
   "source": [
    "%matplotlib inline\n",
    "%load_ext autoreload\n",
    "%autoreload 2\n",
    "\n",
    "from scipy.io import mmread\n",
    "import scipy\n",
    "from pprint import pprint\n",
    "from sklearn.preprocessing import normalize\n",
    "from ConfigParser import SafeConfigParser\n",
    "import numpy as np\n",
    "import time\n",
    "\n",
    "import os,sys,inspect\n",
    "currentdir = os.path.dirname(os.path.abspath(inspect.getfile(inspect.currentframe())))\n",
    "parentdir = os.path.dirname(currentdir)\n",
    "sys.path.insert(0,parentdir) \n",
    "from eval_util import *\n",
    "\n",
    "universal_dir = 'en_lda'\n",
    "translation_dir = 'en_lda'\n",
    "config = '/home/ellery/wikimedia/missing_articles/missing_articles.ini'\n",
    "\n",
    "cp = SafeConfigParser()\n",
    "cp.read(config)\n",
    "\n",
    "universal_base_dir = os.path.join(cp.get('general', 'local_data_dir'), universal_dir)\n",
    "universal_hadoop_base_dir = os.path.join(cp.get('general', 'hadoop_data_dir'), universal_dir)\n",
    "\n",
    "translation_base_dir = os.path.join(cp.get('general', 'local_data_dir'), translation_dir)\n",
    "translation_hadoop_base_dir = os.path.join(cp.get('general', 'hadoop_data_dir'), translation_dir)\n"
   ]
  },
  {
   "cell_type": "code",
   "execution_count": 3,
   "metadata": {
    "collapsed": false
   },
   "outputs": [],
   "source": [
    "# only when doing translation\n",
    "if universal_dir != translation_dir:\n",
    "    translation_dict_file = os.path.join(translation_base_dir, cp.get('missing', 'ranked_missing_items'))\n",
    "    id2sname, id2importance = get_translation_maps(translation_dict_file)"
   ]
  },
  {
   "cell_type": "code",
   "execution_count": 4,
   "metadata": {
    "collapsed": false
   },
   "outputs": [],
   "source": [
    "universal_dict_file = os.path.join(universal_base_dir, cp.get('LDA', 'article2index'))\n",
    "id2index, index2id, id2uname = get_universal_maps(universal_dict_file)"
   ]
  },
  {
   "cell_type": "code",
   "execution_count": 5,
   "metadata": {
    "collapsed": false
   },
   "outputs": [],
   "source": [
    "mm_file = os.path.join(universal_base_dir, cp.get('LDA', 'doc2topic'))\n",
    "f = open(mm_file)\n",
    "M = mmread(f).tocsr()\n",
    "M = normalize(M, norm='l2', axis=1)"
   ]
  },
  {
   "cell_type": "code",
   "execution_count": 6,
   "metadata": {
    "collapsed": false
   },
   "outputs": [],
   "source": [
    "rdata = {}\n",
    "rdata['MI'] = M\n",
    "if universal_dir == translation_dir:\n",
    "    rdata['MR'] = M \n",
    "else:\n",
    "    rdata['MR'] = reduce_and_reweight(M, id2importance, id2index, index2id)\n",
    "rdata['id2index'] = id2index\n",
    "rdata['index2id'] = index2id \n",
    "rdata['id2uname'] = id2uname \n",
    "rdata['item_target_importance'] = None \n",
    "rdata['num_to_rank'] = 10000\n",
    "rdata['min_score'] = 0.5\n",
    "rdata['get_interest_vector'] = get_weighted_average_interest_vector "
   ]
  },
  {
   "cell_type": "code",
   "execution_count": 7,
   "metadata": {
    "collapsed": false
   },
   "outputs": [
    {
     "name": "stdout",
     "output_type": "stream",
     "text": [
      "MAP: 0.012723 MFTIR: 0.320000 MRL: 9485.840000\n",
      "MAP: 0.006580 MFTIR: 0.260000 MRL: 9585.145000\n",
      "Evaluated 200 editors\n",
      "MAP: 0.006580 MFTIR: 0.260000 MRL: 9585.145000\n",
      "[0.012722751745584482, 0.0065802344712217785]\n",
      "26.504019022\n"
     ]
    }
   ],
   "source": [
    "m = 3\n",
    "k = 2\n",
    "l = 1\n",
    "n = 200\n",
    "time1 = time.time()\n",
    "contribution_file = os.path.join(translation_base_dir, cp.get('eval', 'train'))  \n",
    "print recommend_and_eval_all(contribution_iter(contribution_file, k, l, m), rdata, n, verbose = False)\n",
    "time2 = time.time()\n",
    "print (time2-time1)   "
   ]
  },
  {
   "cell_type": "code",
   "execution_count": 60,
   "metadata": {
    "collapsed": false
   },
   "outputs": [
    {
     "data": {
      "text/plain": [
       "258477"
      ]
     },
     "execution_count": 60,
     "metadata": {},
     "output_type": "execute_result"
    }
   ],
   "source": [
    "sum(1 for _ in contribution_iter(contribution_file, k, l, 8))"
   ]
  },
  {
   "cell_type": "code",
   "execution_count": 61,
   "metadata": {
    "collapsed": false
   },
   "outputs": [
    {
     "data": {
      "text/plain": [
       "10.769874999999999"
      ]
     },
     "execution_count": 61,
     "metadata": {},
     "output_type": "execute_result"
    }
   ],
   "source": [
    "(258477 *0.15) / (60*60)"
   ]
  },
  {
   "cell_type": "code",
   "execution_count": 16,
   "metadata": {
    "collapsed": false
   },
   "outputs": [
    {
     "name": "stdout",
     "output_type": "stream",
     "text": [
      "MAP: 0.000261 MFTIR: 0.240000 MRL: 8538.990000\n",
      "MAP: 0.000511 MFTIR: 0.180000 MRL: 9740.800000\n",
      "MAP: 0.000253 MFTIR: 0.230000 MRL: 8535.130000\n",
      "MAP: 0.000791 MFTIR: 0.170000 MRL: 9803.160000\n",
      "MAP: 0.000791 MFTIR: 0.170000 MRL: 9803.160000\n",
      "MAP: 0.000476 MFTIR: 0.210000 MRL: 8446.700000\n",
      "MAP: 0.000791 MFTIR: 0.170000 MRL: 9803.160000\n",
      "MAP: 0.000646 MFTIR: 0.230000 MRL: 9048.340000\n",
      "MAP: 0.000634 MFTIR: 0.180000 MRL: 9800.030000\n",
      "MAP: 0.001775 MFTIR: 0.225000 MRL: 8620.750000MAP: 0.002465 MFTIR: 0.175000 MRL: 9671.240000MAP: 0.001898 MFTIR: 0.230000 MRL: 8643.375000MAP: 0.002195 MFTIR: 0.190000 MRL: 9595.250000MAP: 0.002195 MFTIR: 0.190000 MRL: 9595.250000MAP: 0.002682 MFTIR: 0.210000 MRL: 8596.825000MAP: 0.002195 MFTIR: 0.190000 MRL: 9595.250000MAP: 0.002193 MFTIR: 0.235000 MRL: 9046.590000MAP: 0.003720 MFTIR: 0.180000 MRL: 9682.505000\n",
      "\n",
      "\n",
      "\n",
      "\n",
      "\n",
      "\n",
      "\n",
      "\n",
      "MAP: 0.001547 MFTIR: 0.230000 MRL: 8738.880000MAP: 0.002297 MFTIR: 0.183333 MRL: 9713.633333MAP: 0.001550 MFTIR: 0.233333 MRL: 8773.536667MAP: 0.004504 MFTIR: 0.196667 MRL: 9603.173333MAP: 0.004504 MFTIR: 0.196667 MRL: 9603.173333MAP: 0.002030 MFTIR: 0.213333 MRL: 8531.263333MAP: 0.004504 MFTIR: 0.196667 MRL: 9603.173333MAP: 0.001714 MFTIR: 0.243333 MRL: 9006.193333MAP: 0.004811 MFTIR: 0.186667 MRL: 9690.076667\n",
      "\n",
      "\n",
      "\n",
      "\n",
      "\n",
      "\n",
      "\n",
      "\n",
      "MAP: 0.003585 MFTIR: 0.245000 MRL: 8577.390000MAP: 0.002679 MFTIR: 0.177500 MRL: 9657.390000MAP: 0.004847 MFTIR: 0.240000 MRL: 8614.522500MAP: 0.004938 MFTIR: 0.202500 MRL: 9558.535000MAP: 0.004938 MFTIR: 0.202500 MRL: 9558.535000MAP: 0.003457 MFTIR: 0.230000 MRL: 8504.520000MAP: 0.004938 MFTIR: 0.202500 MRL: 9558.535000MAP: 0.003102 MFTIR: 0.247500 MRL: 8993.040000MAP: 0.005400 MFTIR: 0.190000 MRL: 9687.250000\n",
      "\n",
      "\n",
      "\n",
      "\n",
      "\n",
      "\n",
      "\n",
      "\n",
      "MAP: 0.004221 MFTIR: 0.240000 MRL: 8543.244000MAP: 0.003654 MFTIR: 0.180000 MRL: 9674.000000MAP: 0.005098 MFTIR: 0.236000 MRL: 8479.890000MAP: 0.005485 MFTIR: 0.198000 MRL: 9570.802000MAP: 0.005485 MFTIR: 0.198000 MRL: 9570.802000MAP: 0.003730 MFTIR: 0.218000 MRL: 8371.408000MAP: 0.005485 MFTIR: 0.198000 MRL: 9570.802000MAP: 0.003469 MFTIR: 0.230000 MRL: 8904.810000MAP: 0.005515 MFTIR: 0.186000 MRL: 9659.910000\n",
      "\n",
      "\n",
      "\n",
      "\n",
      "\n",
      "\n",
      "\n",
      "\n",
      "MAP: 0.003893 MFTIR: 0.230000 MRL: 8571.231667MAP: 0.003393 MFTIR: 0.175000 MRL: 9678.748333MAP: 0.004563 MFTIR: 0.228333 MRL: 8552.076667MAP: 0.004850 MFTIR: 0.191667 MRL: 9565.325000MAP: 0.004850 MFTIR: 0.191667 MRL: 9565.325000MAP: 0.003721 MFTIR: 0.210000 MRL: 8347.685000MAP: 0.004850 MFTIR: 0.191667 MRL: 9565.325000MAP: 0.003524 MFTIR: 0.221667 MRL: 8946.463333MAP: 0.004822 MFTIR: 0.183333 MRL: 9693.465000\n",
      "\n",
      "\n",
      "\n",
      "\n",
      "\n",
      "\n",
      "\n",
      "\n",
      "MAP: 0.003656 MFTIR: 0.214286 MRL: 8516.765714MAP: 0.003377 MFTIR: 0.165714 MRL: 9696.930000MAP: 0.004069 MFTIR: 0.214286 MRL: 8521.251429MAP: 0.005252 MFTIR: 0.187143 MRL: 9606.707143MAP: 0.005252 MFTIR: 0.187143 MRL: 9606.707143MAP: 0.003584 MFTIR: 0.200000 MRL: 8370.552857MAP: 0.005252 MFTIR: 0.187143 MRL: 9606.707143MAP: 0.003419 MFTIR: 0.212857 MRL: 8960.548571MAP: 0.004525 MFTIR: 0.175714 MRL: 9685.580000\n",
      "\n",
      "\n",
      "\n",
      "\n",
      "\n",
      "\n",
      "\n",
      "\n",
      "MAP: 0.003373 MFTIR: 0.211250 MRL: 8450.136250MAP: 0.003057 MFTIR: 0.165000 MRL: 9669.793750MAP: 0.003698 MFTIR: 0.210000 MRL: 8451.662500MAP: 0.005022 MFTIR: 0.178750 MRL: 9625.368750MAP: 0.005022 MFTIR: 0.178750 MRL: 9625.368750MAP: 0.003441 MFTIR: 0.201250 MRL: 8314.415000MAP: 0.005022 MFTIR: 0.178750 MRL: 9625.368750MAP: 0.003316 MFTIR: 0.212500 MRL: 8889.847500MAP: 0.004783 MFTIR: 0.172500 MRL: 9671.573750\n",
      "\n",
      "\n",
      "\n",
      "\n",
      "\n",
      "\n",
      "\n",
      "\n",
      "MAP: 0.003693 MFTIR: 0.215556 MRL: 8406.643333MAP: 0.003433 MFTIR: 0.175556 MRL: 9669.746667MAP: 0.004008 MFTIR: 0.214444 MRL: 8391.240000MAP: 0.005065 MFTIR: 0.181111 MRL: 9613.676667MAP: 0.005065 MFTIR: 0.181111 MRL: 9613.676667MAP: 0.005234 MFTIR: 0.206667 MRL: 8271.795556MAP: 0.005065 MFTIR: 0.181111 MRL: 9613.676667MAP: 0.004565 MFTIR: 0.216667 MRL: 8850.232222MAP: 0.004776 MFTIR: 0.177778 MRL: 9673.987778\n",
      "\n",
      "\n",
      "\n",
      "\n",
      "\n",
      "\n",
      "\n",
      "\n",
      "MAP: 0.003343 MFTIR: 0.219000 MRL: 8410.401000MAP: 0.003198 MFTIR: 0.176000 MRL: 9670.596000MAP: 0.003628 MFTIR: 0.217000 MRL: 8384.647000MAP: 0.005122 MFTIR: 0.181000 MRL: 9573.114000MAP: 0.005122 MFTIR: 0.181000 MRL: 9573.114000MAP: 0.004816 MFTIR: 0.212000 MRL: 8264.135000MAP: 0.005122 MFTIR: 0.181000 MRL: 9573.114000MAP: 0.004205 MFTIR: 0.219000 MRL: 8853.457000MAP: 0.004516 MFTIR: 0.181000 MRL: 9667.329000\n",
      "\n",
      "\n",
      "\n",
      "\n",
      "\n",
      "\n",
      "\n",
      "\n",
      "MAP: 0.003146 MFTIR: 0.218182 MRL: 8381.217273MAP: 0.003289 MFTIR: 0.175455 MRL: 9672.837273MAP: 0.003415 MFTIR: 0.215455 MRL: 8350.799091MAP: 0.004769 MFTIR: 0.175455 MRL: 9587.935455MAP: 0.004769 MFTIR: 0.175455 MRL: 9587.935455MAP: 0.004555 MFTIR: 0.210909 MRL: 8210.927273MAP: 0.004769 MFTIR: 0.175455 MRL: 9587.935455MAP: 0.003991 MFTIR: 0.217273 MRL: 8820.760909MAP: 0.004210 MFTIR: 0.180909 MRL: 9668.545455\n",
      "\n",
      "\n",
      "\n",
      "\n",
      "\n",
      "\n",
      "\n",
      "\n",
      "MAP: 0.003786 MFTIR: 0.220833 MRL: 8390.937500MAP: 0.003280 MFTIR: 0.176667 MRL: 9677.848333MAP: 0.004038 MFTIR: 0.218333 MRL: 8355.971667MAP: 0.004958 MFTIR: 0.181667 MRL: 9604.375833MAP: 0.004958 MFTIR: 0.181667 MRL: 9604.375833MAP: 0.004741 MFTIR: 0.212500 MRL: 8219.090000MAP: 0.004958 MFTIR: 0.181667 MRL: 9604.375833MAP: 0.004087 MFTIR: 0.220000 MRL: 8810.419167MAP: 0.004009 MFTIR: 0.180833 MRL: 9642.926667\n",
      "\n",
      "\n",
      "\n",
      "\n",
      "\n",
      "\n",
      "\n",
      "\n",
      "MAP: 0.003580 MFTIR: 0.222308 MRL: 8374.428462MAP: 0.003225 MFTIR: 0.178462 MRL: 9669.639231MAP: 0.003813 MFTIR: 0.219231 MRL: 8347.276154MAP: 0.004767 MFTIR: 0.180769 MRL: 9588.313077MAP: 0.004767 MFTIR: 0.180769 MRL: 9588.313077MAP: 0.004439 MFTIR: 0.213077 MRL: 8184.359231MAP: 0.004767 MFTIR: 0.180769 MRL: 9588.313077MAP: 0.003837 MFTIR: 0.219231 MRL: 8784.261538MAP: 0.003865 MFTIR: 0.181538 MRL: 9629.837692\n",
      "\n",
      "\n",
      "\n",
      "\n",
      "\n",
      "\n",
      "\n",
      "\n",
      "MAP: 0.003977 MFTIR: 0.223571 MRL: 8391.061429MAP: 0.003140 MFTIR: 0.177143 MRL: 9668.426429MAP: 0.004064 MFTIR: 0.217857 MRL: 8360.317143MAP: 0.004592 MFTIR: 0.179286 MRL: 9591.479286MAP: 0.004592 MFTIR: 0.179286 MRL: 9591.479286MAP: 0.004539 MFTIR: 0.214286 MRL: 8212.073571MAP: 0.004592 MFTIR: 0.179286 MRL: 9591.479286MAP: 0.003909 MFTIR: 0.221429 MRL: 8795.214286MAP: 0.004089 MFTIR: 0.182143 MRL: 9621.511429\n",
      "\n",
      "\n",
      "\n",
      "\n",
      "\n",
      "\n",
      "\n",
      "\n",
      "MAP: 0.003848 MFTIR: 0.222000 MRL: 8381.832667MAP: 0.002958 MFTIR: 0.176000 MRL: 9671.922000MAP: 0.003933 MFTIR: 0.216667 MRL: 8351.179333MAP: 0.004348 MFTIR: 0.174667 MRL: 9584.655333MAP: 0.004348 MFTIR: 0.174667 MRL: 9584.655333MAP: 0.004356 MFTIR: 0.210667 MRL: 8187.060667MAP: 0.004348 MFTIR: 0.174667 MRL: 9584.655333MAP: 0.003815 MFTIR: 0.219333 MRL: 8767.212000MAP: 0.003821 MFTIR: 0.177333 MRL: 9617.358667\n",
      "\n",
      "\n",
      "\n"
     ]
    },
    {
     "ename": "ValueError",
     "evalue": "attempt to get argmin of an empty sequence",
     "output_type": "error",
     "traceback": [
      "\u001b[1;31m---------------------------------------------------------------------------\u001b[0m",
      "\u001b[1;31mValueError\u001b[0m                                Traceback (most recent call last)",
      "\u001b[1;32m<ipython-input-16-d94c250e25e2>\u001b[0m in \u001b[0;36m<module>\u001b[1;34m()\u001b[0m\n\u001b[0;32m     39\u001b[0m \u001b[0mp\u001b[0m \u001b[1;33m=\u001b[0m \u001b[0mmultiprocessing\u001b[0m\u001b[1;33m.\u001b[0m\u001b[0mPool\u001b[0m\u001b[1;33m(\u001b[0m\u001b[1;36m9\u001b[0m\u001b[1;33m)\u001b[0m\u001b[1;33m\u001b[0m\u001b[0m\n\u001b[0;32m     40\u001b[0m \u001b[0mtime1\u001b[0m \u001b[1;33m=\u001b[0m \u001b[0mtime\u001b[0m\u001b[1;33m.\u001b[0m\u001b[0mtime\u001b[0m\u001b[1;33m(\u001b[0m\u001b[1;33m)\u001b[0m\u001b[1;33m\u001b[0m\u001b[0m\n\u001b[1;32m---> 41\u001b[1;33m \u001b[0mresults\u001b[0m \u001b[1;33m=\u001b[0m \u001b[0mp\u001b[0m\u001b[1;33m.\u001b[0m\u001b[0mmap\u001b[0m\u001b[1;33m(\u001b[0m\u001b[0mmp_worker\u001b[0m\u001b[1;33m,\u001b[0m \u001b[0margs_list\u001b[0m\u001b[1;33m)\u001b[0m\u001b[1;33m\u001b[0m\u001b[0m\n\u001b[0m\u001b[0;32m     42\u001b[0m \u001b[0mtime2\u001b[0m \u001b[1;33m=\u001b[0m \u001b[0mtime\u001b[0m\u001b[1;33m.\u001b[0m\u001b[0mtime\u001b[0m\u001b[1;33m(\u001b[0m\u001b[1;33m)\u001b[0m\u001b[1;33m\u001b[0m\u001b[0m\n\u001b[0;32m     43\u001b[0m \u001b[1;32mprint\u001b[0m \u001b[1;34m'Time: '\u001b[0m\u001b[1;33m,\u001b[0m \u001b[1;33m(\u001b[0m\u001b[0mtime2\u001b[0m\u001b[1;33m-\u001b[0m\u001b[0mtime1\u001b[0m\u001b[1;33m)\u001b[0m\u001b[1;33m\u001b[0m\u001b[0m\n",
      "\u001b[1;32m/home/ellery/anaconda/lib/python2.7/multiprocessing/pool.pyc\u001b[0m in \u001b[0;36mmap\u001b[1;34m(self, func, iterable, chunksize)\u001b[0m\n\u001b[0;32m    249\u001b[0m         '''\n\u001b[0;32m    250\u001b[0m         \u001b[1;32massert\u001b[0m \u001b[0mself\u001b[0m\u001b[1;33m.\u001b[0m\u001b[0m_state\u001b[0m \u001b[1;33m==\u001b[0m \u001b[0mRUN\u001b[0m\u001b[1;33m\u001b[0m\u001b[0m\n\u001b[1;32m--> 251\u001b[1;33m         \u001b[1;32mreturn\u001b[0m \u001b[0mself\u001b[0m\u001b[1;33m.\u001b[0m\u001b[0mmap_async\u001b[0m\u001b[1;33m(\u001b[0m\u001b[0mfunc\u001b[0m\u001b[1;33m,\u001b[0m \u001b[0miterable\u001b[0m\u001b[1;33m,\u001b[0m \u001b[0mchunksize\u001b[0m\u001b[1;33m)\u001b[0m\u001b[1;33m.\u001b[0m\u001b[0mget\u001b[0m\u001b[1;33m(\u001b[0m\u001b[1;33m)\u001b[0m\u001b[1;33m\u001b[0m\u001b[0m\n\u001b[0m\u001b[0;32m    252\u001b[0m \u001b[1;33m\u001b[0m\u001b[0m\n\u001b[0;32m    253\u001b[0m     \u001b[1;32mdef\u001b[0m \u001b[0mimap\u001b[0m\u001b[1;33m(\u001b[0m\u001b[0mself\u001b[0m\u001b[1;33m,\u001b[0m \u001b[0mfunc\u001b[0m\u001b[1;33m,\u001b[0m \u001b[0miterable\u001b[0m\u001b[1;33m,\u001b[0m \u001b[0mchunksize\u001b[0m\u001b[1;33m=\u001b[0m\u001b[1;36m1\u001b[0m\u001b[1;33m)\u001b[0m\u001b[1;33m:\u001b[0m\u001b[1;33m\u001b[0m\u001b[0m\n",
      "\u001b[1;32m/home/ellery/anaconda/lib/python2.7/multiprocessing/pool.pyc\u001b[0m in \u001b[0;36mget\u001b[1;34m(self, timeout)\u001b[0m\n\u001b[0;32m    556\u001b[0m             \u001b[1;32mreturn\u001b[0m \u001b[0mself\u001b[0m\u001b[1;33m.\u001b[0m\u001b[0m_value\u001b[0m\u001b[1;33m\u001b[0m\u001b[0m\n\u001b[0;32m    557\u001b[0m         \u001b[1;32melse\u001b[0m\u001b[1;33m:\u001b[0m\u001b[1;33m\u001b[0m\u001b[0m\n\u001b[1;32m--> 558\u001b[1;33m             \u001b[1;32mraise\u001b[0m \u001b[0mself\u001b[0m\u001b[1;33m.\u001b[0m\u001b[0m_value\u001b[0m\u001b[1;33m\u001b[0m\u001b[0m\n\u001b[0m\u001b[0;32m    559\u001b[0m \u001b[1;33m\u001b[0m\u001b[0m\n\u001b[0;32m    560\u001b[0m     \u001b[1;32mdef\u001b[0m \u001b[0m_set\u001b[0m\u001b[1;33m(\u001b[0m\u001b[0mself\u001b[0m\u001b[1;33m,\u001b[0m \u001b[0mi\u001b[0m\u001b[1;33m,\u001b[0m \u001b[0mobj\u001b[0m\u001b[1;33m)\u001b[0m\u001b[1;33m:\u001b[0m\u001b[1;33m\u001b[0m\u001b[0m\n",
      "\u001b[1;31mValueError\u001b[0m: attempt to get argmin of an empty sequence"
     ]
    },
    {
     "name": "stdout",
     "output_type": "stream",
     "text": [
      "\n",
      "\n",
      "\n",
      "\n",
      "\n",
      "MAP: 0.003690 MFTIR: 0.219375 MRL: 8383.840625MAP: 0.002920 MFTIR: 0.177500 MRL: 9666.186250MAP: 0.003826 MFTIR: 0.217500 MRL: 8365.833125MAP: 0.004430 MFTIR: 0.176875 MRL: 9574.730000MAP: 0.004430 MFTIR: 0.176875 MRL: 9574.730000MAP: 0.004309 MFTIR: 0.209375 MRL: 8202.902500MAP: 0.004430 MFTIR: 0.176875 MRL: 9574.730000MAP: 0.003746 MFTIR: 0.216875 MRL: 8784.259375MAP: 0.003605 MFTIR: 0.176875 MRL: 9618.197500\n",
      "\n",
      "\n",
      "\n",
      "\n",
      "\n",
      "\n",
      "\n",
      "\n",
      "MAP: 0.003944 MFTIR: 0.220588 MRL: 8379.823529MAP: 0.003262 MFTIR: 0.178235 MRL: 9655.755294MAP: 0.004030 MFTIR: 0.218824 MRL: 8346.218824MAP: 0.004231 MFTIR: 0.176471 MRL: 9571.407059MAP: 0.004231 MFTIR: 0.176471 MRL: 9571.407059MAP: 0.004762 MFTIR: 0.207647 MRL: 8195.107059MAP: 0.004231 MFTIR: 0.176471 MRL: 9571.407059MAP: 0.004229 MFTIR: 0.214706 MRL: 8751.618824MAP: 0.003933 MFTIR: 0.175882 MRL: 9587.875882\n",
      "\n",
      "\n",
      "\n",
      "\n",
      "\n",
      "\n",
      "\n",
      "\n",
      "MAP: 0.003804 MFTIR: 0.222222 MRL: 8384.305556MAP: 0.003117 MFTIR: 0.180556 MRL: 9646.296111MAP: 0.003905 MFTIR: 0.219444 MRL: 8351.875556MAP: 0.004025 MFTIR: 0.177222 MRL: 9569.024444MAP: 0.004025 MFTIR: 0.177222 MRL: 9569.024444MAP: 0.004679 MFTIR: 0.207222 MRL: 8195.880000MAP: 0.004025 MFTIR: 0.177222 MRL: 9569.024444MAP: 0.004126 MFTIR: 0.213889 MRL: 8749.897778MAP: 0.004191 MFTIR: 0.177222 MRL: 9587.524444\n",
      "\n",
      "\n",
      "\n",
      "\n",
      "\n",
      "\n",
      "\n",
      "\n",
      "MAP: 0.003619 MFTIR: 0.220526 MRL: 8383.718421MAP: 0.003168 MFTIR: 0.179474 MRL: 9651.946842MAP: 0.003714 MFTIR: 0.218421 MRL: 8344.090526MAP: 0.003952 MFTIR: 0.171053 MRL: 9570.512632MAP: 0.003952 MFTIR: 0.171053 MRL: 9570.512632MAP: 0.004671 MFTIR: 0.204211 MRL: 8181.486842MAP: 0.003952 MFTIR: 0.171053 MRL: 9570.512632MAP: 0.004364 MFTIR: 0.210526 MRL: 8746.055263MAP: 0.004144 MFTIR: 0.174211 MRL: 9600.932632\n",
      "\n",
      "\n",
      "\n",
      "\n",
      "\n",
      "\n",
      "\n",
      "\n",
      "MAP: 0.003445 MFTIR: 0.220000 MRL: 8417.668000MAP: 0.003040 MFTIR: 0.180500 MRL: 9660.690000MAP: 0.003534 MFTIR: 0.218000 MRL: 8377.716500MAP: 0.003782 MFTIR: 0.170000 MRL: 9571.276500MAP: 0.003782 MFTIR: 0.170000 MRL: 9571.276500MAP: 0.004448 MFTIR: 0.203500 MRL: 8211.485000MAP: 0.003782 MFTIR: 0.170000 MRL: 9571.276500MAP: 0.004156 MFTIR: 0.208500 MRL: 8755.749000MAP: 0.003951 MFTIR: 0.172000 MRL: 9607.446500\n",
      "\n",
      "\n",
      "\n",
      "\n",
      "\n",
      "\n",
      "\n",
      "\n",
      "MAP: 0.003358 MFTIR: 0.222857 MRL: 8386.614286MAP: 0.003461 MFTIR: 0.182857 MRL: 9664.973810MAP: 0.003437 MFTIR: 0.221429 MRL: 8354.769048MAP: 0.004128 MFTIR: 0.170476 MRL: 9573.893333MAP: 0.004128 MFTIR: 0.170476 MRL: 9573.893333MAP: 0.004324 MFTIR: 0.205714 MRL: 8199.896667MAP: 0.004128 MFTIR: 0.170476 MRL: 9573.893333MAP: 0.004029 MFTIR: 0.209524 MRL: 8750.486190MAP: 0.004008 MFTIR: 0.174286 MRL: 9610.118095\n",
      "\n",
      "\n",
      "\n",
      "\n",
      "\n",
      "\n",
      "\n",
      "\n",
      "MAP: 0.003853 MFTIR: 0.225000 MRL: 8372.268636MAP: 0.003576 MFTIR: 0.184091 MRL: 9659.868182MAP: 0.003874 MFTIR: 0.223636 MRL: 8345.875455MAP: 0.004124 MFTIR: 0.170909 MRL: 9568.479091MAP: 0.004124 MFTIR: 0.170909 MRL: 9568.479091MAP: 0.004695 MFTIR: 0.207727 MRL: 8215.065909MAP: 0.004124 MFTIR: 0.170909 MRL: 9568.479091MAP: 0.004396 MFTIR: 0.210000 MRL: 8751.604545MAP: 0.004282 MFTIR: 0.174091 MRL: 9608.747727\n",
      "\n",
      "\n",
      "\n",
      "\n",
      "\n",
      "\n",
      "\n",
      "\n",
      "MAP: 0.003969 MFTIR: 0.225217 MRL: 8376.120000MAP: 0.003735 MFTIR: 0.183913 MRL: 9657.505217MAP: 0.004042 MFTIR: 0.225652 MRL: 8355.527391MAP: 0.004307 MFTIR: 0.170435 MRL: 9572.490870MAP: 0.004307 MFTIR: 0.170435 MRL: 9572.490870MAP: 0.004598 MFTIR: 0.207826 MRL: 8214.193913MAP: 0.004307 MFTIR: 0.170435 MRL: 9572.490870MAP: 0.004293 MFTIR: 0.209565 MRL: 8752.669130MAP: 0.004321 MFTIR: 0.173043 MRL: 9616.009565\n",
      "\n",
      "\n",
      "\n",
      "\n",
      "\n",
      "\n",
      "\n",
      "\n",
      "MAP: 0.004424 MFTIR: 0.225833 MRL: 8384.447917MAP: 0.003948 MFTIR: 0.185417 MRL: 9649.447500MAP: 0.004648 MFTIR: 0.227083 MRL: 8362.482083MAP: 0.004417 MFTIR: 0.171250 MRL: 9569.276667MAP: 0.004417 MFTIR: 0.171250 MRL: 9569.276667MAP: 0.005098 MFTIR: 0.211250 MRL: 8214.203750MAP: 0.004417 MFTIR: 0.171250 MRL: 9569.276667MAP: 0.004748 MFTIR: 0.211667 MRL: 8738.565000MAP: 0.004803 MFTIR: 0.175417 MRL: 9612.828750\n",
      "\n",
      "\n",
      "\n",
      "\n",
      "\n",
      "\n",
      "\n",
      "\n",
      "MAP: 0.004857 MFTIR: 0.230400 MRL: 8380.604000MAP: 0.004187 MFTIR: 0.190800 MRL: 9647.662800MAP: 0.004751 MFTIR: 0.231200 MRL: 8356.314000MAP: 0.004673 MFTIR: 0.170000 MRL: 9580.258000MAP: 0.004673 MFTIR: 0.170000 MRL: 9580.258000MAP: 0.005125 MFTIR: 0.215200 MRL: 8236.487200MAP: 0.004673 MFTIR: 0.170000 MRL: 9580.258000MAP: 0.004782 MFTIR: 0.215600 MRL: 8760.120000MAP: 0.005068 MFTIR: 0.178000 MRL: 9615.697600\n",
      "\n",
      "\n",
      "\n",
      "\n",
      "\n",
      "\n",
      "\n",
      "\n",
      "MAP: 0.004777 MFTIR: 0.229615 MRL: 8391.697692MAP: 0.004168 MFTIR: 0.190385 MRL: 9654.311538MAP: 0.004643 MFTIR: 0.230769 MRL: 8359.313462MAP: 0.004703 MFTIR: 0.168846 MRL: 9584.463077MAP: 0.004703 MFTIR: 0.168846 MRL: 9584.463077MAP: 0.004941 MFTIR: 0.214615 MRL: 8220.992308MAP: 0.004703 MFTIR: 0.168846 MRL: 9584.463077MAP: 0.004612 MFTIR: 0.215000 MRL: 8759.633846MAP: 0.004895 MFTIR: 0.177692 MRL: 9605.501923\n",
      "\n",
      "\n",
      "\n",
      "\n",
      "\n",
      "\n",
      "\n",
      "\n",
      "MAP: 0.004613 MFTIR: 0.228519 MRL: 8402.150000MAP: 0.004039 MFTIR: 0.188519 MRL: 9658.944815MAP: 0.004479 MFTIR: 0.230370 MRL: 8373.888519MAP: 0.004659 MFTIR: 0.167778 MRL: 9585.310000MAP: 0.004659 MFTIR: 0.167778 MRL: 9585.310000MAP: 0.004763 MFTIR: 0.211481 MRL: 8225.830370MAP: 0.004659 MFTIR: 0.167778 MRL: 9585.310000MAP: 0.004448 MFTIR: 0.212593 MRL: 8759.601481MAP: 0.004716 MFTIR: 0.176296 MRL: 9605.904815\n",
      "\n",
      "\n",
      "\n",
      "\n",
      "\n",
      "\n",
      "\n",
      "\n",
      "MAP: 0.004530 MFTIR: 0.228214 MRL: 8401.950000MAP: 0.003966 MFTIR: 0.188214 MRL: 9666.388214MAP: 0.004416 MFTIR: 0.230000 MRL: 8374.136071MAP: 0.004577 MFTIR: 0.167143 MRL: 9586.549286MAP: 0.004577 MFTIR: 0.167143 MRL: 9586.549286MAP: 0.004798 MFTIR: 0.211071 MRL: 8219.607143MAP: 0.004577 MFTIR: 0.167143 MRL: 9586.549286MAP: 0.004364 MFTIR: 0.211071 MRL: 8757.795357MAP: 0.004627 MFTIR: 0.175000 MRL: 9609.321429\n",
      "\n",
      "\n",
      "\n",
      "\n",
      "\n",
      "\n",
      "\n",
      "\n",
      "MAP: 0.004423 MFTIR: 0.228966 MRL: 8387.438966MAP: 0.004022 MFTIR: 0.188966 MRL: 9668.119310MAP: 0.004333 MFTIR: 0.230690 MRL: 8357.924483MAP: 0.004434 MFTIR: 0.166207 MRL: 9582.100000MAP: 0.004434 MFTIR: 0.166207 MRL: 9582.100000MAP: 0.004668 MFTIR: 0.211034 MRL: 8217.070690MAP: 0.004434 MFTIR: 0.166207 MRL: 9582.100000MAP: 0.004248 MFTIR: 0.211034 MRL: 8763.113103MAP: 0.004480 MFTIR: 0.175517 MRL: 9614.175172\n",
      "\n",
      "\n",
      "\n",
      "\n",
      "\n",
      "\n",
      "\n",
      "\n",
      "MAP: 0.004711 MFTIR: 0.229000 MRL: 8387.738667MAP: 0.004107 MFTIR: 0.190000 MRL: 9668.214333MAP: 0.004649 MFTIR: 0.230667 MRL: 8358.128667MAP: 0.004477 MFTIR: 0.167333 MRL: 9577.421333MAP: 0.004477 MFTIR: 0.167333 MRL: 9577.421333MAP: 0.004741 MFTIR: 0.211667 MRL: 8229.328333MAP: 0.004477 MFTIR: 0.167333 MRL: 9577.421333MAP: 0.004448 MFTIR: 0.212333 MRL: 8759.869333MAP: 0.004531 MFTIR: 0.174000 MRL: 9614.059333\n",
      "\n",
      "\n",
      "\n",
      "\n",
      "\n",
      "\n",
      "\n",
      "\n",
      "MAP: 0.004644 MFTIR: 0.230323 MRL: 8375.138710MAP: 0.003982 MFTIR: 0.190323 MRL: 9660.044194MAP: 0.004554 MFTIR: 0.230968 MRL: 8347.607097MAP: 0.004662 MFTIR: 0.168065 MRL: 9570.981290MAP: 0.004662 MFTIR: 0.168065 MRL: 9570.981290MAP: 0.004610 MFTIR: 0.211935 MRL: 8214.332581MAP: 0.004662 MFTIR: 0.168065 MRL: 9570.981290MAP: 0.004332 MFTIR: 0.212903 MRL: 8743.185806MAP: 0.004714 MFTIR: 0.174516 MRL: 9611.725806\n",
      "\n",
      "\n",
      "\n",
      "\n",
      "\n",
      "\n",
      "\n",
      "\n",
      "MAP: 0.004537 MFTIR: 0.231250 MRL: 8382.090313MAP: 0.004587 MFTIR: 0.174063 MRL: 9610.959063MAP: 0.004456 MFTIR: 0.232187 MRL: 8357.822500MAP: 0.004332 MFTIR: 0.212812 MRL: 8739.721250MAP: 0.004575 MFTIR: 0.168750 MRL: 9565.873438MAP: 0.004519 MFTIR: 0.212188 MRL: 8216.654062\n",
      "\n",
      "\n",
      "\n",
      "\n",
      "\n",
      "MAP: 0.004716 MFTIR: 0.229697 MRL: 8385.934545MAP: 0.004682 MFTIR: 0.174242 MRL: 9616.289697MAP: 0.004485 MFTIR: 0.230909 MRL: 8365.612121MAP: 0.004973 MFTIR: 0.168788 MRL: 9561.374848\n",
      "\n",
      "\n",
      "\n",
      "MAP: 0.004600 MFTIR: 0.230294 MRL: 8388.522647MAP: 0.004603 MFTIR: 0.175882 MRL: 9614.045000MAP: 0.004382 MFTIR: 0.231176 MRL: 8370.299118\n",
      "\n",
      "\n",
      "MAP: 0.004763 MFTIR: 0.228857 MRL: 8393.924286MAP: 0.004483 MFTIR: 0.174286 MRL: 9619.804286\n",
      "\n"
     ]
    }
   ],
   "source": [
    "import multiprocessing\n",
    "import time\n",
    "import copy\n",
    "\n",
    "args = {}\n",
    "args['m'] = 9\n",
    "args['l'] = 1\n",
    "args['n'] = 20000\n",
    "\n",
    "args_list = []\n",
    "\n",
    "ks = [1, 4, 8]\n",
    "interest_functions = [get_average_interest_vector, get_weighted_average_interest_vector, get_weighted_mediod_interest_vector]\n",
    "\n",
    "for k in ks:\n",
    "    for f in interest_functions:\n",
    "        argsd = copy.deepcopy(args)\n",
    "        argsd['k'] = k\n",
    "        argsd['get_interest_vector'] = f\n",
    "        args_list.append(argsd)\n",
    "\n",
    "\n",
    "def mp_worker(args):\n",
    "    m = args['m']\n",
    "    k = args['k']\n",
    "    l = args['l']\n",
    "    n = args['n']\n",
    "    f = args['get_interest_vector']\n",
    "    rdata['get_interest_vector'] = f\n",
    "    MAPs = recommend_and_eval_all(contribution_iter(contribution_file, k, l, m), rdata, n, verbose = False)\n",
    "    res = {}\n",
    "    res['k'] = k\n",
    "    res['f'] = f.__name__\n",
    "    res['MAPs'] = MAPs\n",
    "    return res\n",
    "\n",
    "\n",
    "    \n",
    "p = multiprocessing.Pool(9)\n",
    "time1 = time.time()\n",
    "results = p.map(mp_worker, args_list)\n",
    "time2 = time.time()\n",
    "print 'Time: ', (time2-time1)   \n"
   ]
  },
  {
   "cell_type": "code",
   "execution_count": 15,
   "metadata": {
    "collapsed": false
   },
   "outputs": [
    {
     "data": {
      "image/png": "[encoded data removed]",
      "text/plain": [
       "<matplotlib.figure.Figure at 0x7fb0e0228ed0>"
      ]
     },
     "metadata": {},
     "output_type": "display_data"
    }
   ],
   "source": [
    "import matplotlib.pyplot as plt \n",
    "fig = plt.figure(figsize=(18,8))\n",
    "for d in results:\n",
    "    plt.plot(d['MAPs'][-10:])\n",
    "savefig('trajectories.pdf')"
   ]
  },
  {
   "cell_type": "code",
   "execution_count": null,
   "metadata": {
    "collapsed": false
   },
   "outputs": [],
   "source": [
    "import psutil, os\n",
    "\n",
    "def kill_proc_tree(pid, including_parent=True):    \n",
    "    parent = psutil.Process(pid)\n",
    "    for child in parent.get_children(recursive=True):\n",
    "        child.kill()\n",
    "    if including_parent:\n",
    "        parent.kill()\n",
    "\n",
    "me = os.getpid()\n",
    "kill_proc_tree(me, including_parent=False)"
   ]
  },
  {
   "cell_type": "code",
   "execution_count": 10,
   "metadata": {
    "collapsed": false
   },
   "outputs": [
    {
     "name": "stdout",
     "output_type": "stream",
     "text": [
      "[{'MAPs': [0.0007911730234549736,\n",
      "           0.0021953875049764648,\n",
      "           0.00450379569690353,\n",
      "           0.004937917205257998,\n",
      "           0.005485379163271203,\n",
      "           0.004849792360574813,\n",
      "           0.005251667758253155,\n",
      "           0.005021838242464138,\n",
      "           0.005064728331838971,\n",
      "           0.005121857084293347,\n",
      "           0.00476919857391021,\n",
      "           0.004958016988008095,\n",
      "           0.004767466582264466,\n",
      "           0.004592272647611552,\n",
      "           0.004347937814904008,\n",
      "           0.004429918588346863,\n",
      "           0.004230969272680254,\n",
      "           0.004025063756998968,\n",
      "           0.003952208889454069,\n",
      "           0.003782077864398502],\n",
      "  'f': 'get_average_interest_vector',\n",
      "  'k': 1},\n",
      " {'MAPs': [0.0007911730234549736,\n",
      "           0.0021953875049764648,\n",
      "           0.00450379569690353,\n",
      "           0.004937917205257998,\n",
      "           0.005485379163271203,\n",
      "           0.004849792360574813,\n",
      "           0.005251667758253155,\n",
      "           0.005021838242464138,\n",
      "           0.005064728331838971,\n",
      "           0.005121857084293347,\n",
      "           0.00476919857391021,\n",
      "           0.004958016988008095,\n",
      "           0.004767466582264466,\n",
      "           0.004592272647611552,\n",
      "           0.004347937814904008,\n",
      "           0.004429918588346863,\n",
      "           0.004230969272680254,\n",
      "           0.004025063756998968,\n",
      "           0.003952208889454069,\n",
      "           0.003782077864398502],\n",
      "  'f': 'get_weighted_average_interest_vector',\n",
      "  'k': 1},\n",
      " {'MAPs': [0.0007911730234549736,\n",
      "           0.0021953875049764648,\n",
      "           0.00450379569690353,\n",
      "           0.004937917205257998,\n",
      "           0.005485379163271203,\n",
      "           0.004849792360574813,\n",
      "           0.005251667758253155,\n",
      "           0.005021838242464138,\n",
      "           0.005064728331838971,\n",
      "           0.005121857084293347,\n",
      "           0.00476919857391021,\n",
      "           0.004958016988008095,\n",
      "           0.004767466582264466,\n",
      "           0.004592272647611552,\n",
      "           0.004347937814904008,\n",
      "           0.004429918588346863,\n",
      "           0.004230969272680254,\n",
      "           0.004025063756998968,\n",
      "           0.003952208889454069,\n",
      "           0.003782077864398502],\n",
      "  'f': 'get_weighted_mediod_interest_vector',\n",
      "  'k': 1},\n",
      " {'MAPs': [0.00047565565006470715,\n",
      "           0.002681655419955966,\n",
      "           0.002030340538930829,\n",
      "           0.0034574067760043403,\n",
      "           0.0037303129741692695,\n",
      "           0.003720726131821268,\n",
      "           0.003584159878764801,\n",
      "           0.0034405077656906274,\n",
      "           0.005233661556039159,\n",
      "           0.004815885251495184,\n",
      "           0.004555367006065442,\n",
      "           0.00474105372477335,\n",
      "           0.00443902283243611,\n",
      "           0.004539008331712176,\n",
      "           0.004355711947532987,\n",
      "           0.004309322777493983,\n",
      "           0.004761971064420622,\n",
      "           0.004678905940684307,\n",
      "           0.004670873536355062,\n",
      "           0.004448492742893182],\n",
      "  'f': 'get_average_interest_vector',\n",
      "  'k': 4},\n",
      " {'MAPs': [0.0006460205727882921,\n",
      "           0.002192532010036027,\n",
      "           0.0017136811591700932,\n",
      "           0.0031017118124553626,\n",
      "           0.0034688930213615803,\n",
      "           0.0035239557789091456,\n",
      "           0.0034187764811831616,\n",
      "           0.0033162425859424804,\n",
      "           0.004565395522925096,\n",
      "           0.004204666188607131,\n",
      "           0.003990728609026329,\n",
      "           0.004087242086630509,\n",
      "           0.003837110335825889,\n",
      "           0.003909052410950154,\n",
      "           0.0038149303196653235,\n",
      "           0.0037462642304520516,\n",
      "           0.004229471829911225,\n",
      "           0.004125797345069826,\n",
      "           0.0043643819211238435,\n",
      "           0.004155597087452626],\n",
      "  'f': 'get_weighted_average_interest_vector',\n",
      "  'k': 4},\n",
      " {'MAPs': [0.0006339714464449232,\n",
      "           0.0037196027525799855,\n",
      "           0.004810897752437567,\n",
      "           0.005399758764596114,\n",
      "           0.005514819739520898,\n",
      "           0.004822106536082702,\n",
      "           0.00452547339900447,\n",
      "           0.004783120225969436,\n",
      "           0.004775943160854904,\n",
      "           0.004515781375935186,\n",
      "           0.004209925884052241,\n",
      "           0.0040092191802427206,\n",
      "           0.0038648156446312266,\n",
      "           0.004088513628980329,\n",
      "           0.0038210798154187735,\n",
      "           0.003605211050670181,\n",
      "           0.003932903728277185,\n",
      "           0.004191194081826107,\n",
      "           0.004144457878767081,\n",
      "           0.00395090071426837],\n",
      "  'f': 'get_weighted_mediod_interest_vector',\n",
      "  'k': 4},\n",
      " {'MAPs': [0.00025272740573727105,\n",
      "           0.0018984415541095459,\n",
      "           0.001549870543111295,\n",
      "           0.0048466332169285605,\n",
      "           0.005097641992445044,\n",
      "           0.0045634271755465045,\n",
      "           0.004069112821967844,\n",
      "           0.0036975486669391473,\n",
      "           0.00400764088209763,\n",
      "           0.003628281520693649,\n",
      "           0.003415136634850275,\n",
      "           0.004037575141864729,\n",
      "           0.0038125395314096986,\n",
      "           0.004063795069335973,\n",
      "           0.003932813521205899,\n",
      "           0.0038264922005461503,\n",
      "           0.004029699704403967,\n",
      "           0.0039048324297909767,\n",
      "           0.003713784594162666,\n",
      "           0.0035335664458759426],\n",
      "  'f': 'get_average_interest_vector',\n",
      "  'k': 8},\n",
      " {'MAPs': [0.00026073947586562366,\n",
      "           0.0017748384138752465,\n",
      "           0.0015468454624705794,\n",
      "           0.0035854707729867153,\n",
      "           0.004220881968179526,\n",
      "           0.003893362339837903,\n",
      "           0.0036559313974351124,\n",
      "           0.0033727062762342252,\n",
      "           0.00369281988703409,\n",
      "           0.003342917154145247,\n",
      "           0.0031463239817700233,\n",
      "           0.003786052007006103,\n",
      "           0.003580347373887494,\n",
      "           0.003977229056441587,\n",
      "           0.003848280623615141,\n",
      "           0.0036895866977421114,\n",
      "           0.003943535874989473,\n",
      "           0.003804355295940875,\n",
      "           0.0036189749357294163,\n",
      "           0.0034452411009020887],\n",
      "  'f': 'get_weighted_average_interest_vector',\n",
      "  'k': 8},\n",
      " {'MAPs': [0.0005109783062839798,\n",
      "           0.002465001486597524,\n",
      "           0.00229697675681001,\n",
      "           0.0026794492917002273,\n",
      "           0.0036542167743858454,\n",
      "           0.003392928384359992,\n",
      "           0.003376544000901929,\n",
      "           0.0030573619107889093,\n",
      "           0.0034330878630483897,\n",
      "           0.0031983558718652635,\n",
      "           0.003289262588488044,\n",
      "           0.0032800901650857054,\n",
      "           0.003225498429776599,\n",
      "           0.003140044888649893,\n",
      "           0.002957807248348693,\n",
      "           0.0029202427222937426,\n",
      "           0.0032622579678719815,\n",
      "           0.0031172196054195735,\n",
      "           0.003167965594511271,\n",
      "           0.0030398689348712675],\n",
      "  'f': 'get_weighted_mediod_interest_vector',\n",
      "  'k': 8}]\n"
     ]
    }
   ],
   "source": [
    "pprint(results)"
   ]
  },
  {
   "cell_type": "markdown",
   "metadata": {},
   "source": [
    "#Timing Experiments"
   ]
  },
  {
   "cell_type": "code",
   "execution_count": null,
   "metadata": {
    "collapsed": false
   },
   "outputs": [],
   "source": []
  },
  {
   "cell_type": "code",
   "execution_count": 45,
   "metadata": {
    "collapsed": false
   },
   "outputs": [
    {
     "name": "stdout",
     "output_type": "stream",
     "text": [
      "0.0827407836914\n"
     ]
    }
   ],
   "source": [
    "chunk_size = 100\n",
    "num_to_rank = 1000\n",
    "k=4\n",
    "l=1\n",
    "\n",
    "\n",
    "args = []\n",
    "\n",
    "contribution_file = os.path.join(translation_base_dir, cp.get('eval', 'train'))  \n",
    "iterator = contribution_iter(contribution_file, k, l)\n",
    "\n",
    "time1 = time.time()\n",
    "contributions_list = [next(iterator) for i in range(chunk_size)]\n",
    "time2 = time.time()\n",
    "print (time2-time1)"
   ]
  },
  {
   "cell_type": "code",
   "execution_count": 46,
   "metadata": {
    "collapsed": false
   },
   "outputs": [
    {
     "name": "stdout",
     "output_type": "stream",
     "text": [
      "0.100946903229\n"
     ]
    }
   ],
   "source": [
    "# get interest vector\n",
    "time1 = time.time()\n",
    "I = np.array([get_average_interest_vector(M, id2index, None, t[0]) for t in contributions_list]).transpose()\n",
    "time2 = time.time()\n",
    "print (time2-time1)"
   ]
  },
  {
   "cell_type": "code",
   "execution_count": 47,
   "metadata": {
    "collapsed": false
   },
   "outputs": [
    {
     "name": "stdout",
     "output_type": "stream",
     "text": [
      "6.42592716217\n"
     ]
    }
   ],
   "source": [
    "# Get Scores\n",
    "time1 = time.time()\n",
    "#scores = M.dot(scipy.sparse.csr_matrix(I))\n",
    "scores = M.dot(I)\n",
    "time2 = time.time()\n",
    "print (time2-time1)"
   ]
  },
  {
   "cell_type": "code",
   "execution_count": 48,
   "metadata": {
    "collapsed": false
   },
   "outputs": [
    {
     "name": "stdout",
     "output_type": "stream",
     "text": [
      "7.70238804817\n"
     ]
    }
   ],
   "source": [
    "time1 = time.time()\n",
    "for column in scores.T:\n",
    "    non_zero_indices = np.where(column > 0.4)\n",
    "    non_zero_index2id = index2id[non_zero_indices]\n",
    "    ranking = np.argsort(-column[non_zero_indices])[:num_to_rank]\n",
    "    resutl = zip(non_zero_index2id[ranking], scores[ranking])\n",
    "\n",
    "time2 = time.time()\n",
    "print (time2-time1)   "
   ]
  },
  {
   "cell_type": "code",
   "execution_count": null,
   "metadata": {
    "collapsed": false
   },
   "outputs": [],
   "source": []
  },
  {
   "cell_type": "code",
   "execution_count": null,
   "metadata": {
    "collapsed": false
   },
   "outputs": [],
   "source": []
  },
  {
   "cell_type": "code",
   "execution_count": null,
   "metadata": {
    "collapsed": false
   },
   "outputs": [],
   "source": [
    "from itertools import izip\n",
    "def sort_coo(m):\n",
    "    tuples = izip(m.row, m.col, m.data)\n",
    "    return sorted(tuples, key=lambda x: (x[0], x[2]))\n",
    "time1 = time.time()\n",
    "r = sort_coo(scores)\n",
    "print (time2-time1)"
   ]
  },
  {
   "cell_type": "code",
   "execution_count": null,
   "metadata": {
    "collapsed": false
   },
   "outputs": [],
   "source": []
  },
  {
   "cell_type": "code",
   "execution_count": null,
   "metadata": {
    "collapsed": false
   },
   "outputs": [],
   "source": []
  },
  {
   "cell_type": "code",
   "execution_count": 25,
   "metadata": {
    "collapsed": false
   },
   "outputs": [
    {
     "name": "stdout",
     "output_type": "stream",
     "text": [
      "8.82704210281\n"
     ]
    }
   ],
   "source": [
    "time1 = time.time()\n",
    "scores = scipy.sparse.coo_matrix(scores)\n",
    "time2 = time.time()\n",
    "print (time2-time1)"
   ]
  },
  {
   "cell_type": "code",
   "execution_count": 17,
   "metadata": {
    "collapsed": false
   },
   "outputs": [
    {
     "data": {
      "text/plain": [
       "numpy.ndarray"
      ]
     },
     "execution_count": 17,
     "metadata": {},
     "output_type": "execute_result"
    }
   ],
   "source": [
    "type(scores)"
   ]
  },
  {
   "cell_type": "code",
   "execution_count": 15,
   "metadata": {
    "collapsed": false
   },
   "outputs": [
    {
     "name": "stdout",
     "output_type": "stream",
     "text": [
      "8.91481494904\n"
     ]
    }
   ],
   "source": [
    "time1 = time.time()\n",
    "ranking = np.argsort(-scores, kind = 'mergesort', axis = 0)[:num_to_rank, ]\n",
    "time2 = time.time()\n",
    "print (time2-time1)"
   ]
  },
  {
   "cell_type": "code",
   "execution_count": null,
   "metadata": {
    "collapsed": false
   },
   "outputs": [],
   "source": []
  },
  {
   "cell_type": "code",
   "execution_count": 4,
   "metadata": {
    "collapsed": false
   },
   "outputs": [],
   "source": [
    "for i , line in enumerate(contribution_iter(contribution_file, k, l)):\n",
    "    pass"
   ]
  },
  {
   "cell_type": "code",
   "execution_count": 5,
   "metadata": {
    "collapsed": false
   },
   "outputs": [
    {
     "data": {
      "text/plain": [
       "258476"
      ]
     },
     "execution_count": 5,
     "metadata": {},
     "output_type": "execute_result"
    }
   ],
   "source": [
    "i\n"
   ]
  },
  {
   "cell_type": "code",
   "execution_count": null,
   "metadata": {
    "collapsed": false
   },
   "outputs": [],
   "source": [
    "eval_dict = collections.OrderedDict()\n",
    "eval_dict['Bio'] = 'Q420|Q420'\n",
    "eval_dict['vw'] = 'Q246 Q622618 Q697152 Q835078|Q247 Q2506880'\n",
    "eval_dict['bio'] = 'Q7187 Q178694 Q7430 Q8066 Q37748 Q19088|Q39572 Q47263'\n",
    "eval_dict['hesse'] = 'Q576493 Q2171354 Q860577|Q457289 Q217073'\n",
    "eval_dict['herzog'] = 'Q1113073 Q688329 Q325662|Q695888'\n",
    "\n",
    "for k, line in eval_dict.iteritems():\n",
    "    print \"\\n\\n###########   %s   ###############\" % k\n",
    "    #recommend(M, item_id2name, item_id2index, index2name, line, verbose = True)"
   ]
  }
 ],
 "metadata": {
  "kernelspec": {
   "display_name": "Python 2",
   "language": "python",
   "name": "python2"
  },
  "language_info": {
   "codemirror_mode": {
    "name": "ipython",
    "version": 2
   },
   "file_extension": ".py",
   "mimetype": "text/x-python",
   "name": "python",
   "nbconvert_exporter": "python",
   "pygments_lexer": "ipython2",
   "version": "2.7.9"
  }
 },
 "nbformat": 4,
 "nbformat_minor": 0
}
