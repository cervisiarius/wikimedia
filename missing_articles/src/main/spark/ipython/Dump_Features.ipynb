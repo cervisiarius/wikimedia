{
 "cells": [
  {
   "cell_type": "code",
   "execution_count": null,
   "metadata": {
    "collapsed": false
   },
   "outputs": [],
   "source": [
    "from lxml import etree\n",
    "import re\n",
    "import pandas as pd\n",
    "import multiprocessing\n",
    "import itertools\n",
    "\n",
    "def process_element(elem):    \n",
    "    if elem[1].text == '0':\n",
    "        text = elem[-1][-2].text\n",
    "        if text is not None:\n",
    "            if \"#REDIRECT [[\" in text:\n",
    "                return None\n",
    "            title = elem[0].text\n",
    "            length = len(text)\n",
    "            is_dis = \"{{disambig}}\" in text\n",
    "            is_stub = (\"{{Stub}}\" in text) or (\"-stub}}\" in text)\n",
    "            return (title, length, is_dis, is_stub )\n",
    "    return None\n",
    "\n",
    "\n",
    "def scan(dump):\n",
    "    print \"starting scan of dump %s\" % dump\n",
    "    i = 0\n",
    "    context = etree.iterparse( dump , tag = '{http://www.mediawiki.org/xml/export-0.10/}page')\n",
    "    l = []\n",
    "    for event, elem in context:\n",
    "        i+=1\n",
    "        result_tuple = process_element(elem)\n",
    "        if result_tuple is not None:\n",
    "            l.append(result_tuple)\n",
    "        elem.clear()\n",
    "        for ancestor in elem.xpath('ancestor-or-self::*'):\n",
    "            while ancestor.getprevious() is not None:\n",
    "                del ancestor.getparent()[0]\n",
    "    del context\n",
    "    print \"finishing scan of dump %s\" % dump\n",
    "    \n",
    "    return l\n",
    "\n",
    "\n",
    "def scan_dump_parrallel(wikilang, n):\n",
    "    exp_dir = 'en-%s' % wikilang\n",
    "    args = ['/home/ellery/%s/dump%d.xml' % (exp_dir, i) for i in range(1, n+1)]\n",
    "    p = multiprocessing.Pool(8)\n",
    "    results = p.map(scan, args)\n",
    "    l = list(itertools.chain(*results))\n",
    "    df = pd.DataFrame(l)\n",
    "    df.columns = ['title', 'length', 'is_dis', 'is_stub']\n",
    "    return df\n",
    "\n",
    "df = scan_dump_parrallel('en', 27)\n",
    "df.to_csv('/home/ellery/en-en/dump_features.tsv',  sep = '\\t', encoding = 'utf8')\n",
    "print df.shape"
   ]
  },
  {
   "cell_type": "code",
   "execution_count": 4,
   "metadata": {
    "collapsed": true
   },
   "outputs": [],
   "source": [
    "df = pd.read_csv('/home/ellery/en-en/dump_features.tsv',  sep = '\\t', encoding = 'utf8')"
   ]
  },
  {
   "cell_type": "code",
   "execution_count": 5,
   "metadata": {
    "collapsed": false
   },
   "outputs": [
    {
     "data": {
      "text/html": [
       "<div style=\"max-height:1000px;max-width:1500px;overflow:auto;\">\n",
       "<table border=\"1\" class=\"dataframe\">\n",
       "  <thead>\n",
       "    <tr style=\"text-align: right;\">\n",
       "      <th></th>\n",
       "      <th>Unnamed: 0</th>\n",
       "      <th>title</th>\n",
       "      <th>length</th>\n",
       "      <th>is_dis</th>\n",
       "      <th>is_stub</th>\n",
       "    </tr>\n",
       "  </thead>\n",
       "  <tbody>\n",
       "    <tr>\n",
       "      <th>0</th>\n",
       "      <td> 0</td>\n",
       "      <td> Anarchism</td>\n",
       "      <td> 176778</td>\n",
       "      <td> False</td>\n",
       "      <td> False</td>\n",
       "    </tr>\n",
       "    <tr>\n",
       "      <th>1</th>\n",
       "      <td> 1</td>\n",
       "      <td>    Autism</td>\n",
       "      <td> 128968</td>\n",
       "      <td> False</td>\n",
       "      <td> False</td>\n",
       "    </tr>\n",
       "    <tr>\n",
       "      <th>2</th>\n",
       "      <td> 2</td>\n",
       "      <td>    Albedo</td>\n",
       "      <td>  34095</td>\n",
       "      <td> False</td>\n",
       "      <td> False</td>\n",
       "    </tr>\n",
       "    <tr>\n",
       "      <th>3</th>\n",
       "      <td> 3</td>\n",
       "      <td>         A</td>\n",
       "      <td>  16098</td>\n",
       "      <td> False</td>\n",
       "      <td> False</td>\n",
       "    </tr>\n",
       "    <tr>\n",
       "      <th>4</th>\n",
       "      <td> 4</td>\n",
       "      <td>   Alabama</td>\n",
       "      <td> 161935</td>\n",
       "      <td> False</td>\n",
       "      <td> False</td>\n",
       "    </tr>\n",
       "  </tbody>\n",
       "</table>\n",
       "</div>"
      ],
      "text/plain": [
       "   Unnamed: 0      title  length is_dis is_stub\n",
       "0           0  Anarchism  176778  False   False\n",
       "1           1     Autism  128968  False   False\n",
       "2           2     Albedo   34095  False   False\n",
       "3           3          A   16098  False   False\n",
       "4           4    Alabama  161935  False   False"
      ]
     },
     "execution_count": 5,
     "metadata": {},
     "output_type": "execute_result"
    }
   ],
   "source": [
    "df.head()"
   ]
  },
  {
   "cell_type": "code",
   "execution_count": 6,
   "metadata": {
    "collapsed": false
   },
   "outputs": [
    {
     "data": {
      "text/plain": [
       "(5719260, 5)"
      ]
     },
     "execution_count": 6,
     "metadata": {},
     "output_type": "execute_result"
    }
   ],
   "source": [
    "df.shape"
   ]
  },
  {
   "cell_type": "code",
   "execution_count": 7,
   "metadata": {
    "collapsed": false
   },
   "outputs": [
    {
     "data": {
      "text/plain": [
       "75433"
      ]
     },
     "execution_count": 7,
     "metadata": {},
     "output_type": "execute_result"
    }
   ],
   "source": [
    "df['is_dis'].sum()"
   ]
  },
  {
   "cell_type": "code",
   "execution_count": 8,
   "metadata": {
    "collapsed": false
   },
   "outputs": [
    {
     "data": {
      "text/plain": [
       "1894923"
      ]
     },
     "execution_count": 8,
     "metadata": {},
     "output_type": "execute_result"
    }
   ],
   "source": [
    "df['is_stub'].sum()"
   ]
  },
  {
   "cell_type": "code",
   "execution_count": 9,
   "metadata": {
    "collapsed": false
   },
   "outputs": [
    {
     "data": {
      "text/html": [
       "<div style=\"max-height:1000px;max-width:1500px;overflow:auto;\">\n",
       "<table border=\"1\" class=\"dataframe\">\n",
       "  <thead>\n",
       "    <tr style=\"text-align: right;\">\n",
       "      <th></th>\n",
       "      <th>Unnamed: 0</th>\n",
       "      <th>title</th>\n",
       "      <th>length</th>\n",
       "      <th>is_dis</th>\n",
       "      <th>is_stub</th>\n",
       "    </tr>\n",
       "  </thead>\n",
       "  <tbody>\n",
       "    <tr>\n",
       "      <th>11 </th>\n",
       "      <td>  11</td>\n",
       "      <td>                          Actrius</td>\n",
       "      <td> 1747</td>\n",
       "      <td> False</td>\n",
       "      <td> True</td>\n",
       "    </tr>\n",
       "    <tr>\n",
       "      <th>90 </th>\n",
       "      <td>  90</td>\n",
       "      <td>          List of anthropologists</td>\n",
       "      <td> 6179</td>\n",
       "      <td> False</td>\n",
       "      <td> True</td>\n",
       "    </tr>\n",
       "    <tr>\n",
       "      <th>153</th>\n",
       "      <td> 153</td>\n",
       "      <td>                  Analog Brothers</td>\n",
       "      <td> 2611</td>\n",
       "      <td> False</td>\n",
       "      <td> True</td>\n",
       "    </tr>\n",
       "    <tr>\n",
       "      <th>197</th>\n",
       "      <td> 197</td>\n",
       "      <td>                    American shot</td>\n",
       "      <td> 1719</td>\n",
       "      <td> False</td>\n",
       "      <td> True</td>\n",
       "    </tr>\n",
       "    <tr>\n",
       "      <th>238</th>\n",
       "      <td> 238</td>\n",
       "      <td>                Northern cavefish</td>\n",
       "      <td> 2408</td>\n",
       "      <td> False</td>\n",
       "      <td> True</td>\n",
       "    </tr>\n",
       "    <tr>\n",
       "      <th>263</th>\n",
       "      <td> 263</td>\n",
       "      <td>      Geography of American Samoa</td>\n",
       "      <td> 2964</td>\n",
       "      <td> False</td>\n",
       "      <td> True</td>\n",
       "    </tr>\n",
       "    <tr>\n",
       "      <th>267</th>\n",
       "      <td> 267</td>\n",
       "      <td> Transportation in American Samoa</td>\n",
       "      <td> 1372</td>\n",
       "      <td> False</td>\n",
       "      <td> True</td>\n",
       "    </tr>\n",
       "    <tr>\n",
       "      <th>273</th>\n",
       "      <td> 273</td>\n",
       "      <td>          America's National Game</td>\n",
       "      <td>  810</td>\n",
       "      <td> False</td>\n",
       "      <td> True</td>\n",
       "    </tr>\n",
       "    <tr>\n",
       "      <th>383</th>\n",
       "      <td> 383</td>\n",
       "      <td>                       Ancylopoda</td>\n",
       "      <td> 1693</td>\n",
       "      <td> False</td>\n",
       "      <td> True</td>\n",
       "    </tr>\n",
       "    <tr>\n",
       "      <th>535</th>\n",
       "      <td> 535</td>\n",
       "      <td>                Alexander Aetolus</td>\n",
       "      <td> 4052</td>\n",
       "      <td> False</td>\n",
       "      <td> True</td>\n",
       "    </tr>\n",
       "  </tbody>\n",
       "</table>\n",
       "</div>"
      ],
      "text/plain": [
       "     Unnamed: 0                             title  length is_dis is_stub\n",
       "11           11                           Actrius    1747  False    True\n",
       "90           90           List of anthropologists    6179  False    True\n",
       "153         153                   Analog Brothers    2611  False    True\n",
       "197         197                     American shot    1719  False    True\n",
       "238         238                 Northern cavefish    2408  False    True\n",
       "263         263       Geography of American Samoa    2964  False    True\n",
       "267         267  Transportation in American Samoa    1372  False    True\n",
       "273         273           America's National Game     810  False    True\n",
       "383         383                        Ancylopoda    1693  False    True\n",
       "535         535                 Alexander Aetolus    4052  False    True"
      ]
     },
     "execution_count": 9,
     "metadata": {},
     "output_type": "execute_result"
    }
   ],
   "source": [
    "df[df['is_stub']][:10]"
   ]
  },
  {
   "cell_type": "code",
   "execution_count": null,
   "metadata": {
    "collapsed": true
   },
   "outputs": [],
   "source": []
  }
 ],
 "metadata": {
  "kernelspec": {
   "display_name": "Python 2",
   "language": "python",
   "name": "python2"
  },
  "language_info": {
   "codemirror_mode": {
    "name": "ipython",
    "version": 2
   },
   "file_extension": ".py",
   "mimetype": "text/x-python",
   "name": "python",
   "nbconvert_exporter": "python",
   "pygments_lexer": "ipython2",
   "version": "2.7.10"
  }
 },
 "nbformat": 4,
 "nbformat_minor": 0
}
