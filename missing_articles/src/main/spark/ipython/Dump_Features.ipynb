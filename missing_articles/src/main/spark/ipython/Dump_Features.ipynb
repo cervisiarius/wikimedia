{
 "cells": [
  {
   "cell_type": "code",
   "execution_count": 8,
   "metadata": {
    "collapsed": false
   },
   "outputs": [
    {
     "name": "stdout",
     "output_type": "stream",
     "text": [
      "(11571224, 4)\n",
      "starting scan of dump /home/ellery/en-en/dump1.xml\n",
      "starting scan of dump /home/ellery/en-en/dump4.xml\n",
      "starting scan of dump /home/ellery/en-en/dump7.xml\n",
      "starting scan of dump /home/ellery/en-en/dump5.xml\n",
      "starting scan of dump /home/ellery/en-en/dump6.xml\n",
      "starting scan of dump /home/ellery/en-en/dump2.xml\n",
      "starting scan of dump /home/ellery/en-en/dump8.xml\n",
      "starting scan of dump /home/ellery/en-en/dump3.xml\n",
      "finishing scan of dump /home/ellery/en-en/dump1.xmlfinishing scan of dump /home/ellery/en-en/dump4.xmlfinishing scan of dump /home/ellery/en-en/dump7.xmlfinishing scan of dump /home/ellery/en-en/dump5.xmlfinishing scan of dump /home/ellery/en-en/dump6.xmlfinishing scan of dump /home/ellery/en-en/dump2.xmlfinishing scan of dump /home/ellery/en-en/dump8.xmlfinishing scan of dump /home/ellery/en-en/dump3.xml\n",
      "\n",
      "\n",
      "\n",
      "\n",
      "\n",
      "\n",
      "\n",
      "starting scan of dump /home/ellery/en-en/dump9.xml\n",
      "starting scan of dump /home/ellery/en-en/dump12.xmlstarting scan of dump /home/ellery/en-en/dump15.xmlstarting scan of dump /home/ellery/en-en/dump14.xmlstarting scan of dump /home/ellery/en-en/dump13.xmlstarting scan of dump /home/ellery/en-en/dump10.xml\n",
      "starting scan of dump /home/ellery/en-en/dump16.xmlstarting scan of dump /home/ellery/en-en/dump11.xml\n",
      "finishing scan of dump /home/ellery/en-en/dump9.xml\n",
      "\n",
      "\n",
      "\n",
      "finishing scan of dump /home/ellery/en-en/dump10.xml\n",
      "finishing scan of dump /home/ellery/en-en/dump11.xml\n",
      "finishing scan of dump /home/ellery/en-en/dump12.xmlfinishing scan of dump /home/ellery/en-en/dump15.xmlfinishing scan of dump /home/ellery/en-en/dump14.xmlfinishing scan of dump /home/ellery/en-en/dump13.xml\n",
      "finishing scan of dump /home/ellery/en-en/dump16.xml\n",
      "starting scan of dump /home/ellery/en-en/dump17.xml\n",
      "\n",
      "\n",
      "\n",
      "starting scan of dump /home/ellery/en-en/dump18.xml\n",
      "starting scan of dump /home/ellery/en-en/dump19.xml\n",
      "starting scan of dump /home/ellery/en-en/dump20.xmlstarting scan of dump /home/ellery/en-en/dump23.xmlstarting scan of dump /home/ellery/en-en/dump22.xmlstarting scan of dump /home/ellery/en-en/dump21.xml\n",
      "starting scan of dump /home/ellery/en-en/dump24.xml\n",
      "finishing scan of dump /home/ellery/en-en/dump17.xml\n",
      "\n",
      "\n",
      "\n",
      "finishing scan of dump /home/ellery/en-en/dump18.xml\n",
      "finishing scan of dump /home/ellery/en-en/dump19.xml\n",
      "finishing scan of dump /home/ellery/en-en/dump20.xmlfinishing scan of dump /home/ellery/en-en/dump23.xmlfinishing scan of dump /home/ellery/en-en/dump22.xmlfinishing scan of dump /home/ellery/en-en/dump21.xml\n",
      "finishing scan of dump /home/ellery/en-en/dump24.xml\n",
      "starting scan of dump /home/ellery/en-en/dump26.xml\n",
      "\n",
      "\n",
      "\n",
      "starting scan of dump /home/ellery/en-en/dump25.xml\n",
      "starting scan of dump /home/ellery/en-en/dump27.xml\n",
      "\n",
      "\n",
      "finishing scan of dump /home/ellery/en-en/dump26.xmlfinishing scan of dump /home/ellery/en-en/dump27.xmlfinishing scan of dump /home/ellery/en-en/dump25.xml\n",
      "\n",
      "\n"
     ]
    }
   ],
   "source": [
    "from lxml import etree\n",
    "import re\n",
    "import pandas as pd\n",
    "import multiprocessing\n",
    "import itertools\n",
    "\n",
    "def process_element(elem):    \n",
    "    if elem[1].text == '0':\n",
    "        text = elem[-1][-2].text\n",
    "        if text is not None:\n",
    "            text=text.lower()\n",
    "            if \"#REDIRECT [[\" in text:\n",
    "                return None\n",
    "            title = elem[0].text\n",
    "            length = len(text)\n",
    "            is_dis = (\"{{disambig}}\" in text) or ('{{disambiguation}}' in text) or ('{{dab}}' in text) or ('{{disamb}}' in text)\n",
    "            is_stub = (\"{{Stub}}\" in text) or (\"-stub}}\" in text)\n",
    "            return (title, length, is_dis, is_stub )\n",
    "    return None\n",
    "\n",
    "\n",
    "def scan(dump):\n",
    "    print \"starting scan of dump %s\" % dump\n",
    "    i = 0\n",
    "    context = etree.iterparse( dump , tag = '{http://www.mediawiki.org/xml/export-0.10/}page')\n",
    "    l = []\n",
    "    for event, elem in context:\n",
    "        i+=1\n",
    "        result_tuple = process_element(elem)\n",
    "        if result_tuple is not None:\n",
    "            l.append(result_tuple)\n",
    "        elem.clear()\n",
    "        for ancestor in elem.xpath('ancestor-or-self::*'):\n",
    "            while ancestor.getprevious() is not None:\n",
    "                del ancestor.getparent()[0]\n",
    "    del context\n",
    "    print \"finishing scan of dump %s\" % dump\n",
    "    \n",
    "    return l\n",
    "\n",
    "\n",
    "def scan_dump_parrallel(wikilang, n):\n",
    "    exp_dir = 'en-%s' % wikilang\n",
    "    args = ['/home/ellery/%s/dump%d.xml' % (exp_dir, i) for i in range(1, n+1)]\n",
    "    p = multiprocessing.Pool(8)\n",
    "    results = p.map(scan, args)\n",
    "    l = list(itertools.chain(*results))\n",
    "    df = pd.DataFrame(l)\n",
    "    df.columns = ['title', 'length', 'is_dis', 'is_stub']\n",
    "    return df\n",
    "\n",
    "df = scan_dump_parrallel('en', 27)\n",
    "df.to_csv('/home/ellery/en-en/dump_features.tsv',  sep = '\\t', encoding = 'utf8')\n",
    "print df.shape"
   ]
  },
  {
   "cell_type": "code",
   "execution_count": 9,
   "metadata": {
    "collapsed": true
   },
   "outputs": [],
   "source": [
    "df = pd.read_csv('/home/ellery/en-en/dump_features.tsv',  sep = '\\t', encoding = 'utf8')"
   ]
  },
  {
   "cell_type": "code",
   "execution_count": 10,
   "metadata": {
    "collapsed": false
   },
   "outputs": [
    {
     "data": {
      "text/html": [
       "<div style=\"max-height:1000px;max-width:1500px;overflow:auto;\">\n",
       "<table border=\"1\" class=\"dataframe\">\n",
       "  <thead>\n",
       "    <tr style=\"text-align: right;\">\n",
       "      <th></th>\n",
       "      <th>Unnamed: 0</th>\n",
       "      <th>title</th>\n",
       "      <th>length</th>\n",
       "      <th>is_dis</th>\n",
       "      <th>is_stub</th>\n",
       "    </tr>\n",
       "  </thead>\n",
       "  <tbody>\n",
       "    <tr>\n",
       "      <th>0</th>\n",
       "      <td> 0</td>\n",
       "      <td>  AccessibleComputing</td>\n",
       "      <td>     69</td>\n",
       "      <td> False</td>\n",
       "      <td> False</td>\n",
       "    </tr>\n",
       "    <tr>\n",
       "      <th>1</th>\n",
       "      <td> 1</td>\n",
       "      <td>            Anarchism</td>\n",
       "      <td> 176778</td>\n",
       "      <td> False</td>\n",
       "      <td> False</td>\n",
       "    </tr>\n",
       "    <tr>\n",
       "      <th>2</th>\n",
       "      <td> 2</td>\n",
       "      <td>   AfghanistanHistory</td>\n",
       "      <td>     57</td>\n",
       "      <td> False</td>\n",
       "      <td> False</td>\n",
       "    </tr>\n",
       "    <tr>\n",
       "      <th>3</th>\n",
       "      <td> 3</td>\n",
       "      <td> AfghanistanGeography</td>\n",
       "      <td>     59</td>\n",
       "      <td> False</td>\n",
       "      <td> False</td>\n",
       "    </tr>\n",
       "    <tr>\n",
       "      <th>4</th>\n",
       "      <td> 4</td>\n",
       "      <td>    AfghanistanPeople</td>\n",
       "      <td>     62</td>\n",
       "      <td> False</td>\n",
       "      <td> False</td>\n",
       "    </tr>\n",
       "  </tbody>\n",
       "</table>\n",
       "</div>"
      ],
      "text/plain": [
       "   Unnamed: 0                 title  length is_dis is_stub\n",
       "0           0   AccessibleComputing      69  False   False\n",
       "1           1             Anarchism  176778  False   False\n",
       "2           2    AfghanistanHistory      57  False   False\n",
       "3           3  AfghanistanGeography      59  False   False\n",
       "4           4     AfghanistanPeople      62  False   False"
      ]
     },
     "execution_count": 10,
     "metadata": {},
     "output_type": "execute_result"
    }
   ],
   "source": [
    "df.head()"
   ]
  },
  {
   "cell_type": "code",
   "execution_count": 11,
   "metadata": {
    "collapsed": false
   },
   "outputs": [
    {
     "data": {
      "text/plain": [
       "(11571224, 5)"
      ]
     },
     "execution_count": 11,
     "metadata": {},
     "output_type": "execute_result"
    }
   ],
   "source": [
    "df.shape"
   ]
  },
  {
   "cell_type": "code",
   "execution_count": 12,
   "metadata": {
    "collapsed": false
   },
   "outputs": [
    {
     "data": {
      "text/plain": [
       "144555"
      ]
     },
     "execution_count": 12,
     "metadata": {},
     "output_type": "execute_result"
    }
   ],
   "source": [
    "df['is_dis'].sum()"
   ]
  },
  {
   "cell_type": "code",
   "execution_count": 13,
   "metadata": {
    "collapsed": false
   },
   "outputs": [
    {
     "data": {
      "text/plain": [
       "1895560"
      ]
     },
     "execution_count": 13,
     "metadata": {},
     "output_type": "execute_result"
    }
   ],
   "source": [
    "df['is_stub'].sum()"
   ]
  },
  {
   "cell_type": "code",
   "execution_count": 14,
   "metadata": {
    "collapsed": false
   },
   "outputs": [
    {
     "data": {
      "text/html": [
       "<div style=\"max-height:1000px;max-width:1500px;overflow:auto;\">\n",
       "<table border=\"1\" class=\"dataframe\">\n",
       "  <thead>\n",
       "    <tr style=\"text-align: right;\">\n",
       "      <th></th>\n",
       "      <th>Unnamed: 0</th>\n",
       "      <th>title</th>\n",
       "      <th>length</th>\n",
       "      <th>is_dis</th>\n",
       "      <th>is_stub</th>\n",
       "    </tr>\n",
       "  </thead>\n",
       "  <tbody>\n",
       "    <tr>\n",
       "      <th>75 </th>\n",
       "      <td>  75</td>\n",
       "      <td>                          Actrius</td>\n",
       "      <td> 1747</td>\n",
       "      <td> False</td>\n",
       "      <td> True</td>\n",
       "    </tr>\n",
       "    <tr>\n",
       "      <th>181</th>\n",
       "      <td> 181</td>\n",
       "      <td>          List of anthropologists</td>\n",
       "      <td> 6179</td>\n",
       "      <td> False</td>\n",
       "      <td> True</td>\n",
       "    </tr>\n",
       "    <tr>\n",
       "      <th>268</th>\n",
       "      <td> 268</td>\n",
       "      <td>                  Analog Brothers</td>\n",
       "      <td> 2611</td>\n",
       "      <td> False</td>\n",
       "      <td> True</td>\n",
       "    </tr>\n",
       "    <tr>\n",
       "      <th>334</th>\n",
       "      <td> 334</td>\n",
       "      <td>                    American shot</td>\n",
       "      <td> 1719</td>\n",
       "      <td> False</td>\n",
       "      <td> True</td>\n",
       "    </tr>\n",
       "    <tr>\n",
       "      <th>382</th>\n",
       "      <td> 382</td>\n",
       "      <td>                Northern cavefish</td>\n",
       "      <td> 2408</td>\n",
       "      <td> False</td>\n",
       "      <td> True</td>\n",
       "    </tr>\n",
       "    <tr>\n",
       "      <th>416</th>\n",
       "      <td> 416</td>\n",
       "      <td>      Geography of American Samoa</td>\n",
       "      <td> 2964</td>\n",
       "      <td> False</td>\n",
       "      <td> True</td>\n",
       "    </tr>\n",
       "    <tr>\n",
       "      <th>420</th>\n",
       "      <td> 420</td>\n",
       "      <td> Transportation in American Samoa</td>\n",
       "      <td> 1372</td>\n",
       "      <td> False</td>\n",
       "      <td> True</td>\n",
       "    </tr>\n",
       "    <tr>\n",
       "      <th>428</th>\n",
       "      <td> 428</td>\n",
       "      <td>          America's National Game</td>\n",
       "      <td>  810</td>\n",
       "      <td> False</td>\n",
       "      <td> True</td>\n",
       "    </tr>\n",
       "    <tr>\n",
       "      <th>576</th>\n",
       "      <td> 576</td>\n",
       "      <td>                       Ancylopoda</td>\n",
       "      <td> 1693</td>\n",
       "      <td> False</td>\n",
       "      <td> True</td>\n",
       "    </tr>\n",
       "    <tr>\n",
       "      <th>749</th>\n",
       "      <td> 749</td>\n",
       "      <td>                Alexander Aetolus</td>\n",
       "      <td> 4052</td>\n",
       "      <td> False</td>\n",
       "      <td> True</td>\n",
       "    </tr>\n",
       "  </tbody>\n",
       "</table>\n",
       "</div>"
      ],
      "text/plain": [
       "     Unnamed: 0                             title  length is_dis is_stub\n",
       "75           75                           Actrius    1747  False    True\n",
       "181         181           List of anthropologists    6179  False    True\n",
       "268         268                   Analog Brothers    2611  False    True\n",
       "334         334                     American shot    1719  False    True\n",
       "382         382                 Northern cavefish    2408  False    True\n",
       "416         416       Geography of American Samoa    2964  False    True\n",
       "420         420  Transportation in American Samoa    1372  False    True\n",
       "428         428           America's National Game     810  False    True\n",
       "576         576                        Ancylopoda    1693  False    True\n",
       "749         749                 Alexander Aetolus    4052  False    True"
      ]
     },
     "execution_count": 14,
     "metadata": {},
     "output_type": "execute_result"
    }
   ],
   "source": [
    "df[df['is_stub']][:10]"
   ]
  },
  {
   "cell_type": "code",
   "execution_count": null,
   "metadata": {
    "collapsed": true
   },
   "outputs": [],
   "source": []
  }
 ],
 "metadata": {
  "kernelspec": {
   "display_name": "Python 2",
   "language": "python",
   "name": "python2"
  },
  "language_info": {
   "codemirror_mode": {
    "name": "ipython",
    "version": 2
   },
   "file_extension": ".py",
   "mimetype": "text/x-python",
   "name": "python",
   "nbconvert_exporter": "python",
   "pygments_lexer": "ipython2",
   "version": "2.7.10"
  }
 },
 "nbformat": 4,
 "nbformat_minor": 0
}
