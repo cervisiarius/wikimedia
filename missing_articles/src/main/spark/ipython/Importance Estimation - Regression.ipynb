{
 "cells": [
  {
   "cell_type": "markdown",
   "metadata": {},
   "source": [
    "## Estimating the Importance of Missing Articles\n",
    "\n",
    "Our goal is estimate the importance of the set of articles that exist in English but not in Spanish Wikipedia. As a measure of importance, I use the percentile of the "
   ]
  },
  {
   "cell_type": "markdown",
   "metadata": {},
   "source": [
    "#### Setup"
   ]
  },
  {
   "cell_type": "code",
   "execution_count": 1,
   "metadata": {
    "collapsed": false
   },
   "outputs": [
    {
     "data": {
      "text/plain": [
       "['/home/ellery/wikimedia/missing_articles/missing_articles.ini']"
      ]
     },
     "execution_count": 1,
     "metadata": {},
     "output_type": "execute_result"
    }
   ],
   "source": [
    "%load_ext autoreload\n",
    "%autoreload 2\n",
    "%matplotlib inline\n",
    "\n",
    "import matplotlib.pyplot as plt\n",
    "from ConfigParser import SafeConfigParser\n",
    "from operator import add\n",
    "from pyspark.mllib.recommendation import ALS, Rating\n",
    "import random \n",
    "from random import randint\n",
    "import itertools\n",
    "from math import sqrt\n",
    "import numpy as np\n",
    "from pprint import pprint\n",
    "import math\n",
    "from ConfigParser import SafeConfigParser\n",
    "import pandas as pd\n",
    "import os,sys,inspect\n",
    "currentdir = os.path.dirname(os.path.abspath(inspect.getfile(inspect.currentframe())))\n",
    "parentdir = os.path.dirname(currentdir)\n",
    "sys.path.insert(0,parentdir) \n",
    "from eval_util import *\n",
    "\n",
    "from sklearn import cross_validation, grid_search\n",
    "from sklearn.cross_validation import StratifiedKFold\n",
    "import multiprocessing\n",
    "from sklearn.linear_model import LinearRegression\n",
    "from scipy.sparse import coo_matrix, hstack\n",
    "import sklearn\n",
    "from scipy.stats import spearmanr\n",
    "from sklearn.metrics import r2_score, mean_squared_error, make_scorer\n",
    "from sklearn.linear_model import LinearRegression\n",
    "\n",
    "\n",
    "def get_parser(names):\n",
    "    def loadRecord(line):\n",
    "        cells = line.strip().split('\\t')\n",
    "        return dict(zip(names, cells))\n",
    "    return loadRecord\n",
    "\n",
    "\n",
    "def get_X(M, df, index_col, feature_cols):\n",
    "    if M is None or index_col is None:\n",
    "        l = []\n",
    "    else:\n",
    "        l = [M[df[index_col]], ]\n",
    "    for col in feature_cols:\n",
    "         l.append(coo_matrix(df[col].astype('float')).T)\n",
    "    return hstack(l).toarray()\n",
    "\n",
    "\n",
    "def spearman(x, y):\n",
    "    sr = spearmanr(x, y)[0]\n",
    "    print 'Spearman: %2.5f \\n' % sr\n",
    "    return sr\n",
    "\n",
    "def MSE(y_true,y_pred):\n",
    "    mse = mean_squared_error(y_true, y_pred)\n",
    "    print 'MSE: %2.5f' % mse\n",
    "    return mse\n",
    "\n",
    "def R2(y_true,y_pred):    \n",
    "     r2 = r2_score(y_true, y_pred)\n",
    "     print 'R2: %2.5f' % r2\n",
    "     return r2\n",
    "\n",
    "def multi_score(y_true,y_pred):    \n",
    "    MSE(y_true,y_pred) #set score here and not below if using MSE in GridCV\n",
    "    R2(y_true,y_pred)\n",
    "    score = spearman(y_true,y_pred)\n",
    "    return score\n",
    "\n",
    "def multi_scorer():\n",
    "    return make_scorer(multi_score, greater_is_better=True) # change for false if using MSE\n",
    "\n",
    "\n",
    "\n",
    "def cv (X, y, folds, alg, param_grid, scoring  = multi_scorer()):\n",
    "    \"\"\"\n",
    "    Determine the best model via cross validation. This should be run on training data.\n",
    "    \"\"\"\n",
    "\n",
    "    print \"\\n\\n\\nDoing Gridsearch\\n\"\n",
    "\n",
    "    kfold_cv = cross_validation.KFold(X.shape[0], n_folds=folds, shuffle=True)\n",
    "    model = grid_search.GridSearchCV(cv  = kfold_cv, estimator = alg, param_grid = param_grid, scoring = scoring) #n_jobs=multiprocessing.cpu_count()\n",
    "    model = model.fit(X,y)\n",
    "    # model trained on all data\n",
    "    y_pred = model.predict(X)\n",
    "    print \"Best Model Train MSE: %f\" % sklearn.metrics.mean_squared_error(y, y_pred)\n",
    "    print \"Best Model Train Spearman %f\" % spearman(y, y_pred)\n",
    "\n",
    "\n",
    "    print(\"\\nBest parameters set found:\")\n",
    "    best_parameters, score, _ = max(model.grid_scores_, key=lambda x: x[1])\n",
    "    print(best_parameters, score)\n",
    "    print \"\\n\"\n",
    "    print(\"Grid scores:\")\n",
    "    for params, mean_score, scores in model.grid_scores_:\n",
    "        print(\"%0.5f (+/-%0.05f) for %r\"\n",
    "              % (mean_score, scores.std() / 2, params))\n",
    "\n",
    "    return model\n",
    "\n",
    "config = '/home/ellery/wikimedia/missing_articles/missing_articles.ini'\n",
    "cp = SafeConfigParser()\n",
    "cp.read(config)"
   ]
  },
  {
   "cell_type": "code",
   "execution_count": 2,
   "metadata": {
    "collapsed": true
   },
   "outputs": [],
   "source": [
    "s = 'en'\n",
    "t = 'fr'\n",
    "t_country_name = 'France'\n",
    "exp_dir = '%s-%s' % (s, t)"
   ]
  },
  {
   "cell_type": "markdown",
   "metadata": {
    "collapsed": false
   },
   "source": [
    "#### Load pagview data"
   ]
  },
  {
   "cell_type": "code",
   "execution_count": 30,
   "metadata": {
    "collapsed": false
   },
   "outputs": [],
   "source": [
    "def get_ranking_score(t):\n",
    "    lang_id, items = t\n",
    "    items = list(items)\n",
    "    item_ranks = np.argsort(np.array([x['pageview_count'] for x in items]))\n",
    "    n = float(len(items))\n",
    "    for r, i in enumerate(item_ranks):\n",
    "        items[i]['rank'] = r/n\n",
    "    return items\n",
    "\n",
    "def make_counts_float(x):\n",
    "    x['pageview_count']  = float(x['pageview_count'])  \n",
    "    return x                                 \n",
    "                                      \n",
    "names = [ 'id', 'lang', 'title', 'pageview_count']\n",
    "\n",
    "pageviews = sc.textFile(cp.get('general', 'pageviews'))\\\n",
    ".map(get_parser(names))\\\n",
    ".filter(lambda x: len(x) == 4)\\\n",
    ".filter(lambda x: ':' not in x['title'])\\\n",
    ".filter(lambda x: x['lang'] == s or x['lang'] == t)\\\n",
    ".map(make_counts_float)\\\n",
    ".map(lambda x: (x['lang'], x))\\\n",
    ".groupByKey()\\\n",
    ".flatMap(get_ranking_score)\\\n",
    ".collect()\n",
    "\n",
    "s_or_t_views = pd.DataFrame(pageviews, columns = [ 'id', 'lang', 'title', 'pageview_count', 'rank'])\n",
    "s_or_t_views.index = s_or_t_views.id\n",
    "del s_or_t_views['id']\n",
    "del pageviews\n"
   ]
  },
  {
   "cell_type": "code",
   "execution_count": null,
   "metadata": {
    "collapsed": true
   },
   "outputs": [],
   "source": [
    "s_or_t_views.to_csv('/home/ellery/'+exp_dir+'/s_or_t_views.tsv', encoding = 'utf8', sep = '\\t')"
   ]
  },
  {
   "cell_type": "code",
   "execution_count": null,
   "metadata": {
    "collapsed": true
   },
   "outputs": [],
   "source": [
    "s_or_t_views = pd.read_csv('/home/ellery/'+expdir+'/s_or_t_views.tsv', encoding = 'utf8', sep = '\\t')"
   ]
  },
  {
   "cell_type": "markdown",
   "metadata": {},
   "source": [
    "#### Load Document Vectors"
   ]
  },
  {
   "cell_type": "code",
   "execution_count": 5,
   "metadata": {
    "collapsed": false
   },
   "outputs": [],
   "source": [
    "# Load doc vectors\n",
    "lda_dir = 'en_lda'\n",
    "base_dir = os.path.join(cp.get('general', 'local_data_dir'), lda_dir)\n",
    "dict_file = os.path.join(base_dir, cp.get('LDA', 'article2index'))\n",
    "id2index, _ , _ = get_universal_maps(dict_file)\n",
    "mm_file = os.path.join(base_dir, cp.get('LDA', 'doc2topic'))\n",
    "f = open(mm_file)\n",
    "M = mmread(f).tocsr()"
   ]
  },
  {
   "cell_type": "markdown",
   "metadata": {},
   "source": [
    "#### Merge Pageviews and Document Vectors"
   ]
  },
  {
   "cell_type": "code",
   "execution_count": 31,
   "metadata": {
    "collapsed": false
   },
   "outputs": [
    {
     "name": "stdout",
     "output_type": "stream",
     "text": [
      "pre merge (6392977, 4)\n",
      "post merge (5687499, 6)\n"
     ]
    }
   ],
   "source": [
    "# Merge \n",
    "print 'pre merge', s_or_t_views.shape\n",
    "id2index_df = pd.DataFrame(id2index.items(), columns = ['id', 'indx'])\n",
    "id2index_df.index = id2index_df['id']\n",
    "del id2index_df['id']\n",
    "s_or_t_views = s_or_t_views.merge(id2index_df, left_index=True, right_index=True)\n",
    "s_or_t_views['log_pageview_count'] = np.log(s_or_t_views['pageview_count'])\n",
    "print 'post merge', s_or_t_views.shape"
   ]
  },
  {
   "cell_type": "markdown",
   "metadata": {
    "collapsed": false
   },
   "source": [
    "#### Get Training Data\n",
    "Training examples come from items that exist in en and es wiki. \n",
    "\n",
    "Training features include\n",
    "- the LDA vector for the english article\n",
    "- the percentile of the english article\n",
    "- the log of the pageviews of the english article\n",
    "\n",
    "The response is the percentile of the article in spanish"
   ]
  },
  {
   "cell_type": "code",
   "execution_count": 32,
   "metadata": {
    "collapsed": false
   },
   "outputs": [],
   "source": [
    "# Get Training Data\n",
    "t_views = s_or_t_views[s_or_t_views['lang'] == t]\n",
    "del t_views['lang']\n",
    "del t_views['indx']\n",
    "t_views.columns = ['title_t', 'pageview_count_t', 'rank_t', 'log_pageview_count_t']\n",
    "s_views = s_or_t_views[s_or_t_views['lang'] == s]\n",
    "del s_views['lang']\n",
    "s_views.columns = ['title_s', 'pageview_count_s', 'rank_s', 'indx', 'log_pageview_count_s']\n",
    "s_and_t_views = t_views.merge(s_views, left_index=True, right_index=True, copy=True)\n",
    "s_and_t_views['id'] = s_and_t_views.index"
   ]
  },
  {
   "cell_type": "code",
   "execution_count": 33,
   "metadata": {
    "collapsed": false
   },
   "outputs": [
    {
     "data": {
      "text/plain": [
       "<matplotlib.text.Text at 0x7f563b812450>"
      ]
     },
     "execution_count": 33,
     "metadata": {},
     "output_type": "execute_result"
    },
    {
     "data": {
      "image/png": "[encoded data removed]",
      "text/plain": [
       "<matplotlib.figure.Figure at 0x7f5662d51b10>"
      ]
     },
     "metadata": {},
     "output_type": "display_data"
    }
   ],
   "source": [
    "# Check Rank Distribution of articles that exist in the source and the target\n",
    "s_and_t_views['rank_s'].hist()\n",
    "plt.title('Rank Distribution in Source')"
   ]
  },
  {
   "cell_type": "code",
   "execution_count": 34,
   "metadata": {
    "collapsed": false
   },
   "outputs": [
    {
     "data": {
      "text/plain": [
       "<matplotlib.text.Text at 0x7f5644ce4650>"
      ]
     },
     "execution_count": 34,
     "metadata": {},
     "output_type": "execute_result"
    },
    {
     "data": {
      "image/png": "[encoded data removed]",
      "text/plain": [
       "<matplotlib.figure.Figure at 0x7f5662d51b50>"
      ]
     },
     "metadata": {},
     "output_type": "display_data"
    }
   ],
   "source": [
    "s_and_t_views['rank_t'].hist()\n",
    "plt.title('Rank Distribution in Target')"
   ]
  },
  {
   "cell_type": "code",
   "execution_count": 35,
   "metadata": {
    "collapsed": false
   },
   "outputs": [
    {
     "data": {
      "text/plain": [
       "<matplotlib.text.Text at 0x7f56403356d0>"
      ]
     },
     "execution_count": 35,
     "metadata": {},
     "output_type": "execute_result"
    },
    {
     "data": {
      "image/png": "[encoded data removed]",
      "text/plain": [
       "<matplotlib.figure.Figure at 0x7f565f18a790>"
      ]
     },
     "metadata": {},
     "output_type": "display_data"
    }
   ],
   "source": [
    "plt.scatter(s_and_t_views['rank_t'], s_and_t_views['rank_s'], s=1, facecolor='0.5', lw = 0, alpha = 0.05)\n",
    "plt.xlabel('Target Importance')\n",
    "plt.ylabel('Source Importance')"
   ]
  },
  {
   "cell_type": "code",
   "execution_count": 42,
   "metadata": {
    "collapsed": false
   },
   "outputs": [
    {
     "data": {
      "text/plain": [
       "<matplotlib.text.Text at 0x7f5681bf5050>"
      ]
     },
     "execution_count": 42,
     "metadata": {},
     "output_type": "execute_result"
    },
    {
     "data": {
      "image/png": "[encoded data removed]",
      "text/plain": [
       "<matplotlib.figure.Figure at 0x7f567415a5d0>"
      ]
     },
     "metadata": {},
     "output_type": "display_data"
    },
    {
     "data": {
      "image/png": "[encoded data removed]",
      "text/plain": [
       "<matplotlib.figure.Figure at 0x7f569548a090>"
      ]
     },
     "metadata": {},
     "output_type": "display_data"
    },
    {
     "data": {
      "image/png": "[encoded data removed]",
      "text/plain": [
       "<matplotlib.figure.Figure at 0x7f5695add4d0>"
      ]
     },
     "metadata": {},
     "output_type": "display_data"
    }
   ],
   "source": [
    "top_n_s = s_and_t_views.sort('rank_s', ascending = False)[:100000]\n",
    "plt.figure()\n",
    "top_n_s['rank_s'].hist()\n",
    "plt.title('Rank Distribution in Source')\n",
    "plt.figure()\n",
    "top_n_s['rank_t'].hist()\n",
    "plt.title('Rank Distribution in Target')\n",
    "plt.figure()\n",
    "plt.scatter(top_n_s['rank_t'], top_n_s['rank_s'], s=1, facecolor='0.5', lw = 0, alpha = 0.05)\n",
    "plt.xlabel('Target Importance')\n",
    "plt.ylabel('Source Importance')\n",
    "#plt.ylim(0.0, 1.1)"
   ]
  },
  {
   "cell_type": "markdown",
   "metadata": {},
   "source": [
    "Low S rank iif low T rank"
   ]
  },
  {
   "cell_type": "markdown",
   "metadata": {
    "collapsed": true
   },
   "source": [
    "### Getting Dump Features"
   ]
  },
  {
   "cell_type": "code",
   "execution_count": 43,
   "metadata": {
    "collapsed": false
   },
   "outputs": [
    {
     "name": "stdout",
     "output_type": "stream",
     "text": [
      "(1002435, 10)\n",
      "(1000641, 14)\n"
     ]
    }
   ],
   "source": [
    "feature_file = \"/home/ellery/en-en/dump_features.tsv\"\n",
    "dump_df = pd.read_csv(feature_file, encoding = 'utf8', sep = '\\t')\n",
    "del dump_df['Unnamed: 0']\n",
    "dump_df['title'] = dump_df['title'].apply(lambda x: unicode(x).replace(u' ', u'_'))\n",
    "dump_df['log_length'] = dump_df['length'].apply(np.log)\n",
    "print s_and_t_views.shape\n",
    "s_and_t_views = s_and_t_views.merge(dump_df, how = 'inner', left_on = 'title_s', right_on = 'title' )\n",
    "del s_and_t_views['title']\n",
    "print s_and_t_views.shape"
   ]
  },
  {
   "cell_type": "code",
   "execution_count": 44,
   "metadata": {
    "collapsed": false
   },
   "outputs": [
    {
     "data": {
      "text/html": [
       "<div style=\"max-height:1000px;max-width:1500px;overflow:auto;\">\n",
       "<table border=\"1\" class=\"dataframe\">\n",
       "  <thead>\n",
       "    <tr style=\"text-align: right;\">\n",
       "      <th></th>\n",
       "      <th>title_t</th>\n",
       "      <th>pageview_count_t</th>\n",
       "      <th>rank_t</th>\n",
       "      <th>log_pageview_count_t</th>\n",
       "      <th>title_s</th>\n",
       "      <th>pageview_count_s</th>\n",
       "      <th>rank_s</th>\n",
       "      <th>indx</th>\n",
       "      <th>log_pageview_count_s</th>\n",
       "      <th>id</th>\n",
       "      <th>length</th>\n",
       "      <th>is_dis</th>\n",
       "      <th>is_stub</th>\n",
       "      <th>log_length</th>\n",
       "    </tr>\n",
       "  </thead>\n",
       "  <tbody>\n",
       "    <tr>\n",
       "      <th>0</th>\n",
       "      <td>                  Univers</td>\n",
       "      <td> 104660</td>\n",
       "      <td> 0.997213</td>\n",
       "      <td> 11.558472</td>\n",
       "      <td>        Universe</td>\n",
       "      <td>  878015</td>\n",
       "      <td> 0.999469</td>\n",
       "      <td>  825863</td>\n",
       "      <td> 13.685419</td>\n",
       "      <td>      Q1</td>\n",
       "      <td>  92962</td>\n",
       "      <td> False</td>\n",
       "      <td> False</td>\n",
       "      <td> 11.439946</td>\n",
       "    </tr>\n",
       "    <tr>\n",
       "      <th>1</th>\n",
       "      <td>                   Boston</td>\n",
       "      <td> 121015</td>\n",
       "      <td> 0.997817</td>\n",
       "      <td> 11.703670</td>\n",
       "      <td>          Boston</td>\n",
       "      <td> 1331884</td>\n",
       "      <td> 0.999770</td>\n",
       "      <td> 2742805</td>\n",
       "      <td> 14.102105</td>\n",
       "      <td>    Q100</td>\n",
       "      <td> 144772</td>\n",
       "      <td> False</td>\n",
       "      <td> False</td>\n",
       "      <td> 11.882915</td>\n",
       "    </tr>\n",
       "    <tr>\n",
       "      <th>2</th>\n",
       "      <td>                    Gabon</td>\n",
       "      <td> 207321</td>\n",
       "      <td> 0.999260</td>\n",
       "      <td> 12.242024</td>\n",
       "      <td>           Gabon</td>\n",
       "      <td>  431256</td>\n",
       "      <td> 0.998082</td>\n",
       "      <td>  142978</td>\n",
       "      <td> 12.974457</td>\n",
       "      <td>   Q1000</td>\n",
       "      <td>  45733</td>\n",
       "      <td> False</td>\n",
       "      <td> False</td>\n",
       "      <td> 10.730575</td>\n",
       "    </tr>\n",
       "    <tr>\n",
       "      <th>3</th>\n",
       "      <td> Wikipédia_en_néerlandais</td>\n",
       "      <td>   4432</td>\n",
       "      <td> 0.897308</td>\n",
       "      <td>  8.396606</td>\n",
       "      <td> Dutch_Wikipedia</td>\n",
       "      <td>   14446</td>\n",
       "      <td> 0.908522</td>\n",
       "      <td> 4669008</td>\n",
       "      <td>  9.578173</td>\n",
       "      <td>  Q10000</td>\n",
       "      <td>   7205</td>\n",
       "      <td> False</td>\n",
       "      <td> False</td>\n",
       "      <td>  8.882531</td>\n",
       "    </tr>\n",
       "    <tr>\n",
       "      <th>4</th>\n",
       "      <td>           Cadier_en_Keer</td>\n",
       "      <td>    486</td>\n",
       "      <td> 0.497767</td>\n",
       "      <td>  6.186209</td>\n",
       "      <td>  Cadier_en_Keer</td>\n",
       "      <td>    1002</td>\n",
       "      <td> 0.340279</td>\n",
       "      <td> 3703458</td>\n",
       "      <td>  6.909753</td>\n",
       "      <td> Q100000</td>\n",
       "      <td>   2327</td>\n",
       "      <td> False</td>\n",
       "      <td>  True</td>\n",
       "      <td>  7.752335</td>\n",
       "    </tr>\n",
       "  </tbody>\n",
       "</table>\n",
       "</div>"
      ],
      "text/plain": [
       "                    title_t  pageview_count_t    rank_t  log_pageview_count_t  \\\n",
       "0                   Univers            104660  0.997213             11.558472   \n",
       "1                    Boston            121015  0.997817             11.703670   \n",
       "2                     Gabon            207321  0.999260             12.242024   \n",
       "3  Wikipédia_en_néerlandais              4432  0.897308              8.396606   \n",
       "4            Cadier_en_Keer               486  0.497767              6.186209   \n",
       "\n",
       "           title_s  pageview_count_s    rank_s     indx  log_pageview_count_s  \\\n",
       "0         Universe            878015  0.999469   825863             13.685419   \n",
       "1           Boston           1331884  0.999770  2742805             14.102105   \n",
       "2            Gabon            431256  0.998082   142978             12.974457   \n",
       "3  Dutch_Wikipedia             14446  0.908522  4669008              9.578173   \n",
       "4   Cadier_en_Keer              1002  0.340279  3703458              6.909753   \n",
       "\n",
       "        id  length is_dis is_stub  log_length  \n",
       "0       Q1   92962  False   False   11.439946  \n",
       "1     Q100  144772  False   False   11.882915  \n",
       "2    Q1000   45733  False   False   10.730575  \n",
       "3   Q10000    7205  False   False    8.882531  \n",
       "4  Q100000    2327  False    True    7.752335  "
      ]
     },
     "execution_count": 44,
     "metadata": {},
     "output_type": "execute_result"
    }
   ],
   "source": [
    "s_and_t_views.head()"
   ]
  },
  {
   "cell_type": "markdown",
   "metadata": {},
   "source": [
    "#Get Pageviews in Local Language"
   ]
  },
  {
   "cell_type": "code",
   "execution_count": 51,
   "metadata": {
    "collapsed": false
   },
   "outputs": [],
   "source": [
    "geo_file = \"/home/ellery/en_views_from_fr_es_reduced.tsv\"\n",
    "geo_df = pd.read_csv(geo_file, encoding = 'utf8', sep = '\\t')\n",
    "geo_df = geo_df[geo_df['country'] == t_country_name]\n",
    "del geo_df['country']\n",
    "geo_df.columns = ['title_s', 'pageview_count_from_t_to_s' ]"
   ]
  },
  {
   "cell_type": "code",
   "execution_count": 56,
   "metadata": {
    "collapsed": false
   },
   "outputs": [
    {
     "name": "stdout",
     "output_type": "stream",
     "text": [
      "(1000641, 14)\n",
      "(1000648, 15)\n"
     ]
    }
   ],
   "source": [
    "print s_and_t_views.shape\n",
    "s_and_t_views = s_and_t_views.merge(geo_df, on = 'title_s', how = 'left')\n",
    "print s_and_t_views.shape\n",
    "s_and_t_views['pageview_count_from_t_to_s'] = s_and_t_views['pageview_count_from_t_to_s'].fillna(1)\n",
    "s_and_t_views['log_pageview_count_from_t_to_s'] = np.log(s_and_t_views['pageview_count_from_t_to_s'])"
   ]
  },
  {
   "cell_type": "markdown",
   "metadata": {},
   "source": [
    "## Subsample Data for Model Building"
   ]
  },
  {
   "cell_type": "code",
   "execution_count": 70,
   "metadata": {
    "collapsed": false
   },
   "outputs": [],
   "source": [
    "# code for sub-sampling training data\n",
    "fraction = 1.0\n",
    "rows = random.sample(s_and_t_views.index, int(fraction*s_and_t_views.shape[0]))\n",
    "s_and_t_views_sample = s_and_t_views.ix[rows]"
   ]
  },
  {
   "cell_type": "markdown",
   "metadata": {},
   "source": [
    "#### Baselines\n",
    "What if we simply use the percentile of the article in english as our prediction?"
   ]
  },
  {
   "cell_type": "code",
   "execution_count": 71,
   "metadata": {
    "collapsed": false
   },
   "outputs": [
    {
     "name": "stdout",
     "output_type": "stream",
     "text": [
      "Baseline MSE 0.0736118590891\n",
      "Baseline Spearman (0.6727270551781509, 0.0)\n"
     ]
    }
   ],
   "source": [
    "print \"Baseline MSE\", sklearn.metrics.mean_squared_error(s_and_t_views_sample['rank_s'], s_and_t_views_sample['rank_t'])\n",
    "print \"Baseline Spearman\", spearmanr(s_and_t_views_sample['rank_s'], s_and_t_views_sample['rank_t'])"
   ]
  },
  {
   "cell_type": "code",
   "execution_count": 72,
   "metadata": {
    "collapsed": false
   },
   "outputs": [
    {
     "name": "stdout",
     "output_type": "stream",
     "text": [
      "\n",
      "\n",
      "\n",
      "Doing Gridsearch\n",
      "\n",
      "MSE: 0.04351\n",
      "R2: 0.46366\n",
      "Spearman: 0.67302 \n",
      "\n",
      "MSE: 0.04363\n",
      "R2: 0.46321\n",
      "Spearman: 0.67243 \n",
      "\n",
      "MSE: 0.04415\n",
      "R2: 0.45715\n",
      "Spearman: 0.67092 \n",
      "\n",
      "MSE: 0.04341\n",
      "R2: 0.46572\n",
      "Spearman: 0.67424 \n",
      "\n",
      "MSE: 0.04374\n",
      "R2: 0.46356\n",
      "Spearman: 0.67280 \n",
      "\n",
      "Best Model Train MSE: 0.043631\n",
      "Spearman: 0.67270 \n",
      "\n",
      "Best Model Train Spearman 0.672705\n",
      "\n",
      "Best parameters set found:\n",
      "({}, 0.67268415616595556)\n",
      "\n",
      "\n",
      "Grid scores:\n",
      "0.67268 (+/-0.00053) for {}\n"
     ]
    }
   ],
   "source": [
    "# Just en_ranks and views\n",
    "X = get_X(None, s_and_t_views_sample, None, ['rank_s', 'pageview_count_s', 'log_pageview_count_s'])\n",
    "y = s_and_t_views_sample['rank_t'].astype('float').values\n",
    "model = cv (X, y, 5, LinearRegression(), {})\n"
   ]
  },
  {
   "cell_type": "code",
   "execution_count": 73,
   "metadata": {
    "collapsed": false
   },
   "outputs": [
    {
     "name": "stdout",
     "output_type": "stream",
     "text": [
      "\n",
      "\n",
      "\n",
      "Doing Gridsearch\n",
      "\n",
      "MSE: 0.03835\n",
      "R2: 0.52803\n",
      "Spearman: 0.72940 \n",
      "\n",
      "MSE: 0.03864\n",
      "R2: 0.52456\n",
      "Spearman: 0.72741 \n",
      "\n",
      "MSE: 0.03839\n",
      "R2: 0.52780\n",
      "Spearman: 0.72986 \n",
      "\n",
      "MSE: 0.03858\n",
      "R2: 0.52472\n",
      "Spearman: 0.72806 \n",
      "\n",
      "MSE: 0.03846\n",
      "R2: 0.52814\n",
      "Spearman: 0.72998 \n",
      "\n",
      "Best Model Train MSE: 0.038470\n",
      "Spearman: 0.72894 \n",
      "\n",
      "Best Model Train Spearman 0.728944\n",
      "\n",
      "Best parameters set found:\n",
      "({}, 0.72894160221638415)\n",
      "\n",
      "\n",
      "Grid scores:\n",
      "0.72894 (+/-0.00051) for {}\n"
     ]
    }
   ],
   "source": [
    "# adding pageview info from local language\n",
    "features = ['rank_s', 'pageview_count_s', 'log_pageview_count_s', 'pageview_count_from_t_to_s', 'log_pageview_count_from_t_to_s' ]\n",
    "X = get_X(None, s_and_t_views_sample, None, features)\n",
    "y = s_and_t_views_sample['rank_t'].astype('float').values\n",
    "model = cv (X, y, 5, LinearRegression(), {})"
   ]
  },
  {
   "cell_type": "code",
   "execution_count": 74,
   "metadata": {
    "collapsed": false
   },
   "outputs": [
    {
     "name": "stdout",
     "output_type": "stream",
     "text": [
      "\n",
      "\n",
      "\n",
      "Doing Gridsearch\n",
      "\n",
      "MSE: 0.03805\n",
      "R2: 0.53290\n",
      "Spearman: 0.73234 \n",
      "\n",
      "MSE: 0.03810\n",
      "R2: 0.53285\n",
      "Spearman: 0.73168 \n",
      "\n",
      "MSE: 0.03790\n",
      "R2: 0.53168\n",
      "Spearman: 0.73064 \n",
      "\n",
      "MSE: 0.03795\n",
      "R2: 0.53332\n",
      "Spearman: 0.73189 \n",
      "\n",
      "MSE: 0.03787\n",
      "R2: 0.53377\n",
      "Spearman: 0.73218 \n",
      "\n",
      "Best Model Train MSE: 0.037964\n",
      "Spearman: 0.73177 \n",
      "\n",
      "Best Model Train Spearman 0.731770\n",
      "\n",
      "Best parameters set found:\n",
      "({}, 0.73174678524429038)\n",
      "\n",
      "\n",
      "Grid scores:\n",
      "0.73175 (+/-0.00030) for {}\n"
     ]
    }
   ],
   "source": [
    "# adding article dump features\n",
    "features = ['rank_s', 'pageview_count_s', 'log_pageview_count_s', 'pageview_count_from_t_to_s', 'log_pageview_count_from_t_to_s', 'length', 'log_length', 'is_stub' ]\n",
    "X = get_X(None, s_and_t_views_sample, None, features)\n",
    "y = s_and_t_views_sample['rank_t'].astype('float').values\n",
    "model = cv (X, y, 5, LinearRegression(), {})"
   ]
  },
  {
   "cell_type": "code",
   "execution_count": 75,
   "metadata": {
    "collapsed": false
   },
   "outputs": [
    {
     "name": "stdout",
     "output_type": "stream",
     "text": [
      "\n",
      "\n",
      "\n",
      "Doing Gridsearch\n",
      "\n",
      "MSE: 0.02484\n",
      "R2: 0.69460\n",
      "Spearman: 0.83970 \n",
      "\n",
      "MSE: 0.02480\n",
      "R2: 0.69514\n",
      "Spearman: 0.83967 \n",
      "\n",
      "MSE: 0.02482\n",
      "R2: 0.69557\n",
      "Spearman: 0.84020 \n",
      "\n",
      "MSE: 0.02462\n",
      "R2: 0.69709\n",
      "Spearman: 0.84061 \n",
      "\n",
      "MSE: 0.02471\n",
      "R2: 0.69504\n",
      "Spearman: 0.83948 \n",
      "\n",
      "Best Model Train MSE: 0.024717\n",
      "Spearman: 0.84012 \n",
      "\n",
      "Best Model Train Spearman 0.840117\n",
      "\n",
      "Best parameters set found:\n",
      "({}, 0.83993119827012175)\n",
      "\n",
      "\n",
      "Grid scores:\n",
      "0.83993 (+/-0.00021) for {}\n"
     ]
    }
   ],
   "source": [
    "# adding all features\n",
    "features = ['rank_s', 'pageview_count_s', 'log_pageview_count_s', 'pageview_count_from_t_to_s', 'log_pageview_count_from_t_to_s', 'length', 'log_length', 'is_stub' ]\n",
    "X = get_X(M, s_and_t_views_sample, 'indx', features)\n",
    "y = s_and_t_views_sample['rank_t'].astype('float').values\n",
    "model = cv (X, y, 5, LinearRegression(), {})"
   ]
  },
  {
   "cell_type": "code",
   "execution_count": 101,
   "metadata": {
    "collapsed": true
   },
   "outputs": [],
   "source": [
    "X_missing = get_X(M, s_and_t_views_sample, 'indx', features)\n",
    "predicted_t_rank = model.predict(X_missing)"
   ]
  },
  {
   "cell_type": "code",
   "execution_count": 103,
   "metadata": {
    "collapsed": false
   },
   "outputs": [],
   "source": [
    "s_and_t_views_sample['predicted_rank_t'] = predicted_t_rank\n",
    "s_and_t_views_sample['predicted_rank_t'] = s_and_t_views_sample['predicted_rank_t'].apply(lambda x: min(1, max(0, x)))"
   ]
  },
  {
   "cell_type": "code",
   "execution_count": 107,
   "metadata": {
    "collapsed": false
   },
   "outputs": [
    {
     "data": {
      "text/plain": [
       "<matplotlib.text.Text at 0x7f572dc6a7d0>"
      ]
     },
     "execution_count": 107,
     "metadata": {},
     "output_type": "execute_result"
    },
    {
     "data": {
      "image/png": "[encoded data removed]",
      "text/plain": [
       "<matplotlib.figure.Figure at 0x7f5691be8d10>"
      ]
     },
     "metadata": {},
     "output_type": "display_data"
    },
    {
     "data": {
      "image/png": "[encoded data removed]",
      "text/plain": [
       "<matplotlib.figure.Figure at 0x7f570fb1d190>"
      ]
     },
     "metadata": {},
     "output_type": "display_data"
    },
    {
     "data": {
      "image/png": "[encoded data removed]",
      "text/plain": [
       "<matplotlib.figure.Figure at 0x7f570523ae90>"
      ]
     },
     "metadata": {},
     "output_type": "display_data"
    }
   ],
   "source": [
    "plt.figure()\n",
    "s_and_t_views_sample['predicted_rank_t'].hist()\n",
    "plt.title('Predicted Rank Distribution in Target')\n",
    "plt.figure()\n",
    "s_and_t_views_sample['rank_t'].hist()\n",
    "plt.title('Rank Distribution in Target')\n",
    "plt.figure()\n",
    "plt.scatter(s_and_t_views_sample['rank_t'], s_and_t_views_sample['predicted_rank_t'], s=1, facecolor='0.5', lw = 0, alpha = 0.05)\n",
    "plt.xlabel('Target Rank')\n",
    "plt.ylabel('Predicted  Target Rank')\n",
    "#plt.ylim(0.0, 1.1)"
   ]
  },
  {
   "cell_type": "code",
   "execution_count": 105,
   "metadata": {
    "collapsed": false
   },
   "outputs": [
    {
     "name": "stdout",
     "output_type": "stream",
     "text": [
      "Final MSE 0.0244248595922\n",
      "Final Spearman (0.8401128668938086, 0.0)\n"
     ]
    }
   ],
   "source": [
    "print \"Final MSE\", sklearn.metrics.mean_squared_error(s_and_t_views_sample['predicted_rank_t'], s_and_t_views_sample['rank_t'])\n",
    "print \"Final Spearman\", spearmanr(s_and_t_views_sample['predicted_rank_t'], s_and_t_views_sample['rank_t'])"
   ]
  },
  {
   "cell_type": "markdown",
   "metadata": {},
   "source": [
    "#### Loading the missing articles"
   ]
  },
  {
   "cell_type": "code",
   "execution_count": 129,
   "metadata": {
    "collapsed": false
   },
   "outputs": [],
   "source": [
    "topk = 500000\n",
    "missing_articles_file = os.path.join(cp.get('general', 'local_data_dir'), exp_dir, cp.get('missing', 'missing_items'))\n",
    "d_missing = pd.read_csv(missing_articles_file, sep='\\t', names = ['id', 'title_s', 'pageview_count_s'], encoding = 'utf8')\n",
    "d_missing = d_missing.sort('pageview_count_s', ascending = False)[:topk]\n",
    "d_missing.index = d_missing['id']\n",
    "d_missing['log_pageview_count_s'] = np.log(d_missing['pageview_count_s'])\n",
    "d_missing = d_missing.merge(s_views[['indx', 'rank_s']],left_index=True, right_index=True)"
   ]
  },
  {
   "cell_type": "code",
   "execution_count": 130,
   "metadata": {
    "collapsed": false
   },
   "outputs": [
    {
     "data": {
      "text/plain": [
       "(494414, 6)"
      ]
     },
     "execution_count": 130,
     "metadata": {},
     "output_type": "execute_result"
    }
   ],
   "source": [
    "d_missing['title_s'] = d_missing['title_s'].apply(lambda x: unicode(x).replace(u' ', u'_'))\n",
    "d_missing.shape"
   ]
  },
  {
   "cell_type": "code",
   "execution_count": 131,
   "metadata": {
    "collapsed": false
   },
   "outputs": [],
   "source": [
    "d_missing = d_missing.merge(dump_df, how= 'inner', left_on = 'title_s', right_on = 'title')\n",
    "del d_missing['title']\n",
    "d_missing.index = d_missing['id']"
   ]
  },
  {
   "cell_type": "code",
   "execution_count": 132,
   "metadata": {
    "collapsed": false
   },
   "outputs": [
    {
     "data": {
      "text/plain": [
       "(494206, 10)"
      ]
     },
     "execution_count": 132,
     "metadata": {},
     "output_type": "execute_result"
    }
   ],
   "source": [
    "d_missing.shape"
   ]
  },
  {
   "cell_type": "code",
   "execution_count": 133,
   "metadata": {
    "collapsed": false
   },
   "outputs": [
    {
     "name": "stdout",
     "output_type": "stream",
     "text": [
      "(494212, 11)\n"
     ]
    }
   ],
   "source": [
    "d_missing = d_missing.merge(geo_df, on = 'title_s', how = 'left')\n",
    "print d_missing.shape\n",
    "d_missing.index = d_missing['id']\n",
    "d_missing['pageview_count_from_t_to_s'] = d_missing['pageview_count_from_t_to_s'].fillna(1)\n",
    "d_missing['log_pageview_count_from_t_to_s'] = np.log(d_missing['pageview_count_from_t_to_s'])"
   ]
  },
  {
   "cell_type": "code",
   "execution_count": 134,
   "metadata": {
    "collapsed": false
   },
   "outputs": [
    {
     "data": {
      "text/html": [
       "<div style=\"max-height:1000px;max-width:1500px;overflow:auto;\">\n",
       "<table border=\"1\" class=\"dataframe\">\n",
       "  <thead>\n",
       "    <tr style=\"text-align: right;\">\n",
       "      <th></th>\n",
       "      <th>id</th>\n",
       "      <th>title_s</th>\n",
       "      <th>pageview_count_s</th>\n",
       "      <th>log_pageview_count_s</th>\n",
       "      <th>indx</th>\n",
       "      <th>rank_s</th>\n",
       "      <th>length</th>\n",
       "      <th>is_dis</th>\n",
       "      <th>is_stub</th>\n",
       "      <th>log_length</th>\n",
       "      <th>pageview_count_from_t_to_s</th>\n",
       "      <th>log_pageview_count_from_t_to_s</th>\n",
       "    </tr>\n",
       "    <tr>\n",
       "      <th>id</th>\n",
       "      <th></th>\n",
       "      <th></th>\n",
       "      <th></th>\n",
       "      <th></th>\n",
       "      <th></th>\n",
       "      <th></th>\n",
       "      <th></th>\n",
       "      <th></th>\n",
       "      <th></th>\n",
       "      <th></th>\n",
       "      <th></th>\n",
       "      <th></th>\n",
       "    </tr>\n",
       "  </thead>\n",
       "  <tbody>\n",
       "    <tr>\n",
       "      <th>Q1000004</th>\n",
       "      <td> Q1000004</td>\n",
       "      <td>    New_Hampshire_Route_16</td>\n",
       "      <td>  8139</td>\n",
       "      <td>  9.004423</td>\n",
       "      <td>  263308</td>\n",
       "      <td> 0.855868</td>\n",
       "      <td> 22777</td>\n",
       "      <td> False</td>\n",
       "      <td> False</td>\n",
       "      <td> 10.033507</td>\n",
       "      <td>  16</td>\n",
       "      <td> 2.772589</td>\n",
       "    </tr>\n",
       "    <tr>\n",
       "      <th>Q1000032</th>\n",
       "      <td> Q1000032</td>\n",
       "      <td>               Unschooling</td>\n",
       "      <td> 79820</td>\n",
       "      <td> 11.287529</td>\n",
       "      <td> 3169809</td>\n",
       "      <td> 0.981618</td>\n",
       "      <td> 27874</td>\n",
       "      <td> False</td>\n",
       "      <td> False</td>\n",
       "      <td> 10.235450</td>\n",
       "      <td> 311</td>\n",
       "      <td> 5.739793</td>\n",
       "    </tr>\n",
       "    <tr>\n",
       "      <th>Q1000049</th>\n",
       "      <td> Q1000049</td>\n",
       "      <td>                 Xiasi_Dog</td>\n",
       "      <td>  5421</td>\n",
       "      <td>  8.598036</td>\n",
       "      <td> 2768856</td>\n",
       "      <td> 0.803915</td>\n",
       "      <td>  3296</td>\n",
       "      <td> False</td>\n",
       "      <td> False</td>\n",
       "      <td>  8.100465</td>\n",
       "      <td>  10</td>\n",
       "      <td> 2.302585</td>\n",
       "    </tr>\n",
       "    <tr>\n",
       "      <th>Q1000090</th>\n",
       "      <td> Q1000090</td>\n",
       "      <td>             Lions_(album)</td>\n",
       "      <td> 15383</td>\n",
       "      <td>  9.641018</td>\n",
       "      <td> 1680919</td>\n",
       "      <td> 0.913092</td>\n",
       "      <td> 39791</td>\n",
       "      <td> False</td>\n",
       "      <td> False</td>\n",
       "      <td> 10.591396</td>\n",
       "      <td>  94</td>\n",
       "      <td> 4.543295</td>\n",
       "    </tr>\n",
       "    <tr>\n",
       "      <th>Q1000116</th>\n",
       "      <td> Q1000116</td>\n",
       "      <td> Axiom_of_countable_choice</td>\n",
       "      <td>  8765</td>\n",
       "      <td>  9.078522</td>\n",
       "      <td> 1176164</td>\n",
       "      <td> 0.863884</td>\n",
       "      <td>  5978</td>\n",
       "      <td> False</td>\n",
       "      <td> False</td>\n",
       "      <td>  8.695841</td>\n",
       "      <td>  76</td>\n",
       "      <td> 4.330733</td>\n",
       "    </tr>\n",
       "  </tbody>\n",
       "</table>\n",
       "</div>"
      ],
      "text/plain": [
       "                id                    title_s  pageview_count_s  \\\n",
       "id                                                                \n",
       "Q1000004  Q1000004     New_Hampshire_Route_16              8139   \n",
       "Q1000032  Q1000032                Unschooling             79820   \n",
       "Q1000049  Q1000049                  Xiasi_Dog              5421   \n",
       "Q1000090  Q1000090              Lions_(album)             15383   \n",
       "Q1000116  Q1000116  Axiom_of_countable_choice              8765   \n",
       "\n",
       "          log_pageview_count_s     indx    rank_s  length is_dis is_stub  \\\n",
       "id                                                                         \n",
       "Q1000004              9.004423   263308  0.855868   22777  False   False   \n",
       "Q1000032             11.287529  3169809  0.981618   27874  False   False   \n",
       "Q1000049              8.598036  2768856  0.803915    3296  False   False   \n",
       "Q1000090              9.641018  1680919  0.913092   39791  False   False   \n",
       "Q1000116              9.078522  1176164  0.863884    5978  False   False   \n",
       "\n",
       "          log_length  pageview_count_from_t_to_s  \\\n",
       "id                                                 \n",
       "Q1000004   10.033507                          16   \n",
       "Q1000032   10.235450                         311   \n",
       "Q1000049    8.100465                          10   \n",
       "Q1000090   10.591396                          94   \n",
       "Q1000116    8.695841                          76   \n",
       "\n",
       "          log_pageview_count_from_t_to_s  \n",
       "id                                        \n",
       "Q1000004                        2.772589  \n",
       "Q1000032                        5.739793  \n",
       "Q1000049                        2.302585  \n",
       "Q1000090                        4.543295  \n",
       "Q1000116                        4.330733  "
      ]
     },
     "execution_count": 134,
     "metadata": {},
     "output_type": "execute_result"
    }
   ],
   "source": [
    "d_missing.head()"
   ]
  },
  {
   "cell_type": "code",
   "execution_count": 135,
   "metadata": {
    "collapsed": false
   },
   "outputs": [
    {
     "data": {
      "text/plain": [
       "(0, 30)"
      ]
     },
     "execution_count": 135,
     "metadata": {},
     "output_type": "execute_result"
    }
   ],
   "source": [
    "# Sanity Check Did not train in missing articles\n",
    "d_missing.merge(s_and_t_views_sample,left_index=True, right_on='id').shape"
   ]
  },
  {
   "cell_type": "markdown",
   "metadata": {},
   "source": [
    "#### Apply our model to the mssing articles"
   ]
  },
  {
   "cell_type": "code",
   "execution_count": 136,
   "metadata": {
    "collapsed": false
   },
   "outputs": [],
   "source": [
    "X_missing = get_X(M, d_missing, 'indx', features)\n",
    "rank_t = model.predict(X_missing)\n",
    "d_missing['rank_t'] = rank_t"
   ]
  },
  {
   "cell_type": "code",
   "execution_count": 137,
   "metadata": {
    "collapsed": false
   },
   "outputs": [
    {
     "data": {
      "text/html": [
       "<div style=\"max-height:1000px;max-width:1500px;overflow:auto;\">\n",
       "<table border=\"1\" class=\"dataframe\">\n",
       "  <thead>\n",
       "    <tr style=\"text-align: right;\">\n",
       "      <th></th>\n",
       "      <th>id</th>\n",
       "      <th>title_s</th>\n",
       "      <th>pageview_count_s</th>\n",
       "      <th>log_pageview_count_s</th>\n",
       "      <th>indx</th>\n",
       "      <th>rank_s</th>\n",
       "      <th>length</th>\n",
       "      <th>is_dis</th>\n",
       "      <th>is_stub</th>\n",
       "      <th>log_length</th>\n",
       "      <th>pageview_count_from_t_to_s</th>\n",
       "      <th>log_pageview_count_from_t_to_s</th>\n",
       "      <th>rank_t</th>\n",
       "    </tr>\n",
       "    <tr>\n",
       "      <th>id</th>\n",
       "      <th></th>\n",
       "      <th></th>\n",
       "      <th></th>\n",
       "      <th></th>\n",
       "      <th></th>\n",
       "      <th></th>\n",
       "      <th></th>\n",
       "      <th></th>\n",
       "      <th></th>\n",
       "      <th></th>\n",
       "      <th></th>\n",
       "      <th></th>\n",
       "      <th></th>\n",
       "    </tr>\n",
       "  </thead>\n",
       "  <tbody>\n",
       "    <tr>\n",
       "      <th>Q6772702</th>\n",
       "      <td>  Q6772702</td>\n",
       "      <td> Marquis_de_Sade_bibliography</td>\n",
       "      <td>  19556</td>\n",
       "      <td>  9.881037</td>\n",
       "      <td> 2129914</td>\n",
       "      <td> 0.928854</td>\n",
       "      <td>  8550</td>\n",
       "      <td> False</td>\n",
       "      <td> False</td>\n",
       "      <td>  9.053687</td>\n",
       "      <td>  394</td>\n",
       "      <td> 5.976351</td>\n",
       "      <td> 1.477338</td>\n",
       "    </tr>\n",
       "    <tr>\n",
       "      <th>Q4950137</th>\n",
       "      <td>  Q4950137</td>\n",
       "      <td>             Gisela_of_France</td>\n",
       "      <td>  61155</td>\n",
       "      <td> 11.021167</td>\n",
       "      <td> 4406124</td>\n",
       "      <td> 0.975405</td>\n",
       "      <td>  2220</td>\n",
       "      <td> False</td>\n",
       "      <td> False</td>\n",
       "      <td>  7.705262</td>\n",
       "      <td> 1623</td>\n",
       "      <td> 7.392032</td>\n",
       "      <td> 1.290875</td>\n",
       "    </tr>\n",
       "    <tr>\n",
       "      <th>Q377016</th>\n",
       "      <td>   Q377016</td>\n",
       "      <td>                Roland_Garros</td>\n",
       "      <td>  39942</td>\n",
       "      <td> 10.595184</td>\n",
       "      <td> 3346490</td>\n",
       "      <td> 0.962453</td>\n",
       "      <td>   475</td>\n",
       "      <td>  True</td>\n",
       "      <td> False</td>\n",
       "      <td>  6.163315</td>\n",
       "      <td> 3045</td>\n",
       "      <td> 8.021256</td>\n",
       "      <td> 1.289091</td>\n",
       "    </tr>\n",
       "    <tr>\n",
       "      <th>Q3186692</th>\n",
       "      <td>  Q3186692</td>\n",
       "      <td>                Calendar_year</td>\n",
       "      <td> 140200</td>\n",
       "      <td> 11.850825</td>\n",
       "      <td> 2619048</td>\n",
       "      <td> 0.990470</td>\n",
       "      <td>  2345</td>\n",
       "      <td> False</td>\n",
       "      <td> False</td>\n",
       "      <td>  7.760041</td>\n",
       "      <td>  399</td>\n",
       "      <td> 5.988961</td>\n",
       "      <td> 1.273604</td>\n",
       "    </tr>\n",
       "    <tr>\n",
       "      <th>Q3853305</th>\n",
       "      <td>  Q3853305</td>\n",
       "      <td>           Maîtresse-en-titre</td>\n",
       "      <td>  37615</td>\n",
       "      <td> 10.535158</td>\n",
       "      <td> 3652419</td>\n",
       "      <td> 0.960297</td>\n",
       "      <td>  5229</td>\n",
       "      <td> False</td>\n",
       "      <td> False</td>\n",
       "      <td>  8.561975</td>\n",
       "      <td>  244</td>\n",
       "      <td> 5.497168</td>\n",
       "      <td> 1.255266</td>\n",
       "    </tr>\n",
       "    <tr>\n",
       "      <th>Q1056289</th>\n",
       "      <td>  Q1056289</td>\n",
       "      <td>         École_des_Beaux-Arts</td>\n",
       "      <td>  59745</td>\n",
       "      <td> 10.997841</td>\n",
       "      <td> 4654693</td>\n",
       "      <td> 0.974795</td>\n",
       "      <td> 11312</td>\n",
       "      <td> False</td>\n",
       "      <td> False</td>\n",
       "      <td>  9.333619</td>\n",
       "      <td>  662</td>\n",
       "      <td> 6.495266</td>\n",
       "      <td> 1.244319</td>\n",
       "    </tr>\n",
       "    <tr>\n",
       "      <th>Q343334</th>\n",
       "      <td>   Q343334</td>\n",
       "      <td>           Yves_Saint_Laurent</td>\n",
       "      <td>  29976</td>\n",
       "      <td> 10.308152</td>\n",
       "      <td>  561868</td>\n",
       "      <td> 0.951036</td>\n",
       "      <td>   419</td>\n",
       "      <td>  True</td>\n",
       "      <td> False</td>\n",
       "      <td>  6.037871</td>\n",
       "      <td>  267</td>\n",
       "      <td> 5.587249</td>\n",
       "      <td> 1.239602</td>\n",
       "    </tr>\n",
       "    <tr>\n",
       "      <th>Q1758677</th>\n",
       "      <td>  Q1758677</td>\n",
       "      <td>                       Oeuvre</td>\n",
       "      <td>  21275</td>\n",
       "      <td>  9.965288</td>\n",
       "      <td> 3965223</td>\n",
       "      <td> 0.933863</td>\n",
       "      <td>  1159</td>\n",
       "      <td> False</td>\n",
       "      <td> False</td>\n",
       "      <td>  7.055313</td>\n",
       "      <td>   51</td>\n",
       "      <td> 3.931826</td>\n",
       "      <td> 1.234935</td>\n",
       "    </tr>\n",
       "    <tr>\n",
       "      <th>Q17068610</th>\n",
       "      <td> Q17068610</td>\n",
       "      <td>           Landmarks_in_Paris</td>\n",
       "      <td>  15277</td>\n",
       "      <td>  9.634104</td>\n",
       "      <td> 3484660</td>\n",
       "      <td> 0.912609</td>\n",
       "      <td> 35160</td>\n",
       "      <td> False</td>\n",
       "      <td> False</td>\n",
       "      <td> 10.467664</td>\n",
       "      <td>  379</td>\n",
       "      <td> 5.937536</td>\n",
       "      <td> 1.215372</td>\n",
       "    </tr>\n",
       "    <tr>\n",
       "      <th>Q5449158</th>\n",
       "      <td>  Q5449158</td>\n",
       "      <td>      Éric_Rohmer_filmography</td>\n",
       "      <td>  12235</td>\n",
       "      <td>  9.412056</td>\n",
       "      <td> 2741203</td>\n",
       "      <td> 0.895389</td>\n",
       "      <td>  5202</td>\n",
       "      <td> False</td>\n",
       "      <td> False</td>\n",
       "      <td>  8.556798</td>\n",
       "      <td>   34</td>\n",
       "      <td> 3.526361</td>\n",
       "      <td> 1.215005</td>\n",
       "    </tr>\n",
       "  </tbody>\n",
       "</table>\n",
       "</div>"
      ],
      "text/plain": [
       "                  id                       title_s  pageview_count_s  \\\n",
       "id                                                                     \n",
       "Q6772702    Q6772702  Marquis_de_Sade_bibliography             19556   \n",
       "Q4950137    Q4950137              Gisela_of_France             61155   \n",
       "Q377016      Q377016                 Roland_Garros             39942   \n",
       "Q3186692    Q3186692                 Calendar_year            140200   \n",
       "Q3853305    Q3853305            Maîtresse-en-titre             37615   \n",
       "Q1056289    Q1056289          École_des_Beaux-Arts             59745   \n",
       "Q343334      Q343334            Yves_Saint_Laurent             29976   \n",
       "Q1758677    Q1758677                        Oeuvre             21275   \n",
       "Q17068610  Q17068610            Landmarks_in_Paris             15277   \n",
       "Q5449158    Q5449158       Éric_Rohmer_filmography             12235   \n",
       "\n",
       "           log_pageview_count_s     indx    rank_s  length is_dis is_stub  \\\n",
       "id                                                                          \n",
       "Q6772702               9.881037  2129914  0.928854    8550  False   False   \n",
       "Q4950137              11.021167  4406124  0.975405    2220  False   False   \n",
       "Q377016               10.595184  3346490  0.962453     475   True   False   \n",
       "Q3186692              11.850825  2619048  0.990470    2345  False   False   \n",
       "Q3853305              10.535158  3652419  0.960297    5229  False   False   \n",
       "Q1056289              10.997841  4654693  0.974795   11312  False   False   \n",
       "Q343334               10.308152   561868  0.951036     419   True   False   \n",
       "Q1758677               9.965288  3965223  0.933863    1159  False   False   \n",
       "Q17068610              9.634104  3484660  0.912609   35160  False   False   \n",
       "Q5449158               9.412056  2741203  0.895389    5202  False   False   \n",
       "\n",
       "           log_length  pageview_count_from_t_to_s  \\\n",
       "id                                                  \n",
       "Q6772702     9.053687                         394   \n",
       "Q4950137     7.705262                        1623   \n",
       "Q377016      6.163315                        3045   \n",
       "Q3186692     7.760041                         399   \n",
       "Q3853305     8.561975                         244   \n",
       "Q1056289     9.333619                         662   \n",
       "Q343334      6.037871                         267   \n",
       "Q1758677     7.055313                          51   \n",
       "Q17068610   10.467664                         379   \n",
       "Q5449158     8.556798                          34   \n",
       "\n",
       "           log_pageview_count_from_t_to_s    rank_t  \n",
       "id                                                   \n",
       "Q6772702                         5.976351  1.477338  \n",
       "Q4950137                         7.392032  1.290875  \n",
       "Q377016                          8.021256  1.289091  \n",
       "Q3186692                         5.988961  1.273604  \n",
       "Q3853305                         5.497168  1.255266  \n",
       "Q1056289                         6.495266  1.244319  \n",
       "Q343334                          5.587249  1.239602  \n",
       "Q1758677                         3.931826  1.234935  \n",
       "Q17068610                        5.937536  1.215372  \n",
       "Q5449158                         3.526361  1.215005  "
      ]
     },
     "execution_count": 137,
     "metadata": {},
     "output_type": "execute_result"
    }
   ],
   "source": [
    "d_missing = d_missing.sort('rank_t', ascending = False)\n",
    "d_missing.head(10)"
   ]
  },
  {
   "cell_type": "code",
   "execution_count": 22,
   "metadata": {
    "collapsed": false
   },
   "outputs": [],
   "source": [
    "del d_missing['id']"
   ]
  },
  {
   "cell_type": "code",
   "execution_count": 23,
   "metadata": {
    "collapsed": false
   },
   "outputs": [],
   "source": [
    "ranked_missing_articles_file = os.path.join(cp.get('general', 'local_data_dir'), exp_dir, cp.get('missing', 'ranked_missing_items'))\n",
    "d_missing.to_csv(ranked_missing_articles_file, sep='\\t', encoding='utf-8')"
   ]
  },
  {
   "cell_type": "code",
   "execution_count": 139,
   "metadata": {
    "collapsed": false
   },
   "outputs": [
    {
     "data": {
      "text/plain": [
       "<matplotlib.text.Text at 0x7f533c429610>"
      ]
     },
     "execution_count": 139,
     "metadata": {},
     "output_type": "execute_result"
    },
    {
     "data": {
      "image/png": "[encoded data removed]",
      "text/plain": [
       "<matplotlib.figure.Figure at 0x7f533c532850>"
      ]
     },
     "metadata": {},
     "output_type": "display_data"
    },
    {
     "data": {
      "image/png": "[encoded data removed]",
      "text/plain": [
       "<matplotlib.figure.Figure at 0x7f533c5a0110>"
      ]
     },
     "metadata": {},
     "output_type": "display_data"
    },
    {
     "data": {
      "image/png": "[encoded data removed]",
      "text/plain": [
       "<matplotlib.figure.Figure at 0x7f533c486450>"
      ]
     },
     "metadata": {},
     "output_type": "display_data"
    }
   ],
   "source": [
    "d_missing['rank_t'] = d_missing['rank_t'].apply(lambda x: min(1, max(0, x)))\n",
    "plt.figure()\n",
    "d_missing['rank_s'].hist()\n",
    "plt.title('Rank Distribution in Source')\n",
    "plt.figure()\n",
    "d_missing['rank_t'].hist()\n",
    "plt.title('Rank Distribution in Target')\n",
    "plt.figure()\n",
    "plt.scatter(d_missing['rank_t'], d_missing['rank_s'], s=1, facecolor='0.5', lw = 0, alpha = 0.05)\n",
    "plt.xlabel('Target Importance')\n",
    "plt.ylabel('Source Importance')"
   ]
  },
  {
   "cell_type": "markdown",
   "metadata": {},
   "source": [
    "#Scratch"
   ]
  },
  {
   "cell_type": "code",
   "execution_count": 24,
   "metadata": {
    "collapsed": false
   },
   "outputs": [
    {
     "data": {
      "text/plain": [
       "<matplotlib.axes._subplots.AxesSubplot at 0x7f3b85b3f710>"
      ]
     },
     "execution_count": 24,
     "metadata": {},
     "output_type": "execute_result"
    },
    {
     "data": {
      "image/png": "[encoded data removed]",
      "text/plain": [
       "<matplotlib.figure.Figure at 0x7f3a3c78f690>"
      ]
     },
     "metadata": {},
     "output_type": "display_data"
    }
   ],
   "source": [
    "d_missing['rank_s'].hist(bins=30)"
   ]
  },
  {
   "cell_type": "code",
   "execution_count": 25,
   "metadata": {
    "collapsed": false
   },
   "outputs": [
    {
     "data": {
      "text/plain": [
       "<matplotlib.axes._subplots.AxesSubplot at 0x7f3b25e845d0>"
      ]
     },
     "execution_count": 25,
     "metadata": {},
     "output_type": "execute_result"
    },
    {
     "data": {
      "image/png": "[encoded data removed]",
      "text/plain": [
       "<matplotlib.figure.Figure at 0x7f3b25e95e90>"
      ]
     },
     "metadata": {},
     "output_type": "display_data"
    }
   ],
   "source": [
    "d_missing['rank_t'].hist(bins=30)"
   ]
  },
  {
   "cell_type": "code",
   "execution_count": 125,
   "metadata": {
    "collapsed": false
   },
   "outputs": [
    {
     "name": "stdout",
     "output_type": "stream",
     "text": [
      "Baseline Spearman (0.76148637933899221, 0.0)\n"
     ]
    }
   ],
   "source": [
    "\n",
    "# compute spearman correlation between en as es ranks on missing articles\n",
    "print \"Baseline Spearman\", spearmanr(d_missing_k['rank_en'], d_missing_k['rank_es'])"
   ]
  },
  {
   "cell_type": "code",
   "execution_count": 126,
   "metadata": {
    "collapsed": false
   },
   "outputs": [
    {
     "name": "stdout",
     "output_type": "stream",
     "text": [
      "\n",
      "\n",
      "\n",
      "Doing Gridsearch\n",
      "\n",
      "MSE: 0.02139\n",
      "R2: 0.73260\n",
      "Spearman: 0.86140 \n",
      "\n",
      "MSE: 0.02148\n",
      "R2: 0.73211\n",
      "Spearman: 0.86140 \n",
      "\n",
      "MSE: 0.02309\n",
      "R2: 0.71128\n",
      "Spearman: 0.84927 \n",
      "\n",
      "MSE: 0.02319\n",
      "R2: 0.71080\n",
      "Spearman: 0.84913 \n",
      "\n",
      "MSE: 0.02639\n",
      "R2: 0.66998\n",
      "Spearman: 0.82518 \n",
      "\n",
      "MSE: 0.02649\n",
      "R2: 0.66964\n",
      "Spearman: 0.82518 \n",
      "\n",
      "MSE: 0.07998\n",
      "R2: -0.00001\n",
      "Spearman: nan \n",
      "\n",
      "MSE: 0.08019\n",
      "R2: -0.00001\n",
      "Spearman: nan \n",
      "\n",
      "Best Model Train MSE: 0.021394\n",
      "Spearman: 0.86169 \n",
      "\n",
      "Best Model Train Spearman 0.861693\n",
      "\n",
      "Best parameters set found:\n",
      "({'alpha': 1e-06}, 0.86140266086482908)\n",
      "\n",
      "\n",
      "Grid scores:\n",
      "0.86140 (+/-0.00000) for {'alpha': 1e-06}\n",
      "0.84920 (+/-0.00003) for {'alpha': 0.0001}\n",
      "0.82518 (+/-0.00000) for {'alpha': 0.001}\n",
      "nan (+/-nan) for {'alpha': 1}\n"
     ]
    }
   ],
   "source": [
    "from sklearn.linear_model import Lasso\n",
    "alg = Lasso()\n",
    "param_grid = {'alpha': [0.000001, 0.0001, 0.001, 1]}\n",
    "model = cv (X, y, 2, alg, param_grid)"
   ]
  },
  {
   "cell_type": "code",
   "execution_count": 62,
   "metadata": {
    "collapsed": false
   },
   "outputs": [
    {
     "data": {
      "text/plain": [
       "Lasso(alpha=1e-06, copy_X=True, fit_intercept=True, max_iter=1000,\n",
       "   normalize=False, positive=False, precompute='auto', tol=0.0001,\n",
       "   warm_start=False)"
      ]
     },
     "execution_count": 62,
     "metadata": {},
     "output_type": "execute_result"
    }
   ],
   "source": [
    "model.best_estimator_"
   ]
  },
  {
   "cell_type": "code",
   "execution_count": 54,
   "metadata": {
    "collapsed": false
   },
   "outputs": [
    {
     "name": "stdout",
     "output_type": "stream",
     "text": [
      "\n",
      "\n",
      "\n",
      "Doing Gridsearch\n",
      "\n",
      "Best Model Train MSE: 0.024215\n",
      "\n",
      "Best parameters set found:\n",
      "({'n_estimators': 50, 'n_jobs': 8, 'max_depth': 4}, -0.024152132858999739)\n",
      "\n",
      "\n",
      "Grid scores:\n",
      "-0.03364 (+/-0.00021) for {'n_estimators': 50, 'n_jobs': 8, 'max_depth': 2}\n",
      "-0.03378 (+/-0.00018) for {'n_estimators': 500, 'n_jobs': 8, 'max_depth': 2}\n",
      "-0.02695 (+/-0.00007) for {'n_estimators': 50, 'n_jobs': 8, 'max_depth': 3}\n",
      "-0.02700 (+/-0.00005) for {'n_estimators': 500, 'n_jobs': 8, 'max_depth': 3}\n",
      "-0.02415 (+/-0.00003) for {'n_estimators': 50, 'n_jobs': 8, 'max_depth': 4}\n",
      "-0.02424 (+/-0.00008) for {'n_estimators': 500, 'n_jobs': 8, 'max_depth': 4}\n"
     ]
    },
    {
     "data": {
      "text/plain": [
       "GridSearchCV(cv=sklearn.cross_validation.KFold(n=70617, n_folds=2, shuffle=True, random_state=None),\n",
       "       estimator=RandomForestRegressor(bootstrap=True, compute_importances=None,\n",
       "           criterion='mse', max_depth=None, max_features='auto',\n",
       "           max_leaf_nodes=None, min_density=None, min_samples_leaf=1,\n",
       "           min_samples_split=2, n_estimators=10, n_jobs=1, oob_score=False,\n",
       "           random_state=None, verbose=0),\n",
       "       fit_params={}, iid=True, loss_func=None, n_jobs=1,\n",
       "       param_grid={'n_estimators': [50, 500], 'n_jobs': [8], 'max_depth': [2, 3, 4]},\n",
       "       pre_dispatch='2*n_jobs', refit=True, score_func=None,\n",
       "       scoring='mean_squared_error', verbose=0)"
      ]
     },
     "execution_count": 54,
     "metadata": {},
     "output_type": "execute_result"
    }
   ],
   "source": [
    "from sklearn.ensemble import RandomForestRegressor\n",
    "alg = RandomForestRegressor()\n",
    "param_grid = {'n_jobs' : [8], 'n_estimators' : [50, 500 ], 'max_depth' : [2, 3, 4 ] }\n",
    "cv (X, y, 2, alg, param_grid)"
   ]
  },
  {
   "cell_type": "code",
   "execution_count": null,
   "metadata": {
    "collapsed": true
   },
   "outputs": [],
   "source": []
  },
  {
   "cell_type": "code",
   "execution_count": 57,
   "metadata": {
    "collapsed": false
   },
   "outputs": [
    {
     "name": "stdout",
     "output_type": "stream",
     "text": [
      "\n",
      "\n",
      "\n",
      "Doing Gridsearch\n",
      "\n",
      "Best Model Train MSE: 0.080153\n",
      "\n",
      "Best parameters set found:\n",
      "({}, -0.080153485281797415)\n",
      "\n",
      "\n",
      "Grid scores:\n",
      "-0.08015 (+/-0.00002) for {}\n"
     ]
    }
   ],
   "source": [
    "from sklearn.linear_model import LinearRegression\n",
    "alg = Lasso()\n",
    "param_grid = {}\n",
    "model = cv (rank_en.toarray(), y, 2, alg, param_grid)\n"
   ]
  },
  {
   "cell_type": "code",
   "execution_count": 59,
   "metadata": {
    "collapsed": false
   },
   "outputs": [
    {
     "name": "stdout",
     "output_type": "stream",
     "text": [
      "\n",
      "\n",
      "\n",
      "Doing Gridsearch\n",
      "\n",
      "Best Model Train MSE: 0.080153\n",
      "\n",
      "Best parameters set found:\n",
      "({}, -0.080153429784761906)\n",
      "\n",
      "\n",
      "Grid scores:\n",
      "-0.08015 (+/-0.00011) for {}\n"
     ]
    }
   ],
   "source": [
    "from sklearn.linear_model import LinearRegression\n",
    "alg = Lasso()\n",
    "param_grid = {}\n",
    "model = cv (M_r.toarray(), y, 2, alg, param_grid)\n"
   ]
  },
  {
   "cell_type": "code",
   "execution_count": null,
   "metadata": {
    "collapsed": true
   },
   "outputs": [],
   "source": []
  }
 ],
 "metadata": {
  "kernelspec": {
   "display_name": "Python 2",
   "language": "python",
   "name": "python2"
  },
  "language_info": {
   "codemirror_mode": {
    "name": "ipython",
    "version": 2
   },
   "file_extension": ".py",
   "mimetype": "text/x-python",
   "name": "python",
   "nbconvert_exporter": "python",
   "pygments_lexer": "ipython2",
   "version": "2.7.10"
  }
 },
 "nbformat": 4,
 "nbformat_minor": 0
}
