{
 "cells": [
  {
   "cell_type": "code",
   "execution_count": 6,
   "metadata": {
    "collapsed": false
   },
   "outputs": [],
   "source": [
    "\n",
    "        \n",
    "import json\n",
    "from ConfigParser import SafeConfigParser\n",
    "from operator import add\n",
    "import matplotlib.pyplot as plt \n",
    "from random import randint\n",
    "\n",
    "import os,sys,inspect\n",
    "currentdir = os.path.dirname(os.path.abspath(inspect.getfile(inspect.currentframe())))\n",
    "parentdir = os.path.dirname(currentdir)\n",
    "sys.path.insert(0,parentdir) \n",
    "from util import save_rdd, get_parser\n",
    "\n",
    "#BUG hadoop fs -put contributions.txt /user/ellery/en-es/contributions.txt\n",
    "config = '/home/ellery/wikimedia/missing_articles/missing_articles.ini'\n",
    "cp = SafeConfigParser()\n",
    "cp.read(config)\n",
    "\n",
    "exp_dir = 'en-es'\n",
    "MIN_BYTES = 100\n",
    "base_dir = os.path.join(cp.get('general', 'local_data_dir'), exp_dir)\n",
    "hadoop_base_dir = os.path.join(cp.get('general', 'hadoop_data_dir'), exp_dir)\n",
    "contribution_file = os.path.join(hadoop_base_dir, cp.get('eval', 'contributions')) \n",
    "\n"
   ]
  },
  {
   "cell_type": "code",
   "execution_count": 7,
   "metadata": {
    "collapsed": false
   },
   "outputs": [
    {
     "data": {
      "text/plain": [
       "'/user/ellery/en-es/contributions.txt'"
      ]
     },
     "execution_count": 7,
     "metadata": {},
     "output_type": "execute_result"
    }
   ],
   "source": [
    "contribution_file"
   ]
  },
  {
   "cell_type": "code",
   "execution_count": 8,
   "metadata": {
    "collapsed": false
   },
   "outputs": [
    {
     "name": "stdout",
     "output_type": "stream",
     "text": [
      "256\n",
      "0\n",
      "256\n",
      "256\n",
      "0\n",
      "0\n",
      "0\n",
      "0\n"
     ]
    }
   ],
   "source": [
    "def reduce_contributions(line):\n",
    "    l = json.loads(line)\n",
    "    l['contributions'] = [x for x in l['contributions'] if float(x['bytes_added']) >= MIN_BYTES]\n",
    "    return l\n",
    "\n",
    "\n",
    "contributions = sc.textFile(contribution_file)\\\n",
    ".map(reduce_contributions)\\\n",
    ".filter(lambda x: len(x['contributions']) >=2)\\\n",
    ".map(lambda x: (x, randint(0,1)))\n",
    "\n",
    "train = contributions.filter(lambda x: x[1]==0).map(lambda x: json.dumps(x[0]))\n",
    "save_rdd(train, base_dir , hadoop_base_dir, cp.get('eval', 'train'))\n",
    "\n"
   ]
  },
  {
   "cell_type": "code",
   "execution_count": 9,
   "metadata": {
    "collapsed": false
   },
   "outputs": [
    {
     "name": "stdout",
     "output_type": "stream",
     "text": [
      "256\n",
      "256\n",
      "256\n",
      "256\n",
      "0\n",
      "0\n",
      "0\n",
      "0\n"
     ]
    }
   ],
   "source": [
    "test = contributions.filter(lambda x: x[1]==1).map(lambda x: json.dumps(x[0]))\n",
    "save_rdd(test, base_dir , hadoop_base_dir, cp.get('eval', 'test'))"
   ]
  },
  {
   "cell_type": "code",
   "execution_count": null,
   "metadata": {
    "collapsed": false
   },
   "outputs": [],
   "source": []
  }
 ],
 "metadata": {
  "kernelspec": {
   "display_name": "Python 2",
   "language": "python",
   "name": "python2"
  },
  "language_info": {
   "codemirror_mode": {
    "name": "ipython",
    "version": 2
   },
   "file_extension": ".py",
   "mimetype": "text/x-python",
   "name": "python",
   "nbconvert_exporter": "python",
   "pygments_lexer": "ipython2",
   "version": "2.7.9"
  }
 },
 "nbformat": 4,
 "nbformat_minor": 0
}
