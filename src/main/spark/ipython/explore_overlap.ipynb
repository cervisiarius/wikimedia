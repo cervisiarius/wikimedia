{
 "metadata": {
  "name": "",
  "signature": "sha256:394b2031155c4a97660e71f79acfe272c9e28754b9fb15b7f4dda429d0d41fc8"
 },
 "nbformat": 3,
 "nbformat_minor": 0,
 "worksheets": [
  {
   "cells": [
    {
     "cell_type": "code",
     "collapsed": false,
     "input": [
      "# Usage:\n",
      "#\n",
      "# On Remote:\n",
      "# export IPYTHON_OPTS=\"notebook --pylab inline --port 8123  --ip='*' --no-browser\"\n",
      "# pyspark --master yarn --deploy-mode client --num-executors 4 --executor-memory 10g --executor-cores 5\n",
      "#\n",
      "# On Local:\n",
      "# ssh -N bast1001.wikimedia.org -L 8123:stat1002.eqiad.wmnet:8123\n",
      "# Navigate to http://localhost:8123"
     ],
     "language": "python",
     "metadata": {},
     "outputs": [],
     "prompt_number": 1
    },
    {
     "cell_type": "code",
     "collapsed": false,
     "input": [
      "from pyspark.sql import *\n",
      "from operator import add\n",
      "sqlContext = SQLContext(sc)\n",
      "import csv\n",
      "import StringIO\n",
      "import matplotlib.pyplot as plt \n",
      "\n"
     ],
     "language": "python",
     "metadata": {},
     "outputs": [],
     "prompt_number": 2
    },
    {
     "cell_type": "code",
     "collapsed": false,
     "input": [
      "# map each row in a tsv to a dict\n",
      "def get_parser(names):\n",
      "    def loadRecord(line):\n",
      "        #input = StringIO.StringIO(line)\n",
      "        cells = line.strip().split('\\t')\n",
      "        return dict(zip(names, cells))\n",
      "    return loadRecord"
     ],
     "language": "python",
     "metadata": {},
     "outputs": [],
     "prompt_number": 3
    },
    {
     "cell_type": "code",
     "collapsed": false,
     "input": [
      "# load data files into RDDs\n",
      "\n",
      "names = [\"importance\", \"id\", \"category\", \"description\"]  \n",
      "top_articles = sc.textFile(\"top_10k_wikidata_entities.tsv\").map(get_parser(names))\n",
      "top_article_ids = top_articles.map(lambda x: x['id'])\n",
      "\n",
      "names = [\"id\", \"language_code\", \"article_name\"]\n",
      "interlanguage_links = sc.textFile(\"/user/west1/interlanguage_links.tsv\").map(get_parser(names))\n",
      "\n",
      "names = [\"language_code\", \"user_id\", \"user\", \"id\",\"page_title\",\"num_edits\",\"bytes_added\"]\n",
      "en_revision_histories = sc.textFile(\"/user/west1/revision_history_aggregated/en\").map(get_parser(names))\n",
      "es_revision_histories = sc.textFile(\"/user/west1/revision_history_aggregated/es\").map(get_parser(names))"
     ],
     "language": "python",
     "metadata": {},
     "outputs": [],
     "prompt_number": 4
    },
    {
     "cell_type": "code",
     "collapsed": false,
     "input": [
      "# get set of articles that exist in english but not in Spanish\n",
      "items_in_english = interlanguage_links.filter(lambda x: x['language_code'] == 'en').map(lambda x: x['id'])\n",
      "items_in_spanish = interlanguage_links.filter(lambda x: x['language_code'] == 'es').map(lambda x: x['id'])\n",
      "english_items_missing_in_spanish = items_in_english.subtract(items_in_spanish)\n",
      "missing_list = english_items_missing_in_spanish.intersection(top_article_ids).collect()\n",
      "missing_set = set(missing_list)"
     ],
     "language": "python",
     "metadata": {},
     "outputs": [],
     "prompt_number": 5
    },
    {
     "cell_type": "code",
     "collapsed": false,
     "input": [
      "# sets of articles edited by each editor\n",
      "es_editor_to_items = es_revision_histories.map(lambda x: (x['user_id'], x['id'])).groupByKey()\n",
      "en_editor_to_items = en_revision_histories.map(lambda x: (x['user_id'], x['id'])).groupByKey()\n",
      "# Only consider editors with n or more edits\n",
      "n_min = 5\n",
      "n_max = 1000\n",
      "es_editor_to_items = es_editor_to_items.filter(lambda p: len(p[1]) > n_min and len(p[1]) < n_max)\n",
      "en_editor_to_items = en_editor_to_items.filter(lambda p: len(p[1]) > n_min and len(p[1]) < n_max)\n",
      "\n",
      "# make items a set instead of a list\n",
      "es_editor_to_items = es_editor_to_items.map(lambda x: (x[0], set(x[1])))\n",
      "en_editor_to_items = en_editor_to_items.map(lambda x: (x[0], set(x[1])))\n",
      "\n",
      "# find english editors who edited important articles missing in spanish\n",
      "def edited_important(pair):\n",
      "    edited_items = set(pair[1])\n",
      "    return len(missing_set.intersection(edited_items)) > 0\n",
      "    \n",
      "reduced_en_editor_to_items = en_editor_to_items.filter(edited_important)\n",
      "\n",
      "\n",
      "reduced_en_editor_to_items.persist(storageLevel=pyspark.StorageLevel.MEMORY_AND_DISK )\n",
      "es_editor_to_items.persist(storageLevel=pyspark.StorageLevel.MEMORY_AND_DISK)"
     ],
     "language": "python",
     "metadata": {},
     "outputs": [
      {
       "metadata": {},
       "output_type": "pyout",
       "prompt_number": 6,
       "text": [
        "PythonRDD[34] at RDD at PythonRDD.scala:43"
       ]
      }
     ],
     "prompt_number": 6
    },
    {
     "cell_type": "code",
     "collapsed": false,
     "input": [
      "num_en_editors =  reduced_en_editor_to_items.count()\n",
      "num_es_editors = es_editor_to_items.count()\n",
      "\n",
      "print num_en_editors\n",
      "print num_es_editors"
     ],
     "language": "python",
     "metadata": {},
     "outputs": [
      {
       "output_type": "stream",
       "stream": "stdout",
       "text": [
        "26064\n",
        "61200\n"
       ]
      }
     ],
     "prompt_number": 7
    },
    {
     "cell_type": "code",
     "collapsed": false,
     "input": [
      "\"\"\"\n",
      "For each K = 1, ..., K_max\n",
      "  For each ES editor S:\n",
      "    For each article X missing in ES but existing in EN:\n",
      "      N := number of EN editors who have edited X and have overlap at\n",
      "least K with S\n",
      "    M := number of X's for which N is at least 1\n",
      "  Compute the histogram of M across all S\n",
      "\"\"\""
     ],
     "language": "python",
     "metadata": {},
     "outputs": [
      {
       "metadata": {},
       "output_type": "pyout",
       "prompt_number": 8,
       "text": [
        "\"\\nFor each K = 1, ..., K_max\\n  For each ES editor S:\\n    For each article X missing in ES but existing in EN:\\n      N := number of EN editors who have edited X and have overlap at\\nleast K with S\\n    M := number of X's for which N is at least 1\\n  Compute the histogram of M across all S\\n\""
       ]
      }
     ],
     "prompt_number": 8
    },
    {
     "cell_type": "code",
     "collapsed": false,
     "input": [
      "\n",
      "def compute_overlap(c):\n",
      "    en_editor, en_editor_items = c[0]\n",
      "    es_editor, es_editor_items = c[1]\n",
      "    overlap = len(en_editor_items.intersection(es_editor_items))\n",
      "    return (es_editor, overlap)\n",
      "    \n",
      "    \n",
      "def compute_M_histogram(k, missing_list, en_editors, es_editors):\n",
      "    N = sc.parallelize([0, ])\n",
      "    \n",
      "    for i in range(len(missing_list)):\n",
      "        missing_article = missing_list[i]\n",
      "        reduced_en_editors = en_editors.filter(lambda p: missing_article in p[1])\n",
      "        en_cartesian_es = reduced_en_editors.cartesian(es_editors)\n",
      "        missing_article_overlaps = en_cartesian_es.map(compute_overlap).filter(lambda x: x[1] >= k)\n",
      "        N_x = missing_article_overlaps.map(lambda x: x[0]).distinct()\n",
      "        N = N.union(N_x)\n",
      "\n",
      "    Ms = N.map(lambda x: (x, 1)).reduceByKey(add).map(lambda x: (x[1], 1)).reduceByKey(add).collect()\n",
      "    \n",
      "    return Ms"
     ],
     "language": "python",
     "metadata": {},
     "outputs": [],
     "prompt_number": 17
    },
    {
     "cell_type": "code",
     "collapsed": false,
     "input": [
      "k = 2\n",
      "M_2 = compute_M_histogram(k, missing_list, reduced_en_editor_to_items, es_editor_to_items.sample(False, 1.0/10000, 2))\n"
     ],
     "language": "python",
     "metadata": {},
     "outputs": []
    },
    {
     "cell_type": "code",
     "collapsed": false,
     "input": [
      "M_2"
     ],
     "language": "python",
     "metadata": {},
     "outputs": [
      {
       "metadata": {},
       "output_type": "pyout",
       "prompt_number": 11,
       "text": [
        "[(1, 10), (2, 4)]"
       ]
      }
     ],
     "prompt_number": 11
    },
    {
     "cell_type": "code",
     "collapsed": false,
     "input": [
      "(0, num_es_editors - sum([p[1] for p in M_2]))"
     ],
     "language": "python",
     "metadata": {},
     "outputs": [
      {
       "metadata": {},
       "output_type": "pyout",
       "prompt_number": 16,
       "text": [
        "(0, 61186)"
       ]
      }
     ],
     "prompt_number": 16
    },
    {
     "cell_type": "code",
     "collapsed": false,
     "input": [
      "plt.hist(M_2, normed = True)"
     ],
     "language": "python",
     "metadata": {},
     "outputs": [
      {
       "metadata": {},
       "output_type": "pyout",
       "prompt_number": 18,
       "text": [
        "(array([ 0.10954097,  0.0351454 ,  0.01844825,  0.01237608,  0.00717432,\n",
        "         0.00728247,  0.00618032,  0.00512451,  0.00495455,  0.00210646]),\n",
        " array([  1. ,   5.8,  10.6,  15.4,  20.2,  25. ,  29.8,  34.6,  39.4,\n",
        "         44.2,  49. ]),\n",
        " <a list of 10 Patch objects>)"
       ]
      },
      {
       "metadata": {},
       "output_type": "display_data",
       "png": "[encoded data removed]",
       "text": [
        "<matplotlib.figure.Figure at 0x7f6e78485850>"
       ]
      }
     ],
     "prompt_number": 18
    },
    {
     "cell_type": "code",
     "collapsed": false,
     "input": [
      "len(missing_list)"
     ],
     "language": "python",
     "metadata": {},
     "outputs": [
      {
       "metadata": {},
       "output_type": "pyout",
       "prompt_number": 8,
       "text": [
        "352"
       ]
      }
     ],
     "prompt_number": 8
    },
    {
     "cell_type": "code",
     "collapsed": false,
     "input": [
      "# Compute item set overlap between spanish and english editors\n",
      "en_es_cartesian = es_editor_to_items.cartesian(reduiced_en_editor_to_items)\n",
      "\n",
      "def compute_overlap(pair):\n",
      "    es_editor_pages = set(pair[0][1])\n",
      "    en_editor_pages = set(pair[1][1])\n",
      "    return (len(es_editor_pages.intersection(en_editor_pages)), 1)\n",
      "\n",
      "en_es_overlap_counts = en_es_cartesian.map(compute_overlap).reduceByKey(add) \n",
      "counts = en_es_overlap_counts.collect()\n",
      "\n",
      "# save the counts for inspection\n",
      "counts.sort(key =lambda x: x[0])\n",
      "with open('es_en_overlap.tsv', 'w') as f:\n",
      "    f.write('num_overlapping_articles\\tfrequency\\n')\n",
      "    for p in counts:\n",
      "        line = str(p[0]) + '\\t' + str(p[1]) + '\\n'\n",
      "        f.write(line)"
     ],
     "language": "python",
     "metadata": {},
     "outputs": []
    },
    {
     "cell_type": "code",
     "collapsed": false,
     "input": [
      "# Lets save the missing articles for further inspection\n",
      "missing_set_details = interlanguage_links.filter(lambda x: x['language_code'] == 'en' and x['id'] in missing_set ).collect()\n",
      "import codecs\n",
      "with open('important_articles_missing_in_eswiki.tsv', 'w') as f:\n",
      "    f.write('id\\tname\\n')\n",
      "    for d in missing_set_details:\n",
      "        line = d['id'] + '\\t' + d['article_name'] + '\\n'\n",
      "        f.write(line.encode('utf8'))\n",
      "                 "
     ],
     "language": "python",
     "metadata": {},
     "outputs": []
    }
   ],
   "metadata": {}
  }
 ]
}